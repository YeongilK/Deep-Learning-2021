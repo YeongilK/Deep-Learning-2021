{
  "nbformat": 4,
  "nbformat_minor": 0,
  "metadata": {
    "colab": {
      "name": "11_다층퍼셉트론_XOR.ipynb",
      "provenance": [],
      "collapsed_sections": []
    },
    "kernelspec": {
      "name": "python3",
      "display_name": "Python 3"
    }
  },
  "cells": [
    {
      "cell_type": "markdown",
      "metadata": {
        "id": "AsH6MVNOi-EN"
      },
      "source": [
        "# 다층 퍼셉트론 - XOR"
      ]
    },
    {
      "cell_type": "code",
      "metadata": {
        "id": "c0MVoLhri6wW"
      },
      "source": [
        "import numpy as np\r\n",
        "\r\n",
        "# 가중치와 바이어스\r\n",
        "w11 = np.array([-2, -2])\r\n",
        "w12 = np.array([2, 2])\r\n",
        "w2 = np.array([1, 1])\r\n",
        "b1 = 3\r\n",
        "b2 = -1\r\n",
        "b3 = -1"
      ],
      "execution_count": 1,
      "outputs": []
    },
    {
      "cell_type": "code",
      "metadata": {
        "id": "k5uVF6tPneID"
      },
      "source": [
        "# 퍼셉트론 (Multi Layer Perceptron)\r\n",
        "def MLP(x, w, b):\r\n",
        "  y = np.sum(w * x) + b\r\n",
        "  if y <= 0:\r\n",
        "    return 0\r\n",
        "  else:\r\n",
        "    return 1"
      ],
      "execution_count": 13,
      "outputs": []
    },
    {
      "cell_type": "code",
      "metadata": {
        "id": "5LJTfVWqnrMV"
      },
      "source": [
        "# NAND 게이트 [-2, -2], 3\r\n",
        "def NAND(x1, x2):\r\n",
        "  return MLP(np.array([x1, x2]), w11, b1)\r\n",
        "\r\n",
        "# OR 게이트 [2, 2], -1\r\n",
        "def OR(x1, x2):\r\n",
        "  return MLP(np.array([x1, x2]), w12, b2)\r\n",
        "\r\n",
        "# AND 게이트 [1, 1], -1\r\n",
        "def AND(x1, x2):\r\n",
        "  return MLP(np.array([x1, x2]), w2, b3)\r\n",
        "\r\n",
        "# XOR 게이트\r\n",
        "def XOR(x1, x2):\r\n",
        "  return AND(NAND(x1, x2), OR(x1, x2))"
      ],
      "execution_count": 14,
      "outputs": []
    },
    {
      "cell_type": "code",
      "metadata": {
        "colab": {
          "base_uri": "https://localhost:8080/"
        },
        "id": "jQ68-X5ToUEm",
        "outputId": "e1757821-d8bd-44c7-d840-1f247cf036dd"
      },
      "source": [
        "for x in [(0, 0), (1, 0), (0, 1), (1, 1)]:\r\n",
        "  print(NAND(*x))"
      ],
      "execution_count": 15,
      "outputs": [
        {
          "output_type": "stream",
          "text": [
            "1\n",
            "1\n",
            "1\n",
            "0\n"
          ],
          "name": "stdout"
        }
      ]
    },
    {
      "cell_type": "code",
      "metadata": {
        "colab": {
          "base_uri": "https://localhost:8080/"
        },
        "id": "zHyVXxB6octy",
        "outputId": "3d6d9865-5693-4e74-d0ca-8a5429b1aa7e"
      },
      "source": [
        "for x in [(0, 0), (1, 0), (0, 1), (1, 1)]:\r\n",
        "  print(OR(*x))"
      ],
      "execution_count": 16,
      "outputs": [
        {
          "output_type": "stream",
          "text": [
            "0\n",
            "1\n",
            "1\n",
            "1\n"
          ],
          "name": "stdout"
        }
      ]
    },
    {
      "cell_type": "code",
      "metadata": {
        "colab": {
          "base_uri": "https://localhost:8080/"
        },
        "id": "_IxtXifNqvAh",
        "outputId": "4322456d-69b8-4036-b8d4-105648667d44"
      },
      "source": [
        "for x in [(0, 0), (1, 0), (0, 1), (1, 1)]:\r\n",
        "    print(AND(*x))"
      ],
      "execution_count": 17,
      "outputs": [
        {
          "output_type": "stream",
          "text": [
            "0\n",
            "0\n",
            "0\n",
            "1\n"
          ],
          "name": "stdout"
        }
      ]
    },
    {
      "cell_type": "code",
      "metadata": {
        "colab": {
          "base_uri": "https://localhost:8080/"
        },
        "id": "3C_z0zodrIFG",
        "outputId": "a72d3877-6b23-41f3-ff4e-6fafb9d1c1d2"
      },
      "source": [
        "# x1, x2 값을 번갈아 대입해 가며 최종값 출력\r\n",
        "if __name__ == '__main__':\r\n",
        "    for x in [(0, 0), (1, 0), (0, 1), (1, 1)]:\r\n",
        "        y = XOR(*x)\r\n",
        "        print(\"입력 값: \" + str(x) + \" 출력 값: \" + str(y))"
      ],
      "execution_count": 18,
      "outputs": [
        {
          "output_type": "stream",
          "text": [
            "입력 값: (0, 0) 출력 값: 0\n",
            "입력 값: (1, 0) 출력 값: 1\n",
            "입력 값: (0, 1) 출력 값: 1\n",
            "입력 값: (1, 1) 출력 값: 0\n"
          ],
          "name": "stdout"
        }
      ]
    }
  ]
}