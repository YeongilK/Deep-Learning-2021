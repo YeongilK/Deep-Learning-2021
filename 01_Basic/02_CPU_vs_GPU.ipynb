{
  "nbformat": 4,
  "nbformat_minor": 0,
  "metadata": {
    "colab": {
      "name": "02_CPU_vs_GPU.ipynb의 사본",
      "provenance": [],
      "collapsed_sections": []
    },
    "kernelspec": {
      "name": "python3",
      "display_name": "Python 3"
    },
    "accelerator": "GPU"
  },
  "cells": [
    {
      "cell_type": "code",
      "metadata": {
        "id": "NR-wpIre0Oqk"
      },
      "source": [
        "import numpy as np\r\n",
        "import tensorflow as tf\r\n",
        "from tensorflow import keras\r\n",
        "from keras.datasets import mnist\r\n",
        "from keras.models import Sequential\r\n",
        "from keras.layers import Dense, Dropout, Flatten, Conv2D, MaxPooling2D\r\n",
        "from keras.callbacks import ModelCheckpoint, EarlyStopping\r\n",
        "\r\n",
        "import os\r\n",
        "import matplotlib.pyplot as plt\r\n",
        "%matplotlib inline"
      ],
      "execution_count": null,
      "outputs": []
    },
    {
      "cell_type": "code",
      "metadata": {
        "id": "cbe0Fcns0aL5"
      },
      "source": [
        "# seed 값 설정\r\n",
        "seed = 2021\r\n",
        "np.random.seed(seed)\r\n",
        "tf.random.set_seed(seed)"
      ],
      "execution_count": null,
      "outputs": []
    },
    {
      "cell_type": "code",
      "metadata": {
        "colab": {
          "base_uri": "https://localhost:8080/"
        },
        "id": "dkuvqZCy0a85",
        "outputId": "0b83de43-0762-4f14-9799-0acfd96951c0"
      },
      "source": [
        "# 데이터 불러오기\r\n",
        "(X_train, Y_train), (X_test, Y_test) = mnist.load_data()\r\n",
        "X_train = X_train.reshape(-1, 28, 28, 1).astype('float32') / 255\r\n",
        "X_test = X_test.reshape(-1, 28, 28, 1).astype('float32') / 255\r\n",
        "Y_train = keras.utils.to_categorical(Y_train)\r\n",
        "Y_test = keras.utils.to_categorical(Y_test)"
      ],
      "execution_count": null,
      "outputs": [
        {
          "output_type": "stream",
          "text": [
            "Downloading data from https://storage.googleapis.com/tensorflow/tf-keras-datasets/mnist.npz\n",
            "11493376/11490434 [==============================] - 0s 0us/step\n"
          ],
          "name": "stdout"
        }
      ]
    },
    {
      "cell_type": "code",
      "metadata": {
        "colab": {
          "base_uri": "https://localhost:8080/"
        },
        "id": "jfJ1BIDu0p95",
        "outputId": "f98351d1-bb5f-4fc9-8cd3-25edda03beae"
      },
      "source": [
        "X_train.shape, X_test.shape"
      ],
      "execution_count": null,
      "outputs": [
        {
          "output_type": "execute_result",
          "data": {
            "text/plain": [
              "((60000, 28, 28, 1), (10000, 28, 28, 1))"
            ]
          },
          "metadata": {
            "tags": []
          },
          "execution_count": 4
        }
      ]
    },
    {
      "cell_type": "code",
      "metadata": {
        "colab": {
          "base_uri": "https://localhost:8080/"
        },
        "id": "KpXZvhbn0sMg",
        "outputId": "71027aef-6f47-4e4f-c0db-4a277f28d38d"
      },
      "source": [
        "# 컨볼루션 신경망 설정\r\n",
        "model = Sequential([\r\n",
        "    Conv2D(32, kernel_size=(3, 3), input_shape=(28, 28, 1), \r\n",
        "           activation='relu'),\r\n",
        "    Conv2D(64, (3, 3), activation='relu'),\r\n",
        "    MaxPooling2D(pool_size=2),\r\n",
        "    Dropout(0.25),\r\n",
        "    Flatten(),\r\n",
        "    Dense(128, activation='relu'),\r\n",
        "    Dropout(0.5),\r\n",
        "    Dense(10, activation='softmax')\r\n",
        "])\r\n",
        "model.summary()"
      ],
      "execution_count": null,
      "outputs": [
        {
          "output_type": "stream",
          "text": [
            "Model: \"sequential\"\n",
            "_________________________________________________________________\n",
            "Layer (type)                 Output Shape              Param #   \n",
            "=================================================================\n",
            "conv2d (Conv2D)              (None, 26, 26, 32)        320       \n",
            "_________________________________________________________________\n",
            "conv2d_1 (Conv2D)            (None, 24, 24, 64)        18496     \n",
            "_________________________________________________________________\n",
            "max_pooling2d (MaxPooling2D) (None, 12, 12, 64)        0         \n",
            "_________________________________________________________________\n",
            "dropout (Dropout)            (None, 12, 12, 64)        0         \n",
            "_________________________________________________________________\n",
            "flatten (Flatten)            (None, 9216)              0         \n",
            "_________________________________________________________________\n",
            "dense (Dense)                (None, 128)               1179776   \n",
            "_________________________________________________________________\n",
            "dropout_1 (Dropout)          (None, 128)               0         \n",
            "_________________________________________________________________\n",
            "dense_1 (Dense)              (None, 10)                1290      \n",
            "=================================================================\n",
            "Total params: 1,199,882\n",
            "Trainable params: 1,199,882\n",
            "Non-trainable params: 0\n",
            "_________________________________________________________________\n"
          ],
          "name": "stdout"
        }
      ]
    },
    {
      "cell_type": "code",
      "metadata": {
        "colab": {
          "base_uri": "https://localhost:8080/",
          "height": 856
        },
        "id": "5ynN9Y7vjB96",
        "outputId": "740fa9b0-0f93-4448-ef47-37fae1d47fa8"
      },
      "source": [
        "from tensorflow.keras.utils import plot_model\r\n",
        "plot_model(model)"
      ],
      "execution_count": null,
      "outputs": [
        {
          "output_type": "execute_result",
          "data": {
            "image/png": "[encoded data removed]",
            "text/plain": [
              "<IPython.core.display.Image object>"
            ]
          },
          "metadata": {
            "tags": []
          },
          "execution_count": 6
        }
      ]
    },
    {
      "cell_type": "code",
      "metadata": {
        "id": "UD82H1-f03b0"
      },
      "source": [
        "model.compile(loss='categorical_crossentropy',\r\n",
        "              optimizer='adam',\r\n",
        "              metrics=['accuracy'])"
      ],
      "execution_count": null,
      "outputs": []
    },
    {
      "cell_type": "code",
      "metadata": {
        "id": "_3osRNBD04eQ"
      },
      "source": [
        "# 모델 최적화 설정\r\n",
        "MODEL_DIR = './model/'\r\n",
        "if not os.path.exists(MODEL_DIR):\r\n",
        "    os.mkdir(MODEL_DIR)"
      ],
      "execution_count": null,
      "outputs": []
    },
    {
      "cell_type": "code",
      "metadata": {
        "colab": {
          "base_uri": "https://localhost:8080/"
        },
        "id": "zI9BHg3X1JZ5",
        "outputId": "64052de2-95b0-49f6-81af-b0dbd5084e7b"
      },
      "source": [
        "!ls -l"
      ],
      "execution_count": null,
      "outputs": [
        {
          "output_type": "stream",
          "text": [
            "total 32\n",
            "drwxr-xr-x 2 root root  4096 Feb  8 07:14 model\n",
            "-rw-r--r-- 1 root root 23744 Feb  8 07:14 model.png\n",
            "drwxr-xr-x 1 root root  4096 Feb  4 15:26 sample_data\n"
          ],
          "name": "stdout"
        }
      ]
    },
    {
      "cell_type": "code",
      "metadata": {
        "id": "5ZnapJ5W1KpJ"
      },
      "source": [
        "modelpath = MODEL_DIR + \"mnist-cnn-{epoch:02d}-{val_loss:.4f}.hdf5\"\r\n",
        "checkpointer = ModelCheckpoint(filepath=modelpath, monitor='val_loss', \r\n",
        "                               verbose=1, save_best_only=True)\r\n",
        "early_stopping_callback = EarlyStopping(monitor='val_loss', patience=10)"
      ],
      "execution_count": null,
      "outputs": []
    },
    {
      "cell_type": "code",
      "metadata": {
        "colab": {
          "base_uri": "https://localhost:8080/"
        },
        "id": "3sInRe9j1T1Q",
        "outputId": "26a88946-12c3-4480-cfac-13dfa74bedb4"
      },
      "source": [
        "# 모델의 실행\r\n",
        "history = model.fit(X_train, Y_train, validation_split=0.2, epochs=30,\r\n",
        "                    batch_size=200,\r\n",
        "                    callbacks=[early_stopping_callback, checkpointer])"
      ],
      "execution_count": null,
      "outputs": [
        {
          "output_type": "stream",
          "text": [
            "Epoch 1/30\n",
            "240/240 [==============================] - 10s 12ms/step - loss: 0.6064 - accuracy: 0.8085 - val_loss: 0.0730 - val_accuracy: 0.9791\n",
            "\n",
            "Epoch 00001: val_loss improved from inf to 0.07303, saving model to ./model/mnist-cnn-01-0.0730.hdf5\n",
            "Epoch 2/30\n",
            "240/240 [==============================] - 3s 11ms/step - loss: 0.1045 - accuracy: 0.9692 - val_loss: 0.0537 - val_accuracy: 0.9846\n",
            "\n",
            "Epoch 00002: val_loss improved from 0.07303 to 0.05374, saving model to ./model/mnist-cnn-02-0.0537.hdf5\n",
            "Epoch 3/30\n",
            "240/240 [==============================] - 3s 11ms/step - loss: 0.0661 - accuracy: 0.9797 - val_loss: 0.0444 - val_accuracy: 0.9872\n",
            "\n",
            "Epoch 00003: val_loss improved from 0.05374 to 0.04441, saving model to ./model/mnist-cnn-03-0.0444.hdf5\n",
            "Epoch 4/30\n",
            "240/240 [==============================] - 3s 11ms/step - loss: 0.0600 - accuracy: 0.9804 - val_loss: 0.0422 - val_accuracy: 0.9883\n",
            "\n",
            "Epoch 00004: val_loss improved from 0.04441 to 0.04224, saving model to ./model/mnist-cnn-04-0.0422.hdf5\n",
            "Epoch 5/30\n",
            "240/240 [==============================] - 3s 11ms/step - loss: 0.0464 - accuracy: 0.9853 - val_loss: 0.0401 - val_accuracy: 0.9881\n",
            "\n",
            "Epoch 00005: val_loss improved from 0.04224 to 0.04013, saving model to ./model/mnist-cnn-05-0.0401.hdf5\n",
            "Epoch 6/30\n",
            "240/240 [==============================] - 3s 11ms/step - loss: 0.0412 - accuracy: 0.9860 - val_loss: 0.0405 - val_accuracy: 0.9877\n",
            "\n",
            "Epoch 00006: val_loss did not improve from 0.04013\n",
            "Epoch 7/30\n",
            "240/240 [==============================] - 3s 11ms/step - loss: 0.0363 - accuracy: 0.9886 - val_loss: 0.0365 - val_accuracy: 0.9902\n",
            "\n",
            "Epoch 00007: val_loss improved from 0.04013 to 0.03651, saving model to ./model/mnist-cnn-07-0.0365.hdf5\n",
            "Epoch 8/30\n",
            "240/240 [==============================] - 3s 11ms/step - loss: 0.0323 - accuracy: 0.9896 - val_loss: 0.0368 - val_accuracy: 0.9898\n",
            "\n",
            "Epoch 00008: val_loss did not improve from 0.03651\n",
            "Epoch 9/30\n",
            "240/240 [==============================] - 3s 11ms/step - loss: 0.0300 - accuracy: 0.9891 - val_loss: 0.0380 - val_accuracy: 0.9902\n",
            "\n",
            "Epoch 00009: val_loss did not improve from 0.03651\n",
            "Epoch 10/30\n",
            "240/240 [==============================] - 3s 11ms/step - loss: 0.0290 - accuracy: 0.9900 - val_loss: 0.0404 - val_accuracy: 0.9894\n",
            "\n",
            "Epoch 00010: val_loss did not improve from 0.03651\n",
            "Epoch 11/30\n",
            "240/240 [==============================] - 3s 11ms/step - loss: 0.0248 - accuracy: 0.9918 - val_loss: 0.0381 - val_accuracy: 0.9893\n",
            "\n",
            "Epoch 00011: val_loss did not improve from 0.03651\n",
            "Epoch 12/30\n",
            "240/240 [==============================] - 3s 11ms/step - loss: 0.0256 - accuracy: 0.9909 - val_loss: 0.0444 - val_accuracy: 0.9887\n",
            "\n",
            "Epoch 00012: val_loss did not improve from 0.03651\n",
            "Epoch 13/30\n",
            "240/240 [==============================] - 3s 11ms/step - loss: 0.0226 - accuracy: 0.9921 - val_loss: 0.0396 - val_accuracy: 0.9898\n",
            "\n",
            "Epoch 00013: val_loss did not improve from 0.03651\n",
            "Epoch 14/30\n",
            "240/240 [==============================] - 3s 11ms/step - loss: 0.0198 - accuracy: 0.9927 - val_loss: 0.0412 - val_accuracy: 0.9902\n",
            "\n",
            "Epoch 00014: val_loss did not improve from 0.03651\n",
            "Epoch 15/30\n",
            "240/240 [==============================] - 3s 11ms/step - loss: 0.0181 - accuracy: 0.9934 - val_loss: 0.0419 - val_accuracy: 0.9906\n",
            "\n",
            "Epoch 00015: val_loss did not improve from 0.03651\n",
            "Epoch 16/30\n",
            "240/240 [==============================] - 3s 11ms/step - loss: 0.0182 - accuracy: 0.9936 - val_loss: 0.0391 - val_accuracy: 0.9898\n",
            "\n",
            "Epoch 00016: val_loss did not improve from 0.03651\n",
            "Epoch 17/30\n",
            "240/240 [==============================] - 3s 11ms/step - loss: 0.0163 - accuracy: 0.9947 - val_loss: 0.0421 - val_accuracy: 0.9897\n",
            "\n",
            "Epoch 00017: val_loss did not improve from 0.03651\n"
          ],
          "name": "stdout"
        }
      ]
    },
    {
      "cell_type": "code",
      "metadata": {
        "colab": {
          "base_uri": "https://localhost:8080/"
        },
        "id": "jygtw6vp1YeT",
        "outputId": "aae96b3c-ffcd-4c97-bc95-5884439d9033"
      },
      "source": [
        "!ls model"
      ],
      "execution_count": null,
      "outputs": [
        {
          "output_type": "stream",
          "text": [
            "mnist-cnn-01-0.0730.hdf5  mnist-cnn-03-0.0444.hdf5  mnist-cnn-05-0.0401.hdf5\n",
            "mnist-cnn-02-0.0537.hdf5  mnist-cnn-04-0.0422.hdf5  mnist-cnn-07-0.0365.hdf5\n"
          ],
          "name": "stdout"
        }
      ]
    },
    {
      "cell_type": "code",
      "metadata": {
        "id": "qZDWizT7Avw1"
      },
      "source": [
        "from keras.models import load_model\r\n",
        "del model\r\n",
        "model = load_model('model/mnist-cnn-07-0.0365.hdf5')"
      ],
      "execution_count": null,
      "outputs": []
    },
    {
      "cell_type": "code",
      "metadata": {
        "colab": {
          "base_uri": "https://localhost:8080/"
        },
        "id": "DXBdkIOWA76U",
        "outputId": "e2af1c7c-c80b-4bb8-e9c4-36da67de1fa0"
      },
      "source": [
        "# 테스트 정확도 출력 \r\n",
        "acc = model.evaluate(X_test, Y_test, verbose=0)[1]\r\n",
        "print(f\"Test Accuracy:{acc:.4f}\")"
      ],
      "execution_count": null,
      "outputs": [
        {
          "output_type": "stream",
          "text": [
            "Test Accuracy:0.9906\n"
          ],
          "name": "stdout"
        }
      ]
    },
    {
      "cell_type": "code",
      "metadata": {
        "id": "mfihh7vVBZTM"
      },
      "source": [
        "# 검증셋의 오차\r\n",
        "y_vloss = history.history['val_loss']\r\n",
        "\r\n",
        "# 학습셋의 오차\r\n",
        "y_loss = history.history['loss']"
      ],
      "execution_count": null,
      "outputs": []
    },
    {
      "cell_type": "code",
      "metadata": {
        "colab": {
          "base_uri": "https://localhost:8080/",
          "height": 388
        },
        "id": "AbvCfHfnCt71",
        "outputId": "819cb710-ae1a-425a-a612-49fad566ff8b"
      },
      "source": [
        "# 그래프로 표현\r\n",
        "x_len = np.arange(1, len(y_loss)+1)\r\n",
        "plt.figure(figsize=(8,6))\r\n",
        "plt.plot(x_len, y_vloss, marker='.', c=\"red\", label='Validationset_loss')\r\n",
        "plt.plot(x_len, y_loss, marker='.', c=\"blue\", label='Trainset_loss')\r\n",
        "\r\n",
        "# 그래프에 그리드를 주고 레이블을 표시\r\n",
        "plt.legend(loc='upper right')\r\n",
        "#plt.axis([0, 20, 0, 0.35])\r\n",
        "plt.grid()\r\n",
        "plt.xlabel('epoch')\r\n",
        "plt.ylabel('loss')\r\n",
        "plt.show()"
      ],
      "execution_count": null,
      "outputs": [
        {
          "output_type": "display_data",
          "data": {
            "image/png": "[encoded data removed]",
            "text/plain": [
              "<Figure size 576x432 with 1 Axes>"
            ]
          },
          "metadata": {
            "tags": [],
            "needs_background": "light"
          }
        }
      ]
    },
    {
      "cell_type": "markdown",
      "metadata": {
        "id": "AinVnay_QJqN"
      },
      "source": [
        "### GPU"
      ]
    },
    {
      "cell_type": "code",
      "metadata": {
        "colab": {
          "base_uri": "https://localhost:8080/"
        },
        "id": "_xDVfkvZQJK_",
        "outputId": "7f390c78-2251-473a-8135-0dfc8f6f020f"
      },
      "source": [
        "from tensorflow.python.client import device_lib\r\n",
        "print(device_lib.list_local_devices())"
      ],
      "execution_count": null,
      "outputs": [
        {
          "output_type": "stream",
          "text": [
            "[name: \"/device:CPU:0\"\n",
            "device_type: \"CPU\"\n",
            "memory_limit: 268435456\n",
            "locality {\n",
            "}\n",
            "incarnation: 15097421327895376220\n",
            ", name: \"/device:GPU:0\"\n",
            "device_type: \"GPU\"\n",
            "memory_limit: 14638920512\n",
            "locality {\n",
            "  bus_id: 1\n",
            "  links {\n",
            "  }\n",
            "}\n",
            "incarnation: 12555020929687159809\n",
            "physical_device_desc: \"device: 0, name: Tesla T4, pci bus id: 0000:00:04.0, compute capability: 7.5\"\n",
            "]\n"
          ],
          "name": "stdout"
        }
      ]
    },
    {
      "cell_type": "code",
      "metadata": {
        "colab": {
          "base_uri": "https://localhost:8080/"
        },
        "id": "0MW1gmrASRXu",
        "outputId": "219c64a6-b5cd-4d9f-c745-fb13c9ece0bb"
      },
      "source": [
        "!nvidia-smi"
      ],
      "execution_count": null,
      "outputs": [
        {
          "output_type": "stream",
          "text": [
            "Mon Feb  8 07:17:07 2021       \n",
            "+-----------------------------------------------------------------------------+\n",
            "| NVIDIA-SMI 460.39       Driver Version: 418.67       CUDA Version: 10.1     |\n",
            "|-------------------------------+----------------------+----------------------+\n",
            "| GPU  Name        Persistence-M| Bus-Id        Disp.A | Volatile Uncorr. ECC |\n",
            "| Fan  Temp  Perf  Pwr:Usage/Cap|         Memory-Usage | GPU-Util  Compute M. |\n",
            "|                               |                      |               MIG M. |\n",
            "|===============================+======================+======================|\n",
            "|   0  Tesla T4            Off  | 00000000:00:04.0 Off |                    0 |\n",
            "| N/A   49C    P0    28W /  70W |   1129MiB / 15079MiB |      0%      Default |\n",
            "|                               |                      |                 ERR! |\n",
            "+-------------------------------+----------------------+----------------------+\n",
            "                                                                               \n",
            "+-----------------------------------------------------------------------------+\n",
            "| Processes:                                                                  |\n",
            "|  GPU   GI   CI        PID   Type   Process name                  GPU Memory |\n",
            "|        ID   ID                                                   Usage      |\n",
            "|=============================================================================|\n",
            "|  No running processes found                                                 |\n",
            "+-----------------------------------------------------------------------------+\n"
          ],
          "name": "stdout"
        }
      ]
    }
  ]
}