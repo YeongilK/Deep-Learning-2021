{
  "nbformat": 4,
  "nbformat_minor": 0,
  "metadata": {
    "colab": {
      "name": "43_다각형분류_DataAugmentation.ipynb",
      "provenance": [],
      "collapsed_sections": []
    },
    "kernelspec": {
      "name": "python3",
      "display_name": "Python 3"
    }
  },
  "cells": [
    {
      "cell_type": "markdown",
      "metadata": {
        "id": "qTtkAC0hcGpi"
      },
      "source": [
        "# 다각형 구분하기"
      ]
    },
    {
      "cell_type": "markdown",
      "metadata": {
        "id": "UcShWldodN8J"
      },
      "source": [
        "## 3. Data Augmentation을 사용한 CNN 모델"
      ]
    },
    {
      "cell_type": "code",
      "metadata": {
        "id": "3kp69aJAc7CQ"
      },
      "source": [
        "import numpy as np\r\n",
        "import tensorflow as tf\r\n",
        "from tensorflow.keras.models import Sequential\r\n",
        "from tensorflow.keras.layers import Dense, Flatten, Conv2D, MaxPooling2D\r\n",
        "from tensorflow.keras.preprocessing.image import ImageDataGenerator"
      ],
      "execution_count": 1,
      "outputs": []
    },
    {
      "cell_type": "code",
      "metadata": {
        "id": "xD6jps5idv6q"
      },
      "source": [
        "# seed 값 설정\r\n",
        "seed = 2021\r\n",
        "np.random.seed(seed)\r\n",
        "tf.random.set_seed(seed)"
      ],
      "execution_count": 2,
      "outputs": []
    },
    {
      "cell_type": "markdown",
      "metadata": {
        "id": "kwQ51rM4nvU3"
      },
      "source": [
        "### 데이터 부풀리기(Augmentation)"
      ]
    },
    {
      "cell_type": "code",
      "metadata": {
        "id": "Gnb-e6USnyX-"
      },
      "source": [
        "from tensorflow.keras.preprocessing.image import array_to_img, img_to_array, load_img"
      ],
      "execution_count": 3,
      "outputs": []
    },
    {
      "cell_type": "code",
      "metadata": {
        "id": "HcBnMsnGnxzv"
      },
      "source": [
        "# 데이터 부풀리기를 적용한 훈련 데이터 제너레이터\r\n",
        "train_datagen = ImageDataGenerator(rescale=1./255,\r\n",
        "                                   rotation_range=15,\r\n",
        "                                   width_shift_range=0.1,\r\n",
        "                                   height_shift_range=0.1,\r\n",
        "                                   shear_range=0.5,\r\n",
        "                                   zoom_range=[0.8, 2.0],\r\n",
        "                                   horizontal_flip=True,\r\n",
        "                                   vertical_flip=True,\r\n",
        "                                   fill_mode='nearest')"
      ],
      "execution_count": 4,
      "outputs": []
    },
    {
      "cell_type": "code",
      "metadata": {
        "id": "aG2na-BhoHk_"
      },
      "source": [
        "img = load_img('hard_handwriting_shape/train/triangle/triangle001.png')\r\n",
        "x = img_to_array(img)\r\n",
        "x = x.reshape((1,) + x.shape)\r\n",
        "\r\n",
        "i = 0\r\n",
        "\r\n",
        "# 무한 for loop이니 주의!!\r\n",
        "for batch in train_datagen.flow(x, batch_size=1, save_to_dir='preview',\r\n",
        "                                save_prefix='tri', save_format='png'):\r\n",
        "    i += 1\r\n",
        "    if i > 30:\r\n",
        "        break"
      ],
      "execution_count": 6,
      "outputs": []
    },
    {
      "cell_type": "code",
      "metadata": {
        "colab": {
          "base_uri": "https://localhost:8080/"
        },
        "id": "xOhylg7koHff",
        "outputId": "03707292-ff11-4f4b-84e4-4bd59f8a8043"
      },
      "source": [
        "!ls preview"
      ],
      "execution_count": 7,
      "outputs": [
        {
          "output_type": "stream",
          "text": [
            "tri_0_1270.png\ttri_0_3759.png\ttri_0_5798.png\ttri_0_8211.png\ttri_0_9797.png\n",
            "tri_0_1302.png\ttri_0_3825.png\ttri_0_5881.png\ttri_0_8288.png\ttri_0_9854.png\n",
            "tri_0_1585.png\ttri_0_403.png\ttri_0_6416.png\ttri_0_8923.png\ttri_0_9972.png\n",
            "tri_0_2407.png\ttri_0_4949.png\ttri_0_6427.png\ttri_0_9089.png\n",
            "tri_0_2997.png\ttri_0_5158.png\ttri_0_7259.png\ttri_0_928.png\n",
            "tri_0_3418.png\ttri_0_519.png\ttri_0_7282.png\ttri_0_9495.png\n",
            "tri_0_3503.png\ttri_0_5672.png\ttri_0_7897.png\ttri_0_9575.png\n"
          ],
          "name": "stdout"
        }
      ]
    },
    {
      "cell_type": "markdown",
      "metadata": {
        "id": "gsDJrmyId5xQ"
      },
      "source": [
        "### 데이터셋 생성하기"
      ]
    },
    {
      "cell_type": "code",
      "metadata": {
        "colab": {
          "base_uri": "https://localhost:8080/"
        },
        "id": "uvlsbLcbd44Y",
        "outputId": "1e738cbe-8560-4c87-deaa-f9d91526fe13"
      },
      "source": [
        "train_generator = train_datagen.flow_from_directory(\r\n",
        "    'hard_handwriting_shape/train', \r\n",
        "    target_size=(24, 24),\r\n",
        "    batch_size=3,\r\n",
        "    class_mode='categorical'\r\n",
        ")"
      ],
      "execution_count": 8,
      "outputs": [
        {
          "output_type": "stream",
          "text": [
            "Found 45 images belonging to 3 classes.\n"
          ],
          "name": "stdout"
        }
      ]
    },
    {
      "cell_type": "code",
      "metadata": {
        "colab": {
          "base_uri": "https://localhost:8080/"
        },
        "id": "e9mbDwXSehL4",
        "outputId": "2cfa1cbe-a8d5-43ba-c23b-ee3d2698c395"
      },
      "source": [
        "test_datagen = ImageDataGenerator(rescale=1./255)\r\n",
        "test_generator = test_datagen.flow_from_directory(\r\n",
        "    'hard_handwriting_shape/test', \r\n",
        "    target_size=(24, 24),\r\n",
        "    batch_size=3,\r\n",
        "    class_mode='categorical'\r\n",
        ")"
      ],
      "execution_count": 9,
      "outputs": [
        {
          "output_type": "stream",
          "text": [
            "Found 15 images belonging to 3 classes.\n"
          ],
          "name": "stdout"
        }
      ]
    },
    {
      "cell_type": "markdown",
      "metadata": {
        "id": "G5tDaboPfJ6Z"
      },
      "source": [
        "### 모델 정의/설정/학습"
      ]
    },
    {
      "cell_type": "code",
      "metadata": {
        "colab": {
          "base_uri": "https://localhost:8080/"
        },
        "id": "i6VSrS-Ie9PB",
        "outputId": "36bffc4b-0e34-4f4b-adc6-f9327763a0ff"
      },
      "source": [
        "model = Sequential()\r\n",
        "model.add(Conv2D(32, kernel_size=(3, 3),\r\n",
        "                 activation='relu',\r\n",
        "                 input_shape=(24, 24, 3)))\r\n",
        "model.add(Conv2D(64, (3, 3), activation='relu'))\r\n",
        "model.add(MaxPooling2D(pool_size=(2, 2)))\r\n",
        "model.add(Flatten())\r\n",
        "model.add(Dense(128, activation='relu'))\r\n",
        "model.add(Dense(3, activation='softmax'))\r\n",
        "model.summary()"
      ],
      "execution_count": 10,
      "outputs": [
        {
          "output_type": "stream",
          "text": [
            "Model: \"sequential\"\n",
            "_________________________________________________________________\n",
            "Layer (type)                 Output Shape              Param #   \n",
            "=================================================================\n",
            "conv2d (Conv2D)              (None, 22, 22, 32)        896       \n",
            "_________________________________________________________________\n",
            "conv2d_1 (Conv2D)            (None, 20, 20, 64)        18496     \n",
            "_________________________________________________________________\n",
            "max_pooling2d (MaxPooling2D) (None, 10, 10, 64)        0         \n",
            "_________________________________________________________________\n",
            "flatten (Flatten)            (None, 6400)              0         \n",
            "_________________________________________________________________\n",
            "dense (Dense)                (None, 128)               819328    \n",
            "_________________________________________________________________\n",
            "dense_1 (Dense)              (None, 3)                 387       \n",
            "=================================================================\n",
            "Total params: 839,107\n",
            "Trainable params: 839,107\n",
            "Non-trainable params: 0\n",
            "_________________________________________________________________\n"
          ],
          "name": "stdout"
        }
      ]
    },
    {
      "cell_type": "code",
      "metadata": {
        "id": "aJvs2aJegE3q"
      },
      "source": [
        "model.compile(loss='categorical_crossentropy',\r\n",
        "              optimizer='adam', metrics=['accuracy'])"
      ],
      "execution_count": 11,
      "outputs": []
    },
    {
      "cell_type": "markdown",
      "metadata": {
        "id": "R0eUhFzkgst4"
      },
      "source": [
        "### 모델 학습시키기\r\n",
        "- 첫번째 인자 : 훈련데이터셋을 제공할 제네레이터를 지정합니다. 본 예제에서는 앞서 생성한 train_generator으로 지정합니다.\r\n",
        "- steps_per_epoch : 한 epoch에 사용한 스텝 수를 지정합니다. 총 45개의 훈련 샘플이 있고 배치사이즈가 3이므로 15 스텝으로 지정.\r\n",
        "- epochs : 전체 훈련 데이터셋에 대해 학습 반복 횟수를 지정.\r\n",
        "- validation_data : 검증데이터셋을 제공할 제네레이터를 지정합니다. 본 예제에서는 앞서 생성한 test_generator으로 지정.\r\n",
        "- validation_steps : 한 epoch 종료 시 마다 검증할 때 사용되는 검증 스텝 수를 지정. 홍 15개의 검증 샘플이 있고 배치사이즈가 3이므로 5 스텝으로 지정."
      ]
    },
    {
      "cell_type": "code",
      "metadata": {
        "colab": {
          "base_uri": "https://localhost:8080/"
        },
        "id": "KfCGLlcbgk64",
        "outputId": "8ce15160-dcad-4663-d50d-44c95a2ffee9"
      },
      "source": [
        "model.fit_generator(\r\n",
        "        train_generator,\r\n",
        "        steps_per_epoch=15,\r\n",
        "        epochs=200,\r\n",
        "        validation_data=test_generator,\r\n",
        "        validation_steps=5)"
      ],
      "execution_count": 12,
      "outputs": [
        {
          "output_type": "stream",
          "text": [
            "/usr/local/lib/python3.6/dist-packages/tensorflow/python/keras/engine/training.py:1844: UserWarning: `Model.fit_generator` is deprecated and will be removed in a future version. Please use `Model.fit`, which supports generators.\n",
            "  warnings.warn('`Model.fit_generator` is deprecated and '\n"
          ],
          "name": "stderr"
        },
        {
          "output_type": "stream",
          "text": [
            "Epoch 1/200\n",
            "15/15 [==============================] - 1s 38ms/step - loss: 1.5361 - accuracy: 0.2206 - val_loss: 1.1128 - val_accuracy: 0.3333\n",
            "Epoch 2/200\n",
            "15/15 [==============================] - 0s 24ms/step - loss: 1.0542 - accuracy: 0.4335 - val_loss: 1.0395 - val_accuracy: 0.6000\n",
            "Epoch 3/200\n",
            "15/15 [==============================] - 0s 25ms/step - loss: 0.9405 - accuracy: 0.6500 - val_loss: 1.0940 - val_accuracy: 0.4000\n",
            "Epoch 4/200\n",
            "15/15 [==============================] - 0s 25ms/step - loss: 0.6890 - accuracy: 0.7679 - val_loss: 1.1765 - val_accuracy: 0.6000\n",
            "Epoch 5/200\n",
            "15/15 [==============================] - 0s 25ms/step - loss: 0.7225 - accuracy: 0.6619 - val_loss: 1.1824 - val_accuracy: 0.6000\n",
            "Epoch 6/200\n",
            "15/15 [==============================] - 0s 24ms/step - loss: 0.6786 - accuracy: 0.7004 - val_loss: 1.2157 - val_accuracy: 0.4667\n",
            "Epoch 7/200\n",
            "15/15 [==============================] - 0s 24ms/step - loss: 0.5527 - accuracy: 0.8213 - val_loss: 1.2829 - val_accuracy: 0.6000\n",
            "Epoch 8/200\n",
            "15/15 [==============================] - 0s 25ms/step - loss: 0.5347 - accuracy: 0.7910 - val_loss: 1.7113 - val_accuracy: 0.5333\n",
            "Epoch 9/200\n",
            "15/15 [==============================] - 0s 24ms/step - loss: 0.4152 - accuracy: 0.8317 - val_loss: 1.7472 - val_accuracy: 0.6000\n",
            "Epoch 10/200\n",
            "15/15 [==============================] - 0s 24ms/step - loss: 0.3569 - accuracy: 0.9399 - val_loss: 1.7316 - val_accuracy: 0.6667\n",
            "Epoch 11/200\n",
            "15/15 [==============================] - 0s 24ms/step - loss: 0.2447 - accuracy: 0.9670 - val_loss: 2.6392 - val_accuracy: 0.6000\n",
            "Epoch 12/200\n",
            "15/15 [==============================] - 0s 24ms/step - loss: 0.1373 - accuracy: 0.9884 - val_loss: 1.6277 - val_accuracy: 0.6667\n",
            "Epoch 13/200\n",
            "15/15 [==============================] - 0s 25ms/step - loss: 0.0979 - accuracy: 0.9676 - val_loss: 1.9928 - val_accuracy: 0.6667\n",
            "Epoch 14/200\n",
            "15/15 [==============================] - 0s 24ms/step - loss: 0.1263 - accuracy: 0.9384 - val_loss: 1.4085 - val_accuracy: 0.6000\n",
            "Epoch 15/200\n",
            "15/15 [==============================] - 0s 25ms/step - loss: 0.2384 - accuracy: 0.9064 - val_loss: 1.2710 - val_accuracy: 0.6667\n",
            "Epoch 16/200\n",
            "15/15 [==============================] - 0s 25ms/step - loss: 0.2384 - accuracy: 0.8964 - val_loss: 2.0314 - val_accuracy: 0.6000\n",
            "Epoch 17/200\n",
            "15/15 [==============================] - 0s 24ms/step - loss: 0.1743 - accuracy: 0.9052 - val_loss: 1.4867 - val_accuracy: 0.6667\n",
            "Epoch 18/200\n",
            "15/15 [==============================] - 1s 34ms/step - loss: 0.0929 - accuracy: 1.0000 - val_loss: 1.5851 - val_accuracy: 0.6667\n",
            "Epoch 19/200\n",
            "15/15 [==============================] - 0s 24ms/step - loss: 0.1815 - accuracy: 0.8673 - val_loss: 1.0750 - val_accuracy: 0.7333\n",
            "Epoch 20/200\n",
            "15/15 [==============================] - 0s 24ms/step - loss: 0.1788 - accuracy: 0.9808 - val_loss: 1.6242 - val_accuracy: 0.8000\n",
            "Epoch 21/200\n",
            "15/15 [==============================] - 0s 24ms/step - loss: 0.1186 - accuracy: 0.9503 - val_loss: 1.9657 - val_accuracy: 0.7333\n",
            "Epoch 22/200\n",
            "15/15 [==============================] - 0s 24ms/step - loss: 0.2494 - accuracy: 0.9444 - val_loss: 2.0535 - val_accuracy: 0.6667\n",
            "Epoch 23/200\n",
            "15/15 [==============================] - 0s 27ms/step - loss: 0.2273 - accuracy: 0.9352 - val_loss: 1.5661 - val_accuracy: 0.6667\n",
            "Epoch 24/200\n",
            "15/15 [==============================] - 0s 24ms/step - loss: 0.1460 - accuracy: 0.9236 - val_loss: 2.3165 - val_accuracy: 0.6667\n",
            "Epoch 25/200\n",
            "15/15 [==============================] - 0s 30ms/step - loss: 0.1272 - accuracy: 0.9561 - val_loss: 2.3933 - val_accuracy: 0.6667\n",
            "Epoch 26/200\n",
            "15/15 [==============================] - 0s 25ms/step - loss: 0.0575 - accuracy: 1.0000 - val_loss: 2.6896 - val_accuracy: 0.6667\n",
            "Epoch 27/200\n",
            "15/15 [==============================] - 0s 24ms/step - loss: 0.0550 - accuracy: 0.9729 - val_loss: 2.6220 - val_accuracy: 0.6667\n",
            "Epoch 28/200\n",
            "15/15 [==============================] - 0s 24ms/step - loss: 0.0957 - accuracy: 0.9677 - val_loss: 1.9733 - val_accuracy: 0.7333\n",
            "Epoch 29/200\n",
            "15/15 [==============================] - 0s 24ms/step - loss: 0.0393 - accuracy: 1.0000 - val_loss: 1.7121 - val_accuracy: 0.8000\n",
            "Epoch 30/200\n",
            "15/15 [==============================] - 0s 24ms/step - loss: 0.0617 - accuracy: 0.9677 - val_loss: 3.5816 - val_accuracy: 0.6000\n",
            "Epoch 31/200\n",
            "15/15 [==============================] - 0s 25ms/step - loss: 0.1047 - accuracy: 0.9691 - val_loss: 1.3955 - val_accuracy: 0.8000\n",
            "Epoch 32/200\n",
            "15/15 [==============================] - 0s 24ms/step - loss: 0.1383 - accuracy: 0.9415 - val_loss: 1.0448 - val_accuracy: 0.8000\n",
            "Epoch 33/200\n",
            "15/15 [==============================] - 0s 24ms/step - loss: 0.1075 - accuracy: 1.0000 - val_loss: 1.8925 - val_accuracy: 0.7333\n",
            "Epoch 34/200\n",
            "15/15 [==============================] - 0s 24ms/step - loss: 0.0354 - accuracy: 1.0000 - val_loss: 1.8146 - val_accuracy: 0.7333\n",
            "Epoch 35/200\n",
            "15/15 [==============================] - 0s 24ms/step - loss: 0.2359 - accuracy: 0.9354 - val_loss: 1.6838 - val_accuracy: 0.8000\n",
            "Epoch 36/200\n",
            "15/15 [==============================] - 0s 25ms/step - loss: 0.0453 - accuracy: 1.0000 - val_loss: 2.1918 - val_accuracy: 0.7333\n",
            "Epoch 37/200\n",
            "15/15 [==============================] - 0s 24ms/step - loss: 0.1656 - accuracy: 0.9364 - val_loss: 2.3037 - val_accuracy: 0.7333\n",
            "Epoch 38/200\n",
            "15/15 [==============================] - 0s 25ms/step - loss: 0.0595 - accuracy: 0.9861 - val_loss: 2.0117 - val_accuracy: 0.8000\n",
            "Epoch 39/200\n",
            "15/15 [==============================] - 0s 24ms/step - loss: 0.0368 - accuracy: 0.9924 - val_loss: 2.0097 - val_accuracy: 0.8000\n",
            "Epoch 40/200\n",
            "15/15 [==============================] - 0s 24ms/step - loss: 0.0798 - accuracy: 0.9563 - val_loss: 2.4355 - val_accuracy: 0.6667\n",
            "Epoch 41/200\n",
            "15/15 [==============================] - 0s 26ms/step - loss: 0.0623 - accuracy: 1.0000 - val_loss: 2.4263 - val_accuracy: 0.6000\n",
            "Epoch 42/200\n",
            "15/15 [==============================] - 0s 24ms/step - loss: 0.0082 - accuracy: 1.0000 - val_loss: 2.3028 - val_accuracy: 0.6667\n",
            "Epoch 43/200\n",
            "15/15 [==============================] - 0s 25ms/step - loss: 0.0504 - accuracy: 0.9607 - val_loss: 1.9144 - val_accuracy: 0.8000\n",
            "Epoch 44/200\n",
            "15/15 [==============================] - 0s 24ms/step - loss: 0.3500 - accuracy: 0.8777 - val_loss: 1.5233 - val_accuracy: 0.8000\n",
            "Epoch 45/200\n",
            "15/15 [==============================] - 0s 24ms/step - loss: 0.0310 - accuracy: 0.9941 - val_loss: 1.6015 - val_accuracy: 0.8000\n",
            "Epoch 46/200\n",
            "15/15 [==============================] - 0s 24ms/step - loss: 0.1045 - accuracy: 0.9521 - val_loss: 2.2509 - val_accuracy: 0.6000\n",
            "Epoch 47/200\n",
            "15/15 [==============================] - 0s 24ms/step - loss: 0.0835 - accuracy: 1.0000 - val_loss: 2.0628 - val_accuracy: 0.6667\n",
            "Epoch 48/200\n",
            "15/15 [==============================] - 0s 24ms/step - loss: 0.0222 - accuracy: 1.0000 - val_loss: 2.2190 - val_accuracy: 0.7333\n",
            "Epoch 49/200\n",
            "15/15 [==============================] - 0s 24ms/step - loss: 0.0127 - accuracy: 1.0000 - val_loss: 2.9415 - val_accuracy: 0.6000\n",
            "Epoch 50/200\n",
            "15/15 [==============================] - 0s 24ms/step - loss: 0.0063 - accuracy: 1.0000 - val_loss: 3.7022 - val_accuracy: 0.5333\n",
            "Epoch 51/200\n",
            "15/15 [==============================] - 0s 25ms/step - loss: 0.0268 - accuracy: 1.0000 - val_loss: 2.6367 - val_accuracy: 0.7333\n",
            "Epoch 52/200\n",
            "15/15 [==============================] - 0s 24ms/step - loss: 0.0147 - accuracy: 1.0000 - val_loss: 2.4039 - val_accuracy: 0.7333\n",
            "Epoch 53/200\n",
            "15/15 [==============================] - 0s 25ms/step - loss: 0.0261 - accuracy: 1.0000 - val_loss: 2.4074 - val_accuracy: 0.6667\n",
            "Epoch 54/200\n",
            "15/15 [==============================] - 0s 24ms/step - loss: 0.1852 - accuracy: 0.9387 - val_loss: 2.9537 - val_accuracy: 0.6667\n",
            "Epoch 55/200\n",
            "15/15 [==============================] - 0s 24ms/step - loss: 0.0162 - accuracy: 1.0000 - val_loss: 2.4551 - val_accuracy: 0.6667\n",
            "Epoch 56/200\n",
            "15/15 [==============================] - 0s 24ms/step - loss: 0.0167 - accuracy: 1.0000 - val_loss: 2.3088 - val_accuracy: 0.6667\n",
            "Epoch 57/200\n",
            "15/15 [==============================] - 0s 23ms/step - loss: 0.0872 - accuracy: 0.9561 - val_loss: 1.8996 - val_accuracy: 0.6667\n",
            "Epoch 58/200\n",
            "15/15 [==============================] - 0s 24ms/step - loss: 0.0488 - accuracy: 1.0000 - val_loss: 1.9573 - val_accuracy: 0.6667\n",
            "Epoch 59/200\n",
            "15/15 [==============================] - 0s 24ms/step - loss: 0.0477 - accuracy: 0.9729 - val_loss: 3.5434 - val_accuracy: 0.6000\n",
            "Epoch 60/200\n",
            "15/15 [==============================] - 1s 65ms/step - loss: 0.1624 - accuracy: 0.8960 - val_loss: 1.7326 - val_accuracy: 0.6667\n",
            "Epoch 61/200\n",
            "15/15 [==============================] - 0s 32ms/step - loss: 0.1664 - accuracy: 0.9370 - val_loss: 2.1522 - val_accuracy: 0.6000\n",
            "Epoch 62/200\n",
            "15/15 [==============================] - 0s 31ms/step - loss: 0.1486 - accuracy: 0.9277 - val_loss: 1.6611 - val_accuracy: 0.6667\n",
            "Epoch 63/200\n",
            "15/15 [==============================] - 0s 31ms/step - loss: 0.0267 - accuracy: 0.9905 - val_loss: 2.3496 - val_accuracy: 0.4667\n",
            "Epoch 64/200\n",
            "15/15 [==============================] - 0s 24ms/step - loss: 0.0643 - accuracy: 0.9549 - val_loss: 3.1299 - val_accuracy: 0.4667\n",
            "Epoch 65/200\n",
            "15/15 [==============================] - 0s 26ms/step - loss: 0.0231 - accuracy: 0.9972 - val_loss: 3.1429 - val_accuracy: 0.4667\n",
            "Epoch 66/200\n",
            "15/15 [==============================] - 0s 32ms/step - loss: 0.0126 - accuracy: 0.9957 - val_loss: 2.9923 - val_accuracy: 0.5333\n",
            "Epoch 67/200\n",
            "15/15 [==============================] - 0s 23ms/step - loss: 0.0335 - accuracy: 0.9941 - val_loss: 2.4484 - val_accuracy: 0.6000\n",
            "Epoch 68/200\n",
            "15/15 [==============================] - 0s 25ms/step - loss: 0.2907 - accuracy: 0.8279 - val_loss: 2.7616 - val_accuracy: 0.7333\n",
            "Epoch 69/200\n",
            "15/15 [==============================] - 0s 24ms/step - loss: 0.0810 - accuracy: 0.9442 - val_loss: 3.4649 - val_accuracy: 0.5333\n",
            "Epoch 70/200\n",
            "15/15 [==============================] - 1s 39ms/step - loss: 0.0895 - accuracy: 0.9468 - val_loss: 3.2730 - val_accuracy: 0.6000\n",
            "Epoch 71/200\n",
            "15/15 [==============================] - 0s 24ms/step - loss: 0.1695 - accuracy: 0.9124 - val_loss: 3.4741 - val_accuracy: 0.5333\n",
            "Epoch 72/200\n",
            "15/15 [==============================] - 0s 25ms/step - loss: 0.1349 - accuracy: 0.9295 - val_loss: 2.6447 - val_accuracy: 0.6000\n",
            "Epoch 73/200\n",
            "15/15 [==============================] - 0s 24ms/step - loss: 0.1037 - accuracy: 0.9156 - val_loss: 2.5851 - val_accuracy: 0.7333\n",
            "Epoch 74/200\n",
            "15/15 [==============================] - 0s 24ms/step - loss: 0.0805 - accuracy: 0.9632 - val_loss: 2.1279 - val_accuracy: 0.7333\n",
            "Epoch 75/200\n",
            "15/15 [==============================] - 0s 30ms/step - loss: 0.0122 - accuracy: 1.0000 - val_loss: 2.3181 - val_accuracy: 0.7333\n",
            "Epoch 76/200\n",
            "15/15 [==============================] - 0s 25ms/step - loss: 0.0254 - accuracy: 0.9861 - val_loss: 2.0780 - val_accuracy: 0.8000\n",
            "Epoch 77/200\n",
            "15/15 [==============================] - 0s 24ms/step - loss: 0.0016 - accuracy: 1.0000 - val_loss: 2.0227 - val_accuracy: 0.8000\n",
            "Epoch 78/200\n",
            "15/15 [==============================] - 0s 24ms/step - loss: 0.0037 - accuracy: 1.0000 - val_loss: 2.0491 - val_accuracy: 0.7333\n",
            "Epoch 79/200\n",
            "15/15 [==============================] - 0s 24ms/step - loss: 0.0447 - accuracy: 0.9771 - val_loss: 2.0637 - val_accuracy: 0.7333\n",
            "Epoch 80/200\n",
            "15/15 [==============================] - 0s 25ms/step - loss: 0.1148 - accuracy: 0.9601 - val_loss: 3.1932 - val_accuracy: 0.5333\n",
            "Epoch 81/200\n",
            "15/15 [==============================] - 0s 25ms/step - loss: 0.0263 - accuracy: 1.0000 - val_loss: 4.3765 - val_accuracy: 0.5333\n",
            "Epoch 82/200\n",
            "15/15 [==============================] - 0s 25ms/step - loss: 0.5146 - accuracy: 0.8913 - val_loss: 1.4961 - val_accuracy: 0.7333\n",
            "Epoch 83/200\n",
            "15/15 [==============================] - 0s 24ms/step - loss: 0.0304 - accuracy: 0.9957 - val_loss: 1.2676 - val_accuracy: 0.7333\n",
            "Epoch 84/200\n",
            "15/15 [==============================] - 0s 26ms/step - loss: 0.0132 - accuracy: 1.0000 - val_loss: 1.3225 - val_accuracy: 0.7333\n",
            "Epoch 85/200\n",
            "15/15 [==============================] - 0s 26ms/step - loss: 0.0227 - accuracy: 1.0000 - val_loss: 1.3423 - val_accuracy: 0.7333\n",
            "Epoch 86/200\n",
            "15/15 [==============================] - 0s 24ms/step - loss: 0.0405 - accuracy: 0.9835 - val_loss: 2.0320 - val_accuracy: 0.6667\n",
            "Epoch 87/200\n",
            "15/15 [==============================] - 0s 25ms/step - loss: 0.0049 - accuracy: 1.0000 - val_loss: 2.5465 - val_accuracy: 0.6667\n",
            "Epoch 88/200\n",
            "15/15 [==============================] - 0s 24ms/step - loss: 0.0755 - accuracy: 0.9531 - val_loss: 2.3290 - val_accuracy: 0.6667\n",
            "Epoch 89/200\n",
            "15/15 [==============================] - 0s 24ms/step - loss: 0.0257 - accuracy: 0.9957 - val_loss: 1.3799 - val_accuracy: 0.8000\n",
            "Epoch 90/200\n",
            "15/15 [==============================] - 0s 26ms/step - loss: 0.0073 - accuracy: 1.0000 - val_loss: 1.1815 - val_accuracy: 0.8000\n",
            "Epoch 91/200\n",
            "15/15 [==============================] - 0s 26ms/step - loss: 0.0167 - accuracy: 1.0000 - val_loss: 1.2348 - val_accuracy: 0.8000\n",
            "Epoch 92/200\n",
            "15/15 [==============================] - 0s 23ms/step - loss: 0.1495 - accuracy: 0.9252 - val_loss: 1.6508 - val_accuracy: 0.7333\n",
            "Epoch 93/200\n",
            "15/15 [==============================] - 0s 25ms/step - loss: 0.0028 - accuracy: 1.0000 - val_loss: 1.7200 - val_accuracy: 0.7333\n",
            "Epoch 94/200\n",
            "15/15 [==============================] - 0s 24ms/step - loss: 0.0053 - accuracy: 1.0000 - val_loss: 1.7988 - val_accuracy: 0.7333\n",
            "Epoch 95/200\n",
            "15/15 [==============================] - 0s 24ms/step - loss: 0.0154 - accuracy: 0.9835 - val_loss: 2.7323 - val_accuracy: 0.6667\n",
            "Epoch 96/200\n",
            "15/15 [==============================] - 0s 25ms/step - loss: 0.0073 - accuracy: 1.0000 - val_loss: 3.0402 - val_accuracy: 0.6667\n",
            "Epoch 97/200\n",
            "15/15 [==============================] - 0s 25ms/step - loss: 0.0087 - accuracy: 1.0000 - val_loss: 2.6590 - val_accuracy: 0.7333\n",
            "Epoch 98/200\n",
            "15/15 [==============================] - 0s 33ms/step - loss: 0.0023 - accuracy: 1.0000 - val_loss: 2.6008 - val_accuracy: 0.7333\n",
            "Epoch 99/200\n",
            "15/15 [==============================] - 0s 24ms/step - loss: 0.0659 - accuracy: 0.9835 - val_loss: 1.2724 - val_accuracy: 0.8000\n",
            "Epoch 100/200\n",
            "15/15 [==============================] - 0s 25ms/step - loss: 0.0386 - accuracy: 0.9729 - val_loss: 1.5347 - val_accuracy: 0.8000\n",
            "Epoch 101/200\n",
            "15/15 [==============================] - 0s 25ms/step - loss: 0.0044 - accuracy: 1.0000 - val_loss: 1.8429 - val_accuracy: 0.8000\n",
            "Epoch 102/200\n",
            "15/15 [==============================] - 0s 24ms/step - loss: 0.1225 - accuracy: 0.9284 - val_loss: 1.8419 - val_accuracy: 0.8000\n",
            "Epoch 103/200\n",
            "15/15 [==============================] - 0s 26ms/step - loss: 0.0976 - accuracy: 0.9861 - val_loss: 2.9152 - val_accuracy: 0.6667\n",
            "Epoch 104/200\n",
            "15/15 [==============================] - 0s 25ms/step - loss: 0.0191 - accuracy: 0.9924 - val_loss: 3.8666 - val_accuracy: 0.5333\n",
            "Epoch 105/200\n",
            "15/15 [==============================] - 0s 26ms/step - loss: 0.1625 - accuracy: 0.9677 - val_loss: 4.8857 - val_accuracy: 0.4667\n",
            "Epoch 106/200\n",
            "15/15 [==============================] - 0s 25ms/step - loss: 0.0169 - accuracy: 0.9957 - val_loss: 3.1967 - val_accuracy: 0.5333\n",
            "Epoch 107/200\n",
            "15/15 [==============================] - 0s 24ms/step - loss: 0.0036 - accuracy: 1.0000 - val_loss: 3.0165 - val_accuracy: 0.6000\n",
            "Epoch 108/200\n",
            "15/15 [==============================] - 0s 26ms/step - loss: 0.0091 - accuracy: 1.0000 - val_loss: 3.0872 - val_accuracy: 0.6000\n",
            "Epoch 109/200\n",
            "15/15 [==============================] - 0s 24ms/step - loss: 0.0587 - accuracy: 1.0000 - val_loss: 2.3043 - val_accuracy: 0.7333\n",
            "Epoch 110/200\n",
            "15/15 [==============================] - 0s 25ms/step - loss: 0.0016 - accuracy: 1.0000 - val_loss: 2.2576 - val_accuracy: 0.7333\n",
            "Epoch 111/200\n",
            "15/15 [==============================] - 0s 24ms/step - loss: 0.0063 - accuracy: 1.0000 - val_loss: 2.3122 - val_accuracy: 0.7333\n",
            "Epoch 112/200\n",
            "15/15 [==============================] - 0s 24ms/step - loss: 0.0100 - accuracy: 1.0000 - val_loss: 2.2488 - val_accuracy: 0.7333\n",
            "Epoch 113/200\n",
            "15/15 [==============================] - 0s 25ms/step - loss: 0.0435 - accuracy: 0.9503 - val_loss: 2.2140 - val_accuracy: 0.7333\n",
            "Epoch 114/200\n",
            "15/15 [==============================] - 0s 25ms/step - loss: 0.0017 - accuracy: 1.0000 - val_loss: 2.2243 - val_accuracy: 0.7333\n",
            "Epoch 115/200\n",
            "15/15 [==============================] - 0s 25ms/step - loss: 0.0773 - accuracy: 0.9771 - val_loss: 1.3360 - val_accuracy: 0.8000\n",
            "Epoch 116/200\n",
            "15/15 [==============================] - 0s 25ms/step - loss: 0.0404 - accuracy: 0.9972 - val_loss: 1.5489 - val_accuracy: 0.8000\n",
            "Epoch 117/200\n",
            "15/15 [==============================] - 0s 27ms/step - loss: 0.0676 - accuracy: 0.9802 - val_loss: 1.9766 - val_accuracy: 0.8000\n",
            "Epoch 118/200\n",
            "15/15 [==============================] - 0s 24ms/step - loss: 0.0649 - accuracy: 0.9402 - val_loss: 2.6823 - val_accuracy: 0.6667\n",
            "Epoch 119/200\n",
            "15/15 [==============================] - 0s 32ms/step - loss: 0.0092 - accuracy: 1.0000 - val_loss: 2.7617 - val_accuracy: 0.7333\n",
            "Epoch 120/200\n",
            "15/15 [==============================] - 0s 26ms/step - loss: 0.0051 - accuracy: 1.0000 - val_loss: 2.4429 - val_accuracy: 0.7333\n",
            "Epoch 121/200\n",
            "15/15 [==============================] - 0s 25ms/step - loss: 0.0069 - accuracy: 1.0000 - val_loss: 2.3779 - val_accuracy: 0.7333\n",
            "Epoch 122/200\n",
            "15/15 [==============================] - 0s 33ms/step - loss: 0.0447 - accuracy: 0.9729 - val_loss: 3.0326 - val_accuracy: 0.7333\n",
            "Epoch 123/200\n",
            "15/15 [==============================] - 0s 25ms/step - loss: 0.0150 - accuracy: 1.0000 - val_loss: 3.6520 - val_accuracy: 0.6667\n",
            "Epoch 124/200\n",
            "15/15 [==============================] - 0s 25ms/step - loss: 0.0130 - accuracy: 1.0000 - val_loss: 3.2391 - val_accuracy: 0.7333\n",
            "Epoch 125/200\n",
            "15/15 [==============================] - 0s 26ms/step - loss: 0.0338 - accuracy: 0.9835 - val_loss: 2.1750 - val_accuracy: 0.8000\n",
            "Epoch 126/200\n",
            "15/15 [==============================] - 0s 25ms/step - loss: 0.0601 - accuracy: 0.9771 - val_loss: 2.3479 - val_accuracy: 0.6000\n",
            "Epoch 127/200\n",
            "15/15 [==============================] - 0s 25ms/step - loss: 0.0040 - accuracy: 1.0000 - val_loss: 2.5710 - val_accuracy: 0.6000\n",
            "Epoch 128/200\n",
            "15/15 [==============================] - 0s 25ms/step - loss: 0.0160 - accuracy: 0.9861 - val_loss: 2.6061 - val_accuracy: 0.6667\n",
            "Epoch 129/200\n",
            "15/15 [==============================] - 0s 25ms/step - loss: 0.0045 - accuracy: 1.0000 - val_loss: 2.7435 - val_accuracy: 0.7333\n",
            "Epoch 130/200\n",
            "15/15 [==============================] - 0s 24ms/step - loss: 0.0045 - accuracy: 1.0000 - val_loss: 2.8189 - val_accuracy: 0.7333\n",
            "Epoch 131/200\n",
            "15/15 [==============================] - 0s 24ms/step - loss: 0.0194 - accuracy: 0.9861 - val_loss: 3.1370 - val_accuracy: 0.6000\n",
            "Epoch 132/200\n",
            "15/15 [==============================] - 0s 25ms/step - loss: 0.0219 - accuracy: 1.0000 - val_loss: 3.5204 - val_accuracy: 0.6000\n",
            "Epoch 133/200\n",
            "15/15 [==============================] - 0s 25ms/step - loss: 7.3192e-04 - accuracy: 1.0000 - val_loss: 3.2806 - val_accuracy: 0.6000\n",
            "Epoch 134/200\n",
            "15/15 [==============================] - 0s 24ms/step - loss: 0.0069 - accuracy: 1.0000 - val_loss: 3.1479 - val_accuracy: 0.6667\n",
            "Epoch 135/200\n",
            "15/15 [==============================] - 0s 25ms/step - loss: 0.0136 - accuracy: 1.0000 - val_loss: 3.0308 - val_accuracy: 0.7333\n",
            "Epoch 136/200\n",
            "15/15 [==============================] - 0s 24ms/step - loss: 0.0071 - accuracy: 0.9941 - val_loss: 2.6268 - val_accuracy: 0.7333\n",
            "Epoch 137/200\n",
            "15/15 [==============================] - 0s 24ms/step - loss: 0.0439 - accuracy: 1.0000 - val_loss: 1.8736 - val_accuracy: 0.8000\n",
            "Epoch 138/200\n",
            "15/15 [==============================] - 0s 25ms/step - loss: 0.0305 - accuracy: 0.9805 - val_loss: 2.1503 - val_accuracy: 0.8000\n",
            "Epoch 139/200\n",
            "15/15 [==============================] - 0s 25ms/step - loss: 0.2346 - accuracy: 0.9295 - val_loss: 7.2970 - val_accuracy: 0.5333\n",
            "Epoch 140/200\n",
            "15/15 [==============================] - 0s 25ms/step - loss: 0.2358 - accuracy: 0.9534 - val_loss: 2.2646 - val_accuracy: 0.6667\n",
            "Epoch 141/200\n",
            "15/15 [==============================] - 0s 24ms/step - loss: 0.1730 - accuracy: 0.9200 - val_loss: 1.5283 - val_accuracy: 0.7333\n",
            "Epoch 142/200\n",
            "15/15 [==============================] - 0s 25ms/step - loss: 0.0066 - accuracy: 1.0000 - val_loss: 1.8116 - val_accuracy: 0.7333\n",
            "Epoch 143/200\n",
            "15/15 [==============================] - 0s 24ms/step - loss: 0.0128 - accuracy: 1.0000 - val_loss: 2.0661 - val_accuracy: 0.7333\n",
            "Epoch 144/200\n",
            "15/15 [==============================] - 0s 25ms/step - loss: 0.0084 - accuracy: 1.0000 - val_loss: 2.5877 - val_accuracy: 0.6667\n",
            "Epoch 145/200\n",
            "15/15 [==============================] - 0s 24ms/step - loss: 0.0229 - accuracy: 0.9861 - val_loss: 2.5123 - val_accuracy: 0.7333\n",
            "Epoch 146/200\n",
            "15/15 [==============================] - 0s 25ms/step - loss: 0.0160 - accuracy: 1.0000 - val_loss: 2.2114 - val_accuracy: 0.7333\n",
            "Epoch 147/200\n",
            "15/15 [==============================] - 0s 25ms/step - loss: 0.0189 - accuracy: 1.0000 - val_loss: 2.1986 - val_accuracy: 0.8000\n",
            "Epoch 148/200\n",
            "15/15 [==============================] - 0s 26ms/step - loss: 0.0078 - accuracy: 1.0000 - val_loss: 2.1237 - val_accuracy: 0.8000\n",
            "Epoch 149/200\n",
            "15/15 [==============================] - 0s 31ms/step - loss: 0.0036 - accuracy: 1.0000 - val_loss: 1.9721 - val_accuracy: 0.8000\n",
            "Epoch 150/200\n",
            "15/15 [==============================] - 0s 25ms/step - loss: 0.0385 - accuracy: 0.9771 - val_loss: 2.1448 - val_accuracy: 0.7333\n",
            "Epoch 151/200\n",
            "15/15 [==============================] - 0s 24ms/step - loss: 0.0455 - accuracy: 0.9655 - val_loss: 1.8744 - val_accuracy: 0.8000\n",
            "Epoch 152/200\n",
            "15/15 [==============================] - 0s 25ms/step - loss: 0.0124 - accuracy: 1.0000 - val_loss: 2.2601 - val_accuracy: 0.7333\n",
            "Epoch 153/200\n",
            "15/15 [==============================] - 0s 26ms/step - loss: 3.4103e-04 - accuracy: 1.0000 - val_loss: 2.4246 - val_accuracy: 0.7333\n",
            "Epoch 154/200\n",
            "15/15 [==============================] - 0s 24ms/step - loss: 0.0019 - accuracy: 1.0000 - val_loss: 2.4808 - val_accuracy: 0.7333\n",
            "Epoch 155/200\n",
            "15/15 [==============================] - 0s 25ms/step - loss: 0.0080 - accuracy: 1.0000 - val_loss: 2.0460 - val_accuracy: 0.7333\n",
            "Epoch 156/200\n",
            "15/15 [==============================] - 0s 25ms/step - loss: 0.0497 - accuracy: 0.9605 - val_loss: 2.0098 - val_accuracy: 0.7333\n",
            "Epoch 157/200\n",
            "15/15 [==============================] - 0s 25ms/step - loss: 0.0162 - accuracy: 1.0000 - val_loss: 1.6457 - val_accuracy: 0.8000\n",
            "Epoch 158/200\n",
            "15/15 [==============================] - 0s 25ms/step - loss: 0.0186 - accuracy: 1.0000 - val_loss: 2.1079 - val_accuracy: 0.8000\n",
            "Epoch 159/200\n",
            "15/15 [==============================] - 0s 24ms/step - loss: 1.2164e-04 - accuracy: 1.0000 - val_loss: 2.2912 - val_accuracy: 0.8000\n",
            "Epoch 160/200\n",
            "15/15 [==============================] - 0s 24ms/step - loss: 0.0136 - accuracy: 1.0000 - val_loss: 2.1254 - val_accuracy: 0.8000\n",
            "Epoch 161/200\n",
            "15/15 [==============================] - 0s 26ms/step - loss: 0.0257 - accuracy: 0.9941 - val_loss: 1.9592 - val_accuracy: 0.8000\n",
            "Epoch 162/200\n",
            "15/15 [==============================] - 0s 24ms/step - loss: 0.0237 - accuracy: 0.9884 - val_loss: 1.5814 - val_accuracy: 0.8000\n",
            "Epoch 163/200\n",
            "15/15 [==============================] - 0s 27ms/step - loss: 0.0075 - accuracy: 1.0000 - val_loss: 1.7402 - val_accuracy: 0.8000\n",
            "Epoch 164/200\n",
            "15/15 [==============================] - 0s 24ms/step - loss: 0.0064 - accuracy: 1.0000 - val_loss: 2.2217 - val_accuracy: 0.8000\n",
            "Epoch 165/200\n",
            "15/15 [==============================] - 0s 24ms/step - loss: 9.9337e-04 - accuracy: 1.0000 - val_loss: 2.5241 - val_accuracy: 0.7333\n",
            "Epoch 166/200\n",
            "15/15 [==============================] - 0s 26ms/step - loss: 0.0029 - accuracy: 1.0000 - val_loss: 2.5404 - val_accuracy: 0.7333\n",
            "Epoch 167/200\n",
            "15/15 [==============================] - 0s 24ms/step - loss: 0.0137 - accuracy: 0.9884 - val_loss: 2.2883 - val_accuracy: 0.7333\n",
            "Epoch 168/200\n",
            "15/15 [==============================] - 0s 27ms/step - loss: 0.0963 - accuracy: 0.9835 - val_loss: 1.9480 - val_accuracy: 0.7333\n",
            "Epoch 169/200\n",
            "15/15 [==============================] - 0s 26ms/step - loss: 0.0077 - accuracy: 1.0000 - val_loss: 2.1055 - val_accuracy: 0.8000\n",
            "Epoch 170/200\n",
            "15/15 [==============================] - 0s 24ms/step - loss: 0.0177 - accuracy: 1.0000 - val_loss: 2.8652 - val_accuracy: 0.6667\n",
            "Epoch 171/200\n",
            "15/15 [==============================] - 0s 24ms/step - loss: 0.0051 - accuracy: 1.0000 - val_loss: 3.5526 - val_accuracy: 0.5333\n",
            "Epoch 172/200\n",
            "15/15 [==============================] - 0s 25ms/step - loss: 0.0017 - accuracy: 1.0000 - val_loss: 3.6188 - val_accuracy: 0.5333\n",
            "Epoch 173/200\n",
            "15/15 [==============================] - 0s 25ms/step - loss: 0.0275 - accuracy: 0.9677 - val_loss: 3.2465 - val_accuracy: 0.6667\n",
            "Epoch 174/200\n",
            "15/15 [==============================] - 1s 34ms/step - loss: 0.0125 - accuracy: 1.0000 - val_loss: 3.4397 - val_accuracy: 0.6667\n",
            "Epoch 175/200\n",
            "15/15 [==============================] - 0s 25ms/step - loss: 0.0275 - accuracy: 0.9941 - val_loss: 3.3681 - val_accuracy: 0.6667\n",
            "Epoch 176/200\n",
            "15/15 [==============================] - 0s 25ms/step - loss: 0.0055 - accuracy: 1.0000 - val_loss: 2.8740 - val_accuracy: 0.8000\n",
            "Epoch 177/200\n",
            "15/15 [==============================] - 0s 25ms/step - loss: 0.0016 - accuracy: 1.0000 - val_loss: 3.1554 - val_accuracy: 0.7333\n",
            "Epoch 178/200\n",
            "15/15 [==============================] - 1s 34ms/step - loss: 5.2439e-04 - accuracy: 1.0000 - val_loss: 3.2079 - val_accuracy: 0.7333\n",
            "Epoch 179/200\n",
            "15/15 [==============================] - 0s 25ms/step - loss: 0.0183 - accuracy: 0.9972 - val_loss: 3.0954 - val_accuracy: 0.7333\n",
            "Epoch 180/200\n",
            "15/15 [==============================] - 0s 24ms/step - loss: 0.0031 - accuracy: 1.0000 - val_loss: 2.6392 - val_accuracy: 0.8000\n",
            "Epoch 181/200\n",
            "15/15 [==============================] - 0s 25ms/step - loss: 0.0171 - accuracy: 1.0000 - val_loss: 2.5274 - val_accuracy: 0.8000\n",
            "Epoch 182/200\n",
            "15/15 [==============================] - 0s 25ms/step - loss: 0.0014 - accuracy: 1.0000 - val_loss: 2.5609 - val_accuracy: 0.8000\n",
            "Epoch 183/200\n",
            "15/15 [==============================] - 0s 27ms/step - loss: 0.0079 - accuracy: 1.0000 - val_loss: 2.6464 - val_accuracy: 0.7333\n",
            "Epoch 184/200\n",
            "15/15 [==============================] - 0s 26ms/step - loss: 0.0067 - accuracy: 1.0000 - val_loss: 2.7970 - val_accuracy: 0.7333\n",
            "Epoch 185/200\n",
            "15/15 [==============================] - 0s 26ms/step - loss: 0.0143 - accuracy: 0.9941 - val_loss: 2.9703 - val_accuracy: 0.7333\n",
            "Epoch 186/200\n",
            "15/15 [==============================] - 0s 27ms/step - loss: 0.0176 - accuracy: 0.9941 - val_loss: 2.7320 - val_accuracy: 0.8000\n",
            "Epoch 187/200\n",
            "15/15 [==============================] - 0s 26ms/step - loss: 0.0191 - accuracy: 1.0000 - val_loss: 2.9553 - val_accuracy: 0.6000\n",
            "Epoch 188/200\n",
            "15/15 [==============================] - 0s 25ms/step - loss: 0.0171 - accuracy: 1.0000 - val_loss: 2.7045 - val_accuracy: 0.7333\n",
            "Epoch 189/200\n",
            "15/15 [==============================] - 0s 26ms/step - loss: 0.0210 - accuracy: 1.0000 - val_loss: 2.6772 - val_accuracy: 0.7333\n",
            "Epoch 190/200\n",
            "15/15 [==============================] - 0s 26ms/step - loss: 0.0037 - accuracy: 1.0000 - val_loss: 2.5876 - val_accuracy: 0.7333\n",
            "Epoch 191/200\n",
            "15/15 [==============================] - 0s 26ms/step - loss: 0.0049 - accuracy: 1.0000 - val_loss: 2.2198 - val_accuracy: 0.8000\n",
            "Epoch 192/200\n",
            "15/15 [==============================] - 0s 25ms/step - loss: 5.3275e-04 - accuracy: 1.0000 - val_loss: 2.1810 - val_accuracy: 0.8000\n",
            "Epoch 193/200\n",
            "15/15 [==============================] - 0s 28ms/step - loss: 0.1855 - accuracy: 0.9606 - val_loss: 1.9067 - val_accuracy: 0.8000\n",
            "Epoch 194/200\n",
            "15/15 [==============================] - 0s 29ms/step - loss: 0.0049 - accuracy: 1.0000 - val_loss: 3.4958 - val_accuracy: 0.5333\n",
            "Epoch 195/200\n",
            "15/15 [==============================] - 0s 26ms/step - loss: 0.0820 - accuracy: 0.9295 - val_loss: 3.9676 - val_accuracy: 0.6000\n",
            "Epoch 196/200\n",
            "15/15 [==============================] - 0s 26ms/step - loss: 0.0057 - accuracy: 1.0000 - val_loss: 3.9395 - val_accuracy: 0.6000\n",
            "Epoch 197/200\n",
            "15/15 [==============================] - 0s 26ms/step - loss: 0.0183 - accuracy: 0.9924 - val_loss: 2.9166 - val_accuracy: 0.7333\n",
            "Epoch 198/200\n",
            "15/15 [==============================] - 0s 26ms/step - loss: 0.0448 - accuracy: 0.9924 - val_loss: 2.0740 - val_accuracy: 0.8000\n",
            "Epoch 199/200\n",
            "15/15 [==============================] - 0s 27ms/step - loss: 0.0170 - accuracy: 0.9924 - val_loss: 1.9512 - val_accuracy: 0.8000\n",
            "Epoch 200/200\n",
            "15/15 [==============================] - 0s 26ms/step - loss: 0.0051 - accuracy: 1.0000 - val_loss: 2.1825 - val_accuracy: 0.7333\n"
          ],
          "name": "stdout"
        },
        {
          "output_type": "execute_result",
          "data": {
            "text/plain": [
              "<tensorflow.python.keras.callbacks.History at 0x7fa25c738438>"
            ]
          },
          "metadata": {
            "tags": []
          },
          "execution_count": 12
        }
      ]
    },
    {
      "cell_type": "markdown",
      "metadata": {
        "id": "eqjfdi3thaDo"
      },
      "source": [
        "### 모델 평가"
      ]
    },
    {
      "cell_type": "code",
      "metadata": {
        "colab": {
          "base_uri": "https://localhost:8080/"
        },
        "id": "bN-J822phQUH",
        "outputId": "ad68ce97-3a2c-4272-e73e-967d8bbadfc2"
      },
      "source": [
        "print(\"-- Evaluate --\")\r\n",
        "scores = model.evaluate_generator(test_generator, steps=5)\r\n",
        "print(\"%s: %.2f%%\" %(model.metrics_names[1], scores[1]*100))"
      ],
      "execution_count": 13,
      "outputs": [
        {
          "output_type": "stream",
          "text": [
            "-- Evaluate --\n",
            "accuracy: 73.33%\n"
          ],
          "name": "stdout"
        },
        {
          "output_type": "stream",
          "text": [
            "/usr/local/lib/python3.6/dist-packages/tensorflow/python/keras/engine/training.py:1877: UserWarning: `Model.evaluate_generator` is deprecated and will be removed in a future version. Please use `Model.evaluate`, which supports generators.\n",
            "  warnings.warn('`Model.evaluate_generator` is deprecated and '\n"
          ],
          "name": "stderr"
        }
      ]
    },
    {
      "cell_type": "code",
      "metadata": {
        "id": "GEPaDkWvhlnv"
      },
      "source": [
        ""
      ],
      "execution_count": null,
      "outputs": []
    }
  ]
}