{
  "nbformat": 4,
  "nbformat_minor": 0,
  "metadata": {
    "colab": {
      "name": "41_다각형분류_CNN.ipynb",
      "provenance": [],
      "collapsed_sections": []
    },
    "kernelspec": {
      "name": "python3",
      "display_name": "Python 3"
    }
  },
  "cells": [
    {
      "cell_type": "markdown",
      "metadata": {
        "id": "qTtkAC0hcGpi"
      },
      "source": [
        "# 다각형 구분하기"
      ]
    },
    {
      "cell_type": "code",
      "metadata": {
        "id": "zay_1ssmbxaa"
      },
      "source": [
        "!unzip -qq handwriting_shape.zip -d handwriting_shape"
      ],
      "execution_count": 1,
      "outputs": []
    },
    {
      "cell_type": "code",
      "metadata": {
        "id": "WFtQ2RG-cmP4"
      },
      "source": [
        "!unzip -qq hard_handwriting_shape.zip -d hard_handwriting_shape"
      ],
      "execution_count": 2,
      "outputs": []
    },
    {
      "cell_type": "markdown",
      "metadata": {
        "id": "UcShWldodN8J"
      },
      "source": [
        "## 1. CNN 모델"
      ]
    },
    {
      "cell_type": "code",
      "metadata": {
        "id": "3kp69aJAc7CQ"
      },
      "source": [
        "import numpy as np\r\n",
        "import tensorflow as tf\r\n",
        "from tensorflow.keras.models import Sequential\r\n",
        "from tensorflow.keras.layers import Dense, Flatten, Conv2D, MaxPooling2D\r\n",
        "from tensorflow.keras.preprocessing.image import ImageDataGenerator"
      ],
      "execution_count": 3,
      "outputs": []
    },
    {
      "cell_type": "code",
      "metadata": {
        "id": "xD6jps5idv6q"
      },
      "source": [
        "# seed 값 설정\r\n",
        "seed = 2021\r\n",
        "np.random.seed(seed)\r\n",
        "tf.random.set_seed(seed)"
      ],
      "execution_count": 4,
      "outputs": []
    },
    {
      "cell_type": "markdown",
      "metadata": {
        "id": "gsDJrmyId5xQ"
      },
      "source": [
        "### 데이터셋 생성하기"
      ]
    },
    {
      "cell_type": "code",
      "metadata": {
        "colab": {
          "base_uri": "https://localhost:8080/"
        },
        "id": "uvlsbLcbd44Y",
        "outputId": "d3b07d37-1022-42b8-89d7-0b3bc7c4b152"
      },
      "source": [
        "train_datagen = ImageDataGenerator(rescale=1./255)\r\n",
        "train_generator = train_datagen.flow_from_directory(\r\n",
        "    'handwriting_shape/train', \r\n",
        "    target_size=(24, 24),\r\n",
        "    batch_size=3,\r\n",
        "    class_mode='categorical'\r\n",
        ")"
      ],
      "execution_count": 5,
      "outputs": [
        {
          "output_type": "stream",
          "text": [
            "Found 45 images belonging to 3 classes.\n"
          ],
          "name": "stdout"
        }
      ]
    },
    {
      "cell_type": "code",
      "metadata": {
        "colab": {
          "base_uri": "https://localhost:8080/"
        },
        "id": "SxI0qTv5ebyT",
        "outputId": "5ae9bcde-820b-46d1-8185-c1a99fa8dbd0"
      },
      "source": [
        "!ls handwriting_shape/train"
      ],
      "execution_count": 6,
      "outputs": [
        {
          "output_type": "stream",
          "text": [
            "circle\trectangle  triangle\n"
          ],
          "name": "stdout"
        }
      ]
    },
    {
      "cell_type": "code",
      "metadata": {
        "colab": {
          "base_uri": "https://localhost:8080/"
        },
        "id": "e9mbDwXSehL4",
        "outputId": "dc785b2f-15eb-4270-eb2a-5e4600ac4490"
      },
      "source": [
        "test_datagen = ImageDataGenerator(rescale=1./255)\r\n",
        "test_generator = test_datagen.flow_from_directory(\r\n",
        "    'handwriting_shape/test', \r\n",
        "    target_size=(24, 24),\r\n",
        "    batch_size=3,\r\n",
        "    class_mode='categorical'\r\n",
        ")"
      ],
      "execution_count": 7,
      "outputs": [
        {
          "output_type": "stream",
          "text": [
            "Found 15 images belonging to 3 classes.\n"
          ],
          "name": "stdout"
        }
      ]
    },
    {
      "cell_type": "code",
      "metadata": {
        "colab": {
          "base_uri": "https://localhost:8080/"
        },
        "id": "r6kYWJSresSI",
        "outputId": "abe2eb66-e703-452c-d197-585be9c9ab43"
      },
      "source": [
        "train_generator.labels"
      ],
      "execution_count": 8,
      "outputs": [
        {
          "output_type": "execute_result",
          "data": {
            "text/plain": [
              "array([0, 0, 0, 0, 0, 0, 0, 0, 0, 0, 0, 0, 0, 0, 0, 1, 1, 1, 1, 1, 1, 1,\n",
              "       1, 1, 1, 1, 1, 1, 1, 1, 2, 2, 2, 2, 2, 2, 2, 2, 2, 2, 2, 2, 2, 2,\n",
              "       2], dtype=int32)"
            ]
          },
          "metadata": {
            "tags": []
          },
          "execution_count": 8
        }
      ]
    },
    {
      "cell_type": "code",
      "metadata": {
        "colab": {
          "base_uri": "https://localhost:8080/",
          "height": 35
        },
        "id": "P5GSlYJre0ip",
        "outputId": "edfebd09-7da0-40fc-a1c2-7a16076d3f8a"
      },
      "source": [
        "train_generator.filenames[0]"
      ],
      "execution_count": 9,
      "outputs": [
        {
          "output_type": "execute_result",
          "data": {
            "application/vnd.google.colaboratory.intrinsic+json": {
              "type": "string"
            },
            "text/plain": [
              "'circle/circle001.png'"
            ]
          },
          "metadata": {
            "tags": []
          },
          "execution_count": 9
        }
      ]
    },
    {
      "cell_type": "markdown",
      "metadata": {
        "id": "G5tDaboPfJ6Z"
      },
      "source": [
        "### 모델 정의/설정/학습"
      ]
    },
    {
      "cell_type": "code",
      "metadata": {
        "colab": {
          "base_uri": "https://localhost:8080/"
        },
        "id": "i6VSrS-Ie9PB",
        "outputId": "4292de5c-9aec-4fd7-bf58-763dad688b16"
      },
      "source": [
        "model = Sequential()\r\n",
        "model.add(Conv2D(32, kernel_size=(3, 3),\r\n",
        "                 activation='relu',\r\n",
        "                 input_shape=(24, 24, 3)))\r\n",
        "model.add(Conv2D(64, (3, 3), activation='relu'))\r\n",
        "model.add(MaxPooling2D(pool_size=(2, 2)))\r\n",
        "model.add(Flatten())\r\n",
        "model.add(Dense(128, activation='relu'))\r\n",
        "model.add(Dense(3, activation='softmax'))\r\n",
        "model.summary()"
      ],
      "execution_count": 11,
      "outputs": [
        {
          "output_type": "stream",
          "text": [
            "Model: \"sequential_1\"\n",
            "_________________________________________________________________\n",
            "Layer (type)                 Output Shape              Param #   \n",
            "=================================================================\n",
            "conv2d_2 (Conv2D)            (None, 22, 22, 32)        896       \n",
            "_________________________________________________________________\n",
            "conv2d_3 (Conv2D)            (None, 20, 20, 64)        18496     \n",
            "_________________________________________________________________\n",
            "max_pooling2d_1 (MaxPooling2 (None, 10, 10, 64)        0         \n",
            "_________________________________________________________________\n",
            "flatten_1 (Flatten)          (None, 6400)              0         \n",
            "_________________________________________________________________\n",
            "dense_2 (Dense)              (None, 128)               819328    \n",
            "_________________________________________________________________\n",
            "dense_3 (Dense)              (None, 3)                 387       \n",
            "=================================================================\n",
            "Total params: 839,107\n",
            "Trainable params: 839,107\n",
            "Non-trainable params: 0\n",
            "_________________________________________________________________\n"
          ],
          "name": "stdout"
        }
      ]
    },
    {
      "cell_type": "code",
      "metadata": {
        "id": "aJvs2aJegE3q"
      },
      "source": [
        "model.compile(loss='categorical_crossentropy',\r\n",
        "              optimizer='adam', metrics=['accuracy'])"
      ],
      "execution_count": 12,
      "outputs": []
    },
    {
      "cell_type": "markdown",
      "metadata": {
        "id": "R0eUhFzkgst4"
      },
      "source": [
        "### 모델 학습시키기\r\n",
        "- 첫번째 인자 : 훈련데이터셋을 제공할 제네레이터를 지정합니다. 본 예제에서는 앞서 생성한 train_generator으로 지정합니다.\r\n",
        "- steps_per_epoch : 한 epoch에 사용한 스텝 수를 지정합니다. 총 45개의 훈련 샘플이 있고 배치사이즈가 3이므로 15 스텝으로 지정.\r\n",
        "- epochs : 전체 훈련 데이터셋에 대해 학습 반복 횟수를 지정.\r\n",
        "- validation_data : 검증데이터셋을 제공할 제네레이터를 지정합니다. 본 예제에서는 앞서 생성한 test_generator으로 지정.\r\n",
        "- validation_steps : 한 epoch 종료 시 마다 검증할 때 사용되는 검증 스텝 수를 지정. 홍 15개의 검증 샘플이 있고 배치사이즈가 3이므로 5 스텝으로 지정."
      ]
    },
    {
      "cell_type": "code",
      "metadata": {
        "colab": {
          "base_uri": "https://localhost:8080/"
        },
        "id": "KfCGLlcbgk64",
        "outputId": "40ef6a23-4e6b-436d-8cb7-8180836d777d"
      },
      "source": [
        "model.fit_generator(\r\n",
        "        train_generator,\r\n",
        "        steps_per_epoch=15,\r\n",
        "        epochs=50,\r\n",
        "        validation_data=test_generator,\r\n",
        "        validation_steps=5)"
      ],
      "execution_count": 13,
      "outputs": [
        {
          "output_type": "stream",
          "text": [
            "/usr/local/lib/python3.6/dist-packages/tensorflow/python/keras/engine/training.py:1844: UserWarning: `Model.fit_generator` is deprecated and will be removed in a future version. Please use `Model.fit`, which supports generators.\n",
            "  warnings.warn('`Model.fit_generator` is deprecated and '\n"
          ],
          "name": "stderr"
        },
        {
          "output_type": "stream",
          "text": [
            "Epoch 1/50\n",
            "15/15 [==============================] - 1s 51ms/step - loss: 1.1163 - accuracy: 0.4720 - val_loss: 0.7525 - val_accuracy: 0.5333\n",
            "Epoch 2/50\n",
            "15/15 [==============================] - 0s 31ms/step - loss: 0.4140 - accuracy: 0.7721 - val_loss: 0.2007 - val_accuracy: 0.9333\n",
            "Epoch 3/50\n",
            "15/15 [==============================] - 0s 22ms/step - loss: 0.0301 - accuracy: 1.0000 - val_loss: 0.0792 - val_accuracy: 1.0000\n",
            "Epoch 4/50\n",
            "15/15 [==============================] - 0s 22ms/step - loss: 0.0401 - accuracy: 1.0000 - val_loss: 0.1310 - val_accuracy: 0.9333\n",
            "Epoch 5/50\n",
            "15/15 [==============================] - 0s 22ms/step - loss: 0.0046 - accuracy: 1.0000 - val_loss: 0.0196 - val_accuracy: 1.0000\n",
            "Epoch 6/50\n",
            "15/15 [==============================] - 0s 22ms/step - loss: 0.0019 - accuracy: 1.0000 - val_loss: 0.0297 - val_accuracy: 1.0000\n",
            "Epoch 7/50\n",
            "15/15 [==============================] - 0s 22ms/step - loss: 2.9936e-04 - accuracy: 1.0000 - val_loss: 0.0453 - val_accuracy: 1.0000\n",
            "Epoch 8/50\n",
            "15/15 [==============================] - 0s 22ms/step - loss: 2.7746e-04 - accuracy: 1.0000 - val_loss: 0.0549 - val_accuracy: 0.9333\n",
            "Epoch 9/50\n",
            "15/15 [==============================] - 0s 23ms/step - loss: 1.0456e-04 - accuracy: 1.0000 - val_loss: 0.0547 - val_accuracy: 0.9333\n",
            "Epoch 10/50\n",
            "15/15 [==============================] - 0s 33ms/step - loss: 1.4239e-04 - accuracy: 1.0000 - val_loss: 0.0481 - val_accuracy: 1.0000\n",
            "Epoch 11/50\n",
            "15/15 [==============================] - 0s 21ms/step - loss: 1.1698e-04 - accuracy: 1.0000 - val_loss: 0.0504 - val_accuracy: 1.0000\n",
            "Epoch 12/50\n",
            "15/15 [==============================] - 0s 29ms/step - loss: 1.0407e-04 - accuracy: 1.0000 - val_loss: 0.0525 - val_accuracy: 1.0000\n",
            "Epoch 13/50\n",
            "15/15 [==============================] - 0s 23ms/step - loss: 1.0284e-04 - accuracy: 1.0000 - val_loss: 0.0525 - val_accuracy: 1.0000\n",
            "Epoch 14/50\n",
            "15/15 [==============================] - 0s 22ms/step - loss: 5.6462e-05 - accuracy: 1.0000 - val_loss: 0.0506 - val_accuracy: 1.0000\n",
            "Epoch 15/50\n",
            "15/15 [==============================] - 0s 22ms/step - loss: 5.5904e-05 - accuracy: 1.0000 - val_loss: 0.0464 - val_accuracy: 1.0000\n",
            "Epoch 16/50\n",
            "15/15 [==============================] - 0s 22ms/step - loss: 7.7855e-05 - accuracy: 1.0000 - val_loss: 0.0484 - val_accuracy: 1.0000\n",
            "Epoch 17/50\n",
            "15/15 [==============================] - 0s 23ms/step - loss: 5.5977e-05 - accuracy: 1.0000 - val_loss: 0.0545 - val_accuracy: 1.0000\n",
            "Epoch 18/50\n",
            "15/15 [==============================] - 0s 22ms/step - loss: 4.1405e-05 - accuracy: 1.0000 - val_loss: 0.0477 - val_accuracy: 1.0000\n",
            "Epoch 19/50\n",
            "15/15 [==============================] - 0s 23ms/step - loss: 3.5956e-05 - accuracy: 1.0000 - val_loss: 0.0578 - val_accuracy: 1.0000\n",
            "Epoch 20/50\n",
            "15/15 [==============================] - 0s 22ms/step - loss: 3.0959e-05 - accuracy: 1.0000 - val_loss: 0.0525 - val_accuracy: 1.0000\n",
            "Epoch 21/50\n",
            "15/15 [==============================] - 0s 23ms/step - loss: 2.6172e-05 - accuracy: 1.0000 - val_loss: 0.0585 - val_accuracy: 1.0000\n",
            "Epoch 22/50\n",
            "15/15 [==============================] - 0s 24ms/step - loss: 2.0909e-05 - accuracy: 1.0000 - val_loss: 0.0536 - val_accuracy: 1.0000\n",
            "Epoch 23/50\n",
            "15/15 [==============================] - 0s 22ms/step - loss: 2.5510e-05 - accuracy: 1.0000 - val_loss: 0.0606 - val_accuracy: 0.9333\n",
            "Epoch 24/50\n",
            "15/15 [==============================] - 0s 23ms/step - loss: 1.7269e-05 - accuracy: 1.0000 - val_loss: 0.0636 - val_accuracy: 0.9333\n",
            "Epoch 25/50\n",
            "15/15 [==============================] - 0s 22ms/step - loss: 1.7287e-05 - accuracy: 1.0000 - val_loss: 0.0585 - val_accuracy: 1.0000\n",
            "Epoch 26/50\n",
            "15/15 [==============================] - 0s 22ms/step - loss: 1.6716e-05 - accuracy: 1.0000 - val_loss: 0.0563 - val_accuracy: 1.0000\n",
            "Epoch 27/50\n",
            "15/15 [==============================] - 0s 23ms/step - loss: 1.6335e-05 - accuracy: 1.0000 - val_loss: 0.0598 - val_accuracy: 1.0000\n",
            "Epoch 28/50\n",
            "15/15 [==============================] - 0s 22ms/step - loss: 1.6255e-05 - accuracy: 1.0000 - val_loss: 0.0658 - val_accuracy: 0.9333\n",
            "Epoch 29/50\n",
            "15/15 [==============================] - 0s 23ms/step - loss: 9.0337e-06 - accuracy: 1.0000 - val_loss: 0.0692 - val_accuracy: 0.9333\n",
            "Epoch 30/50\n",
            "15/15 [==============================] - 0s 23ms/step - loss: 1.1735e-05 - accuracy: 1.0000 - val_loss: 0.0574 - val_accuracy: 1.0000\n",
            "Epoch 31/50\n",
            "15/15 [==============================] - 0s 24ms/step - loss: 8.6271e-06 - accuracy: 1.0000 - val_loss: 0.0621 - val_accuracy: 0.9333\n",
            "Epoch 32/50\n",
            "15/15 [==============================] - 0s 22ms/step - loss: 1.0087e-05 - accuracy: 1.0000 - val_loss: 0.0633 - val_accuracy: 0.9333\n",
            "Epoch 33/50\n",
            "15/15 [==============================] - 0s 23ms/step - loss: 1.1857e-05 - accuracy: 1.0000 - val_loss: 0.0683 - val_accuracy: 0.9333\n",
            "Epoch 34/50\n",
            "15/15 [==============================] - 0s 23ms/step - loss: 6.0825e-06 - accuracy: 1.0000 - val_loss: 0.0703 - val_accuracy: 0.9333\n",
            "Epoch 35/50\n",
            "15/15 [==============================] - 0s 24ms/step - loss: 5.9193e-06 - accuracy: 1.0000 - val_loss: 0.0676 - val_accuracy: 0.9333\n",
            "Epoch 36/50\n",
            "15/15 [==============================] - 0s 23ms/step - loss: 5.8409e-06 - accuracy: 1.0000 - val_loss: 0.0676 - val_accuracy: 0.9333\n",
            "Epoch 37/50\n",
            "15/15 [==============================] - 0s 23ms/step - loss: 7.5059e-06 - accuracy: 1.0000 - val_loss: 0.0767 - val_accuracy: 0.9333\n",
            "Epoch 38/50\n",
            "15/15 [==============================] - 0s 22ms/step - loss: 8.9822e-06 - accuracy: 1.0000 - val_loss: 0.0720 - val_accuracy: 0.9333\n",
            "Epoch 39/50\n",
            "15/15 [==============================] - 0s 23ms/step - loss: 6.2970e-06 - accuracy: 1.0000 - val_loss: 0.0654 - val_accuracy: 0.9333\n",
            "Epoch 40/50\n",
            "15/15 [==============================] - 0s 23ms/step - loss: 5.2467e-06 - accuracy: 1.0000 - val_loss: 0.0653 - val_accuracy: 0.9333\n",
            "Epoch 41/50\n",
            "15/15 [==============================] - 0s 25ms/step - loss: 5.2056e-06 - accuracy: 1.0000 - val_loss: 0.0711 - val_accuracy: 0.9333\n",
            "Epoch 42/50\n",
            "15/15 [==============================] - 0s 24ms/step - loss: 4.2737e-06 - accuracy: 1.0000 - val_loss: 0.0820 - val_accuracy: 0.9333\n",
            "Epoch 43/50\n",
            "15/15 [==============================] - 0s 23ms/step - loss: 4.5410e-06 - accuracy: 1.0000 - val_loss: 0.0763 - val_accuracy: 0.9333\n",
            "Epoch 44/50\n",
            "15/15 [==============================] - 0s 24ms/step - loss: 4.1664e-06 - accuracy: 1.0000 - val_loss: 0.0743 - val_accuracy: 0.9333\n",
            "Epoch 45/50\n",
            "15/15 [==============================] - 0s 24ms/step - loss: 2.8133e-06 - accuracy: 1.0000 - val_loss: 0.0846 - val_accuracy: 0.9333\n",
            "Epoch 46/50\n",
            "15/15 [==============================] - 0s 24ms/step - loss: 3.0828e-06 - accuracy: 1.0000 - val_loss: 0.0920 - val_accuracy: 0.9333\n",
            "Epoch 47/50\n",
            "15/15 [==============================] - 0s 23ms/step - loss: 3.6103e-06 - accuracy: 1.0000 - val_loss: 0.0933 - val_accuracy: 0.9333\n",
            "Epoch 48/50\n",
            "15/15 [==============================] - 0s 24ms/step - loss: 3.2548e-06 - accuracy: 1.0000 - val_loss: 0.0914 - val_accuracy: 0.9333\n",
            "Epoch 49/50\n",
            "15/15 [==============================] - 0s 25ms/step - loss: 2.7019e-06 - accuracy: 1.0000 - val_loss: 0.0940 - val_accuracy: 0.9333\n",
            "Epoch 50/50\n",
            "15/15 [==============================] - 0s 23ms/step - loss: 2.4968e-06 - accuracy: 1.0000 - val_loss: 0.0932 - val_accuracy: 0.9333\n"
          ],
          "name": "stdout"
        },
        {
          "output_type": "execute_result",
          "data": {
            "text/plain": [
              "<tensorflow.python.keras.callbacks.History at 0x7fd6372e7ba8>"
            ]
          },
          "metadata": {
            "tags": []
          },
          "execution_count": 13
        }
      ]
    },
    {
      "cell_type": "markdown",
      "metadata": {
        "id": "eqjfdi3thaDo"
      },
      "source": [
        "### 모델 평가"
      ]
    },
    {
      "cell_type": "code",
      "metadata": {
        "colab": {
          "base_uri": "https://localhost:8080/"
        },
        "id": "bN-J822phQUH",
        "outputId": "2279a25b-0725-4dec-dc7a-269b0681c558"
      },
      "source": [
        "print(\"-- Evaluate --\")\r\n",
        "scores = model.evaluate_generator(test_generator, steps=5)\r\n",
        "print(\"%s: %.2f%%\" %(model.metrics_names[1], scores[1]*100))"
      ],
      "execution_count": 15,
      "outputs": [
        {
          "output_type": "stream",
          "text": [
            "-- Evaluate --\n",
            "accuracy: 93.33%\n"
          ],
          "name": "stdout"
        },
        {
          "output_type": "stream",
          "text": [
            "/usr/local/lib/python3.6/dist-packages/tensorflow/python/keras/engine/training.py:1877: UserWarning: `Model.evaluate_generator` is deprecated and will be removed in a future version. Please use `Model.evaluate`, which supports generators.\n",
            "  warnings.warn('`Model.evaluate_generator` is deprecated and '\n"
          ],
          "name": "stderr"
        }
      ]
    },
    {
      "cell_type": "code",
      "metadata": {
        "id": "GEPaDkWvhlnv"
      },
      "source": [
        ""
      ],
      "execution_count": null,
      "outputs": []
    }
  ]
}