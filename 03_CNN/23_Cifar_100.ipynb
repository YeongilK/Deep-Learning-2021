{
  "nbformat": 4,
  "nbformat_minor": 0,
  "metadata": {
    "colab": {
      "name": "23_Cifar_100.ipynb",
      "provenance": [],
      "collapsed_sections": []
    },
    "kernelspec": {
      "name": "python3",
      "display_name": "Python 3"
    },
    "accelerator": "GPU"
  },
  "cells": [
    {
      "cell_type": "markdown",
      "metadata": {
        "id": "mzB3SYnJ8iDw"
      },
      "source": [
        "# Cifar-100 이미지 분류"
      ]
    },
    {
      "cell_type": "code",
      "metadata": {
        "id": "8YNTw1Zd8fxz"
      },
      "source": [
        "import tensorflow as tf\r\n",
        "from tensorflow.keras.datasets import cifar100\r\n",
        "from tensorflow.keras.preprocessing.image import ImageDataGenerator\r\n",
        "from tensorflow.keras.models import Sequential\r\n",
        "from tensorflow.keras.layers import Dense, Dropout, Activation, Flatten\r\n",
        "from tensorflow.keras.layers import Conv2D, MaxPooling2D\r\n",
        "import os\r\n",
        "import numpy as np"
      ],
      "execution_count": 1,
      "outputs": []
    },
    {
      "cell_type": "code",
      "metadata": {
        "id": "gPhzjGvK8jwZ"
      },
      "source": [
        "# seed 값 설정\r\n",
        "seed = 2021\r\n",
        "np.random.seed(seed)\r\n",
        "tf.random.set_seed(seed)"
      ],
      "execution_count": 2,
      "outputs": []
    },
    {
      "cell_type": "code",
      "metadata": {
        "id": "QgMzoUKL9Mdy"
      },
      "source": [
        "# 나중에 지정될 변수의 값을 미리 세팅\r\n",
        "BATCH_SIZE = 32\r\n",
        "NUM_CLASSES = 100\r\n",
        "EPOCHS = 100\r\n",
        "DATA_AUGMENTATION = True\r\n",
        "NUM_PREDICTIONS = 20\r\n",
        "SAVE_DIR = os.path.join(os.getcwd(), 'model')"
      ],
      "execution_count": 3,
      "outputs": []
    },
    {
      "cell_type": "code",
      "metadata": {
        "colab": {
          "base_uri": "https://localhost:8080/"
        },
        "id": "2QFZXL-t9ZZI",
        "outputId": "aeaf38d5-308a-4a03-fb80-a689f602ccec"
      },
      "source": [
        "# The data, split between train and test sets:\r\n",
        "(X_train, y_train), (X_test, y_test) = cifar100.load_data(label_mode='fine')\r\n",
        "print('X_train sahpe:', X_train.shape)\r\n",
        "print('X_test sahpe:', X_test.shape)"
      ],
      "execution_count": 4,
      "outputs": [
        {
          "output_type": "stream",
          "text": [
            "Downloading data from https://www.cs.toronto.edu/~kriz/cifar-100-python.tar.gz\n",
            "169009152/169001437 [==============================] - 11s 0us/step\n",
            "X_train sahpe: (50000, 32, 32, 3)\n",
            "X_test sahpe: (10000, 32, 32, 3)\n"
          ],
          "name": "stdout"
        }
      ]
    },
    {
      "cell_type": "code",
      "metadata": {
        "id": "9gc3duHRObdQ"
      },
      "source": [
        "CIFAR100_LABELS = [\r\n",
        "    'apple', 'aquarium_fish', 'baby', 'bear', 'beaver', 'bed', 'bee', 'beetle', \r\n",
        "    'bicycle', 'bottle', 'bowl', 'boy', 'bridge', 'bus', 'butterfly', 'camel', \r\n",
        "    'can', 'castle', 'caterpillar', 'cattle', 'chair', 'chimpanzee', 'clock', \r\n",
        "    'cloud', 'cockroach', 'couch', 'crab', 'crocodile', 'cup', 'dinosaur', \r\n",
        "    'dolphin', 'elephant', 'flatfish', 'forest', 'fox', 'girl', 'hamster', \r\n",
        "    'house', 'kangaroo', 'keyboard', 'lamp', 'lawn_mower', 'leopard', 'lion',\r\n",
        "    'lizard', 'lobster', 'man', 'maple_tree', 'motorcycle', 'mountain', 'mouse',\r\n",
        "    'mushroom', 'oak_tree', 'orange', 'orchid', 'otter', 'palm_tree', 'pear',\r\n",
        "    'pickup_truck', 'pine_tree', 'plain', 'plate', 'poppy', 'porcupine',\r\n",
        "    'possum', 'rabbit', 'raccoon', 'ray', 'road', 'rocket', 'rose',\r\n",
        "    'sea', 'seal', 'shark', 'shrew', 'skunk', 'skyscraper', 'snail', 'snake',\r\n",
        "    'spider', 'squirrel', 'streetcar', 'sunflower', 'sweet_pepper', 'table',\r\n",
        "    'tank', 'telephone', 'television', 'tiger', 'tractor', 'train', 'trout',\r\n",
        "    'tulip', 'turtle', 'wardrobe', 'whale', 'willow_tree', 'wolf', 'woman',\r\n",
        "    'worm'\r\n",
        "]"
      ],
      "execution_count": 5,
      "outputs": []
    },
    {
      "cell_type": "markdown",
      "metadata": {
        "id": "JPL49VlML_DZ"
      },
      "source": [
        "### 데이터 확인"
      ]
    },
    {
      "cell_type": "code",
      "metadata": {
        "colab": {
          "base_uri": "https://localhost:8080/",
          "height": 124
        },
        "id": "dy-cxskB-WJ7",
        "outputId": "b9704295-8165-467f-b59c-c170af74fee6"
      },
      "source": [
        "import matplotlib.pyplot as plt\r\n",
        "%matplotlib inline\r\n",
        "\r\n",
        "plt.subplot(141)\r\n",
        "plt.imshow(X_train[0], interpolation=\"bicubic\")\r\n",
        "plt.subplot(142)\r\n",
        "plt.imshow(X_train[4], interpolation=\"bicubic\")\r\n",
        "plt.subplot(143)\r\n",
        "plt.imshow(X_train[8], interpolation=\"bicubic\")\r\n",
        "plt.subplot(144)\r\n",
        "plt.imshow(X_train[12], interpolation=\"bicubic\")\r\n",
        "plt.grid(False)\r\n",
        "plt.show()"
      ],
      "execution_count": 6,
      "outputs": [
        {
          "output_type": "display_data",
          "data": {
            "image/png": "[encoded data removed]",
            "text/plain": [
              "<Figure size 432x288 with 4 Axes>"
            ]
          },
          "metadata": {
            "tags": [],
            "needs_background": "light"
          }
        }
      ]
    },
    {
      "cell_type": "markdown",
      "metadata": {
        "id": "1feJ44XQOeOA"
      },
      "source": [
        "### 데이터 전처리"
      ]
    },
    {
      "cell_type": "code",
      "metadata": {
        "id": "ExzuhX2-MCAA"
      },
      "source": [
        "X_train = X_train.astype('float32')/255.0\r\n",
        "X_test = X_test.astype('float32')/255.0"
      ],
      "execution_count": 7,
      "outputs": []
    },
    {
      "cell_type": "code",
      "metadata": {
        "colab": {
          "base_uri": "https://localhost:8080/"
        },
        "id": "NDec9HmKMDmQ",
        "outputId": "3458222a-c1f6-49b8-ad3a-4750b9835ea9"
      },
      "source": [
        "# One-hot encoding\r\n",
        "from tensorflow.keras.utils import to_categorical\r\n",
        "Y_train = to_categorical(y_train, 100)\r\n",
        "Y_test = to_categorical(y_test, 100)\r\n",
        "Y_train[0]"
      ],
      "execution_count": 8,
      "outputs": [
        {
          "output_type": "execute_result",
          "data": {
            "text/plain": [
              "array([0., 0., 0., 0., 0., 0., 0., 0., 0., 0., 0., 0., 0., 0., 0., 0., 0.,\n",
              "       0., 0., 1., 0., 0., 0., 0., 0., 0., 0., 0., 0., 0., 0., 0., 0., 0.,\n",
              "       0., 0., 0., 0., 0., 0., 0., 0., 0., 0., 0., 0., 0., 0., 0., 0., 0.,\n",
              "       0., 0., 0., 0., 0., 0., 0., 0., 0., 0., 0., 0., 0., 0., 0., 0., 0.,\n",
              "       0., 0., 0., 0., 0., 0., 0., 0., 0., 0., 0., 0., 0., 0., 0., 0., 0.,\n",
              "       0., 0., 0., 0., 0., 0., 0., 0., 0., 0., 0., 0., 0., 0., 0.],\n",
              "      dtype=float32)"
            ]
          },
          "metadata": {
            "tags": []
          },
          "execution_count": 8
        }
      ]
    },
    {
      "cell_type": "markdown",
      "metadata": {
        "id": "tlgtNmFhMRdJ"
      },
      "source": [
        "### 모델 정의/설정/학습"
      ]
    },
    {
      "cell_type": "code",
      "metadata": {
        "colab": {
          "base_uri": "https://localhost:8080/"
        },
        "id": "U4A1zJ7rMEmo",
        "outputId": "29047077-e0ba-4171-e181-c8629f1443a2"
      },
      "source": [
        "model = Sequential()\r\n",
        "\r\n",
        "model.add(Conv2D(32, (3,3), padding='same', activation='relu',\r\n",
        "                 input_shape = X_train.shape[1:]))\r\n",
        "model.add(MaxPooling2D(pool_size=(2, 2)))\r\n",
        "model.add(Activation('relu'))\r\n",
        "\r\n",
        "model.add(Conv2D(64, (3,3), padding='same', activation='relu'))\r\n",
        "model.add(MaxPooling2D(pool_size=(2, 2)))\r\n",
        "model.add(Activation('relu'))\r\n",
        "model.add(Dropout(0.1))\r\n",
        "\r\n",
        "model.add(Conv2D(128, (3,3), padding='same', activation='relu'))\r\n",
        "model.add(MaxPooling2D(pool_size=(2,2)))\r\n",
        "model.add(Dropout(0.25))\r\n",
        "\r\n",
        "model.add(Flatten())\r\n",
        "model.add(Dense(512, activation='relu'))\r\n",
        "model.add(Dropout(0.5))\r\n",
        "model.add(Dense(100, activation='softmax'))\r\n",
        "          \r\n",
        "model.summary()"
      ],
      "execution_count": 9,
      "outputs": [
        {
          "output_type": "stream",
          "text": [
            "Model: \"sequential\"\n",
            "_________________________________________________________________\n",
            "Layer (type)                 Output Shape              Param #   \n",
            "=================================================================\n",
            "conv2d (Conv2D)              (None, 32, 32, 32)        896       \n",
            "_________________________________________________________________\n",
            "max_pooling2d (MaxPooling2D) (None, 16, 16, 32)        0         \n",
            "_________________________________________________________________\n",
            "activation (Activation)      (None, 16, 16, 32)        0         \n",
            "_________________________________________________________________\n",
            "conv2d_1 (Conv2D)            (None, 16, 16, 64)        18496     \n",
            "_________________________________________________________________\n",
            "max_pooling2d_1 (MaxPooling2 (None, 8, 8, 64)          0         \n",
            "_________________________________________________________________\n",
            "activation_1 (Activation)    (None, 8, 8, 64)          0         \n",
            "_________________________________________________________________\n",
            "dropout (Dropout)            (None, 8, 8, 64)          0         \n",
            "_________________________________________________________________\n",
            "conv2d_2 (Conv2D)            (None, 8, 8, 128)         73856     \n",
            "_________________________________________________________________\n",
            "max_pooling2d_2 (MaxPooling2 (None, 4, 4, 128)         0         \n",
            "_________________________________________________________________\n",
            "dropout_1 (Dropout)          (None, 4, 4, 128)         0         \n",
            "_________________________________________________________________\n",
            "flatten (Flatten)            (None, 2048)              0         \n",
            "_________________________________________________________________\n",
            "dense (Dense)                (None, 512)               1049088   \n",
            "_________________________________________________________________\n",
            "dropout_2 (Dropout)          (None, 512)               0         \n",
            "_________________________________________________________________\n",
            "dense_1 (Dense)              (None, 100)               51300     \n",
            "=================================================================\n",
            "Total params: 1,193,636\n",
            "Trainable params: 1,193,636\n",
            "Non-trainable params: 0\n",
            "_________________________________________________________________\n"
          ],
          "name": "stdout"
        }
      ]
    },
    {
      "cell_type": "code",
      "metadata": {
        "id": "-K1ugfzJMifh"
      },
      "source": [
        "from tensorflow.keras.optimizers import Adam\r\n",
        "opt = Adam(lr=0.0001)\r\n",
        "model.compile(loss='categorical_crossentropy', optimizer=opt, metrics=['accuracy'])"
      ],
      "execution_count": 10,
      "outputs": []
    },
    {
      "cell_type": "code",
      "metadata": {
        "id": "dkN7nmfVMjrh"
      },
      "source": [
        "model.compile(loss='categorical_crossentropy',\r\n",
        "              optimizer=opt,\r\n",
        "              metrics=['accuracy'])"
      ],
      "execution_count": 11,
      "outputs": []
    },
    {
      "cell_type": "code",
      "metadata": {
        "id": "CcQq-6w_Mkvx"
      },
      "source": [
        "from tensorflow.keras.callbacks import ModelCheckpoint, EarlyStopping\r\n",
        "modelpath = \"model/cifar100-cnn-{epoch:02d}-{val_loss:.4f}.hdf5\"\r\n",
        "checkpointer = ModelCheckpoint(filepath=modelpath, monitor='val_loss', \r\n",
        "                               verbose=1, save_best_only=True)\r\n",
        "early_stopping_callback = EarlyStopping(monitor='val_loss', \r\n",
        "                                        patience=10)"
      ],
      "execution_count": 12,
      "outputs": []
    },
    {
      "cell_type": "code",
      "metadata": {
        "colab": {
          "base_uri": "https://localhost:8080/"
        },
        "id": "EIYOT9LwMoby",
        "outputId": "2a41890f-35da-49f6-bb76-b5167ea7a773"
      },
      "source": [
        "history = model.fit(X_train, Y_train, epochs=100, batch_size=50, \r\n",
        "                    validation_split=0.2, verbose=1,\r\n",
        "                    callbacks=[early_stopping_callback, checkpointer])"
      ],
      "execution_count": 13,
      "outputs": [
        {
          "output_type": "stream",
          "text": [
            "Epoch 1/100\n",
            "800/800 [==============================] - 16s 12ms/step - loss: 4.5200 - accuracy: 0.0213 - val_loss: 4.0730 - val_accuracy: 0.0978\n",
            "\n",
            "Epoch 00001: val_loss improved from inf to 4.07301, saving model to model/cifar100-cnn-01-4.0730.hdf5\n",
            "Epoch 2/100\n",
            "800/800 [==============================] - 8s 10ms/step - loss: 4.0604 - accuracy: 0.0789 - val_loss: 3.7142 - val_accuracy: 0.1576\n",
            "\n",
            "Epoch 00002: val_loss improved from 4.07301 to 3.71425, saving model to model/cifar100-cnn-02-3.7142.hdf5\n",
            "Epoch 3/100\n",
            "800/800 [==============================] - 8s 11ms/step - loss: 3.7808 - accuracy: 0.1220 - val_loss: 3.5183 - val_accuracy: 0.1827\n",
            "\n",
            "Epoch 00003: val_loss improved from 3.71425 to 3.51827, saving model to model/cifar100-cnn-03-3.5183.hdf5\n",
            "Epoch 4/100\n",
            "800/800 [==============================] - 8s 10ms/step - loss: 3.6140 - accuracy: 0.1497 - val_loss: 3.3709 - val_accuracy: 0.2088\n",
            "\n",
            "Epoch 00004: val_loss improved from 3.51827 to 3.37092, saving model to model/cifar100-cnn-04-3.3709.hdf5\n",
            "Epoch 5/100\n",
            "800/800 [==============================] - 8s 10ms/step - loss: 3.4654 - accuracy: 0.1774 - val_loss: 3.2531 - val_accuracy: 0.2298\n",
            "\n",
            "Epoch 00005: val_loss improved from 3.37092 to 3.25307, saving model to model/cifar100-cnn-05-3.2531.hdf5\n",
            "Epoch 6/100\n",
            "800/800 [==============================] - 8s 10ms/step - loss: 3.3640 - accuracy: 0.1987 - val_loss: 3.1494 - val_accuracy: 0.2433\n",
            "\n",
            "Epoch 00006: val_loss improved from 3.25307 to 3.14944, saving model to model/cifar100-cnn-06-3.1494.hdf5\n",
            "Epoch 7/100\n",
            "800/800 [==============================] - 8s 10ms/step - loss: 3.2561 - accuracy: 0.2141 - val_loss: 3.0748 - val_accuracy: 0.2584\n",
            "\n",
            "Epoch 00007: val_loss improved from 3.14944 to 3.07479, saving model to model/cifar100-cnn-07-3.0748.hdf5\n",
            "Epoch 8/100\n",
            "800/800 [==============================] - 8s 10ms/step - loss: 3.1800 - accuracy: 0.2287 - val_loss: 3.0100 - val_accuracy: 0.2758\n",
            "\n",
            "Epoch 00008: val_loss improved from 3.07479 to 3.00998, saving model to model/cifar100-cnn-08-3.0100.hdf5\n",
            "Epoch 9/100\n",
            "800/800 [==============================] - 8s 10ms/step - loss: 3.0841 - accuracy: 0.2431 - val_loss: 2.9346 - val_accuracy: 0.2871\n",
            "\n",
            "Epoch 00009: val_loss improved from 3.00998 to 2.93455, saving model to model/cifar100-cnn-09-2.9346.hdf5\n",
            "Epoch 10/100\n",
            "800/800 [==============================] - 8s 10ms/step - loss: 3.0280 - accuracy: 0.2603 - val_loss: 2.9150 - val_accuracy: 0.2977\n",
            "\n",
            "Epoch 00010: val_loss improved from 2.93455 to 2.91504, saving model to model/cifar100-cnn-10-2.9150.hdf5\n",
            "Epoch 11/100\n",
            "800/800 [==============================] - 8s 10ms/step - loss: 2.9651 - accuracy: 0.2710 - val_loss: 2.8421 - val_accuracy: 0.3047\n",
            "\n",
            "Epoch 00011: val_loss improved from 2.91504 to 2.84211, saving model to model/cifar100-cnn-11-2.8421.hdf5\n",
            "Epoch 12/100\n",
            "800/800 [==============================] - 8s 10ms/step - loss: 2.9054 - accuracy: 0.2804 - val_loss: 2.7919 - val_accuracy: 0.3168\n",
            "\n",
            "Epoch 00012: val_loss improved from 2.84211 to 2.79190, saving model to model/cifar100-cnn-12-2.7919.hdf5\n",
            "Epoch 13/100\n",
            "800/800 [==============================] - 8s 10ms/step - loss: 2.8421 - accuracy: 0.2904 - val_loss: 2.7485 - val_accuracy: 0.3238\n",
            "\n",
            "Epoch 00013: val_loss improved from 2.79190 to 2.74850, saving model to model/cifar100-cnn-13-2.7485.hdf5\n",
            "Epoch 14/100\n",
            "800/800 [==============================] - 8s 10ms/step - loss: 2.7976 - accuracy: 0.3006 - val_loss: 2.7058 - val_accuracy: 0.3323\n",
            "\n",
            "Epoch 00014: val_loss improved from 2.74850 to 2.70577, saving model to model/cifar100-cnn-14-2.7058.hdf5\n",
            "Epoch 15/100\n",
            "800/800 [==============================] - 8s 10ms/step - loss: 2.7544 - accuracy: 0.3117 - val_loss: 2.6583 - val_accuracy: 0.3393\n",
            "\n",
            "Epoch 00015: val_loss improved from 2.70577 to 2.65834, saving model to model/cifar100-cnn-15-2.6583.hdf5\n",
            "Epoch 16/100\n",
            "800/800 [==============================] - 8s 10ms/step - loss: 2.7065 - accuracy: 0.3155 - val_loss: 2.6452 - val_accuracy: 0.3434\n",
            "\n",
            "Epoch 00016: val_loss improved from 2.65834 to 2.64517, saving model to model/cifar100-cnn-16-2.6452.hdf5\n",
            "Epoch 17/100\n",
            "800/800 [==============================] - 8s 10ms/step - loss: 2.6443 - accuracy: 0.3295 - val_loss: 2.6051 - val_accuracy: 0.3542\n",
            "\n",
            "Epoch 00017: val_loss improved from 2.64517 to 2.60508, saving model to model/cifar100-cnn-17-2.6051.hdf5\n",
            "Epoch 18/100\n",
            "800/800 [==============================] - 8s 10ms/step - loss: 2.6279 - accuracy: 0.3334 - val_loss: 2.5799 - val_accuracy: 0.3540\n",
            "\n",
            "Epoch 00018: val_loss improved from 2.60508 to 2.57991, saving model to model/cifar100-cnn-18-2.5799.hdf5\n",
            "Epoch 19/100\n",
            "800/800 [==============================] - 8s 10ms/step - loss: 2.5960 - accuracy: 0.3431 - val_loss: 2.5655 - val_accuracy: 0.3614\n",
            "\n",
            "Epoch 00019: val_loss improved from 2.57991 to 2.56546, saving model to model/cifar100-cnn-19-2.5655.hdf5\n",
            "Epoch 20/100\n",
            "800/800 [==============================] - 8s 10ms/step - loss: 2.5489 - accuracy: 0.3505 - val_loss: 2.5507 - val_accuracy: 0.3650\n",
            "\n",
            "Epoch 00020: val_loss improved from 2.56546 to 2.55066, saving model to model/cifar100-cnn-20-2.5507.hdf5\n",
            "Epoch 21/100\n",
            "800/800 [==============================] - 8s 10ms/step - loss: 2.5108 - accuracy: 0.3595 - val_loss: 2.5015 - val_accuracy: 0.3688\n",
            "\n",
            "Epoch 00021: val_loss improved from 2.55066 to 2.50152, saving model to model/cifar100-cnn-21-2.5015.hdf5\n",
            "Epoch 22/100\n",
            "800/800 [==============================] - 8s 10ms/step - loss: 2.4991 - accuracy: 0.3598 - val_loss: 2.4784 - val_accuracy: 0.3785\n",
            "\n",
            "Epoch 00022: val_loss improved from 2.50152 to 2.47840, saving model to model/cifar100-cnn-22-2.4784.hdf5\n",
            "Epoch 23/100\n",
            "800/800 [==============================] - 8s 10ms/step - loss: 2.4321 - accuracy: 0.3771 - val_loss: 2.4849 - val_accuracy: 0.3785\n",
            "\n",
            "Epoch 00023: val_loss did not improve from 2.47840\n",
            "Epoch 24/100\n",
            "800/800 [==============================] - 8s 10ms/step - loss: 2.4123 - accuracy: 0.3763 - val_loss: 2.4451 - val_accuracy: 0.3872\n",
            "\n",
            "Epoch 00024: val_loss improved from 2.47840 to 2.44509, saving model to model/cifar100-cnn-24-2.4451.hdf5\n",
            "Epoch 25/100\n",
            "800/800 [==============================] - 8s 10ms/step - loss: 2.3888 - accuracy: 0.3843 - val_loss: 2.4288 - val_accuracy: 0.3858\n",
            "\n",
            "Epoch 00025: val_loss improved from 2.44509 to 2.42883, saving model to model/cifar100-cnn-25-2.4288.hdf5\n",
            "Epoch 26/100\n",
            "800/800 [==============================] - 8s 10ms/step - loss: 2.3572 - accuracy: 0.3916 - val_loss: 2.4280 - val_accuracy: 0.3834\n",
            "\n",
            "Epoch 00026: val_loss improved from 2.42883 to 2.42800, saving model to model/cifar100-cnn-26-2.4280.hdf5\n",
            "Epoch 27/100\n",
            "800/800 [==============================] - 8s 10ms/step - loss: 2.3208 - accuracy: 0.3976 - val_loss: 2.4014 - val_accuracy: 0.3921\n",
            "\n",
            "Epoch 00027: val_loss improved from 2.42800 to 2.40135, saving model to model/cifar100-cnn-27-2.4014.hdf5\n",
            "Epoch 28/100\n",
            "800/800 [==============================] - 8s 10ms/step - loss: 2.2844 - accuracy: 0.4062 - val_loss: 2.3612 - val_accuracy: 0.4007\n",
            "\n",
            "Epoch 00028: val_loss improved from 2.40135 to 2.36124, saving model to model/cifar100-cnn-28-2.3612.hdf5\n",
            "Epoch 29/100\n",
            "800/800 [==============================] - 8s 10ms/step - loss: 2.2431 - accuracy: 0.4142 - val_loss: 2.3537 - val_accuracy: 0.4008\n",
            "\n",
            "Epoch 00029: val_loss improved from 2.36124 to 2.35373, saving model to model/cifar100-cnn-29-2.3537.hdf5\n",
            "Epoch 30/100\n",
            "800/800 [==============================] - 8s 10ms/step - loss: 2.2330 - accuracy: 0.4140 - val_loss: 2.3450 - val_accuracy: 0.4009\n",
            "\n",
            "Epoch 00030: val_loss improved from 2.35373 to 2.34503, saving model to model/cifar100-cnn-30-2.3450.hdf5\n",
            "Epoch 31/100\n",
            "800/800 [==============================] - 8s 10ms/step - loss: 2.1866 - accuracy: 0.4288 - val_loss: 2.3312 - val_accuracy: 0.4054\n",
            "\n",
            "Epoch 00031: val_loss improved from 2.34503 to 2.33123, saving model to model/cifar100-cnn-31-2.3312.hdf5\n",
            "Epoch 32/100\n",
            "800/800 [==============================] - 8s 10ms/step - loss: 2.1632 - accuracy: 0.4298 - val_loss: 2.3205 - val_accuracy: 0.4062\n",
            "\n",
            "Epoch 00032: val_loss improved from 2.33123 to 2.32050, saving model to model/cifar100-cnn-32-2.3205.hdf5\n",
            "Epoch 33/100\n",
            "800/800 [==============================] - 8s 10ms/step - loss: 2.1337 - accuracy: 0.4372 - val_loss: 2.3111 - val_accuracy: 0.4106\n",
            "\n",
            "Epoch 00033: val_loss improved from 2.32050 to 2.31112, saving model to model/cifar100-cnn-33-2.3111.hdf5\n",
            "Epoch 34/100\n",
            "800/800 [==============================] - 8s 10ms/step - loss: 2.1323 - accuracy: 0.4352 - val_loss: 2.2938 - val_accuracy: 0.4151\n",
            "\n",
            "Epoch 00034: val_loss improved from 2.31112 to 2.29378, saving model to model/cifar100-cnn-34-2.2938.hdf5\n",
            "Epoch 35/100\n",
            "800/800 [==============================] - 8s 10ms/step - loss: 2.1151 - accuracy: 0.4394 - val_loss: 2.3021 - val_accuracy: 0.4171\n",
            "\n",
            "Epoch 00035: val_loss did not improve from 2.29378\n",
            "Epoch 36/100\n",
            "800/800 [==============================] - 8s 10ms/step - loss: 2.0742 - accuracy: 0.4457 - val_loss: 2.2758 - val_accuracy: 0.4196\n",
            "\n",
            "Epoch 00036: val_loss improved from 2.29378 to 2.27582, saving model to model/cifar100-cnn-36-2.2758.hdf5\n",
            "Epoch 37/100\n",
            "800/800 [==============================] - 8s 10ms/step - loss: 2.0355 - accuracy: 0.4534 - val_loss: 2.2582 - val_accuracy: 0.4254\n",
            "\n",
            "Epoch 00037: val_loss improved from 2.27582 to 2.25821, saving model to model/cifar100-cnn-37-2.2582.hdf5\n",
            "Epoch 38/100\n",
            "800/800 [==============================] - 8s 10ms/step - loss: 2.0209 - accuracy: 0.4595 - val_loss: 2.2449 - val_accuracy: 0.4244\n",
            "\n",
            "Epoch 00038: val_loss improved from 2.25821 to 2.24492, saving model to model/cifar100-cnn-38-2.2449.hdf5\n",
            "Epoch 39/100\n",
            "800/800 [==============================] - 8s 10ms/step - loss: 1.9967 - accuracy: 0.4667 - val_loss: 2.2372 - val_accuracy: 0.4271\n",
            "\n",
            "Epoch 00039: val_loss improved from 2.24492 to 2.23717, saving model to model/cifar100-cnn-39-2.2372.hdf5\n",
            "Epoch 40/100\n",
            "800/800 [==============================] - 8s 10ms/step - loss: 1.9649 - accuracy: 0.4708 - val_loss: 2.2517 - val_accuracy: 0.4237\n",
            "\n",
            "Epoch 00040: val_loss did not improve from 2.23717\n",
            "Epoch 41/100\n",
            "800/800 [==============================] - 8s 10ms/step - loss: 1.9488 - accuracy: 0.4714 - val_loss: 2.2312 - val_accuracy: 0.4282\n",
            "\n",
            "Epoch 00041: val_loss improved from 2.23717 to 2.23122, saving model to model/cifar100-cnn-41-2.2312.hdf5\n",
            "Epoch 42/100\n",
            "800/800 [==============================] - 8s 10ms/step - loss: 1.9280 - accuracy: 0.4786 - val_loss: 2.2288 - val_accuracy: 0.4319\n",
            "\n",
            "Epoch 00042: val_loss improved from 2.23122 to 2.22882, saving model to model/cifar100-cnn-42-2.2288.hdf5\n",
            "Epoch 43/100\n",
            "800/800 [==============================] - 8s 10ms/step - loss: 1.9255 - accuracy: 0.4807 - val_loss: 2.2247 - val_accuracy: 0.4334\n",
            "\n",
            "Epoch 00043: val_loss improved from 2.22882 to 2.22474, saving model to model/cifar100-cnn-43-2.2247.hdf5\n",
            "Epoch 44/100\n",
            "800/800 [==============================] - 8s 10ms/step - loss: 1.8949 - accuracy: 0.4873 - val_loss: 2.2086 - val_accuracy: 0.4354\n",
            "\n",
            "Epoch 00044: val_loss improved from 2.22474 to 2.20862, saving model to model/cifar100-cnn-44-2.2086.hdf5\n",
            "Epoch 45/100\n",
            "800/800 [==============================] - 8s 10ms/step - loss: 1.8643 - accuracy: 0.4957 - val_loss: 2.1960 - val_accuracy: 0.4361\n",
            "\n",
            "Epoch 00045: val_loss improved from 2.20862 to 2.19603, saving model to model/cifar100-cnn-45-2.1960.hdf5\n",
            "Epoch 46/100\n",
            "800/800 [==============================] - 8s 10ms/step - loss: 1.8408 - accuracy: 0.4984 - val_loss: 2.2067 - val_accuracy: 0.4316\n",
            "\n",
            "Epoch 00046: val_loss did not improve from 2.19603\n",
            "Epoch 47/100\n",
            "800/800 [==============================] - 8s 10ms/step - loss: 1.8023 - accuracy: 0.5137 - val_loss: 2.1954 - val_accuracy: 0.4347\n",
            "\n",
            "Epoch 00047: val_loss improved from 2.19603 to 2.19536, saving model to model/cifar100-cnn-47-2.1954.hdf5\n",
            "Epoch 48/100\n",
            "800/800 [==============================] - 8s 10ms/step - loss: 1.8127 - accuracy: 0.5045 - val_loss: 2.1868 - val_accuracy: 0.4402\n",
            "\n",
            "Epoch 00048: val_loss improved from 2.19536 to 2.18684, saving model to model/cifar100-cnn-48-2.1868.hdf5\n",
            "Epoch 49/100\n",
            "800/800 [==============================] - 8s 10ms/step - loss: 1.7813 - accuracy: 0.5148 - val_loss: 2.1817 - val_accuracy: 0.4423\n",
            "\n",
            "Epoch 00049: val_loss improved from 2.18684 to 2.18172, saving model to model/cifar100-cnn-49-2.1817.hdf5\n",
            "Epoch 50/100\n",
            "800/800 [==============================] - 8s 10ms/step - loss: 1.7628 - accuracy: 0.5154 - val_loss: 2.1841 - val_accuracy: 0.4398\n",
            "\n",
            "Epoch 00050: val_loss did not improve from 2.18172\n",
            "Epoch 51/100\n",
            "800/800 [==============================] - 8s 10ms/step - loss: 1.7387 - accuracy: 0.5205 - val_loss: 2.1784 - val_accuracy: 0.4420\n",
            "\n",
            "Epoch 00051: val_loss improved from 2.18172 to 2.17840, saving model to model/cifar100-cnn-51-2.1784.hdf5\n",
            "Epoch 52/100\n",
            "800/800 [==============================] - 8s 10ms/step - loss: 1.7225 - accuracy: 0.5300 - val_loss: 2.1665 - val_accuracy: 0.4424\n",
            "\n",
            "Epoch 00052: val_loss improved from 2.17840 to 2.16648, saving model to model/cifar100-cnn-52-2.1665.hdf5\n",
            "Epoch 53/100\n",
            "800/800 [==============================] - 8s 10ms/step - loss: 1.7011 - accuracy: 0.5299 - val_loss: 2.1611 - val_accuracy: 0.4432\n",
            "\n",
            "Epoch 00053: val_loss improved from 2.16648 to 2.16111, saving model to model/cifar100-cnn-53-2.1611.hdf5\n",
            "Epoch 54/100\n",
            "800/800 [==============================] - 8s 10ms/step - loss: 1.6709 - accuracy: 0.5391 - val_loss: 2.1630 - val_accuracy: 0.4480\n",
            "\n",
            "Epoch 00054: val_loss did not improve from 2.16111\n",
            "Epoch 55/100\n",
            "800/800 [==============================] - 8s 10ms/step - loss: 1.6625 - accuracy: 0.5388 - val_loss: 2.1567 - val_accuracy: 0.4474\n",
            "\n",
            "Epoch 00055: val_loss improved from 2.16111 to 2.15665, saving model to model/cifar100-cnn-55-2.1567.hdf5\n",
            "Epoch 56/100\n",
            "800/800 [==============================] - 8s 10ms/step - loss: 1.6535 - accuracy: 0.5407 - val_loss: 2.1682 - val_accuracy: 0.4471\n",
            "\n",
            "Epoch 00056: val_loss did not improve from 2.15665\n",
            "Epoch 57/100\n",
            "800/800 [==============================] - 8s 10ms/step - loss: 1.6302 - accuracy: 0.5471 - val_loss: 2.1446 - val_accuracy: 0.4522\n",
            "\n",
            "Epoch 00057: val_loss improved from 2.15665 to 2.14460, saving model to model/cifar100-cnn-57-2.1446.hdf5\n",
            "Epoch 58/100\n",
            "800/800 [==============================] - 8s 10ms/step - loss: 1.6127 - accuracy: 0.5539 - val_loss: 2.1471 - val_accuracy: 0.4509\n",
            "\n",
            "Epoch 00058: val_loss did not improve from 2.14460\n",
            "Epoch 59/100\n",
            "800/800 [==============================] - 8s 10ms/step - loss: 1.5864 - accuracy: 0.5575 - val_loss: 2.1376 - val_accuracy: 0.4497\n",
            "\n",
            "Epoch 00059: val_loss improved from 2.14460 to 2.13755, saving model to model/cifar100-cnn-59-2.1376.hdf5\n",
            "Epoch 60/100\n",
            "800/800 [==============================] - 8s 10ms/step - loss: 1.5648 - accuracy: 0.5600 - val_loss: 2.1457 - val_accuracy: 0.4531\n",
            "\n",
            "Epoch 00060: val_loss did not improve from 2.13755\n",
            "Epoch 61/100\n",
            "800/800 [==============================] - 8s 10ms/step - loss: 1.5472 - accuracy: 0.5641 - val_loss: 2.1745 - val_accuracy: 0.4475\n",
            "\n",
            "Epoch 00061: val_loss did not improve from 2.13755\n",
            "Epoch 62/100\n",
            "800/800 [==============================] - 8s 10ms/step - loss: 1.5512 - accuracy: 0.5639 - val_loss: 2.1466 - val_accuracy: 0.4546\n",
            "\n",
            "Epoch 00062: val_loss did not improve from 2.13755\n",
            "Epoch 63/100\n",
            "800/800 [==============================] - 8s 10ms/step - loss: 1.5197 - accuracy: 0.5702 - val_loss: 2.1430 - val_accuracy: 0.4530\n",
            "\n",
            "Epoch 00063: val_loss did not improve from 2.13755\n",
            "Epoch 64/100\n",
            "800/800 [==============================] - 8s 10ms/step - loss: 1.5365 - accuracy: 0.5678 - val_loss: 2.1553 - val_accuracy: 0.4514\n",
            "\n",
            "Epoch 00064: val_loss did not improve from 2.13755\n",
            "Epoch 65/100\n",
            "800/800 [==============================] - 8s 10ms/step - loss: 1.4894 - accuracy: 0.5784 - val_loss: 2.1609 - val_accuracy: 0.4562\n",
            "\n",
            "Epoch 00065: val_loss did not improve from 2.13755\n",
            "Epoch 66/100\n",
            "800/800 [==============================] - 8s 10ms/step - loss: 1.4789 - accuracy: 0.5796 - val_loss: 2.1396 - val_accuracy: 0.4578\n",
            "\n",
            "Epoch 00066: val_loss did not improve from 2.13755\n",
            "Epoch 67/100\n",
            "800/800 [==============================] - 8s 10ms/step - loss: 1.4560 - accuracy: 0.5880 - val_loss: 2.1489 - val_accuracy: 0.4580\n",
            "\n",
            "Epoch 00067: val_loss did not improve from 2.13755\n",
            "Epoch 68/100\n",
            "800/800 [==============================] - 8s 10ms/step - loss: 1.4425 - accuracy: 0.5891 - val_loss: 2.1451 - val_accuracy: 0.4566\n",
            "\n",
            "Epoch 00068: val_loss did not improve from 2.13755\n",
            "Epoch 69/100\n",
            "800/800 [==============================] - 8s 10ms/step - loss: 1.4428 - accuracy: 0.5874 - val_loss: 2.1516 - val_accuracy: 0.4583\n",
            "\n",
            "Epoch 00069: val_loss did not improve from 2.13755\n"
          ],
          "name": "stdout"
        }
      ]
    },
    {
      "cell_type": "code",
      "metadata": {
        "id": "UgYrHQccMthQ"
      },
      "source": [
        "from tensorflow.keras.models import load_model\r\n",
        "best_model = load_model('./model/cifar100-cnn-59-2.1376.hdf5')"
      ],
      "execution_count": 15,
      "outputs": []
    },
    {
      "cell_type": "code",
      "metadata": {
        "id": "a46YEdiUOy4o",
        "colab": {
          "base_uri": "https://localhost:8080/"
        },
        "outputId": "e891d0d7-2bd3-4a2e-bf06-1ff373747abc"
      },
      "source": [
        "# 테스트 정확도 출력 \r\n",
        "acc = model.evaluate(X_test, Y_test, verbose=2)[1]\r\n",
        "print(f\"\\n Test Accuracy: {acc:.4f}\")"
      ],
      "execution_count": 16,
      "outputs": [
        {
          "output_type": "stream",
          "text": [
            "313/313 - 1s - loss: 2.1417 - accuracy: 0.4540\n",
            "\n",
            " Test Accuracy: 0.4540\n"
          ],
          "name": "stdout"
        }
      ]
    },
    {
      "cell_type": "markdown",
      "metadata": {
        "id": "AWcTBvB0O0BA"
      },
      "source": [
        "### 시각화"
      ]
    },
    {
      "cell_type": "code",
      "metadata": {
        "id": "eC3btDkcOy1w"
      },
      "source": [
        "# 테스트셋\r\n",
        "y_vloss = history.history['val_loss']\r\n",
        "y_vacc = history.history['val_accuracy']\r\n",
        "# 학습셋\r\n",
        "y_loss = history.history['loss']\r\n",
        "y_acc = history.history['accuracy']"
      ],
      "execution_count": 17,
      "outputs": []
    },
    {
      "cell_type": "code",
      "metadata": {
        "id": "7lWbpVyCO2YC",
        "colab": {
          "base_uri": "https://localhost:8080/",
          "height": 606
        },
        "outputId": "14bb2102-4a33-486c-9cb1-e4615c2afb1b"
      },
      "source": [
        "x_len = np.arange(1, len(y_loss)+1)\r\n",
        "fig, ax0 = plt.subplots(figsize=(12,10))\r\n",
        "ax1 = ax0.twinx()\r\n",
        "ax0.plot(x_len, y_loss, c=\"blue\", label='train set loss')\r\n",
        "ax0.plot(x_len, y_vloss, c=\"red\", label='test set loss')\r\n",
        "ax0.set_ylabel('loss')\r\n",
        "ax1.plot(x_len, y_acc, c=\"darkgreen\", label='train set accuracy')\r\n",
        "ax1.plot(x_len, y_vacc, c=\"magenta\", label='test set accuracy')\r\n",
        "ax1.set_ylabel('accuracy')\r\n",
        "ax0.set_xlabel('epoch')\r\n",
        "ax0.legend(loc='upper center')\r\n",
        "ax1.legend(loc='lower center')\r\n",
        "plt.show()"
      ],
      "execution_count": 18,
      "outputs": [
        {
          "output_type": "display_data",
          "data": {
            "image/png": "[encoded data removed]",
            "text/plain": [
              "<Figure size 864x720 with 2 Axes>"
            ]
          },
          "metadata": {
            "tags": [],
            "needs_background": "light"
          }
        }
      ]
    }
  ]
}