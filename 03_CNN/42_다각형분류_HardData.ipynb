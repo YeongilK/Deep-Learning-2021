{
  "nbformat": 4,
  "nbformat_minor": 0,
  "metadata": {
    "colab": {
      "name": "42_다각형분류_HardData.ipynb",
      "provenance": [],
      "collapsed_sections": []
    },
    "kernelspec": {
      "name": "python3",
      "display_name": "Python 3"
    }
  },
  "cells": [
    {
      "cell_type": "markdown",
      "metadata": {
        "id": "qTtkAC0hcGpi"
      },
      "source": [
        "# 다각형 구분하기"
      ]
    },
    {
      "cell_type": "markdown",
      "metadata": {
        "id": "UcShWldodN8J"
      },
      "source": [
        "## 2. 어려운 테스트 문제를 기존 CNN 모델로 푸는 경우"
      ]
    },
    {
      "cell_type": "code",
      "metadata": {
        "id": "3kp69aJAc7CQ"
      },
      "source": [
        "import numpy as np\r\n",
        "import tensorflow as tf\r\n",
        "from tensorflow.keras.models import Sequential\r\n",
        "from tensorflow.keras.layers import Dense, Flatten, Conv2D, MaxPooling2D\r\n",
        "from tensorflow.keras.preprocessing.image import ImageDataGenerator"
      ],
      "execution_count": 1,
      "outputs": []
    },
    {
      "cell_type": "code",
      "metadata": {
        "id": "xD6jps5idv6q"
      },
      "source": [
        "# seed 값 설정\r\n",
        "seed = 2021\r\n",
        "np.random.seed(seed)\r\n",
        "tf.random.set_seed(seed)"
      ],
      "execution_count": 2,
      "outputs": []
    },
    {
      "cell_type": "markdown",
      "metadata": {
        "id": "gsDJrmyId5xQ"
      },
      "source": [
        "### 데이터셋 생성하기"
      ]
    },
    {
      "cell_type": "code",
      "metadata": {
        "colab": {
          "base_uri": "https://localhost:8080/"
        },
        "id": "uvlsbLcbd44Y",
        "outputId": "18237991-aee5-41fa-ab64-e96762adc762"
      },
      "source": [
        "train_datagen = ImageDataGenerator(rescale=1./255)\r\n",
        "train_generator = train_datagen.flow_from_directory(\r\n",
        "    'hard_handwriting_shape/train', \r\n",
        "    target_size=(24, 24),\r\n",
        "    batch_size=3,\r\n",
        "    class_mode='categorical'\r\n",
        ")"
      ],
      "execution_count": 3,
      "outputs": [
        {
          "output_type": "stream",
          "text": [
            "Found 45 images belonging to 3 classes.\n"
          ],
          "name": "stdout"
        }
      ]
    },
    {
      "cell_type": "code",
      "metadata": {
        "colab": {
          "base_uri": "https://localhost:8080/"
        },
        "id": "e9mbDwXSehL4",
        "outputId": "d988426d-ee49-4979-8f4f-6ae7e9f689b3"
      },
      "source": [
        "test_datagen = ImageDataGenerator(rescale=1./255)\r\n",
        "test_generator = test_datagen.flow_from_directory(\r\n",
        "    'hard_handwriting_shape/test', \r\n",
        "    target_size=(24, 24),\r\n",
        "    batch_size=3,\r\n",
        "    class_mode='categorical'\r\n",
        ")"
      ],
      "execution_count": 4,
      "outputs": [
        {
          "output_type": "stream",
          "text": [
            "Found 15 images belonging to 3 classes.\n"
          ],
          "name": "stdout"
        }
      ]
    },
    {
      "cell_type": "markdown",
      "metadata": {
        "id": "G5tDaboPfJ6Z"
      },
      "source": [
        "### 모델 정의/설정/학습"
      ]
    },
    {
      "cell_type": "code",
      "metadata": {
        "colab": {
          "base_uri": "https://localhost:8080/"
        },
        "id": "i6VSrS-Ie9PB",
        "outputId": "74e75849-595a-453d-a449-d7210db3cd61"
      },
      "source": [
        "model = Sequential()\r\n",
        "model.add(Conv2D(32, kernel_size=(3, 3),\r\n",
        "                 activation='relu',\r\n",
        "                 input_shape=(24, 24, 3)))\r\n",
        "model.add(Conv2D(64, (3, 3), activation='relu'))\r\n",
        "model.add(MaxPooling2D(pool_size=(2, 2)))\r\n",
        "model.add(Flatten())\r\n",
        "model.add(Dense(128, activation='relu'))\r\n",
        "model.add(Dense(3, activation='softmax'))\r\n",
        "model.summary()"
      ],
      "execution_count": 8,
      "outputs": [
        {
          "output_type": "stream",
          "text": [
            "Model: \"sequential_1\"\n",
            "_________________________________________________________________\n",
            "Layer (type)                 Output Shape              Param #   \n",
            "=================================================================\n",
            "conv2d_2 (Conv2D)            (None, 22, 22, 32)        896       \n",
            "_________________________________________________________________\n",
            "conv2d_3 (Conv2D)            (None, 20, 20, 64)        18496     \n",
            "_________________________________________________________________\n",
            "max_pooling2d_1 (MaxPooling2 (None, 10, 10, 64)        0         \n",
            "_________________________________________________________________\n",
            "flatten_1 (Flatten)          (None, 6400)              0         \n",
            "_________________________________________________________________\n",
            "dense_2 (Dense)              (None, 128)               819328    \n",
            "_________________________________________________________________\n",
            "dense_3 (Dense)              (None, 3)                 387       \n",
            "=================================================================\n",
            "Total params: 839,107\n",
            "Trainable params: 839,107\n",
            "Non-trainable params: 0\n",
            "_________________________________________________________________\n"
          ],
          "name": "stdout"
        }
      ]
    },
    {
      "cell_type": "code",
      "metadata": {
        "id": "aJvs2aJegE3q"
      },
      "source": [
        "model.compile(loss='categorical_crossentropy',\r\n",
        "              optimizer='adam', metrics=['accuracy'])"
      ],
      "execution_count": 9,
      "outputs": []
    },
    {
      "cell_type": "markdown",
      "metadata": {
        "id": "R0eUhFzkgst4"
      },
      "source": [
        "### 모델 학습시키기\r\n",
        "- 첫번째 인자 : 훈련데이터셋을 제공할 제네레이터를 지정합니다. 본 예제에서는 앞서 생성한 train_generator으로 지정합니다.\r\n",
        "- steps_per_epoch : 한 epoch에 사용한 스텝 수를 지정합니다. 총 45개의 훈련 샘플이 있고 배치사이즈가 3이므로 15 스텝으로 지정.\r\n",
        "- epochs : 전체 훈련 데이터셋에 대해 학습 반복 횟수를 지정.\r\n",
        "- validation_data : 검증데이터셋을 제공할 제네레이터를 지정합니다. 본 예제에서는 앞서 생성한 test_generator으로 지정.\r\n",
        "- validation_steps : 한 epoch 종료 시 마다 검증할 때 사용되는 검증 스텝 수를 지정. 홍 15개의 검증 샘플이 있고 배치사이즈가 3이므로 5 스텝으로 지정."
      ]
    },
    {
      "cell_type": "code",
      "metadata": {
        "colab": {
          "base_uri": "https://localhost:8080/"
        },
        "id": "KfCGLlcbgk64",
        "outputId": "6147a992-8bdf-4375-c08f-4f825e5c6c0c"
      },
      "source": [
        "model.fit_generator(\r\n",
        "        train_generator,\r\n",
        "        steps_per_epoch=15,\r\n",
        "        epochs=200,\r\n",
        "        validation_data=test_generator,\r\n",
        "        validation_steps=5)"
      ],
      "execution_count": 10,
      "outputs": [
        {
          "output_type": "stream",
          "text": [
            "/usr/local/lib/python3.6/dist-packages/tensorflow/python/keras/engine/training.py:1844: UserWarning: `Model.fit_generator` is deprecated and will be removed in a future version. Please use `Model.fit`, which supports generators.\n",
            "  warnings.warn('`Model.fit_generator` is deprecated and '\n"
          ],
          "name": "stderr"
        },
        {
          "output_type": "stream",
          "text": [
            "Epoch 1/200\n",
            "15/15 [==============================] - 1s 49ms/step - loss: 1.2825 - accuracy: 0.4389 - val_loss: 1.2519 - val_accuracy: 0.3333\n",
            "Epoch 2/200\n",
            "15/15 [==============================] - 0s 23ms/step - loss: 0.3942 - accuracy: 0.9419 - val_loss: 1.5564 - val_accuracy: 0.2667\n",
            "Epoch 3/200\n",
            "15/15 [==============================] - 0s 22ms/step - loss: 0.0898 - accuracy: 1.0000 - val_loss: 3.2722 - val_accuracy: 0.3333\n",
            "Epoch 4/200\n",
            "15/15 [==============================] - 0s 23ms/step - loss: 0.0050 - accuracy: 1.0000 - val_loss: 4.8443 - val_accuracy: 0.3333\n",
            "Epoch 5/200\n",
            "15/15 [==============================] - 0s 22ms/step - loss: 0.0022 - accuracy: 1.0000 - val_loss: 4.6169 - val_accuracy: 0.3333\n",
            "Epoch 6/200\n",
            "15/15 [==============================] - 0s 22ms/step - loss: 7.3670e-04 - accuracy: 1.0000 - val_loss: 4.5745 - val_accuracy: 0.3333\n",
            "Epoch 7/200\n",
            "15/15 [==============================] - 0s 23ms/step - loss: 4.8877e-04 - accuracy: 1.0000 - val_loss: 4.7049 - val_accuracy: 0.3333\n",
            "Epoch 8/200\n",
            "15/15 [==============================] - 0s 23ms/step - loss: 3.2576e-04 - accuracy: 1.0000 - val_loss: 4.8526 - val_accuracy: 0.3333\n",
            "Epoch 9/200\n",
            "15/15 [==============================] - 0s 22ms/step - loss: 2.4292e-04 - accuracy: 1.0000 - val_loss: 4.9497 - val_accuracy: 0.3333\n",
            "Epoch 10/200\n",
            "15/15 [==============================] - 0s 23ms/step - loss: 2.0336e-04 - accuracy: 1.0000 - val_loss: 5.0288 - val_accuracy: 0.3333\n",
            "Epoch 11/200\n",
            "15/15 [==============================] - 0s 23ms/step - loss: 1.2495e-04 - accuracy: 1.0000 - val_loss: 5.0942 - val_accuracy: 0.3333\n",
            "Epoch 12/200\n",
            "15/15 [==============================] - 0s 23ms/step - loss: 1.5361e-04 - accuracy: 1.0000 - val_loss: 5.1675 - val_accuracy: 0.3333\n",
            "Epoch 13/200\n",
            "15/15 [==============================] - 0s 26ms/step - loss: 9.2927e-05 - accuracy: 1.0000 - val_loss: 5.2267 - val_accuracy: 0.3333\n",
            "Epoch 14/200\n",
            "15/15 [==============================] - 0s 23ms/step - loss: 7.4604e-05 - accuracy: 1.0000 - val_loss: 5.2974 - val_accuracy: 0.3333\n",
            "Epoch 15/200\n",
            "15/15 [==============================] - 0s 23ms/step - loss: 5.2059e-05 - accuracy: 1.0000 - val_loss: 5.3767 - val_accuracy: 0.3333\n",
            "Epoch 16/200\n",
            "15/15 [==============================] - 0s 23ms/step - loss: 3.6101e-05 - accuracy: 1.0000 - val_loss: 5.4589 - val_accuracy: 0.3333\n",
            "Epoch 17/200\n",
            "15/15 [==============================] - 0s 23ms/step - loss: 2.8916e-05 - accuracy: 1.0000 - val_loss: 5.5340 - val_accuracy: 0.3333\n",
            "Epoch 18/200\n",
            "15/15 [==============================] - 0s 23ms/step - loss: 2.7835e-05 - accuracy: 1.0000 - val_loss: 5.6269 - val_accuracy: 0.3333\n",
            "Epoch 19/200\n",
            "15/15 [==============================] - 0s 23ms/step - loss: 1.7554e-05 - accuracy: 1.0000 - val_loss: 5.7063 - val_accuracy: 0.3333\n",
            "Epoch 20/200\n",
            "15/15 [==============================] - 0s 23ms/step - loss: 1.6407e-05 - accuracy: 1.0000 - val_loss: 5.7702 - val_accuracy: 0.3333\n",
            "Epoch 21/200\n",
            "15/15 [==============================] - 0s 24ms/step - loss: 1.4990e-05 - accuracy: 1.0000 - val_loss: 5.8447 - val_accuracy: 0.3333\n",
            "Epoch 22/200\n",
            "15/15 [==============================] - 0s 23ms/step - loss: 1.2730e-05 - accuracy: 1.0000 - val_loss: 5.9056 - val_accuracy: 0.3333\n",
            "Epoch 23/200\n",
            "15/15 [==============================] - 0s 22ms/step - loss: 9.2810e-06 - accuracy: 1.0000 - val_loss: 5.9473 - val_accuracy: 0.3333\n",
            "Epoch 24/200\n",
            "15/15 [==============================] - 0s 23ms/step - loss: 8.1998e-06 - accuracy: 1.0000 - val_loss: 6.0121 - val_accuracy: 0.3333\n",
            "Epoch 25/200\n",
            "15/15 [==============================] - 0s 23ms/step - loss: 1.0795e-05 - accuracy: 1.0000 - val_loss: 6.0574 - val_accuracy: 0.3333\n",
            "Epoch 26/200\n",
            "15/15 [==============================] - 0s 32ms/step - loss: 8.0577e-06 - accuracy: 1.0000 - val_loss: 6.1142 - val_accuracy: 0.3333\n",
            "Epoch 27/200\n",
            "15/15 [==============================] - 0s 23ms/step - loss: 4.7266e-06 - accuracy: 1.0000 - val_loss: 6.1449 - val_accuracy: 0.3333\n",
            "Epoch 28/200\n",
            "15/15 [==============================] - 0s 22ms/step - loss: 6.0540e-06 - accuracy: 1.0000 - val_loss: 6.1977 - val_accuracy: 0.3333\n",
            "Epoch 29/200\n",
            "15/15 [==============================] - 0s 23ms/step - loss: 4.8959e-06 - accuracy: 1.0000 - val_loss: 6.2373 - val_accuracy: 0.3333\n",
            "Epoch 30/200\n",
            "15/15 [==============================] - 0s 30ms/step - loss: 3.4786e-06 - accuracy: 1.0000 - val_loss: 6.2792 - val_accuracy: 0.3333\n",
            "Epoch 31/200\n",
            "15/15 [==============================] - 0s 22ms/step - loss: 4.2301e-06 - accuracy: 1.0000 - val_loss: 6.3172 - val_accuracy: 0.3333\n",
            "Epoch 32/200\n",
            "15/15 [==============================] - 0s 23ms/step - loss: 3.3219e-06 - accuracy: 1.0000 - val_loss: 6.3489 - val_accuracy: 0.3333\n",
            "Epoch 33/200\n",
            "15/15 [==============================] - 0s 23ms/step - loss: 3.0038e-06 - accuracy: 1.0000 - val_loss: 6.3667 - val_accuracy: 0.3333\n",
            "Epoch 34/200\n",
            "15/15 [==============================] - 0s 24ms/step - loss: 3.0873e-06 - accuracy: 1.0000 - val_loss: 6.3988 - val_accuracy: 0.3333\n",
            "Epoch 35/200\n",
            "15/15 [==============================] - 0s 22ms/step - loss: 2.8960e-06 - accuracy: 1.0000 - val_loss: 6.4265 - val_accuracy: 0.3333\n",
            "Epoch 36/200\n",
            "15/15 [==============================] - 0s 22ms/step - loss: 2.6302e-06 - accuracy: 1.0000 - val_loss: 6.4431 - val_accuracy: 0.3333\n",
            "Epoch 37/200\n",
            "15/15 [==============================] - 0s 23ms/step - loss: 2.3894e-06 - accuracy: 1.0000 - val_loss: 6.4766 - val_accuracy: 0.3333\n",
            "Epoch 38/200\n",
            "15/15 [==============================] - 0s 22ms/step - loss: 3.0154e-06 - accuracy: 1.0000 - val_loss: 6.5061 - val_accuracy: 0.3333\n",
            "Epoch 39/200\n",
            "15/15 [==============================] - 0s 23ms/step - loss: 2.0138e-06 - accuracy: 1.0000 - val_loss: 6.5263 - val_accuracy: 0.3333\n",
            "Epoch 40/200\n",
            "15/15 [==============================] - 0s 23ms/step - loss: 2.8497e-06 - accuracy: 1.0000 - val_loss: 6.5422 - val_accuracy: 0.3333\n",
            "Epoch 41/200\n",
            "15/15 [==============================] - 0s 22ms/step - loss: 1.7010e-06 - accuracy: 1.0000 - val_loss: 6.5761 - val_accuracy: 0.3333\n",
            "Epoch 42/200\n",
            "15/15 [==============================] - 0s 23ms/step - loss: 1.8356e-06 - accuracy: 1.0000 - val_loss: 6.5974 - val_accuracy: 0.3333\n",
            "Epoch 43/200\n",
            "15/15 [==============================] - 0s 23ms/step - loss: 1.9075e-06 - accuracy: 1.0000 - val_loss: 6.6149 - val_accuracy: 0.3333\n",
            "Epoch 44/200\n",
            "15/15 [==============================] - 0s 23ms/step - loss: 1.1809e-06 - accuracy: 1.0000 - val_loss: 6.6324 - val_accuracy: 0.3333\n",
            "Epoch 45/200\n",
            "15/15 [==============================] - 0s 22ms/step - loss: 1.2213e-06 - accuracy: 1.0000 - val_loss: 6.6568 - val_accuracy: 0.3333\n",
            "Epoch 46/200\n",
            "15/15 [==============================] - 0s 23ms/step - loss: 1.2199e-06 - accuracy: 1.0000 - val_loss: 6.6693 - val_accuracy: 0.3333\n",
            "Epoch 47/200\n",
            "15/15 [==============================] - 0s 22ms/step - loss: 1.4259e-06 - accuracy: 1.0000 - val_loss: 6.6891 - val_accuracy: 0.3333\n",
            "Epoch 48/200\n",
            "15/15 [==============================] - 0s 22ms/step - loss: 1.3837e-06 - accuracy: 1.0000 - val_loss: 6.7082 - val_accuracy: 0.3333\n",
            "Epoch 49/200\n",
            "15/15 [==============================] - 0s 23ms/step - loss: 1.2218e-06 - accuracy: 1.0000 - val_loss: 6.7307 - val_accuracy: 0.3333\n",
            "Epoch 50/200\n",
            "15/15 [==============================] - 0s 22ms/step - loss: 1.0085e-06 - accuracy: 1.0000 - val_loss: 6.7439 - val_accuracy: 0.3333\n",
            "Epoch 51/200\n",
            "15/15 [==============================] - 0s 23ms/step - loss: 1.1992e-06 - accuracy: 1.0000 - val_loss: 6.7612 - val_accuracy: 0.3333\n",
            "Epoch 52/200\n",
            "15/15 [==============================] - 0s 22ms/step - loss: 7.1078e-07 - accuracy: 1.0000 - val_loss: 6.7821 - val_accuracy: 0.3333\n",
            "Epoch 53/200\n",
            "15/15 [==============================] - 0s 22ms/step - loss: 1.2727e-06 - accuracy: 1.0000 - val_loss: 6.7973 - val_accuracy: 0.3333\n",
            "Epoch 54/200\n",
            "15/15 [==============================] - 0s 24ms/step - loss: 6.9934e-07 - accuracy: 1.0000 - val_loss: 6.8254 - val_accuracy: 0.3333\n",
            "Epoch 55/200\n",
            "15/15 [==============================] - 0s 23ms/step - loss: 1.1208e-06 - accuracy: 1.0000 - val_loss: 6.8354 - val_accuracy: 0.3333\n",
            "Epoch 56/200\n",
            "15/15 [==============================] - 0s 23ms/step - loss: 7.5465e-07 - accuracy: 1.0000 - val_loss: 6.8517 - val_accuracy: 0.3333\n",
            "Epoch 57/200\n",
            "15/15 [==============================] - 0s 23ms/step - loss: 6.8095e-07 - accuracy: 1.0000 - val_loss: 6.8629 - val_accuracy: 0.3333\n",
            "Epoch 58/200\n",
            "15/15 [==============================] - 0s 22ms/step - loss: 7.8910e-07 - accuracy: 1.0000 - val_loss: 6.8756 - val_accuracy: 0.3333\n",
            "Epoch 59/200\n",
            "15/15 [==============================] - 0s 24ms/step - loss: 8.1535e-07 - accuracy: 1.0000 - val_loss: 6.8941 - val_accuracy: 0.3333\n",
            "Epoch 60/200\n",
            "15/15 [==============================] - 0s 24ms/step - loss: 7.8465e-07 - accuracy: 1.0000 - val_loss: 6.9133 - val_accuracy: 0.3333\n",
            "Epoch 61/200\n",
            "15/15 [==============================] - 0s 24ms/step - loss: 8.9591e-07 - accuracy: 1.0000 - val_loss: 6.9281 - val_accuracy: 0.3333\n",
            "Epoch 62/200\n",
            "15/15 [==============================] - 0s 24ms/step - loss: 7.5340e-07 - accuracy: 1.0000 - val_loss: 6.9446 - val_accuracy: 0.3333\n",
            "Epoch 63/200\n",
            "15/15 [==============================] - 0s 23ms/step - loss: 7.0485e-07 - accuracy: 1.0000 - val_loss: 6.9602 - val_accuracy: 0.3333\n",
            "Epoch 64/200\n",
            "15/15 [==============================] - 0s 23ms/step - loss: 5.8277e-07 - accuracy: 1.0000 - val_loss: 6.9714 - val_accuracy: 0.3333\n",
            "Epoch 65/200\n",
            "15/15 [==============================] - 0s 23ms/step - loss: 4.8335e-07 - accuracy: 1.0000 - val_loss: 6.9931 - val_accuracy: 0.3333\n",
            "Epoch 66/200\n",
            "15/15 [==============================] - 0s 23ms/step - loss: 6.6131e-07 - accuracy: 1.0000 - val_loss: 6.9949 - val_accuracy: 0.3333\n",
            "Epoch 67/200\n",
            "15/15 [==============================] - 0s 23ms/step - loss: 5.4662e-07 - accuracy: 1.0000 - val_loss: 7.0157 - val_accuracy: 0.3333\n",
            "Epoch 68/200\n",
            "15/15 [==============================] - 0s 23ms/step - loss: 4.7004e-07 - accuracy: 1.0000 - val_loss: 7.0267 - val_accuracy: 0.3333\n",
            "Epoch 69/200\n",
            "15/15 [==============================] - 0s 23ms/step - loss: 5.4060e-07 - accuracy: 1.0000 - val_loss: 7.0347 - val_accuracy: 0.3333\n",
            "Epoch 70/200\n",
            "15/15 [==============================] - 0s 23ms/step - loss: 4.8180e-07 - accuracy: 1.0000 - val_loss: 7.0551 - val_accuracy: 0.3333\n",
            "Epoch 71/200\n",
            "15/15 [==============================] - 0s 24ms/step - loss: 5.6193e-07 - accuracy: 1.0000 - val_loss: 7.0561 - val_accuracy: 0.3333\n",
            "Epoch 72/200\n",
            "15/15 [==============================] - 0s 24ms/step - loss: 5.8157e-07 - accuracy: 1.0000 - val_loss: 7.0651 - val_accuracy: 0.3333\n",
            "Epoch 73/200\n",
            "15/15 [==============================] - 0s 25ms/step - loss: 5.6897e-07 - accuracy: 1.0000 - val_loss: 7.0805 - val_accuracy: 0.3333\n",
            "Epoch 74/200\n",
            "15/15 [==============================] - 0s 23ms/step - loss: 4.4204e-07 - accuracy: 1.0000 - val_loss: 7.0905 - val_accuracy: 0.3333\n",
            "Epoch 75/200\n",
            "15/15 [==============================] - 0s 24ms/step - loss: 5.6787e-07 - accuracy: 1.0000 - val_loss: 7.1004 - val_accuracy: 0.3333\n",
            "Epoch 76/200\n",
            "15/15 [==============================] - 0s 32ms/step - loss: 4.4783e-07 - accuracy: 1.0000 - val_loss: 7.1172 - val_accuracy: 0.3333\n",
            "Epoch 77/200\n",
            "15/15 [==============================] - 0s 25ms/step - loss: 3.4028e-07 - accuracy: 1.0000 - val_loss: 7.1228 - val_accuracy: 0.3333\n",
            "Epoch 78/200\n",
            "15/15 [==============================] - 0s 34ms/step - loss: 3.9112e-07 - accuracy: 1.0000 - val_loss: 7.1352 - val_accuracy: 0.3333\n",
            "Epoch 79/200\n",
            "15/15 [==============================] - 0s 24ms/step - loss: 4.5602e-07 - accuracy: 1.0000 - val_loss: 7.1443 - val_accuracy: 0.3333\n",
            "Epoch 80/200\n",
            "15/15 [==============================] - 0s 24ms/step - loss: 5.5036e-07 - accuracy: 1.0000 - val_loss: 7.1568 - val_accuracy: 0.3333\n",
            "Epoch 81/200\n",
            "15/15 [==============================] - 0s 28ms/step - loss: 4.1196e-07 - accuracy: 1.0000 - val_loss: 7.1707 - val_accuracy: 0.3333\n",
            "Epoch 82/200\n",
            "15/15 [==============================] - 0s 24ms/step - loss: 3.2882e-07 - accuracy: 1.0000 - val_loss: 7.1831 - val_accuracy: 0.3333\n",
            "Epoch 83/200\n",
            "15/15 [==============================] - 0s 25ms/step - loss: 4.0801e-07 - accuracy: 1.0000 - val_loss: 7.1859 - val_accuracy: 0.3333\n",
            "Epoch 84/200\n",
            "15/15 [==============================] - 0s 25ms/step - loss: 2.9724e-07 - accuracy: 1.0000 - val_loss: 7.2014 - val_accuracy: 0.3333\n",
            "Epoch 85/200\n",
            "15/15 [==============================] - 0s 23ms/step - loss: 2.2549e-07 - accuracy: 1.0000 - val_loss: 7.2087 - val_accuracy: 0.3333\n",
            "Epoch 86/200\n",
            "15/15 [==============================] - 0s 25ms/step - loss: 3.8030e-07 - accuracy: 1.0000 - val_loss: 7.2109 - val_accuracy: 0.3333\n",
            "Epoch 87/200\n",
            "15/15 [==============================] - 1s 65ms/step - loss: 1.9087e-07 - accuracy: 1.0000 - val_loss: 7.2243 - val_accuracy: 0.3333\n",
            "Epoch 88/200\n",
            "15/15 [==============================] - 0s 30ms/step - loss: 4.6633e-07 - accuracy: 1.0000 - val_loss: 7.2272 - val_accuracy: 0.3333\n",
            "Epoch 89/200\n",
            "15/15 [==============================] - 0s 31ms/step - loss: 3.1559e-07 - accuracy: 1.0000 - val_loss: 7.2361 - val_accuracy: 0.3333\n",
            "Epoch 90/200\n",
            "15/15 [==============================] - 0s 30ms/step - loss: 2.4892e-07 - accuracy: 1.0000 - val_loss: 7.2467 - val_accuracy: 0.3333\n",
            "Epoch 91/200\n",
            "15/15 [==============================] - 0s 23ms/step - loss: 2.8049e-07 - accuracy: 1.0000 - val_loss: 7.2514 - val_accuracy: 0.3333\n",
            "Epoch 92/200\n",
            "15/15 [==============================] - 0s 24ms/step - loss: 3.3442e-07 - accuracy: 1.0000 - val_loss: 7.2638 - val_accuracy: 0.3333\n",
            "Epoch 93/200\n",
            "15/15 [==============================] - 0s 30ms/step - loss: 2.8492e-07 - accuracy: 1.0000 - val_loss: 7.2757 - val_accuracy: 0.3333\n",
            "Epoch 94/200\n",
            "15/15 [==============================] - 0s 25ms/step - loss: 2.0945e-07 - accuracy: 1.0000 - val_loss: 7.2859 - val_accuracy: 0.3333\n",
            "Epoch 95/200\n",
            "15/15 [==============================] - 0s 23ms/step - loss: 2.4324e-07 - accuracy: 1.0000 - val_loss: 7.2910 - val_accuracy: 0.3333\n",
            "Epoch 96/200\n",
            "15/15 [==============================] - 0s 24ms/step - loss: 2.5516e-07 - accuracy: 1.0000 - val_loss: 7.3010 - val_accuracy: 0.3333\n",
            "Epoch 97/200\n",
            "15/15 [==============================] - 0s 31ms/step - loss: 2.1308e-07 - accuracy: 1.0000 - val_loss: 7.3134 - val_accuracy: 0.3333\n",
            "Epoch 98/200\n",
            "15/15 [==============================] - 0s 23ms/step - loss: 1.8975e-07 - accuracy: 1.0000 - val_loss: 7.3199 - val_accuracy: 0.3333\n",
            "Epoch 99/200\n",
            "15/15 [==============================] - 0s 23ms/step - loss: 2.0733e-07 - accuracy: 1.0000 - val_loss: 7.3227 - val_accuracy: 0.3333\n",
            "Epoch 100/200\n",
            "15/15 [==============================] - 0s 23ms/step - loss: 2.8530e-07 - accuracy: 1.0000 - val_loss: 7.3287 - val_accuracy: 0.3333\n",
            "Epoch 101/200\n",
            "15/15 [==============================] - 0s 24ms/step - loss: 1.9719e-07 - accuracy: 1.0000 - val_loss: 7.3411 - val_accuracy: 0.3333\n",
            "Epoch 102/200\n",
            "15/15 [==============================] - 0s 24ms/step - loss: 2.8598e-07 - accuracy: 1.0000 - val_loss: 7.3474 - val_accuracy: 0.3333\n",
            "Epoch 103/200\n",
            "15/15 [==============================] - 0s 30ms/step - loss: 2.0731e-07 - accuracy: 1.0000 - val_loss: 7.3569 - val_accuracy: 0.3333\n",
            "Epoch 104/200\n",
            "15/15 [==============================] - 0s 24ms/step - loss: 2.1113e-07 - accuracy: 1.0000 - val_loss: 7.3653 - val_accuracy: 0.3333\n",
            "Epoch 105/200\n",
            "15/15 [==============================] - 0s 24ms/step - loss: 3.5302e-07 - accuracy: 1.0000 - val_loss: 7.3673 - val_accuracy: 0.3333\n",
            "Epoch 106/200\n",
            "15/15 [==============================] - 0s 24ms/step - loss: 2.0712e-07 - accuracy: 1.0000 - val_loss: 7.3767 - val_accuracy: 0.3333\n",
            "Epoch 107/200\n",
            "15/15 [==============================] - 0s 24ms/step - loss: 2.9084e-07 - accuracy: 1.0000 - val_loss: 7.3840 - val_accuracy: 0.3333\n",
            "Epoch 108/200\n",
            "15/15 [==============================] - 0s 23ms/step - loss: 2.3747e-07 - accuracy: 1.0000 - val_loss: 7.3910 - val_accuracy: 0.3333\n",
            "Epoch 109/200\n",
            "15/15 [==============================] - 0s 23ms/step - loss: 1.6840e-07 - accuracy: 1.0000 - val_loss: 7.3985 - val_accuracy: 0.3333\n",
            "Epoch 110/200\n",
            "15/15 [==============================] - 0s 24ms/step - loss: 1.6702e-07 - accuracy: 1.0000 - val_loss: 7.4028 - val_accuracy: 0.3333\n",
            "Epoch 111/200\n",
            "15/15 [==============================] - 0s 24ms/step - loss: 1.5482e-07 - accuracy: 1.0000 - val_loss: 7.4131 - val_accuracy: 0.3333\n",
            "Epoch 112/200\n",
            "15/15 [==============================] - 0s 24ms/step - loss: 2.0544e-07 - accuracy: 1.0000 - val_loss: 7.4163 - val_accuracy: 0.3333\n",
            "Epoch 113/200\n",
            "15/15 [==============================] - 0s 31ms/step - loss: 2.5368e-07 - accuracy: 1.0000 - val_loss: 7.4234 - val_accuracy: 0.3333\n",
            "Epoch 114/200\n",
            "15/15 [==============================] - 0s 24ms/step - loss: 2.1841e-07 - accuracy: 1.0000 - val_loss: 7.4326 - val_accuracy: 0.3333\n",
            "Epoch 115/200\n",
            "15/15 [==============================] - 0s 23ms/step - loss: 1.9147e-07 - accuracy: 1.0000 - val_loss: 7.4410 - val_accuracy: 0.3333\n",
            "Epoch 116/200\n",
            "15/15 [==============================] - 0s 24ms/step - loss: 1.2795e-07 - accuracy: 1.0000 - val_loss: 7.4516 - val_accuracy: 0.3333\n",
            "Epoch 117/200\n",
            "15/15 [==============================] - 0s 24ms/step - loss: 1.9177e-07 - accuracy: 1.0000 - val_loss: 7.4532 - val_accuracy: 0.3333\n",
            "Epoch 118/200\n",
            "15/15 [==============================] - 0s 33ms/step - loss: 1.4872e-07 - accuracy: 1.0000 - val_loss: 7.4620 - val_accuracy: 0.3333\n",
            "Epoch 119/200\n",
            "15/15 [==============================] - 0s 24ms/step - loss: 1.4527e-07 - accuracy: 1.0000 - val_loss: 7.4747 - val_accuracy: 0.3333\n",
            "Epoch 120/200\n",
            "15/15 [==============================] - 0s 23ms/step - loss: 1.0493e-07 - accuracy: 1.0000 - val_loss: 7.4768 - val_accuracy: 0.3333\n",
            "Epoch 121/200\n",
            "15/15 [==============================] - 0s 23ms/step - loss: 1.8518e-07 - accuracy: 1.0000 - val_loss: 7.4856 - val_accuracy: 0.3333\n",
            "Epoch 122/200\n",
            "15/15 [==============================] - 0s 24ms/step - loss: 1.6741e-07 - accuracy: 1.0000 - val_loss: 7.4943 - val_accuracy: 0.3333\n",
            "Epoch 123/200\n",
            "15/15 [==============================] - 0s 24ms/step - loss: 1.5524e-07 - accuracy: 1.0000 - val_loss: 7.5000 - val_accuracy: 0.3333\n",
            "Epoch 124/200\n",
            "15/15 [==============================] - 0s 23ms/step - loss: 1.2139e-07 - accuracy: 1.0000 - val_loss: 7.5071 - val_accuracy: 0.3333\n",
            "Epoch 125/200\n",
            "15/15 [==============================] - 0s 25ms/step - loss: 1.4018e-07 - accuracy: 1.0000 - val_loss: 7.5165 - val_accuracy: 0.3333\n",
            "Epoch 126/200\n",
            "15/15 [==============================] - 0s 24ms/step - loss: 1.2524e-07 - accuracy: 1.0000 - val_loss: 7.5224 - val_accuracy: 0.3333\n",
            "Epoch 127/200\n",
            "15/15 [==============================] - 0s 25ms/step - loss: 1.1563e-07 - accuracy: 1.0000 - val_loss: 7.5283 - val_accuracy: 0.3333\n",
            "Epoch 128/200\n",
            "15/15 [==============================] - 0s 25ms/step - loss: 1.0181e-07 - accuracy: 1.0000 - val_loss: 7.5398 - val_accuracy: 0.3333\n",
            "Epoch 129/200\n",
            "15/15 [==============================] - 0s 24ms/step - loss: 1.2947e-07 - accuracy: 1.0000 - val_loss: 7.5404 - val_accuracy: 0.3333\n",
            "Epoch 130/200\n",
            "15/15 [==============================] - 0s 24ms/step - loss: 1.2113e-07 - accuracy: 1.0000 - val_loss: 7.5501 - val_accuracy: 0.3333\n",
            "Epoch 131/200\n",
            "15/15 [==============================] - 0s 25ms/step - loss: 9.2142e-08 - accuracy: 1.0000 - val_loss: 7.5579 - val_accuracy: 0.3333\n",
            "Epoch 132/200\n",
            "15/15 [==============================] - 0s 26ms/step - loss: 1.2177e-07 - accuracy: 1.0000 - val_loss: 7.5676 - val_accuracy: 0.3333\n",
            "Epoch 133/200\n",
            "15/15 [==============================] - 0s 24ms/step - loss: 1.2743e-07 - accuracy: 1.0000 - val_loss: 7.5739 - val_accuracy: 0.3333\n",
            "Epoch 134/200\n",
            "15/15 [==============================] - 0s 24ms/step - loss: 1.2574e-07 - accuracy: 1.0000 - val_loss: 7.5802 - val_accuracy: 0.3333\n",
            "Epoch 135/200\n",
            "15/15 [==============================] - 0s 25ms/step - loss: 1.1138e-07 - accuracy: 1.0000 - val_loss: 7.5844 - val_accuracy: 0.3333\n",
            "Epoch 136/200\n",
            "15/15 [==============================] - 0s 24ms/step - loss: 1.2757e-07 - accuracy: 1.0000 - val_loss: 7.5880 - val_accuracy: 0.3333\n",
            "Epoch 137/200\n",
            "15/15 [==============================] - 0s 24ms/step - loss: 1.1924e-07 - accuracy: 1.0000 - val_loss: 7.5928 - val_accuracy: 0.3333\n",
            "Epoch 138/200\n",
            "15/15 [==============================] - 0s 24ms/step - loss: 1.5923e-07 - accuracy: 1.0000 - val_loss: 7.5992 - val_accuracy: 0.3333\n",
            "Epoch 139/200\n",
            "15/15 [==============================] - 0s 24ms/step - loss: 1.1589e-07 - accuracy: 1.0000 - val_loss: 7.6062 - val_accuracy: 0.3333\n",
            "Epoch 140/200\n",
            "15/15 [==============================] - 0s 26ms/step - loss: 1.3183e-07 - accuracy: 1.0000 - val_loss: 7.6052 - val_accuracy: 0.3333\n",
            "Epoch 141/200\n",
            "15/15 [==============================] - 0s 25ms/step - loss: 1.1761e-07 - accuracy: 1.0000 - val_loss: 7.6139 - val_accuracy: 0.3333\n",
            "Epoch 142/200\n",
            "15/15 [==============================] - 0s 24ms/step - loss: 9.1612e-08 - accuracy: 1.0000 - val_loss: 7.6176 - val_accuracy: 0.3333\n",
            "Epoch 143/200\n",
            "15/15 [==============================] - 0s 24ms/step - loss: 8.8192e-08 - accuracy: 1.0000 - val_loss: 7.6194 - val_accuracy: 0.3333\n",
            "Epoch 144/200\n",
            "15/15 [==============================] - 0s 31ms/step - loss: 9.9333e-08 - accuracy: 1.0000 - val_loss: 7.6251 - val_accuracy: 0.3333\n",
            "Epoch 145/200\n",
            "15/15 [==============================] - 0s 24ms/step - loss: 7.9034e-08 - accuracy: 1.0000 - val_loss: 7.6295 - val_accuracy: 0.3333\n",
            "Epoch 146/200\n",
            "15/15 [==============================] - 0s 24ms/step - loss: 6.7910e-08 - accuracy: 1.0000 - val_loss: 7.6358 - val_accuracy: 0.3333\n",
            "Epoch 147/200\n",
            "15/15 [==============================] - 0s 31ms/step - loss: 9.1004e-08 - accuracy: 1.0000 - val_loss: 7.6392 - val_accuracy: 0.3333\n",
            "Epoch 148/200\n",
            "15/15 [==============================] - 0s 24ms/step - loss: 1.0486e-07 - accuracy: 1.0000 - val_loss: 7.6472 - val_accuracy: 0.3333\n",
            "Epoch 149/200\n",
            "15/15 [==============================] - 0s 25ms/step - loss: 9.5467e-08 - accuracy: 1.0000 - val_loss: 7.6537 - val_accuracy: 0.3333\n",
            "Epoch 150/200\n",
            "15/15 [==============================] - 0s 24ms/step - loss: 1.3801e-07 - accuracy: 1.0000 - val_loss: 7.6582 - val_accuracy: 0.3333\n",
            "Epoch 151/200\n",
            "15/15 [==============================] - 0s 24ms/step - loss: 6.3824e-08 - accuracy: 1.0000 - val_loss: 7.6649 - val_accuracy: 0.3333\n",
            "Epoch 152/200\n",
            "15/15 [==============================] - 0s 24ms/step - loss: 9.3239e-08 - accuracy: 1.0000 - val_loss: 7.6680 - val_accuracy: 0.3333\n",
            "Epoch 153/200\n",
            "15/15 [==============================] - 0s 24ms/step - loss: 6.9567e-08 - accuracy: 1.0000 - val_loss: 7.6700 - val_accuracy: 0.3333\n",
            "Epoch 154/200\n",
            "15/15 [==============================] - 0s 24ms/step - loss: 7.3601e-08 - accuracy: 1.0000 - val_loss: 7.6730 - val_accuracy: 0.3333\n",
            "Epoch 155/200\n",
            "15/15 [==============================] - 0s 23ms/step - loss: 8.5969e-08 - accuracy: 1.0000 - val_loss: 7.6743 - val_accuracy: 0.3333\n",
            "Epoch 156/200\n",
            "15/15 [==============================] - 0s 24ms/step - loss: 1.3236e-07 - accuracy: 1.0000 - val_loss: 7.6770 - val_accuracy: 0.3333\n",
            "Epoch 157/200\n",
            "15/15 [==============================] - 0s 24ms/step - loss: 9.3251e-08 - accuracy: 1.0000 - val_loss: 7.6792 - val_accuracy: 0.3333\n",
            "Epoch 158/200\n",
            "15/15 [==============================] - 0s 26ms/step - loss: 6.5133e-08 - accuracy: 1.0000 - val_loss: 7.6833 - val_accuracy: 0.3333\n",
            "Epoch 159/200\n",
            "15/15 [==============================] - 0s 23ms/step - loss: 9.3651e-08 - accuracy: 1.0000 - val_loss: 7.6813 - val_accuracy: 0.3333\n",
            "Epoch 160/200\n",
            "15/15 [==============================] - 0s 24ms/step - loss: 6.6035e-08 - accuracy: 1.0000 - val_loss: 7.6834 - val_accuracy: 0.3333\n",
            "Epoch 161/200\n",
            "15/15 [==============================] - 0s 24ms/step - loss: 7.3926e-08 - accuracy: 1.0000 - val_loss: 7.6879 - val_accuracy: 0.3333\n",
            "Epoch 162/200\n",
            "15/15 [==============================] - 0s 24ms/step - loss: 4.8171e-08 - accuracy: 1.0000 - val_loss: 7.6902 - val_accuracy: 0.3333\n",
            "Epoch 163/200\n",
            "15/15 [==============================] - 0s 24ms/step - loss: 7.9953e-08 - accuracy: 1.0000 - val_loss: 7.6902 - val_accuracy: 0.3333\n",
            "Epoch 164/200\n",
            "15/15 [==============================] - 0s 24ms/step - loss: 9.7250e-08 - accuracy: 1.0000 - val_loss: 7.6931 - val_accuracy: 0.3333\n",
            "Epoch 165/200\n",
            "15/15 [==============================] - 0s 24ms/step - loss: 6.4959e-08 - accuracy: 1.0000 - val_loss: 7.6952 - val_accuracy: 0.3333\n",
            "Epoch 166/200\n",
            "15/15 [==============================] - 1s 34ms/step - loss: 8.2125e-08 - accuracy: 1.0000 - val_loss: 7.6991 - val_accuracy: 0.3333\n",
            "Epoch 167/200\n",
            "15/15 [==============================] - 0s 23ms/step - loss: 5.2902e-08 - accuracy: 1.0000 - val_loss: 7.7009 - val_accuracy: 0.3333\n",
            "Epoch 168/200\n",
            "15/15 [==============================] - 0s 24ms/step - loss: 5.8863e-08 - accuracy: 1.0000 - val_loss: 7.7034 - val_accuracy: 0.3333\n",
            "Epoch 169/200\n",
            "15/15 [==============================] - 0s 25ms/step - loss: 8.0375e-08 - accuracy: 1.0000 - val_loss: 7.7021 - val_accuracy: 0.3333\n",
            "Epoch 170/200\n",
            "15/15 [==============================] - 0s 24ms/step - loss: 6.1335e-08 - accuracy: 1.0000 - val_loss: 7.7056 - val_accuracy: 0.3333\n",
            "Epoch 171/200\n",
            "15/15 [==============================] - 0s 25ms/step - loss: 5.2831e-08 - accuracy: 1.0000 - val_loss: 7.7084 - val_accuracy: 0.3333\n",
            "Epoch 172/200\n",
            "15/15 [==============================] - 0s 24ms/step - loss: 5.7924e-08 - accuracy: 1.0000 - val_loss: 7.7145 - val_accuracy: 0.3333\n",
            "Epoch 173/200\n",
            "15/15 [==============================] - 0s 24ms/step - loss: 6.8741e-08 - accuracy: 1.0000 - val_loss: 7.7173 - val_accuracy: 0.3333\n",
            "Epoch 174/200\n",
            "15/15 [==============================] - 0s 24ms/step - loss: 3.4001e-08 - accuracy: 1.0000 - val_loss: 7.7216 - val_accuracy: 0.3333\n",
            "Epoch 175/200\n",
            "15/15 [==============================] - 0s 24ms/step - loss: 9.1950e-08 - accuracy: 1.0000 - val_loss: 7.7237 - val_accuracy: 0.3333\n",
            "Epoch 176/200\n",
            "15/15 [==============================] - 0s 24ms/step - loss: 6.0925e-08 - accuracy: 1.0000 - val_loss: 7.7276 - val_accuracy: 0.3333\n",
            "Epoch 177/200\n",
            "15/15 [==============================] - 0s 24ms/step - loss: 4.5439e-08 - accuracy: 1.0000 - val_loss: 7.7312 - val_accuracy: 0.3333\n",
            "Epoch 178/200\n",
            "15/15 [==============================] - 0s 24ms/step - loss: 4.3582e-08 - accuracy: 1.0000 - val_loss: 7.7357 - val_accuracy: 0.3333\n",
            "Epoch 179/200\n",
            "15/15 [==============================] - 0s 31ms/step - loss: 3.6200e-08 - accuracy: 1.0000 - val_loss: 7.7417 - val_accuracy: 0.3333\n",
            "Epoch 180/200\n",
            "15/15 [==============================] - 0s 23ms/step - loss: 4.3974e-08 - accuracy: 1.0000 - val_loss: 7.7426 - val_accuracy: 0.3333\n",
            "Epoch 181/200\n",
            "15/15 [==============================] - 0s 25ms/step - loss: 2.5907e-08 - accuracy: 1.0000 - val_loss: 7.7484 - val_accuracy: 0.3333\n",
            "Epoch 182/200\n",
            "15/15 [==============================] - 0s 24ms/step - loss: 6.4223e-08 - accuracy: 1.0000 - val_loss: 7.7542 - val_accuracy: 0.3333\n",
            "Epoch 183/200\n",
            "15/15 [==============================] - 0s 23ms/step - loss: 4.7306e-08 - accuracy: 1.0000 - val_loss: 7.7587 - val_accuracy: 0.3333\n",
            "Epoch 184/200\n",
            "15/15 [==============================] - 0s 26ms/step - loss: 8.0161e-08 - accuracy: 1.0000 - val_loss: 7.7609 - val_accuracy: 0.3333\n",
            "Epoch 185/200\n",
            "15/15 [==============================] - 0s 24ms/step - loss: 4.9246e-08 - accuracy: 1.0000 - val_loss: 7.7644 - val_accuracy: 0.3333\n",
            "Epoch 186/200\n",
            "15/15 [==============================] - 0s 24ms/step - loss: 6.5165e-08 - accuracy: 1.0000 - val_loss: 7.7686 - val_accuracy: 0.3333\n",
            "Epoch 187/200\n",
            "15/15 [==============================] - 0s 24ms/step - loss: 5.4662e-08 - accuracy: 1.0000 - val_loss: 7.7738 - val_accuracy: 0.3333\n",
            "Epoch 188/200\n",
            "15/15 [==============================] - 0s 25ms/step - loss: 5.1922e-08 - accuracy: 1.0000 - val_loss: 7.7795 - val_accuracy: 0.3333\n",
            "Epoch 189/200\n",
            "15/15 [==============================] - 0s 25ms/step - loss: 3.6904e-08 - accuracy: 1.0000 - val_loss: 7.7842 - val_accuracy: 0.3333\n",
            "Epoch 190/200\n",
            "15/15 [==============================] - 0s 24ms/step - loss: 5.4238e-08 - accuracy: 1.0000 - val_loss: 7.7865 - val_accuracy: 0.3333\n",
            "Epoch 191/200\n",
            "15/15 [==============================] - 0s 24ms/step - loss: 5.3836e-08 - accuracy: 1.0000 - val_loss: 7.7925 - val_accuracy: 0.3333\n",
            "Epoch 192/200\n",
            "15/15 [==============================] - 0s 25ms/step - loss: 3.6114e-08 - accuracy: 1.0000 - val_loss: 7.7965 - val_accuracy: 0.3333\n",
            "Epoch 193/200\n",
            "15/15 [==============================] - 0s 24ms/step - loss: 7.3807e-08 - accuracy: 1.0000 - val_loss: 7.8004 - val_accuracy: 0.3333\n",
            "Epoch 194/200\n",
            "15/15 [==============================] - 0s 23ms/step - loss: 5.4525e-08 - accuracy: 1.0000 - val_loss: 7.8051 - val_accuracy: 0.3333\n",
            "Epoch 195/200\n",
            "15/15 [==============================] - 0s 24ms/step - loss: 7.3354e-08 - accuracy: 1.0000 - val_loss: 7.8112 - val_accuracy: 0.3333\n",
            "Epoch 196/200\n",
            "15/15 [==============================] - 0s 24ms/step - loss: 3.5548e-08 - accuracy: 1.0000 - val_loss: 7.8145 - val_accuracy: 0.3333\n",
            "Epoch 197/200\n",
            "15/15 [==============================] - 0s 25ms/step - loss: 2.7313e-08 - accuracy: 1.0000 - val_loss: 7.8188 - val_accuracy: 0.3333\n",
            "Epoch 198/200\n",
            "15/15 [==============================] - 0s 23ms/step - loss: 3.6064e-08 - accuracy: 1.0000 - val_loss: 7.8220 - val_accuracy: 0.3333\n",
            "Epoch 199/200\n",
            "15/15 [==============================] - 0s 22ms/step - loss: 3.4611e-08 - accuracy: 1.0000 - val_loss: 7.8258 - val_accuracy: 0.3333\n",
            "Epoch 200/200\n",
            "15/15 [==============================] - 0s 24ms/step - loss: 2.9328e-08 - accuracy: 1.0000 - val_loss: 7.8301 - val_accuracy: 0.3333\n"
          ],
          "name": "stdout"
        },
        {
          "output_type": "execute_result",
          "data": {
            "text/plain": [
              "<tensorflow.python.keras.callbacks.History at 0x7f6822f1c080>"
            ]
          },
          "metadata": {
            "tags": []
          },
          "execution_count": 10
        }
      ]
    },
    {
      "cell_type": "markdown",
      "metadata": {
        "id": "eqjfdi3thaDo"
      },
      "source": [
        "### 모델 평가"
      ]
    },
    {
      "cell_type": "code",
      "metadata": {
        "colab": {
          "base_uri": "https://localhost:8080/"
        },
        "id": "bN-J822phQUH",
        "outputId": "ce2ee9b0-4703-4508-800b-eee63adcc14f"
      },
      "source": [
        "print(\"-- Evaluate --\")\r\n",
        "scores = model.evaluate_generator(test_generator, steps=5)\r\n",
        "print(\"%s: %.2f%%\" %(model.metrics_names[1], scores[1]*100))"
      ],
      "execution_count": 11,
      "outputs": [
        {
          "output_type": "stream",
          "text": [
            "-- Evaluate --\n",
            "accuracy: 33.33%\n"
          ],
          "name": "stdout"
        },
        {
          "output_type": "stream",
          "text": [
            "/usr/local/lib/python3.6/dist-packages/tensorflow/python/keras/engine/training.py:1877: UserWarning: `Model.evaluate_generator` is deprecated and will be removed in a future version. Please use `Model.evaluate`, which supports generators.\n",
            "  warnings.warn('`Model.evaluate_generator` is deprecated and '\n"
          ],
          "name": "stderr"
        }
      ]
    },
    {
      "cell_type": "code",
      "metadata": {
        "id": "GEPaDkWvhlnv"
      },
      "source": [
        ""
      ],
      "execution_count": null,
      "outputs": []
    }
  ]
}