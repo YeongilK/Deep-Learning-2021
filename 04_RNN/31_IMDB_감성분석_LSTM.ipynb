{
  "nbformat": 4,
  "nbformat_minor": 0,
  "metadata": {
    "colab": {
      "name": "22_IMDB_감성분석-LSTM.ipynb",
      "provenance": [],
      "collapsed_sections": []
    },
    "kernelspec": {
      "name": "python3",
      "display_name": "Python 3"
    },
    "accelerator": "GPU"
  },
  "cells": [
    {
      "cell_type": "markdown",
      "metadata": {
        "id": "ssq9mWf4o0tM"
      },
      "source": [
        "# LSTM을 이용한 IMDB 분류\r\n",
        "- 모든 단어가 아닌 빈도수 5000 까지\r\n",
        "- 모든 문장이 아니라 500 단어까지"
      ]
    },
    {
      "cell_type": "code",
      "metadata": {
        "id": "fy6Bbx9pojzD"
      },
      "source": [
        "import numpy as np\r\n",
        "import tensorflow as tf\r\n",
        "from tensorflow.keras.preprocessing.sequence import pad_sequences\r\n",
        "from keras.models import Sequential, load_model\r\n",
        "from keras.layers import Dense, LSTM, Embedding\r\n",
        "from keras.callbacks import ModelCheckpoint, EarlyStopping"
      ],
      "execution_count": 1,
      "outputs": []
    },
    {
      "cell_type": "code",
      "metadata": {
        "id": "n_S-Q0rjpahS"
      },
      "source": [
        "import matplotlib.pyplot as plt\r\n",
        "%matplotlib inline"
      ],
      "execution_count": 2,
      "outputs": []
    },
    {
      "cell_type": "code",
      "metadata": {
        "id": "0Li4Qycxo3Iu"
      },
      "source": [
        "seed = 2021\r\n",
        "np.random.seed(seed)\r\n",
        "tf.random.set_seed(seed)"
      ],
      "execution_count": 3,
      "outputs": []
    },
    {
      "cell_type": "code",
      "metadata": {
        "colab": {
          "base_uri": "https://localhost:8080/"
        },
        "id": "iCgGU_8epkOT",
        "outputId": "4e630abf-9343-4f93-e74a-c19c3dfb0a16"
      },
      "source": [
        "from tensorflow.keras.datasets import imdb\r\n",
        "(X_train, y_train), (X_test, y_test) = imdb.load_data(num_words=5000)"
      ],
      "execution_count": 4,
      "outputs": [
        {
          "output_type": "stream",
          "text": [
            "<string>:6: VisibleDeprecationWarning: Creating an ndarray from ragged nested sequences (which is a list-or-tuple of lists-or-tuples-or ndarrays with different lengths or shapes) is deprecated. If you meant to do this, you must specify 'dtype=object' when creating the ndarray\n",
            "/usr/local/lib/python3.6/dist-packages/tensorflow/python/keras/datasets/imdb.py:159: VisibleDeprecationWarning: Creating an ndarray from ragged nested sequences (which is a list-or-tuple of lists-or-tuples-or ndarrays with different lengths or shapes) is deprecated. If you meant to do this, you must specify 'dtype=object' when creating the ndarray\n",
            "  x_train, y_train = np.array(xs[:idx]), np.array(labels[:idx])\n",
            "/usr/local/lib/python3.6/dist-packages/tensorflow/python/keras/datasets/imdb.py:160: VisibleDeprecationWarning: Creating an ndarray from ragged nested sequences (which is a list-or-tuple of lists-or-tuples-or ndarrays with different lengths or shapes) is deprecated. If you meant to do this, you must specify 'dtype=object' when creating the ndarray\n",
            "  x_test, y_test = np.array(xs[idx:]), np.array(labels[idx:])\n"
          ],
          "name": "stderr"
        }
      ]
    },
    {
      "cell_type": "code",
      "metadata": {
        "id": "SiSeNPVku5yP"
      },
      "source": [
        "# 모델의 입력으로 사용하는 모든 리뷰의 길이를 동일하게 500으로 맞춤\r\n",
        "max_len = 500\r\n",
        "X_train = pad_sequences(X_train, maxlen=max_len)\r\n",
        "X_test = pad_sequences(X_test, maxlen=max_len)"
      ],
      "execution_count": 5,
      "outputs": []
    },
    {
      "cell_type": "markdown",
      "metadata": {
        "id": "Z00Bz-L6wEpw"
      },
      "source": [
        "- 테스트 데이터 25,000개 중 10,000개는 검증셋, 15,000개는 실제 테스트셋으로 사용"
      ]
    },
    {
      "cell_type": "code",
      "metadata": {
        "id": "gMKgUqbUq8oF"
      },
      "source": [
        "from sklearn.model_selection import train_test_split\r\n",
        "X_val, X_test, y_val, y_test = train_test_split(\r\n",
        "    X_test, y_test, stratify=y_test, test_size=0.6, random_state=seed\r\n",
        ")"
      ],
      "execution_count": 6,
      "outputs": []
    },
    {
      "cell_type": "code",
      "metadata": {
        "colab": {
          "base_uri": "https://localhost:8080/"
        },
        "id": "0gnDPIqUuUqm",
        "outputId": "25ae33a8-7e57-4fa4-a757-0c50cf5cc541"
      },
      "source": [
        "X_val.shape, X_test.shape"
      ],
      "execution_count": 7,
      "outputs": [
        {
          "output_type": "execute_result",
          "data": {
            "text/plain": [
              "((10000, 500), (15000, 500))"
            ]
          },
          "metadata": {
            "tags": []
          },
          "execution_count": 7
        }
      ]
    },
    {
      "cell_type": "markdown",
      "metadata": {
        "id": "xMWdzX6hzJz6"
      },
      "source": [
        "### 모델 정의/설정/학습/평가"
      ]
    },
    {
      "cell_type": "code",
      "metadata": {
        "colab": {
          "base_uri": "https://localhost:8080/"
        },
        "id": "ksCyB-_SuUmm",
        "outputId": "5d83285e-8d27-4204-c0b7-4b3dda2115bb"
      },
      "source": [
        "# LSTM 모델\r\n",
        "model = Sequential()\r\n",
        "model.add(Embedding(5000, 120))\r\n",
        "model.add(LSTM(120))\r\n",
        "model.add(Dense(1, activation='sigmoid'))\r\n",
        "model.summary()"
      ],
      "execution_count": 8,
      "outputs": [
        {
          "output_type": "stream",
          "text": [
            "Model: \"sequential\"\n",
            "_________________________________________________________________\n",
            "Layer (type)                 Output Shape              Param #   \n",
            "=================================================================\n",
            "embedding (Embedding)        (None, None, 120)         600000    \n",
            "_________________________________________________________________\n",
            "lstm (LSTM)                  (None, 120)               115680    \n",
            "_________________________________________________________________\n",
            "dense (Dense)                (None, 1)                 121       \n",
            "=================================================================\n",
            "Total params: 715,801\n",
            "Trainable params: 715,801\n",
            "Non-trainable params: 0\n",
            "_________________________________________________________________\n"
          ],
          "name": "stdout"
        }
      ]
    },
    {
      "cell_type": "code",
      "metadata": {
        "id": "8UrzSomMuUkm"
      },
      "source": [
        "model.compile(loss='binary_crossentropy',\r\n",
        "              optimizer='adam', metrics=['accuracy'])"
      ],
      "execution_count": 9,
      "outputs": []
    },
    {
      "cell_type": "code",
      "metadata": {
        "id": "5wPdspksuUiX"
      },
      "source": [
        "# Callback 함수 정의 - Best model, Early stopping\r\n",
        "es = EarlyStopping(monitor='val_loss', mode='min', verbose=1, patience=10)\r\n",
        "mc = ModelCheckpoint('model/imdb_lstm_best_model.h5', monitor='val_loss', \r\n",
        "                     mode='max', verbose=1, save_best_only=True)"
      ],
      "execution_count": 10,
      "outputs": []
    },
    {
      "cell_type": "code",
      "metadata": {
        "colab": {
          "base_uri": "https://localhost:8080/"
        },
        "id": "Feo9kEaZuUef",
        "outputId": "45b66685-0a6d-47d2-8144-91b3c9eae328"
      },
      "source": [
        "# 모델의 실행\r\n",
        "history = model.fit(X_train, y_train, batch_size=100, epochs=50, \r\n",
        "                    validation_data=(X_val, y_val), verbose=2, \r\n",
        "                    callbacks=[mc, es])"
      ],
      "execution_count": 11,
      "outputs": [
        {
          "output_type": "stream",
          "text": [
            "Epoch 1/50\n",
            "250/250 - 22s - loss: 0.4313 - accuracy: 0.7958 - val_loss: 0.3209 - val_accuracy: 0.8713\n",
            "\n",
            "Epoch 00001: val_loss improved from -inf to 0.32091, saving model to model/imdb_lstm_best_model.h5\n",
            "Epoch 2/50\n",
            "250/250 - 14s - loss: 0.2601 - accuracy: 0.8983 - val_loss: 0.2993 - val_accuracy: 0.8781\n",
            "\n",
            "Epoch 00002: val_loss did not improve from 0.32091\n",
            "Epoch 3/50\n",
            "250/250 - 14s - loss: 0.3497 - accuracy: 0.8585 - val_loss: 0.3238 - val_accuracy: 0.8668\n",
            "\n",
            "Epoch 00003: val_loss improved from 0.32091 to 0.32383, saving model to model/imdb_lstm_best_model.h5\n",
            "Epoch 4/50\n",
            "250/250 - 14s - loss: 0.3448 - accuracy: 0.8563 - val_loss: 0.3537 - val_accuracy: 0.8586\n",
            "\n",
            "Epoch 00004: val_loss improved from 0.32383 to 0.35369, saving model to model/imdb_lstm_best_model.h5\n",
            "Epoch 5/50\n",
            "250/250 - 14s - loss: 0.2219 - accuracy: 0.9138 - val_loss: 0.3200 - val_accuracy: 0.8680\n",
            "\n",
            "Epoch 00005: val_loss did not improve from 0.35369\n",
            "Epoch 6/50\n",
            "250/250 - 14s - loss: 0.1743 - accuracy: 0.9338 - val_loss: 0.3258 - val_accuracy: 0.8754\n",
            "\n",
            "Epoch 00006: val_loss did not improve from 0.35369\n",
            "Epoch 7/50\n",
            "250/250 - 14s - loss: 0.1494 - accuracy: 0.9466 - val_loss: 0.3496 - val_accuracy: 0.8636\n",
            "\n",
            "Epoch 00007: val_loss did not improve from 0.35369\n",
            "Epoch 8/50\n",
            "250/250 - 14s - loss: 0.1421 - accuracy: 0.9483 - val_loss: 0.3827 - val_accuracy: 0.8597\n",
            "\n",
            "Epoch 00008: val_loss improved from 0.35369 to 0.38274, saving model to model/imdb_lstm_best_model.h5\n",
            "Epoch 9/50\n",
            "250/250 - 14s - loss: 0.1248 - accuracy: 0.9552 - val_loss: 0.3998 - val_accuracy: 0.8669\n",
            "\n",
            "Epoch 00009: val_loss improved from 0.38274 to 0.39980, saving model to model/imdb_lstm_best_model.h5\n",
            "Epoch 10/50\n",
            "250/250 - 14s - loss: 0.1081 - accuracy: 0.9626 - val_loss: 0.4096 - val_accuracy: 0.8615\n",
            "\n",
            "Epoch 00010: val_loss improved from 0.39980 to 0.40957, saving model to model/imdb_lstm_best_model.h5\n",
            "Epoch 11/50\n",
            "250/250 - 14s - loss: 0.2520 - accuracy: 0.8932 - val_loss: 0.4955 - val_accuracy: 0.7712\n",
            "\n",
            "Epoch 00011: val_loss improved from 0.40957 to 0.49553, saving model to model/imdb_lstm_best_model.h5\n",
            "Epoch 12/50\n",
            "250/250 - 14s - loss: 0.1702 - accuracy: 0.9339 - val_loss: 0.3999 - val_accuracy: 0.8629\n",
            "\n",
            "Epoch 00012: val_loss did not improve from 0.49553\n",
            "Epoch 00012: early stopping\n"
          ],
          "name": "stdout"
        }
      ]
    },
    {
      "cell_type": "code",
      "metadata": {
        "id": "LVSPEqlQuUcX"
      },
      "source": [
        "# Best Model 선택\r\n",
        "best_model = load_model('model/imdb_lstm_best_model.h5')"
      ],
      "execution_count": 12,
      "outputs": []
    },
    {
      "cell_type": "code",
      "metadata": {
        "colab": {
          "base_uri": "https://localhost:8080/"
        },
        "id": "JqisjvLPzwUa",
        "outputId": "276e2628-2601-40de-e417-daf04522e2dc"
      },
      "source": [
        "acc = model.evaluate(X_test, y_test, verbose=2)[1]\r\n",
        "print(f'\\n테스트 정확도: {acc:.4f}')"
      ],
      "execution_count": 13,
      "outputs": [
        {
          "output_type": "stream",
          "text": [
            "469/469 - 6s - loss: 0.4199 - accuracy: 0.8594\n",
            "\n",
            "테스트 정확도: 0.8594\n"
          ],
          "name": "stdout"
        }
      ]
    },
    {
      "cell_type": "code",
      "metadata": {
        "id": "7cdfNwyczwSK"
      },
      "source": [
        "# 테스트셋\r\n",
        "y_vloss = history.history['val_loss']\r\n",
        "y_vacc = history.history['val_accuracy']\r\n",
        "# 학습셋\r\n",
        "y_loss = history.history['loss']\r\n",
        "y_acc = history.history['accuracy']"
      ],
      "execution_count": 14,
      "outputs": []
    },
    {
      "cell_type": "code",
      "metadata": {
        "colab": {
          "base_uri": "https://localhost:8080/",
          "height": 497
        },
        "id": "lbvsQWqlzwOb",
        "outputId": "349d13f4-87ee-464d-8506-e333493fa4f1"
      },
      "source": [
        "x_len = np.arange(1, len(y_loss)+1)\r\n",
        "fig, ax0 = plt.subplots(figsize=(10,8))\r\n",
        "ax1 = ax0.twinx()\r\n",
        "ax0.plot(x_len, y_loss, c=\"blue\", label='train set loss')\r\n",
        "ax0.plot(x_len, y_vloss, c=\"red\", label='val set loss')\r\n",
        "ax0.set_ylabel('loss')\r\n",
        "ax1.plot(x_len, y_acc, c=\"darkgreen\", label='train set acc')\r\n",
        "ax1.plot(x_len, y_vacc, c=\"magenta\", label='val set acc')\r\n",
        "ax1.set_ylabel('accuracy')\r\n",
        "ax0.set_xlabel('epoch')\r\n",
        "ax0.legend(loc='lower center')\r\n",
        "ax1.legend(loc='upper center')\r\n",
        "plt.grid()\r\n",
        "plt.show()"
      ],
      "execution_count": 15,
      "outputs": [
        {
          "output_type": "display_data",
          "data": {
            "image/png": "[encoded data removed]",
            "text/plain": [
              "<Figure size 720x576 with 2 Axes>"
            ]
          },
          "metadata": {
            "tags": [],
            "needs_background": "light"
          }
        }
      ]
    }
  ]
}