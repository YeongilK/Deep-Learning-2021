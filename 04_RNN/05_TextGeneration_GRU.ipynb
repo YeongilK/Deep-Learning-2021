{
  "nbformat": 4,
  "nbformat_minor": 0,
  "metadata": {
    "colab": {
      "name": "05_TextGeneration-GRU.ipynb",
      "provenance": [],
      "collapsed_sections": []
    },
    "kernelspec": {
      "name": "python3",
      "display_name": "Python 3"
    },
    "accelerator": "GPU"
  },
  "cells": [
    {
      "cell_type": "markdown",
      "metadata": {
        "id": "EA4gHaYbhjET"
      },
      "source": [
        "# LSTM을 이용한 텍스트 생성\r\n",
        "- 데이터 다운로드: 캐글 https://www.kaggle.com/aashita/nyt-comments\r\n",
        "- ArticlesApril2018.csv"
      ]
    },
    {
      "cell_type": "code",
      "metadata": {
        "id": "nSDXdbBOn95p"
      },
      "source": [
        "import numpy as np\r\n",
        "import tensorflow as tf\r\n",
        "from string import punctuation\r\n",
        "from tensorflow.keras.preprocessing.text import Tokenizer\r\n",
        "from tensorflow.keras.preprocessing.sequence import pad_sequences\r\n",
        "from tensorflow.keras.utils import to_categorical"
      ],
      "execution_count": 1,
      "outputs": []
    },
    {
      "cell_type": "code",
      "metadata": {
        "id": "0dN9mPJpn_nB"
      },
      "source": [
        "seed = 2021\r\n",
        "np.random.seed(seed)\r\n",
        "tf.random.set_seed(seed)"
      ],
      "execution_count": 2,
      "outputs": []
    },
    {
      "cell_type": "markdown",
      "metadata": {
        "id": "NTXNqGY2jM6h"
      },
      "source": [
        "### 파일 업로드"
      ]
    },
    {
      "cell_type": "code",
      "metadata": {
        "colab": {
          "resources": {
            "http://localhost:8080/nbextensions/google.colab/files.js": {
              "data": "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",
              "ok": true,
              "headers": [
                [
                  "content-type",
                  "application/javascript"
                ]
              ],
              "status": 200,
              "status_text": ""
            }
          },
          "base_uri": "https://localhost:8080/",
          "height": 76
        },
        "id": "5NOlYLmDhhal",
        "outputId": "fb63e215-c553-412f-8efa-3ea2a9bb4aa5"
      },
      "source": [
        "from google.colab import files\r\n",
        "\r\n",
        "uploaded = files.upload()\r\n",
        "filename = list(uploaded.keys())[0]"
      ],
      "execution_count": 3,
      "outputs": [
        {
          "output_type": "display_data",
          "data": {
            "text/html": [
              "\n",
              "     <input type=\"file\" id=\"files-c954caa7-abe4-4318-8ddd-702dd52d70d2\" name=\"files[]\" multiple disabled\n",
              "        style=\"border:none\" />\n",
              "     <output id=\"result-c954caa7-abe4-4318-8ddd-702dd52d70d2\">\n",
              "      Upload widget is only available when the cell has been executed in the\n",
              "      current browser session. Please rerun this cell to enable.\n",
              "      </output>\n",
              "      <script src=\"/nbextensions/google.colab/files.js\"></script> "
            ],
            "text/plain": [
              "<IPython.core.display.HTML object>"
            ]
          },
          "metadata": {
            "tags": []
          }
        },
        {
          "output_type": "stream",
          "text": [
            "Saving ArticlesApril2018.csv to ArticlesApril2018 (1).csv\n"
          ],
          "name": "stdout"
        }
      ]
    },
    {
      "cell_type": "markdown",
      "metadata": {
        "id": "MtE21MoHjHtp"
      },
      "source": [
        "### 데이터 전처리"
      ]
    },
    {
      "cell_type": "code",
      "metadata": {
        "colab": {
          "base_uri": "https://localhost:8080/",
          "height": 318
        },
        "id": "LsvVmcooivfS",
        "outputId": "029c3b15-72e2-40fa-c357-b10f06bbeb50"
      },
      "source": [
        "import pandas as pd\r\n",
        "df = pd.read_csv(filename, encoding='latin1')\r\n",
        "df.head(2)"
      ],
      "execution_count": 4,
      "outputs": [
        {
          "output_type": "execute_result",
          "data": {
            "text/html": [
              "<div>\n",
              "<style scoped>\n",
              "    .dataframe tbody tr th:only-of-type {\n",
              "        vertical-align: middle;\n",
              "    }\n",
              "\n",
              "    .dataframe tbody tr th {\n",
              "        vertical-align: top;\n",
              "    }\n",
              "\n",
              "    .dataframe thead th {\n",
              "        text-align: right;\n",
              "    }\n",
              "</style>\n",
              "<table border=\"1\" class=\"dataframe\">\n",
              "  <thead>\n",
              "    <tr style=\"text-align: right;\">\n",
              "      <th></th>\n",
              "      <th>articleID</th>\n",
              "      <th>articleWordCount</th>\n",
              "      <th>byline</th>\n",
              "      <th>documentType</th>\n",
              "      <th>headline</th>\n",
              "      <th>keywords</th>\n",
              "      <th>multimedia</th>\n",
              "      <th>newDesk</th>\n",
              "      <th>printPage</th>\n",
              "      <th>pubDate</th>\n",
              "      <th>sectionName</th>\n",
              "      <th>snippet</th>\n",
              "      <th>source</th>\n",
              "      <th>typeOfMaterial</th>\n",
              "      <th>webURL</th>\n",
              "    </tr>\n",
              "  </thead>\n",
              "  <tbody>\n",
              "    <tr>\n",
              "      <th>0</th>\n",
              "      <td>5adf6684068401528a2aa69b</td>\n",
              "      <td>781</td>\n",
              "      <td>By JOHN BRANCH</td>\n",
              "      <td>article</td>\n",
              "      <td>Former N.F.L. Cheerleadersâ Settlement Offer...</td>\n",
              "      <td>['Workplace Hazards and Violations', 'Football...</td>\n",
              "      <td>68</td>\n",
              "      <td>Sports</td>\n",
              "      <td>0</td>\n",
              "      <td>2018-04-24 17:16:49</td>\n",
              "      <td>Pro Football</td>\n",
              "      <td>âI understand that they could meet with us, ...</td>\n",
              "      <td>The New York Times</td>\n",
              "      <td>News</td>\n",
              "      <td>https://www.nytimes.com/2018/04/24/sports/foot...</td>\n",
              "    </tr>\n",
              "    <tr>\n",
              "      <th>1</th>\n",
              "      <td>5adf653f068401528a2aa697</td>\n",
              "      <td>656</td>\n",
              "      <td>By LISA FRIEDMAN</td>\n",
              "      <td>article</td>\n",
              "      <td>E.P.A. to Unveil a New Rule. Its Effect: Less ...</td>\n",
              "      <td>['Environmental Protection Agency', 'Pruitt, S...</td>\n",
              "      <td>68</td>\n",
              "      <td>Climate</td>\n",
              "      <td>0</td>\n",
              "      <td>2018-04-24 17:11:21</td>\n",
              "      <td>Unknown</td>\n",
              "      <td>The agency plans to publish a new regulation T...</td>\n",
              "      <td>The New York Times</td>\n",
              "      <td>News</td>\n",
              "      <td>https://www.nytimes.com/2018/04/24/climate/epa...</td>\n",
              "    </tr>\n",
              "  </tbody>\n",
              "</table>\n",
              "</div>"
            ],
            "text/plain": [
              "                  articleID  ...                                             webURL\n",
              "0  5adf6684068401528a2aa69b  ...  https://www.nytimes.com/2018/04/24/sports/foot...\n",
              "1  5adf653f068401528a2aa697  ...  https://www.nytimes.com/2018/04/24/climate/epa...\n",
              "\n",
              "[2 rows x 15 columns]"
            ]
          },
          "metadata": {
            "tags": []
          },
          "execution_count": 4
        }
      ]
    },
    {
      "cell_type": "code",
      "metadata": {
        "colab": {
          "base_uri": "https://localhost:8080/"
        },
        "id": "02-HCpP3jdsb",
        "outputId": "ac177400-c4a3-4f98-b5b2-c9f3999c0a79"
      },
      "source": [
        "print('열의 개수: ', len(df.columns))\r\n",
        "print(df.columns)"
      ],
      "execution_count": 5,
      "outputs": [
        {
          "output_type": "stream",
          "text": [
            "열의 개수:  15\n",
            "Index(['articleID', 'articleWordCount', 'byline', 'documentType', 'headline',\n",
            "       'keywords', 'multimedia', 'newDesk', 'printPage', 'pubDate',\n",
            "       'sectionName', 'snippet', 'source', 'typeOfMaterial', 'webURL'],\n",
            "      dtype='object')\n"
          ],
          "name": "stdout"
        }
      ]
    },
    {
      "cell_type": "code",
      "metadata": {
        "colab": {
          "base_uri": "https://localhost:8080/"
        },
        "id": "ftDboADgjgQS",
        "outputId": "2336baf6-795f-4d70-f261-3458ee08ca9b"
      },
      "source": [
        "# headline 열의 데이터만 사용, Null 검사\r\n",
        "df['headline'].isnull().values.any()"
      ],
      "execution_count": 6,
      "outputs": [
        {
          "output_type": "execute_result",
          "data": {
            "text/plain": [
              "False"
            ]
          },
          "metadata": {
            "tags": []
          },
          "execution_count": 6
        }
      ]
    },
    {
      "cell_type": "code",
      "metadata": {
        "colab": {
          "base_uri": "https://localhost:8080/"
        },
        "id": "0y-p4tLPjqva",
        "outputId": "45ee27ec-fade-41cd-add8-b86b7e366c40"
      },
      "source": [
        "# headline 열의 데이터로 리스트 생성\r\n",
        "headline = [title for title in df.headline.values]\r\n",
        "headline[:5]"
      ],
      "execution_count": 7,
      "outputs": [
        {
          "output_type": "execute_result",
          "data": {
            "text/plain": [
              "['Former N.F.L. Cheerleadersâ\\x80\\x99 Settlement Offer: $1 and a Meeting With Goodell',\n",
              " 'E.P.A. to Unveil a New Rule. Its Effect: Less Science in Policymaking.',\n",
              " 'The New Noma, Explained',\n",
              " 'Unknown',\n",
              " 'Unknown']"
            ]
          },
          "metadata": {
            "tags": []
          },
          "execution_count": 7
        }
      ]
    },
    {
      "cell_type": "code",
      "metadata": {
        "colab": {
          "base_uri": "https://localhost:8080/"
        },
        "id": "bMNewHa1kBVS",
        "outputId": "1d715a66-7071-4c0a-8a72-ed351a45f9d8"
      },
      "source": [
        "len(headline)"
      ],
      "execution_count": 8,
      "outputs": [
        {
          "output_type": "execute_result",
          "data": {
            "text/plain": [
              "1324"
            ]
          },
          "metadata": {
            "tags": []
          },
          "execution_count": 8
        }
      ]
    },
    {
      "cell_type": "code",
      "metadata": {
        "colab": {
          "base_uri": "https://localhost:8080/"
        },
        "id": "bygrRPsnkJbS",
        "outputId": "46aae21b-bc59-4540-cb14-b690919d5f69"
      },
      "source": [
        "# 노이즈 데이터('Unknown') 제거\r\n",
        "headline = [title for title in headline if title != 'Unknown']\r\n",
        "len(headline)"
      ],
      "execution_count": 9,
      "outputs": [
        {
          "output_type": "execute_result",
          "data": {
            "text/plain": [
              "1214"
            ]
          },
          "metadata": {
            "tags": []
          },
          "execution_count": 9
        }
      ]
    },
    {
      "cell_type": "code",
      "metadata": {
        "colab": {
          "base_uri": "https://localhost:8080/",
          "height": 35
        },
        "id": "xic-9sHPkVjp",
        "outputId": "a7930c1a-bc3d-4ece-94a5-1e07cf7666cd"
      },
      "source": [
        "from string import punctuation\r\n",
        "punctuation"
      ],
      "execution_count": 10,
      "outputs": [
        {
          "output_type": "execute_result",
          "data": {
            "application/vnd.google.colaboratory.intrinsic+json": {
              "type": "string"
            },
            "text/plain": [
              "'!\"#$%&\\'()*+,-./:;<=>?@[\\\\]^_`{|}~'"
            ]
          },
          "metadata": {
            "tags": []
          },
          "execution_count": 10
        }
      ]
    },
    {
      "cell_type": "code",
      "metadata": {
        "id": "XZ8yHGJakl2h"
      },
      "source": [
        "# 구두점 제거와 소문자화를 위한 함수\r\n",
        "def preprocessing(s):\r\n",
        "    s=s.encode(\"utf8\").decode(\"ascii\", 'ignore')\r\n",
        "    return ''.join(c for c in s if c not in punctuation).lower()"
      ],
      "execution_count": 11,
      "outputs": []
    },
    {
      "cell_type": "code",
      "metadata": {
        "colab": {
          "base_uri": "https://localhost:8080/"
        },
        "id": "lSh23xuRk3KK",
        "outputId": "c6b6f32e-d486-4514-e1fe-a89ee3982b1b"
      },
      "source": [
        "headlines = [preprocessing(x) for x in headline]\r\n",
        "headlines[:5]"
      ],
      "execution_count": 12,
      "outputs": [
        {
          "output_type": "execute_result",
          "data": {
            "text/plain": [
              "['former nfl cheerleaders settlement offer 1 and a meeting with goodell',\n",
              " 'epa to unveil a new rule its effect less science in policymaking',\n",
              " 'the new noma explained',\n",
              " 'how a bag of texas dirt  became a times tradition',\n",
              " 'is school a place for selfexpression']"
            ]
          },
          "metadata": {
            "tags": []
          },
          "execution_count": 12
        }
      ]
    },
    {
      "cell_type": "code",
      "metadata": {
        "colab": {
          "base_uri": "https://localhost:8080/"
        },
        "id": "--rS79qjk496",
        "outputId": "9a710f86-9283-4998-a77a-7f8219942dfa"
      },
      "source": [
        "# 단어 집합(vocabulary)을 만들고 크기를 확인\r\n",
        "t = Tokenizer()\r\n",
        "t.fit_on_texts(headlines)\r\n",
        "vocab_size = len(t.word_index) + 1\r\n",
        "print('단어 집합의 크기 : %d' % vocab_size)"
      ],
      "execution_count": 13,
      "outputs": [
        {
          "output_type": "stream",
          "text": [
            "단어 집합의 크기 : 3494\n"
          ],
          "name": "stdout"
        }
      ]
    },
    {
      "cell_type": "code",
      "metadata": {
        "colab": {
          "base_uri": "https://localhost:8080/"
        },
        "id": "e9WoLqH0oauh",
        "outputId": "35240e07-51f5-4eab-f4ad-0aa9bd903d1a"
      },
      "source": [
        "type(t.word_index)"
      ],
      "execution_count": 14,
      "outputs": [
        {
          "output_type": "execute_result",
          "data": {
            "text/plain": [
              "dict"
            ]
          },
          "metadata": {
            "tags": []
          },
          "execution_count": 14
        }
      ]
    },
    {
      "cell_type": "code",
      "metadata": {
        "colab": {
          "base_uri": "https://localhost:8080/"
        },
        "id": "bekglCmQonap",
        "outputId": "4e61fcfa-ef11-40bc-930e-cf9a293982c2"
      },
      "source": [
        "sequences = []\r\n",
        "for line in headlines: # 1,214 개의 샘플에 대해서 샘플을 1개씩 가져온다.\r\n",
        "    encoded = t.texts_to_sequences([line])[0] # 각 샘플에 대한 정수 인코딩\r\n",
        "    for i in range(1, len(encoded)):\r\n",
        "        sequence = encoded[:i+1]\r\n",
        "        sequences.append(sequence)\r\n",
        "\r\n",
        "sequences[:11] # 11개의 샘플 출력"
      ],
      "execution_count": 15,
      "outputs": [
        {
          "output_type": "execute_result",
          "data": {
            "text/plain": [
              "[[99, 269],\n",
              " [99, 269, 371],\n",
              " [99, 269, 371, 1115],\n",
              " [99, 269, 371, 1115, 582],\n",
              " [99, 269, 371, 1115, 582, 52],\n",
              " [99, 269, 371, 1115, 582, 52, 7],\n",
              " [99, 269, 371, 1115, 582, 52, 7, 2],\n",
              " [99, 269, 371, 1115, 582, 52, 7, 2, 372],\n",
              " [99, 269, 371, 1115, 582, 52, 7, 2, 372, 10],\n",
              " [99, 269, 371, 1115, 582, 52, 7, 2, 372, 10, 1116],\n",
              " [100, 3]]"
            ]
          },
          "metadata": {
            "tags": []
          },
          "execution_count": 15
        }
      ]
    },
    {
      "cell_type": "code",
      "metadata": {
        "colab": {
          "base_uri": "https://localhost:8080/"
        },
        "id": "arW3HsiSplox",
        "outputId": "8adb1501-6b84-4339-d51e-bde1f2478044"
      },
      "source": [
        "index_to_word = {}\r\n",
        "for key, value in t.word_index.items():     # 인덱스를 단어로 바꾸기 위해 index_to_word를 생성\r\n",
        "    index_to_word[value] = key\r\n",
        "\r\n",
        "print('빈도수 상위 1번 단어:', index_to_word[1])\r\n",
        "print('빈도수 상위 582번 단어:', index_to_word[582])"
      ],
      "execution_count": 16,
      "outputs": [
        {
          "output_type": "stream",
          "text": [
            "빈도수 상위 1번 단어: the\n",
            "빈도수 상위 582번 단어: offer\n"
          ],
          "name": "stdout"
        }
      ]
    },
    {
      "cell_type": "code",
      "metadata": {
        "colab": {
          "base_uri": "https://localhost:8080/"
        },
        "id": "_r0ZRInFqJzR",
        "outputId": "8e9f82cf-7198-4c9d-96c3-00b05962ce10"
      },
      "source": [
        "max_len = max(len(s) for s in sequences)\r\n",
        "print(f'샘플의 최대 길이: {max_len}')"
      ],
      "execution_count": 17,
      "outputs": [
        {
          "output_type": "stream",
          "text": [
            "샘플의 최대 길이: 24\n"
          ],
          "name": "stdout"
        }
      ]
    },
    {
      "cell_type": "code",
      "metadata": {
        "colab": {
          "base_uri": "https://localhost:8080/"
        },
        "id": "UKCqqVrqqYah",
        "outputId": "95824bda-6d53-4deb-8c13-ee47bb34a620"
      },
      "source": [
        "# 전체 샘플의 길이를 24(가장 긴 샘플의 길이)로 패딩\r\n",
        "# 'pre' 옵션을 주면 앞을 0으로 패딩\r\n",
        "sequences = pad_sequences(sequences, maxlen=max_len, padding='pre')\r\n",
        "print(sequences[:3])"
      ],
      "execution_count": 18,
      "outputs": [
        {
          "output_type": "stream",
          "text": [
            "[[   0    0    0    0    0    0    0    0    0    0    0    0    0    0\n",
            "     0    0    0    0    0    0    0    0   99  269]\n",
            " [   0    0    0    0    0    0    0    0    0    0    0    0    0    0\n",
            "     0    0    0    0    0    0    0   99  269  371]\n",
            " [   0    0    0    0    0    0    0    0    0    0    0    0    0    0\n",
            "     0    0    0    0    0    0   99  269  371 1115]]\n"
          ],
          "name": "stdout"
        }
      ]
    },
    {
      "cell_type": "code",
      "metadata": {
        "id": "Fty2A6u1qgZp"
      },
      "source": [
        "# 각 샘플의 마지막 단어를 레이블로 분리\r\n",
        "X = sequences[:,:-1]\r\n",
        "y = sequences[:,-1]\r\n",
        "# 리스트의 마지막 값을 제외하고 저장한 것은 X\r\n",
        "# 리스트의 마지막 값만 저장한 것은 y. 이는 레이블에 해당됨."
      ],
      "execution_count": 19,
      "outputs": []
    },
    {
      "cell_type": "code",
      "metadata": {
        "id": "bpaVX33DqwWy"
      },
      "source": [
        "# 레이블 데이터 y에 대해서 원-핫 인코딩을 수행\r\n",
        "Y = to_categorical(y, num_classes=vocab_size)"
      ],
      "execution_count": 20,
      "outputs": []
    },
    {
      "cell_type": "code",
      "metadata": {
        "colab": {
          "base_uri": "https://localhost:8080/"
        },
        "id": "el8PSal5qxaZ",
        "outputId": "b2547b62-0c48-40f4-dea3-e9eaf3c8d9d5"
      },
      "source": [
        "X.shape, Y.shape"
      ],
      "execution_count": 21,
      "outputs": [
        {
          "output_type": "execute_result",
          "data": {
            "text/plain": [
              "((7803, 23), (7803, 3494))"
            ]
          },
          "metadata": {
            "tags": []
          },
          "execution_count": 21
        }
      ]
    },
    {
      "cell_type": "markdown",
      "metadata": {
        "id": "GdIz7C2wrIXo"
      },
      "source": [
        "### 모델 정의/설정/학습"
      ]
    },
    {
      "cell_type": "code",
      "metadata": {
        "id": "0lpCo4qPq04J"
      },
      "source": [
        "from tensorflow.keras.models import Sequential\r\n",
        "from tensorflow.keras.layers import Embedding, Dense, GRU"
      ],
      "execution_count": 22,
      "outputs": []
    },
    {
      "cell_type": "code",
      "metadata": {
        "colab": {
          "base_uri": "https://localhost:8080/"
        },
        "id": "0MTBzPPnrRY5",
        "outputId": "87cc9d1f-6161-44c1-f3c3-6a744f628725"
      },
      "source": [
        "# 임베딩 벡터는 10차원, LSTM 노드 크기는 128\r\n",
        "model = Sequential()\r\n",
        "model.add(Embedding(vocab_size, 10, input_length=max_len-1, \r\n",
        "                    name=\"Embedding_Layer\"))\r\n",
        "model.add(GRU(128, name=\"GRU_Layer\"))\r\n",
        "model.add(Dense(vocab_size, activation='softmax', name=\"Output_Layer\"))\r\n",
        "model.summary()"
      ],
      "execution_count": 23,
      "outputs": [
        {
          "output_type": "stream",
          "text": [
            "Model: \"sequential\"\n",
            "_________________________________________________________________\n",
            "Layer (type)                 Output Shape              Param #   \n",
            "=================================================================\n",
            "Embedding_Layer (Embedding)  (None, 23, 10)            34940     \n",
            "_________________________________________________________________\n",
            "GRU_Layer (GRU)              (None, 128)               53760     \n",
            "_________________________________________________________________\n",
            "Output_Layer (Dense)         (None, 3494)              450726    \n",
            "=================================================================\n",
            "Total params: 539,426\n",
            "Trainable params: 539,426\n",
            "Non-trainable params: 0\n",
            "_________________________________________________________________\n"
          ],
          "name": "stdout"
        }
      ]
    },
    {
      "cell_type": "code",
      "metadata": {
        "id": "V-S4LoyRred5"
      },
      "source": [
        "model.compile(loss='categorical_crossentropy',\r\n",
        "              optimizer='adam', metrics=['accuracy'])"
      ],
      "execution_count": 24,
      "outputs": []
    },
    {
      "cell_type": "code",
      "metadata": {
        "colab": {
          "base_uri": "https://localhost:8080/"
        },
        "id": "dBC7Qss2rsdh",
        "outputId": "3909e25d-6ce0-43ac-abc8-5ea8a4ade81a"
      },
      "source": [
        "history = model.fit(X, Y, epochs=200, verbose=2)"
      ],
      "execution_count": 25,
      "outputs": [
        {
          "output_type": "stream",
          "text": [
            "Epoch 1/200\n",
            "244/244 - 3s - loss: 7.7057 - accuracy: 0.0291\n",
            "Epoch 2/200\n",
            "244/244 - 1s - loss: 7.1229 - accuracy: 0.0315\n",
            "Epoch 3/200\n",
            "244/244 - 1s - loss: 6.9182 - accuracy: 0.0432\n",
            "Epoch 4/200\n",
            "244/244 - 1s - loss: 6.7109 - accuracy: 0.0495\n",
            "Epoch 5/200\n",
            "244/244 - 1s - loss: 6.4869 - accuracy: 0.0534\n",
            "Epoch 6/200\n",
            "244/244 - 1s - loss: 6.2371 - accuracy: 0.0556\n",
            "Epoch 7/200\n",
            "244/244 - 1s - loss: 5.9657 - accuracy: 0.0624\n",
            "Epoch 8/200\n",
            "244/244 - 1s - loss: 5.6905 - accuracy: 0.0679\n",
            "Epoch 9/200\n",
            "244/244 - 1s - loss: 5.4227 - accuracy: 0.0759\n",
            "Epoch 10/200\n",
            "244/244 - 1s - loss: 5.1652 - accuracy: 0.0834\n",
            "Epoch 11/200\n",
            "244/244 - 1s - loss: 4.9260 - accuracy: 0.0951\n",
            "Epoch 12/200\n",
            "244/244 - 1s - loss: 4.6989 - accuracy: 0.1153\n",
            "Epoch 13/200\n",
            "244/244 - 1s - loss: 4.4823 - accuracy: 0.1402\n",
            "Epoch 14/200\n",
            "244/244 - 1s - loss: 4.2784 - accuracy: 0.1656\n",
            "Epoch 15/200\n",
            "244/244 - 1s - loss: 4.0816 - accuracy: 0.2011\n",
            "Epoch 16/200\n",
            "244/244 - 1s - loss: 3.8975 - accuracy: 0.2302\n",
            "Epoch 17/200\n",
            "244/244 - 1s - loss: 3.7178 - accuracy: 0.2578\n",
            "Epoch 18/200\n",
            "244/244 - 1s - loss: 3.5487 - accuracy: 0.2850\n",
            "Epoch 19/200\n",
            "244/244 - 1s - loss: 3.3889 - accuracy: 0.3168\n",
            "Epoch 20/200\n",
            "244/244 - 1s - loss: 3.2399 - accuracy: 0.3412\n",
            "Epoch 21/200\n",
            "244/244 - 1s - loss: 3.0916 - accuracy: 0.3719\n",
            "Epoch 22/200\n",
            "244/244 - 1s - loss: 2.9568 - accuracy: 0.4001\n",
            "Epoch 23/200\n",
            "244/244 - 1s - loss: 2.8302 - accuracy: 0.4173\n",
            "Epoch 24/200\n",
            "244/244 - 1s - loss: 2.7109 - accuracy: 0.4433\n",
            "Epoch 25/200\n",
            "244/244 - 1s - loss: 2.5927 - accuracy: 0.4633\n",
            "Epoch 26/200\n",
            "244/244 - 1s - loss: 2.4877 - accuracy: 0.4861\n",
            "Epoch 27/200\n",
            "244/244 - 1s - loss: 2.3809 - accuracy: 0.5138\n",
            "Epoch 28/200\n",
            "244/244 - 1s - loss: 2.2875 - accuracy: 0.5267\n",
            "Epoch 29/200\n",
            "244/244 - 1s - loss: 2.1938 - accuracy: 0.5498\n",
            "Epoch 30/200\n",
            "244/244 - 1s - loss: 2.1054 - accuracy: 0.5672\n",
            "Epoch 31/200\n",
            "244/244 - 1s - loss: 2.0212 - accuracy: 0.5836\n",
            "Epoch 32/200\n",
            "244/244 - 1s - loss: 1.9462 - accuracy: 0.5976\n",
            "Epoch 33/200\n",
            "244/244 - 1s - loss: 1.8687 - accuracy: 0.6191\n",
            "Epoch 34/200\n",
            "244/244 - 1s - loss: 1.7976 - accuracy: 0.6318\n",
            "Epoch 35/200\n",
            "244/244 - 1s - loss: 1.7275 - accuracy: 0.6468\n",
            "Epoch 36/200\n",
            "244/244 - 1s - loss: 1.6595 - accuracy: 0.6587\n",
            "Epoch 37/200\n",
            "244/244 - 1s - loss: 1.5975 - accuracy: 0.6760\n",
            "Epoch 38/200\n",
            "244/244 - 1s - loss: 1.5382 - accuracy: 0.6882\n",
            "Epoch 39/200\n",
            "244/244 - 1s - loss: 1.4793 - accuracy: 0.7023\n",
            "Epoch 40/200\n",
            "244/244 - 1s - loss: 1.4196 - accuracy: 0.7140\n",
            "Epoch 41/200\n",
            "244/244 - 1s - loss: 1.3692 - accuracy: 0.7205\n",
            "Epoch 42/200\n",
            "244/244 - 1s - loss: 1.3210 - accuracy: 0.7365\n",
            "Epoch 43/200\n",
            "244/244 - 1s - loss: 1.2711 - accuracy: 0.7478\n",
            "Epoch 44/200\n",
            "244/244 - 1s - loss: 1.2204 - accuracy: 0.7541\n",
            "Epoch 45/200\n",
            "244/244 - 1s - loss: 1.1788 - accuracy: 0.7662\n",
            "Epoch 46/200\n",
            "244/244 - 1s - loss: 1.1305 - accuracy: 0.7707\n",
            "Epoch 47/200\n",
            "244/244 - 1s - loss: 1.0880 - accuracy: 0.7816\n",
            "Epoch 48/200\n",
            "244/244 - 1s - loss: 1.0465 - accuracy: 0.7887\n",
            "Epoch 49/200\n",
            "244/244 - 1s - loss: 1.0097 - accuracy: 0.7967\n",
            "Epoch 50/200\n",
            "244/244 - 1s - loss: 0.9740 - accuracy: 0.8042\n",
            "Epoch 51/200\n",
            "244/244 - 1s - loss: 0.9412 - accuracy: 0.8067\n",
            "Epoch 52/200\n",
            "244/244 - 1s - loss: 0.9056 - accuracy: 0.8148\n",
            "Epoch 53/200\n",
            "244/244 - 1s - loss: 0.8691 - accuracy: 0.8224\n",
            "Epoch 54/200\n",
            "244/244 - 1s - loss: 0.8393 - accuracy: 0.8270\n",
            "Epoch 55/200\n",
            "244/244 - 1s - loss: 0.8066 - accuracy: 0.8357\n",
            "Epoch 56/200\n",
            "244/244 - 1s - loss: 0.7752 - accuracy: 0.8413\n",
            "Epoch 57/200\n",
            "244/244 - 1s - loss: 0.7489 - accuracy: 0.8449\n",
            "Epoch 58/200\n",
            "244/244 - 1s - loss: 0.7285 - accuracy: 0.8498\n",
            "Epoch 59/200\n",
            "244/244 - 1s - loss: 0.6981 - accuracy: 0.8542\n",
            "Epoch 60/200\n",
            "244/244 - 1s - loss: 0.6793 - accuracy: 0.8613\n",
            "Epoch 61/200\n",
            "244/244 - 1s - loss: 0.6770 - accuracy: 0.8597\n",
            "Epoch 62/200\n",
            "244/244 - 1s - loss: 0.6444 - accuracy: 0.8671\n",
            "Epoch 63/200\n",
            "244/244 - 1s - loss: 0.6073 - accuracy: 0.8761\n",
            "Epoch 64/200\n",
            "244/244 - 1s - loss: 0.5835 - accuracy: 0.8817\n",
            "Epoch 65/200\n",
            "244/244 - 1s - loss: 0.5649 - accuracy: 0.8841\n",
            "Epoch 66/200\n",
            "244/244 - 1s - loss: 0.5491 - accuracy: 0.8866\n",
            "Epoch 67/200\n",
            "244/244 - 1s - loss: 0.5336 - accuracy: 0.8908\n",
            "Epoch 68/200\n",
            "244/244 - 1s - loss: 0.5246 - accuracy: 0.8921\n",
            "Epoch 69/200\n",
            "244/244 - 1s - loss: 0.5068 - accuracy: 0.8965\n",
            "Epoch 70/200\n",
            "244/244 - 1s - loss: 0.4895 - accuracy: 0.8962\n",
            "Epoch 71/200\n",
            "244/244 - 1s - loss: 0.4801 - accuracy: 0.8975\n",
            "Epoch 72/200\n",
            "244/244 - 1s - loss: 0.4684 - accuracy: 0.9017\n",
            "Epoch 73/200\n",
            "244/244 - 1s - loss: 0.4589 - accuracy: 0.9047\n",
            "Epoch 74/200\n",
            "244/244 - 1s - loss: 0.4489 - accuracy: 0.9031\n",
            "Epoch 75/200\n",
            "244/244 - 1s - loss: 0.4466 - accuracy: 0.9064\n",
            "Epoch 76/200\n",
            "244/244 - 1s - loss: 0.4512 - accuracy: 0.9022\n",
            "Epoch 77/200\n",
            "244/244 - 1s - loss: 0.4221 - accuracy: 0.9091\n",
            "Epoch 78/200\n",
            "244/244 - 1s - loss: 0.4087 - accuracy: 0.9099\n",
            "Epoch 79/200\n",
            "244/244 - 1s - loss: 0.3923 - accuracy: 0.9113\n",
            "Epoch 80/200\n",
            "244/244 - 1s - loss: 0.3848 - accuracy: 0.9105\n",
            "Epoch 81/200\n",
            "244/244 - 1s - loss: 0.3863 - accuracy: 0.9105\n",
            "Epoch 82/200\n",
            "244/244 - 1s - loss: 0.3780 - accuracy: 0.9105\n",
            "Epoch 83/200\n",
            "244/244 - 1s - loss: 0.3662 - accuracy: 0.9145\n",
            "Epoch 84/200\n",
            "244/244 - 1s - loss: 0.3611 - accuracy: 0.9136\n",
            "Epoch 85/200\n",
            "244/244 - 1s - loss: 0.3617 - accuracy: 0.9117\n",
            "Epoch 86/200\n",
            "244/244 - 1s - loss: 0.3677 - accuracy: 0.9125\n",
            "Epoch 87/200\n",
            "244/244 - 1s - loss: 0.3944 - accuracy: 0.9068\n",
            "Epoch 88/200\n",
            "244/244 - 1s - loss: 0.3647 - accuracy: 0.9094\n",
            "Epoch 89/200\n",
            "244/244 - 1s - loss: 0.3540 - accuracy: 0.9114\n",
            "Epoch 90/200\n",
            "244/244 - 1s - loss: 0.3402 - accuracy: 0.9136\n",
            "Epoch 91/200\n",
            "244/244 - 1s - loss: 0.3319 - accuracy: 0.9144\n",
            "Epoch 92/200\n",
            "244/244 - 1s - loss: 0.3279 - accuracy: 0.9144\n",
            "Epoch 93/200\n",
            "244/244 - 1s - loss: 0.3251 - accuracy: 0.9139\n",
            "Epoch 94/200\n",
            "244/244 - 1s - loss: 0.3243 - accuracy: 0.9150\n",
            "Epoch 95/200\n",
            "244/244 - 1s - loss: 0.3187 - accuracy: 0.9162\n",
            "Epoch 96/200\n",
            "244/244 - 1s - loss: 0.3188 - accuracy: 0.9139\n",
            "Epoch 97/200\n",
            "244/244 - 1s - loss: 0.3255 - accuracy: 0.9132\n",
            "Epoch 98/200\n",
            "244/244 - 1s - loss: 0.3509 - accuracy: 0.9076\n",
            "Epoch 99/200\n",
            "244/244 - 1s - loss: 0.3788 - accuracy: 0.9036\n",
            "Epoch 100/200\n",
            "244/244 - 1s - loss: 0.3338 - accuracy: 0.9117\n",
            "Epoch 101/200\n",
            "244/244 - 1s - loss: 0.3134 - accuracy: 0.9146\n",
            "Epoch 102/200\n",
            "244/244 - 1s - loss: 0.3078 - accuracy: 0.9153\n",
            "Epoch 103/200\n",
            "244/244 - 1s - loss: 0.3052 - accuracy: 0.9150\n",
            "Epoch 104/200\n",
            "244/244 - 1s - loss: 0.3070 - accuracy: 0.9143\n",
            "Epoch 105/200\n",
            "244/244 - 1s - loss: 0.3052 - accuracy: 0.9168\n",
            "Epoch 106/200\n",
            "244/244 - 1s - loss: 0.3057 - accuracy: 0.9143\n",
            "Epoch 107/200\n",
            "244/244 - 1s - loss: 0.3028 - accuracy: 0.9152\n",
            "Epoch 108/200\n",
            "244/244 - 1s - loss: 0.3013 - accuracy: 0.9152\n",
            "Epoch 109/200\n",
            "244/244 - 1s - loss: 0.2982 - accuracy: 0.9143\n",
            "Epoch 110/200\n",
            "244/244 - 1s - loss: 0.3001 - accuracy: 0.9146\n",
            "Epoch 111/200\n",
            "244/244 - 1s - loss: 0.2969 - accuracy: 0.9164\n",
            "Epoch 112/200\n",
            "244/244 - 1s - loss: 0.2984 - accuracy: 0.9150\n",
            "Epoch 113/200\n",
            "244/244 - 1s - loss: 0.2990 - accuracy: 0.9140\n",
            "Epoch 114/200\n",
            "244/244 - 1s - loss: 0.2994 - accuracy: 0.9155\n",
            "Epoch 115/200\n",
            "244/244 - 1s - loss: 0.3420 - accuracy: 0.9073\n",
            "Epoch 116/200\n",
            "244/244 - 1s - loss: 0.3764 - accuracy: 0.8998\n",
            "Epoch 117/200\n",
            "244/244 - 1s - loss: 0.3200 - accuracy: 0.9112\n",
            "Epoch 118/200\n",
            "244/244 - 1s - loss: 0.3030 - accuracy: 0.9136\n",
            "Epoch 119/200\n",
            "244/244 - 1s - loss: 0.2949 - accuracy: 0.9150\n",
            "Epoch 120/200\n",
            "244/244 - 1s - loss: 0.2919 - accuracy: 0.9134\n",
            "Epoch 121/200\n",
            "244/244 - 1s - loss: 0.2890 - accuracy: 0.9150\n",
            "Epoch 122/200\n",
            "244/244 - 1s - loss: 0.2882 - accuracy: 0.9149\n",
            "Epoch 123/200\n",
            "244/244 - 1s - loss: 0.2880 - accuracy: 0.9153\n",
            "Epoch 124/200\n",
            "244/244 - 1s - loss: 0.2883 - accuracy: 0.9144\n",
            "Epoch 125/200\n",
            "244/244 - 1s - loss: 0.2883 - accuracy: 0.9139\n",
            "Epoch 126/200\n",
            "244/244 - 1s - loss: 0.2889 - accuracy: 0.9146\n",
            "Epoch 127/200\n",
            "244/244 - 1s - loss: 0.2895 - accuracy: 0.9154\n",
            "Epoch 128/200\n",
            "244/244 - 1s - loss: 0.2885 - accuracy: 0.9148\n",
            "Epoch 129/200\n",
            "244/244 - 1s - loss: 0.2885 - accuracy: 0.9154\n",
            "Epoch 130/200\n",
            "244/244 - 1s - loss: 0.2881 - accuracy: 0.9153\n",
            "Epoch 131/200\n",
            "244/244 - 1s - loss: 0.2865 - accuracy: 0.9155\n",
            "Epoch 132/200\n",
            "244/244 - 1s - loss: 0.2923 - accuracy: 0.9152\n",
            "Epoch 133/200\n",
            "244/244 - 1s - loss: 0.3891 - accuracy: 0.8927\n",
            "Epoch 134/200\n",
            "244/244 - 1s - loss: 0.4295 - accuracy: 0.8833\n",
            "Epoch 135/200\n",
            "244/244 - 1s - loss: 0.3080 - accuracy: 0.9118\n",
            "Epoch 136/200\n",
            "244/244 - 1s - loss: 0.2908 - accuracy: 0.9152\n",
            "Epoch 137/200\n",
            "244/244 - 1s - loss: 0.2861 - accuracy: 0.9148\n",
            "Epoch 138/200\n",
            "244/244 - 1s - loss: 0.2835 - accuracy: 0.9149\n",
            "Epoch 139/200\n",
            "244/244 - 1s - loss: 0.2829 - accuracy: 0.9149\n",
            "Epoch 140/200\n",
            "244/244 - 1s - loss: 0.2819 - accuracy: 0.9158\n",
            "Epoch 141/200\n",
            "244/244 - 1s - loss: 0.2820 - accuracy: 0.9161\n",
            "Epoch 142/200\n",
            "244/244 - 1s - loss: 0.2828 - accuracy: 0.9150\n",
            "Epoch 143/200\n",
            "244/244 - 1s - loss: 0.2819 - accuracy: 0.9168\n",
            "Epoch 144/200\n",
            "244/244 - 1s - loss: 0.2812 - accuracy: 0.9157\n",
            "Epoch 145/200\n",
            "244/244 - 1s - loss: 0.2821 - accuracy: 0.9150\n",
            "Epoch 146/200\n",
            "244/244 - 1s - loss: 0.2824 - accuracy: 0.9153\n",
            "Epoch 147/200\n",
            "244/244 - 1s - loss: 0.2827 - accuracy: 0.9157\n",
            "Epoch 148/200\n",
            "244/244 - 1s - loss: 0.2828 - accuracy: 0.9152\n",
            "Epoch 149/200\n",
            "244/244 - 1s - loss: 0.2823 - accuracy: 0.9149\n",
            "Epoch 150/200\n",
            "244/244 - 1s - loss: 0.2814 - accuracy: 0.9164\n",
            "Epoch 151/200\n",
            "244/244 - 1s - loss: 0.2854 - accuracy: 0.9154\n",
            "Epoch 152/200\n",
            "244/244 - 1s - loss: 0.2858 - accuracy: 0.9146\n",
            "Epoch 153/200\n",
            "244/244 - 1s - loss: 0.2841 - accuracy: 0.9153\n",
            "Epoch 154/200\n",
            "244/244 - 1s - loss: 0.2869 - accuracy: 0.9136\n",
            "Epoch 155/200\n",
            "244/244 - 1s - loss: 0.3122 - accuracy: 0.9102\n",
            "Epoch 156/200\n",
            "244/244 - 1s - loss: 0.3963 - accuracy: 0.8900\n",
            "Epoch 157/200\n",
            "244/244 - 1s - loss: 0.3170 - accuracy: 0.9094\n",
            "Epoch 158/200\n",
            "244/244 - 1s - loss: 0.2878 - accuracy: 0.9157\n",
            "Epoch 159/200\n",
            "244/244 - 1s - loss: 0.2806 - accuracy: 0.9158\n",
            "Epoch 160/200\n",
            "244/244 - 1s - loss: 0.2788 - accuracy: 0.9164\n",
            "Epoch 161/200\n",
            "244/244 - 1s - loss: 0.2793 - accuracy: 0.9146\n",
            "Epoch 162/200\n",
            "244/244 - 1s - loss: 0.2800 - accuracy: 0.9152\n",
            "Epoch 163/200\n",
            "244/244 - 1s - loss: 0.2794 - accuracy: 0.9140\n",
            "Epoch 164/200\n",
            "244/244 - 1s - loss: 0.2768 - accuracy: 0.9163\n",
            "Epoch 165/200\n",
            "244/244 - 1s - loss: 0.2781 - accuracy: 0.9153\n",
            "Epoch 166/200\n",
            "244/244 - 1s - loss: 0.2792 - accuracy: 0.9157\n",
            "Epoch 167/200\n",
            "244/244 - 1s - loss: 0.2800 - accuracy: 0.9154\n",
            "Epoch 168/200\n",
            "244/244 - 1s - loss: 0.2787 - accuracy: 0.9159\n",
            "Epoch 169/200\n",
            "244/244 - 1s - loss: 0.2791 - accuracy: 0.9139\n",
            "Epoch 170/200\n",
            "244/244 - 1s - loss: 0.2810 - accuracy: 0.9157\n",
            "Epoch 171/200\n",
            "244/244 - 1s - loss: 0.2782 - accuracy: 0.9161\n",
            "Epoch 172/200\n",
            "244/244 - 1s - loss: 0.2796 - accuracy: 0.9146\n",
            "Epoch 173/200\n",
            "244/244 - 1s - loss: 0.2869 - accuracy: 0.9145\n",
            "Epoch 174/200\n",
            "244/244 - 1s - loss: 0.3363 - accuracy: 0.9029\n",
            "Epoch 175/200\n",
            "244/244 - 1s - loss: 0.5207 - accuracy: 0.8604\n",
            "Epoch 176/200\n",
            "244/244 - 1s - loss: 0.3523 - accuracy: 0.9016\n",
            "Epoch 177/200\n",
            "244/244 - 1s - loss: 0.2950 - accuracy: 0.9159\n",
            "Epoch 178/200\n",
            "244/244 - 1s - loss: 0.2842 - accuracy: 0.9159\n",
            "Epoch 179/200\n",
            "244/244 - 1s - loss: 0.2818 - accuracy: 0.9153\n",
            "Epoch 180/200\n",
            "244/244 - 1s - loss: 0.2807 - accuracy: 0.9150\n",
            "Epoch 181/200\n",
            "244/244 - 1s - loss: 0.2803 - accuracy: 0.9148\n",
            "Epoch 182/200\n",
            "244/244 - 1s - loss: 0.2778 - accuracy: 0.9171\n",
            "Epoch 183/200\n",
            "244/244 - 1s - loss: 0.2779 - accuracy: 0.9149\n",
            "Epoch 184/200\n",
            "244/244 - 1s - loss: 0.2787 - accuracy: 0.9150\n",
            "Epoch 185/200\n",
            "244/244 - 1s - loss: 0.2784 - accuracy: 0.9149\n",
            "Epoch 186/200\n",
            "244/244 - 1s - loss: 0.2787 - accuracy: 0.9152\n",
            "Epoch 187/200\n",
            "244/244 - 1s - loss: 0.2779 - accuracy: 0.9150\n",
            "Epoch 188/200\n",
            "244/244 - 1s - loss: 0.2789 - accuracy: 0.9154\n",
            "Epoch 189/200\n",
            "244/244 - 1s - loss: 0.2779 - accuracy: 0.9148\n",
            "Epoch 190/200\n",
            "244/244 - 1s - loss: 0.2773 - accuracy: 0.9148\n",
            "Epoch 191/200\n",
            "244/244 - 1s - loss: 0.2778 - accuracy: 0.9162\n",
            "Epoch 192/200\n",
            "244/244 - 1s - loss: 0.2781 - accuracy: 0.9138\n",
            "Epoch 193/200\n",
            "244/244 - 1s - loss: 0.2783 - accuracy: 0.9139\n",
            "Epoch 194/200\n",
            "244/244 - 1s - loss: 0.2778 - accuracy: 0.9159\n",
            "Epoch 195/200\n",
            "244/244 - 1s - loss: 0.2776 - accuracy: 0.9157\n",
            "Epoch 196/200\n",
            "244/244 - 1s - loss: 0.2753 - accuracy: 0.9157\n",
            "Epoch 197/200\n",
            "244/244 - 1s - loss: 0.2786 - accuracy: 0.9149\n",
            "Epoch 198/200\n",
            "244/244 - 1s - loss: 0.2790 - accuracy: 0.9153\n",
            "Epoch 199/200\n",
            "244/244 - 1s - loss: 0.2796 - accuracy: 0.9139\n",
            "Epoch 200/200\n",
            "244/244 - 1s - loss: 0.2781 - accuracy: 0.9166\n"
          ],
          "name": "stdout"
        }
      ]
    },
    {
      "cell_type": "markdown",
      "metadata": {
        "id": "z_3Ei1l6tlUh"
      },
      "source": [
        "### 모델 검증"
      ]
    },
    {
      "cell_type": "code",
      "metadata": {
        "id": "QYmfftHmrzBB"
      },
      "source": [
        "def sentence_generation(model, t, current_word, n):     # 모델, 토크나이저, 현재 단어, 반복 횟수\r\n",
        "    init_word = current_word\r\n",
        "    sentence = ''\r\n",
        "    for _ in range(n):\r\n",
        "        encoded = t.texts_to_sequences([current_word])[0]\r\n",
        "        encoded = pad_sequences([encoded], maxlen=23, padding='pre')\r\n",
        "        #result = model.predict_classes(encoded, verbose=0)\r\n",
        "        result = np.argmax(model.predict(encoded), axis=-1)\r\n",
        "        for word, index in t.word_index.items():\r\n",
        "            if index == result:\r\n",
        "                break\r\n",
        "        current_word = current_word + ' ' + word\r\n",
        "        sentence = sentence + ' ' + word\r\n",
        "    \r\n",
        "    sentence = init_word + sentence\r\n",
        "    return sentence"
      ],
      "execution_count": 26,
      "outputs": []
    },
    {
      "cell_type": "code",
      "metadata": {
        "colab": {
          "base_uri": "https://localhost:8080/"
        },
        "id": "zWuo8PNluLw5",
        "outputId": "d0032605-f287-4c49-e7ba-ef6dd819c671"
      },
      "source": [
        "print(sentence_generation(model, t, 'i', 10))\r\n",
        "print(sentence_generation(model, t, 'how', 10))\r\n",
        "print(sentence_generation(model, t, 'former', 10))"
      ],
      "execution_count": 27,
      "outputs": [
        {
          "output_type": "stream",
          "text": [
            "i want to be rich and im not sorry to help\n",
            "how do you feel about being told to smile up and\n",
            "former nfl cheerleaders settlement offer 1 and a meeting with goodell\n"
          ],
          "name": "stdout"
        }
      ]
    },
    {
      "cell_type": "markdown",
      "metadata": {
        "id": "IhxtOTsXwnby"
      },
      "source": [
        "### SimpleRNN을 사용한 경우"
      ]
    },
    {
      "cell_type": "code",
      "metadata": {
        "colab": {
          "base_uri": "https://localhost:8080/"
        },
        "id": "DtYNy4i8uM-S",
        "outputId": "19b146c5-37e2-4bd0-d5f6-094195582533"
      },
      "source": [
        "from tensorflow.keras.layers import SimpleRNN\r\n",
        "model = Sequential()\r\n",
        "model.add(Embedding(vocab_size, 10, input_length=max_len-1, \r\n",
        "                    name=\"Embedding_Layer\"))\r\n",
        "model.add(SimpleRNN(128, name=\"SimpleRNN_Layer\"))\r\n",
        "model.add(Dense(vocab_size, activation='softmax', name=\"Output_Layer\"))\r\n",
        "model.summary()"
      ],
      "execution_count": 28,
      "outputs": [
        {
          "output_type": "stream",
          "text": [
            "Model: \"sequential_1\"\n",
            "_________________________________________________________________\n",
            "Layer (type)                 Output Shape              Param #   \n",
            "=================================================================\n",
            "Embedding_Layer (Embedding)  (None, 23, 10)            34940     \n",
            "_________________________________________________________________\n",
            "SimpleRNN_Layer (SimpleRNN)  (None, 128)               17792     \n",
            "_________________________________________________________________\n",
            "Output_Layer (Dense)         (None, 3494)              450726    \n",
            "=================================================================\n",
            "Total params: 503,458\n",
            "Trainable params: 503,458\n",
            "Non-trainable params: 0\n",
            "_________________________________________________________________\n"
          ],
          "name": "stdout"
        }
      ]
    },
    {
      "cell_type": "code",
      "metadata": {
        "id": "9ioeA1XJw10E"
      },
      "source": [
        "model.compile(loss='categorical_crossentropy',\r\n",
        "              optimizer='adam', metrics=['accuracy'])"
      ],
      "execution_count": 29,
      "outputs": []
    },
    {
      "cell_type": "code",
      "metadata": {
        "colab": {
          "base_uri": "https://localhost:8080/"
        },
        "id": "j3mxtu98w4_4",
        "outputId": "a4d37ec3-5520-4a7b-9a7d-f58685b161bd"
      },
      "source": [
        "history = model.fit(X, Y, epochs=200, verbose=2)"
      ],
      "execution_count": 30,
      "outputs": [
        {
          "output_type": "stream",
          "text": [
            "Epoch 1/200\n",
            "244/244 - 4s - loss: 7.6650 - accuracy: 0.0296\n",
            "Epoch 2/200\n",
            "244/244 - 3s - loss: 7.1293 - accuracy: 0.0319\n",
            "Epoch 3/200\n",
            "244/244 - 4s - loss: 6.9232 - accuracy: 0.0423\n",
            "Epoch 4/200\n",
            "244/244 - 3s - loss: 6.6457 - accuracy: 0.0527\n",
            "Epoch 5/200\n",
            "244/244 - 3s - loss: 6.3117 - accuracy: 0.0574\n",
            "Epoch 6/200\n",
            "244/244 - 3s - loss: 5.9754 - accuracy: 0.0647\n",
            "Epoch 7/200\n",
            "244/244 - 3s - loss: 5.6466 - accuracy: 0.0741\n",
            "Epoch 8/200\n",
            "244/244 - 3s - loss: 5.3306 - accuracy: 0.0847\n",
            "Epoch 9/200\n",
            "244/244 - 3s - loss: 5.0323 - accuracy: 0.1092\n",
            "Epoch 10/200\n",
            "244/244 - 3s - loss: 4.7332 - accuracy: 0.1402\n",
            "Epoch 11/200\n",
            "244/244 - 3s - loss: 4.4521 - accuracy: 0.1810\n",
            "Epoch 12/200\n",
            "244/244 - 3s - loss: 4.1840 - accuracy: 0.2302\n",
            "Epoch 13/200\n",
            "244/244 - 3s - loss: 3.9291 - accuracy: 0.2693\n",
            "Epoch 14/200\n",
            "244/244 - 3s - loss: 3.6971 - accuracy: 0.3099\n",
            "Epoch 15/200\n",
            "244/244 - 3s - loss: 3.4753 - accuracy: 0.3526\n",
            "Epoch 16/200\n",
            "244/244 - 3s - loss: 3.2726 - accuracy: 0.3861\n",
            "Epoch 17/200\n",
            "244/244 - 3s - loss: 3.0834 - accuracy: 0.4159\n",
            "Epoch 18/200\n",
            "244/244 - 3s - loss: 2.9068 - accuracy: 0.4448\n",
            "Epoch 19/200\n",
            "244/244 - 3s - loss: 2.7510 - accuracy: 0.4696\n",
            "Epoch 20/200\n",
            "244/244 - 3s - loss: 2.6072 - accuracy: 0.4952\n",
            "Epoch 21/200\n",
            "244/244 - 4s - loss: 2.4674 - accuracy: 0.5210\n",
            "Epoch 22/200\n",
            "244/244 - 3s - loss: 2.3417 - accuracy: 0.5433\n",
            "Epoch 23/200\n",
            "244/244 - 3s - loss: 2.2245 - accuracy: 0.5656\n",
            "Epoch 24/200\n",
            "244/244 - 3s - loss: 2.1142 - accuracy: 0.5863\n",
            "Epoch 25/200\n",
            "244/244 - 3s - loss: 2.0127 - accuracy: 0.6073\n",
            "Epoch 26/200\n",
            "244/244 - 4s - loss: 1.9181 - accuracy: 0.6326\n",
            "Epoch 27/200\n",
            "244/244 - 3s - loss: 1.8244 - accuracy: 0.6445\n",
            "Epoch 28/200\n",
            "244/244 - 3s - loss: 1.7387 - accuracy: 0.6638\n",
            "Epoch 29/200\n",
            "244/244 - 3s - loss: 1.6566 - accuracy: 0.6819\n",
            "Epoch 30/200\n",
            "244/244 - 3s - loss: 1.5759 - accuracy: 0.7004\n",
            "Epoch 31/200\n",
            "244/244 - 3s - loss: 1.5048 - accuracy: 0.7109\n",
            "Epoch 32/200\n",
            "244/244 - 4s - loss: 1.4398 - accuracy: 0.7264\n",
            "Epoch 33/200\n",
            "244/244 - 4s - loss: 1.3728 - accuracy: 0.7357\n",
            "Epoch 34/200\n",
            "244/244 - 3s - loss: 1.3050 - accuracy: 0.7509\n",
            "Epoch 35/200\n",
            "244/244 - 3s - loss: 1.2477 - accuracy: 0.7609\n",
            "Epoch 36/200\n",
            "244/244 - 3s - loss: 1.1877 - accuracy: 0.7747\n",
            "Epoch 37/200\n",
            "244/244 - 3s - loss: 1.1379 - accuracy: 0.7839\n",
            "Epoch 38/200\n",
            "244/244 - 3s - loss: 1.0866 - accuracy: 0.7938\n",
            "Epoch 39/200\n",
            "244/244 - 3s - loss: 1.0370 - accuracy: 0.8006\n",
            "Epoch 40/200\n",
            "244/244 - 3s - loss: 0.9880 - accuracy: 0.8125\n",
            "Epoch 41/200\n",
            "244/244 - 3s - loss: 0.9437 - accuracy: 0.8225\n",
            "Epoch 42/200\n",
            "244/244 - 4s - loss: 0.9083 - accuracy: 0.8269\n",
            "Epoch 43/200\n",
            "244/244 - 3s - loss: 0.8669 - accuracy: 0.8362\n",
            "Epoch 44/200\n",
            "244/244 - 3s - loss: 0.8360 - accuracy: 0.8452\n",
            "Epoch 45/200\n",
            "244/244 - 3s - loss: 0.7928 - accuracy: 0.8508\n",
            "Epoch 46/200\n",
            "244/244 - 3s - loss: 0.7592 - accuracy: 0.8585\n",
            "Epoch 47/200\n",
            "244/244 - 3s - loss: 0.7299 - accuracy: 0.8638\n",
            "Epoch 48/200\n",
            "244/244 - 3s - loss: 0.7038 - accuracy: 0.8698\n",
            "Epoch 49/200\n",
            "244/244 - 3s - loss: 0.6851 - accuracy: 0.8713\n",
            "Epoch 50/200\n",
            "244/244 - 4s - loss: 0.6479 - accuracy: 0.8786\n",
            "Epoch 51/200\n",
            "244/244 - 3s - loss: 0.6247 - accuracy: 0.8809\n",
            "Epoch 52/200\n",
            "244/244 - 3s - loss: 0.6002 - accuracy: 0.8848\n",
            "Epoch 53/200\n",
            "244/244 - 3s - loss: 0.5825 - accuracy: 0.8876\n",
            "Epoch 54/200\n",
            "244/244 - 3s - loss: 0.5688 - accuracy: 0.8871\n",
            "Epoch 55/200\n",
            "244/244 - 3s - loss: 0.5421 - accuracy: 0.8940\n",
            "Epoch 56/200\n",
            "244/244 - 3s - loss: 0.5213 - accuracy: 0.8971\n",
            "Epoch 57/200\n",
            "244/244 - 3s - loss: 0.5106 - accuracy: 0.8980\n",
            "Epoch 58/200\n",
            "244/244 - 3s - loss: 0.4937 - accuracy: 0.8998\n",
            "Epoch 59/200\n",
            "244/244 - 3s - loss: 0.4882 - accuracy: 0.9011\n",
            "Epoch 60/200\n",
            "244/244 - 3s - loss: 0.4667 - accuracy: 0.9038\n",
            "Epoch 61/200\n",
            "244/244 - 3s - loss: 0.4571 - accuracy: 0.9045\n",
            "Epoch 62/200\n",
            "244/244 - 4s - loss: 0.4435 - accuracy: 0.9053\n",
            "Epoch 63/200\n",
            "244/244 - 3s - loss: 0.4335 - accuracy: 0.9049\n",
            "Epoch 64/200\n",
            "244/244 - 3s - loss: 0.4267 - accuracy: 0.9067\n",
            "Epoch 65/200\n",
            "244/244 - 3s - loss: 0.4150 - accuracy: 0.9081\n",
            "Epoch 66/200\n",
            "244/244 - 3s - loss: 0.4072 - accuracy: 0.9094\n",
            "Epoch 67/200\n",
            "244/244 - 3s - loss: 0.3973 - accuracy: 0.9098\n",
            "Epoch 68/200\n",
            "244/244 - 3s - loss: 0.4243 - accuracy: 0.9027\n",
            "Epoch 69/200\n",
            "244/244 - 3s - loss: 0.4032 - accuracy: 0.9097\n",
            "Epoch 70/200\n",
            "244/244 - 3s - loss: 0.3814 - accuracy: 0.9122\n",
            "Epoch 71/200\n",
            "244/244 - 3s - loss: 0.3695 - accuracy: 0.9127\n",
            "Epoch 72/200\n",
            "244/244 - 3s - loss: 0.3625 - accuracy: 0.9130\n",
            "Epoch 73/200\n",
            "244/244 - 3s - loss: 0.3660 - accuracy: 0.9118\n",
            "Epoch 74/200\n",
            "244/244 - 3s - loss: 0.3666 - accuracy: 0.9116\n",
            "Epoch 75/200\n",
            "244/244 - 3s - loss: 0.3525 - accuracy: 0.9138\n",
            "Epoch 76/200\n",
            "244/244 - 3s - loss: 0.3487 - accuracy: 0.9127\n",
            "Epoch 77/200\n",
            "244/244 - 3s - loss: 0.3434 - accuracy: 0.9154\n",
            "Epoch 78/200\n",
            "244/244 - 3s - loss: 0.3442 - accuracy: 0.9121\n",
            "Epoch 79/200\n",
            "244/244 - 3s - loss: 0.3422 - accuracy: 0.9130\n",
            "Epoch 80/200\n",
            "244/244 - 3s - loss: 0.3356 - accuracy: 0.9146\n",
            "Epoch 81/200\n",
            "244/244 - 3s - loss: 0.3334 - accuracy: 0.9136\n",
            "Epoch 82/200\n",
            "244/244 - 3s - loss: 0.3468 - accuracy: 0.9127\n",
            "Epoch 83/200\n",
            "244/244 - 3s - loss: 0.3356 - accuracy: 0.9152\n",
            "Epoch 84/200\n",
            "244/244 - 3s - loss: 0.3240 - accuracy: 0.9153\n",
            "Epoch 85/200\n",
            "244/244 - 3s - loss: 0.3282 - accuracy: 0.9136\n",
            "Epoch 86/200\n",
            "244/244 - 3s - loss: 0.3237 - accuracy: 0.9157\n",
            "Epoch 87/200\n",
            "244/244 - 3s - loss: 0.3182 - accuracy: 0.9173\n",
            "Epoch 88/200\n",
            "244/244 - 3s - loss: 0.3233 - accuracy: 0.9130\n",
            "Epoch 89/200\n",
            "244/244 - 3s - loss: 0.3173 - accuracy: 0.9140\n",
            "Epoch 90/200\n",
            "244/244 - 3s - loss: 0.3176 - accuracy: 0.9146\n",
            "Epoch 91/200\n",
            "244/244 - 3s - loss: 0.3136 - accuracy: 0.9153\n",
            "Epoch 92/200\n",
            "244/244 - 3s - loss: 0.3124 - accuracy: 0.9136\n",
            "Epoch 93/200\n",
            "244/244 - 3s - loss: 0.3090 - accuracy: 0.9148\n",
            "Epoch 94/200\n",
            "244/244 - 3s - loss: 0.3645 - accuracy: 0.9029\n",
            "Epoch 95/200\n",
            "244/244 - 3s - loss: 0.3285 - accuracy: 0.9118\n",
            "Epoch 96/200\n",
            "244/244 - 3s - loss: 0.3099 - accuracy: 0.9149\n",
            "Epoch 97/200\n",
            "244/244 - 3s - loss: 0.3062 - accuracy: 0.9141\n",
            "Epoch 98/200\n",
            "244/244 - 3s - loss: 0.3041 - accuracy: 0.9140\n",
            "Epoch 99/200\n",
            "244/244 - 3s - loss: 0.2982 - accuracy: 0.9149\n",
            "Epoch 100/200\n",
            "244/244 - 3s - loss: 0.3013 - accuracy: 0.9145\n",
            "Epoch 101/200\n",
            "244/244 - 3s - loss: 0.3015 - accuracy: 0.9149\n",
            "Epoch 102/200\n",
            "244/244 - 3s - loss: 0.3034 - accuracy: 0.9144\n",
            "Epoch 103/200\n",
            "244/244 - 4s - loss: 0.3053 - accuracy: 0.9149\n",
            "Epoch 104/200\n",
            "244/244 - 4s - loss: 0.3016 - accuracy: 0.9141\n",
            "Epoch 105/200\n",
            "244/244 - 4s - loss: 0.3000 - accuracy: 0.9164\n",
            "Epoch 106/200\n",
            "244/244 - 4s - loss: 0.3013 - accuracy: 0.9149\n",
            "Epoch 107/200\n",
            "244/244 - 3s - loss: 0.2984 - accuracy: 0.9149\n",
            "Epoch 108/200\n",
            "244/244 - 3s - loss: 0.3086 - accuracy: 0.9139\n",
            "Epoch 109/200\n",
            "244/244 - 3s - loss: 0.3014 - accuracy: 0.9155\n",
            "Epoch 110/200\n",
            "244/244 - 3s - loss: 0.3006 - accuracy: 0.9129\n",
            "Epoch 111/200\n",
            "244/244 - 3s - loss: 0.2989 - accuracy: 0.9153\n",
            "Epoch 112/200\n",
            "244/244 - 3s - loss: 0.3005 - accuracy: 0.9150\n",
            "Epoch 113/200\n",
            "244/244 - 3s - loss: 0.3243 - accuracy: 0.9097\n",
            "Epoch 114/200\n",
            "244/244 - 3s - loss: 0.2990 - accuracy: 0.9161\n",
            "Epoch 115/200\n",
            "244/244 - 3s - loss: 0.2976 - accuracy: 0.9143\n",
            "Epoch 116/200\n",
            "244/244 - 3s - loss: 0.2959 - accuracy: 0.9138\n",
            "Epoch 117/200\n",
            "244/244 - 4s - loss: 0.2938 - accuracy: 0.9159\n",
            "Epoch 118/200\n",
            "244/244 - 3s - loss: 0.2934 - accuracy: 0.9150\n",
            "Epoch 119/200\n",
            "244/244 - 3s - loss: 0.2974 - accuracy: 0.9139\n",
            "Epoch 120/200\n",
            "244/244 - 3s - loss: 0.2951 - accuracy: 0.9138\n",
            "Epoch 121/200\n",
            "244/244 - 3s - loss: 0.2953 - accuracy: 0.9144\n",
            "Epoch 122/200\n",
            "244/244 - 3s - loss: 0.2923 - accuracy: 0.9162\n",
            "Epoch 123/200\n",
            "244/244 - 3s - loss: 0.2988 - accuracy: 0.9140\n",
            "Epoch 124/200\n",
            "244/244 - 3s - loss: 0.2945 - accuracy: 0.9155\n",
            "Epoch 125/200\n",
            "244/244 - 3s - loss: 0.2956 - accuracy: 0.9141\n",
            "Epoch 126/200\n",
            "244/244 - 3s - loss: 0.2937 - accuracy: 0.9155\n",
            "Epoch 127/200\n",
            "244/244 - 3s - loss: 0.2921 - accuracy: 0.9162\n",
            "Epoch 128/200\n",
            "244/244 - 3s - loss: 0.2930 - accuracy: 0.9141\n",
            "Epoch 129/200\n",
            "244/244 - 3s - loss: 0.2930 - accuracy: 0.9164\n",
            "Epoch 130/200\n",
            "244/244 - 3s - loss: 0.2939 - accuracy: 0.9155\n",
            "Epoch 131/200\n",
            "244/244 - 3s - loss: 0.5722 - accuracy: 0.8552\n",
            "Epoch 132/200\n",
            "244/244 - 3s - loss: 0.3495 - accuracy: 0.9079\n",
            "Epoch 133/200\n",
            "244/244 - 3s - loss: 0.2977 - accuracy: 0.9158\n",
            "Epoch 134/200\n",
            "244/244 - 3s - loss: 0.2920 - accuracy: 0.9164\n",
            "Epoch 135/200\n",
            "244/244 - 3s - loss: 0.2921 - accuracy: 0.9153\n",
            "Epoch 136/200\n",
            "244/244 - 3s - loss: 0.2898 - accuracy: 0.9154\n",
            "Epoch 137/200\n",
            "244/244 - 3s - loss: 0.2910 - accuracy: 0.9155\n",
            "Epoch 138/200\n",
            "244/244 - 3s - loss: 0.2891 - accuracy: 0.9159\n",
            "Epoch 139/200\n",
            "244/244 - 3s - loss: 0.2889 - accuracy: 0.9139\n",
            "Epoch 140/200\n",
            "244/244 - 3s - loss: 0.2897 - accuracy: 0.9148\n",
            "Epoch 141/200\n",
            "244/244 - 3s - loss: 0.2912 - accuracy: 0.9154\n",
            "Epoch 142/200\n",
            "244/244 - 3s - loss: 0.2908 - accuracy: 0.9144\n",
            "Epoch 143/200\n",
            "244/244 - 3s - loss: 0.2904 - accuracy: 0.9163\n",
            "Epoch 144/200\n",
            "244/244 - 3s - loss: 0.2895 - accuracy: 0.9153\n",
            "Epoch 145/200\n",
            "244/244 - 3s - loss: 0.2891 - accuracy: 0.9155\n",
            "Epoch 146/200\n",
            "244/244 - 3s - loss: 0.2920 - accuracy: 0.9140\n",
            "Epoch 147/200\n",
            "244/244 - 3s - loss: 0.2925 - accuracy: 0.9149\n",
            "Epoch 148/200\n",
            "244/244 - 3s - loss: 0.2917 - accuracy: 0.9158\n",
            "Epoch 149/200\n",
            "244/244 - 3s - loss: 0.2924 - accuracy: 0.9143\n",
            "Epoch 150/200\n",
            "244/244 - 3s - loss: 0.2887 - accuracy: 0.9158\n",
            "Epoch 151/200\n",
            "244/244 - 3s - loss: 0.2947 - accuracy: 0.9155\n",
            "Epoch 152/200\n",
            "244/244 - 3s - loss: 0.3413 - accuracy: 0.9055\n",
            "Epoch 153/200\n",
            "244/244 - 3s - loss: 0.3435 - accuracy: 0.9059\n",
            "Epoch 154/200\n",
            "244/244 - 4s - loss: 0.2942 - accuracy: 0.9136\n",
            "Epoch 155/200\n",
            "244/244 - 3s - loss: 0.2871 - accuracy: 0.9152\n",
            "Epoch 156/200\n",
            "244/244 - 3s - loss: 0.2877 - accuracy: 0.9148\n",
            "Epoch 157/200\n",
            "244/244 - 3s - loss: 0.2856 - accuracy: 0.9167\n",
            "Epoch 158/200\n",
            "244/244 - 3s - loss: 0.2877 - accuracy: 0.9144\n",
            "Epoch 159/200\n",
            "244/244 - 3s - loss: 0.2886 - accuracy: 0.9148\n",
            "Epoch 160/200\n",
            "244/244 - 3s - loss: 0.2871 - accuracy: 0.9157\n",
            "Epoch 161/200\n",
            "244/244 - 3s - loss: 0.2896 - accuracy: 0.9139\n",
            "Epoch 162/200\n",
            "244/244 - 3s - loss: 0.2885 - accuracy: 0.9146\n",
            "Epoch 163/200\n",
            "244/244 - 3s - loss: 0.2893 - accuracy: 0.9146\n",
            "Epoch 164/200\n",
            "244/244 - 3s - loss: 0.2874 - accuracy: 0.9153\n",
            "Epoch 165/200\n",
            "244/244 - 3s - loss: 0.2881 - accuracy: 0.9163\n",
            "Epoch 166/200\n",
            "244/244 - 3s - loss: 0.2904 - accuracy: 0.9143\n",
            "Epoch 167/200\n",
            "244/244 - 3s - loss: 0.2890 - accuracy: 0.9144\n",
            "Epoch 168/200\n",
            "244/244 - 3s - loss: 0.2888 - accuracy: 0.9157\n",
            "Epoch 169/200\n",
            "244/244 - 3s - loss: 0.2868 - accuracy: 0.9149\n",
            "Epoch 170/200\n",
            "244/244 - 3s - loss: 0.4282 - accuracy: 0.8877\n",
            "Epoch 171/200\n",
            "244/244 - 3s - loss: 0.3065 - accuracy: 0.9129\n",
            "Epoch 172/200\n",
            "244/244 - 3s - loss: 0.2900 - accuracy: 0.9146\n",
            "Epoch 173/200\n",
            "244/244 - 3s - loss: 0.2859 - accuracy: 0.9172\n",
            "Epoch 174/200\n",
            "244/244 - 3s - loss: 0.2858 - accuracy: 0.9141\n",
            "Epoch 175/200\n",
            "244/244 - 3s - loss: 0.2865 - accuracy: 0.9145\n",
            "Epoch 176/200\n",
            "244/244 - 3s - loss: 0.2884 - accuracy: 0.9143\n",
            "Epoch 177/200\n",
            "244/244 - 3s - loss: 0.2862 - accuracy: 0.9155\n",
            "Epoch 178/200\n",
            "244/244 - 3s - loss: 0.2875 - accuracy: 0.9146\n",
            "Epoch 179/200\n",
            "244/244 - 3s - loss: 0.2886 - accuracy: 0.9154\n",
            "Epoch 180/200\n",
            "244/244 - 3s - loss: 0.2891 - accuracy: 0.9144\n",
            "Epoch 181/200\n",
            "244/244 - 3s - loss: 0.2897 - accuracy: 0.9140\n",
            "Epoch 182/200\n",
            "244/244 - 3s - loss: 0.2878 - accuracy: 0.9154\n",
            "Epoch 183/200\n",
            "244/244 - 3s - loss: 0.2865 - accuracy: 0.9143\n",
            "Epoch 184/200\n",
            "244/244 - 3s - loss: 0.2884 - accuracy: 0.9148\n",
            "Epoch 185/200\n",
            "244/244 - 3s - loss: 0.2889 - accuracy: 0.9149\n",
            "Epoch 186/200\n",
            "244/244 - 3s - loss: 0.2888 - accuracy: 0.9150\n",
            "Epoch 187/200\n",
            "244/244 - 3s - loss: 0.2860 - accuracy: 0.9152\n",
            "Epoch 188/200\n",
            "244/244 - 3s - loss: 0.2876 - accuracy: 0.9144\n",
            "Epoch 189/200\n",
            "244/244 - 3s - loss: 0.2925 - accuracy: 0.9139\n",
            "Epoch 190/200\n",
            "244/244 - 3s - loss: 0.2897 - accuracy: 0.9149\n",
            "Epoch 191/200\n",
            "244/244 - 3s - loss: 0.2892 - accuracy: 0.9158\n",
            "Epoch 192/200\n",
            "244/244 - 3s - loss: 0.2885 - accuracy: 0.9143\n",
            "Epoch 193/200\n",
            "244/244 - 3s - loss: 0.2926 - accuracy: 0.9136\n",
            "Epoch 194/200\n",
            "244/244 - 3s - loss: 0.2889 - accuracy: 0.9152\n",
            "Epoch 195/200\n",
            "244/244 - 3s - loss: 0.2887 - accuracy: 0.9152\n",
            "Epoch 196/200\n",
            "244/244 - 3s - loss: 0.2861 - accuracy: 0.9155\n",
            "Epoch 197/200\n",
            "244/244 - 3s - loss: 0.2958 - accuracy: 0.9130\n",
            "Epoch 198/200\n",
            "244/244 - 3s - loss: 0.2884 - accuracy: 0.9163\n",
            "Epoch 199/200\n",
            "244/244 - 3s - loss: 0.2897 - accuracy: 0.9139\n",
            "Epoch 200/200\n",
            "244/244 - 3s - loss: 0.3510 - accuracy: 0.9036\n"
          ],
          "name": "stdout"
        }
      ]
    },
    {
      "cell_type": "code",
      "metadata": {
        "colab": {
          "base_uri": "https://localhost:8080/"
        },
        "id": "B7Xb_seQw8IS",
        "outputId": "3b300998-865b-4e2d-a717-ab09476ea0a1"
      },
      "source": [
        "print(sentence_generation(model, t, 'i', 10))\r\n",
        "print(sentence_generation(model, t, 'how', 10))\r\n",
        "print(sentence_generation(model, t, 'former', 10))"
      ],
      "execution_count": 31,
      "outputs": [
        {
          "output_type": "stream",
          "text": [
            "i want to be rich and im not sorry spy at\n",
            "how trump misunderstands trade case on choose a end to weapons\n",
            "former judge to review files seized in searches ok in corruption\n"
          ],
          "name": "stdout"
        }
      ]
    },
    {
      "cell_type": "markdown",
      "metadata": {
        "id": "uRe3S8t61vb4"
      },
      "source": [
        "### LSTM\r\n",
        "- i want to be rich and im not sorry border wild\r\n",
        "- how to make a crossword puzzle wages with the people from\r\n",
        "- former nfl cheerleaders settlement offer 1 and a meeting with goodell"
      ]
    },
    {
      "cell_type": "markdown",
      "metadata": {
        "id": "xm57objK1vIo"
      },
      "source": [
        "### GRU\r\n",
        "- i want to be rich and im not sorry to help\r\n",
        "- how do you feel about being told to smile up and\r\n",
        "- former nfl cheerleaders settlement offer 1 and a meeting with goodell"
      ]
    },
    {
      "cell_type": "markdown",
      "metadata": {
        "id": "KMl2JHje1vAR"
      },
      "source": [
        "### SimpleRNN\r\n",
        "- i want to be rich and im not sorry spy at\r\n",
        "- how trump misunderstands trade case on choose a end to weapons\r\n",
        "- former judge to review files seized in searches ok in corruption"
      ]
    },
    {
      "cell_type": "code",
      "metadata": {
        "id": "u42vWNIw1rgy"
      },
      "source": [
        ""
      ],
      "execution_count": null,
      "outputs": []
    }
  ]
}