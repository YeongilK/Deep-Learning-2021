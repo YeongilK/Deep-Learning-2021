{
  "nbformat": 4,
  "nbformat_minor": 0,
  "metadata": {
    "colab": {
      "name": "64_나비야-상태유지_LSTM.ipynb",
      "provenance": [],
      "collapsed_sections": []
    },
    "kernelspec": {
      "name": "python3",
      "display_name": "Python 3"
    }
  },
  "cells": [
    {
      "cell_type": "markdown",
      "metadata": {
        "id": "pWq_zfEmpayq"
      },
      "source": [
        "# 순환 신경망 - 나비야\r\n",
        "출처: [순환 신경망 모델 만들어보기](https://tykimos.github.io/2017/04/09/RNN_Layer_Talk/)"
      ]
    },
    {
      "cell_type": "markdown",
      "metadata": {
        "id": "KOVYQWaotuQ5"
      },
      "source": [
        "### 상태유지 LSTM 모델\r\n",
        "- 상태유지 모드에서는 현재 샘플의 학습 상태가 다음 샘플의 초기 상태로 전달된다."
      ]
    },
    {
      "cell_type": "code",
      "metadata": {
        "id": "zs3frytstxbo"
      },
      "source": [
        "import numpy as np\r\n",
        "import tensorflow as tf\r\n",
        "from tensorflow.keras.models import Sequential\r\n",
        "from tensorflow.keras.layers import Dense, LSTM\r\n",
        "from tensorflow.keras.utils import to_categorical\r\n",
        "from tensorflow.keras.callbacks import Callback"
      ],
      "execution_count": 11,
      "outputs": []
    },
    {
      "cell_type": "code",
      "metadata": {
        "id": "O-Gs1srzuBDD"
      },
      "source": [
        "seed = 2021\r\n",
        "np.random.seed(seed)\r\n",
        "tf.random.set_seed(seed)"
      ],
      "execution_count": 2,
      "outputs": []
    },
    {
      "cell_type": "code",
      "metadata": {
        "id": "j2Q4glAfpjn9"
      },
      "source": [
        "def seq2dataset(seq, window_size):\r\n",
        "    dataset = []\r\n",
        "    for i in range(len(seq)-window_size):\r\n",
        "        subset = seq[i:(i+window_size+1)]\r\n",
        "        dataset.append([code2idx[item] for item in subset])\r\n",
        "    return np.array(dataset)"
      ],
      "execution_count": 3,
      "outputs": []
    },
    {
      "cell_type": "code",
      "metadata": {
        "id": "9Hn9VJ6WpXwO"
      },
      "source": [
        "# 데이터 준비하기\r\n",
        "\r\n",
        "# 코드 사전 정의\r\n",
        "code2idx = {'c4':0, 'd4':1, 'e4':2, 'f4':3, 'g4':4, 'a4':5, 'b4':6,\r\n",
        "            'c8':7, 'd8':8, 'e8':9, 'f8':10, 'g8':11, 'a8':12, 'b8':13}\r\n",
        "idx2code = {0:'c4', 1:'d4', 2:'e4', 3:'f4', 4:'g4', 5:'a4', 6:'b4',\r\n",
        "            7:'c8', 8:'d8', 9:'e8', 10:'f8', 11:'g8', 12:'a8', 13:'b8'}"
      ],
      "execution_count": 4,
      "outputs": []
    },
    {
      "cell_type": "code",
      "metadata": {
        "colab": {
          "base_uri": "https://localhost:8080/"
        },
        "id": "PRE5I0MDrjUu",
        "outputId": "a53d5920-629b-425e-b12c-52c9567e6aa8"
      },
      "source": [
        "# 시퀀스 데이터 정의\r\n",
        "seq = ['g8', 'e8', 'e4', 'f8', 'd8', 'd4', 'c8', 'd8', 'e8', 'f8', 'g8', 'g8', 'g4',\r\n",
        "       'g8', 'e8', 'e8', 'e8', 'f8', 'd8', 'd4', 'c8', 'e8', 'g8', 'g8', 'e8', 'e8', 'e4',\r\n",
        "       'd8', 'd8', 'd8', 'd8', 'd8', 'e8', 'f4', 'e8', 'e8', 'e8', 'e8', 'e8', 'f8', 'g4',\r\n",
        "       'g8', 'e8', 'e4', 'f8', 'd8', 'd4', 'c8', 'e8', 'g8', 'g8', 'e8', 'e8', 'e4']\r\n",
        "dataset = seq2dataset(seq, window_size=4)\r\n",
        "dataset.shape"
      ],
      "execution_count": 5,
      "outputs": [
        {
          "output_type": "execute_result",
          "data": {
            "text/plain": [
              "(50, 5)"
            ]
          },
          "metadata": {
            "tags": []
          },
          "execution_count": 5
        }
      ]
    },
    {
      "cell_type": "code",
      "metadata": {
        "id": "RSC3zO7nuuz0"
      },
      "source": [
        "# 입력(X)과 출력(Y) 변수로 분리하기\r\n",
        "x_train = dataset[:, :-1]\r\n",
        "y_train = dataset[:, -1]\r\n",
        "\r\n",
        "MAX_IDX_VALUE = 13"
      ],
      "execution_count": 6,
      "outputs": []
    },
    {
      "cell_type": "code",
      "metadata": {
        "colab": {
          "base_uri": "https://localhost:8080/"
        },
        "id": "Yu9zC5Z4vKmh",
        "outputId": "e3c85c8b-c07e-4dcd-d273-baf9e1933546"
      },
      "source": [
        "# 입력값 정규화 시키기\r\n",
        "X_train = x_train / float(MAX_IDX_VALUE)\r\n",
        "X_train.shape"
      ],
      "execution_count": 7,
      "outputs": [
        {
          "output_type": "execute_result",
          "data": {
            "text/plain": [
              "(50, 4)"
            ]
          },
          "metadata": {
            "tags": []
          },
          "execution_count": 7
        }
      ]
    },
    {
      "cell_type": "code",
      "metadata": {
        "id": "fBFM-gYnEW3U"
      },
      "source": [
        "# 입력을 (샘플 수, 타입스텝, 특성 수)로 형태 변환\r\n",
        "X_train = np.reshape(X_train, (50, 4, 1))"
      ],
      "execution_count": 8,
      "outputs": []
    },
    {
      "cell_type": "code",
      "metadata": {
        "colab": {
          "base_uri": "https://localhost:8080/"
        },
        "id": "f6RogxpWvNMr",
        "outputId": "10e3a081-f211-4075-e745-5829b11748f9"
      },
      "source": [
        "# 라벨값에 대한 one-hot 인코딩 수행\r\n",
        "Y_train = to_categorical(y_train)\r\n",
        "one_hot_vec_size = Y_train.shape[1]\r\n",
        "one_hot_vec_size"
      ],
      "execution_count": 9,
      "outputs": [
        {
          "output_type": "execute_result",
          "data": {
            "text/plain": [
              "12"
            ]
          },
          "metadata": {
            "tags": []
          },
          "execution_count": 9
        }
      ]
    },
    {
      "cell_type": "code",
      "metadata": {
        "id": "2Mt8QRJUGXyT"
      },
      "source": [
        "# 손실 이력 클래스 정의\r\n",
        "class LossHistory(Callback):\r\n",
        "    def init(self):\r\n",
        "        self.losses = []\r\n",
        "        \r\n",
        "    def on_epoch_end(self, batch, logs={}):\r\n",
        "        self.losses.append(logs.get('loss'))"
      ],
      "execution_count": 12,
      "outputs": []
    },
    {
      "cell_type": "markdown",
      "metadata": {
        "id": "gUuBkTAgvsNb"
      },
      "source": [
        "### 모델 정의/설정/학습/평가"
      ]
    },
    {
      "cell_type": "code",
      "metadata": {
        "colab": {
          "base_uri": "https://localhost:8080/"
        },
        "id": "h6KDAWeAvaS0",
        "outputId": "7a67bbf3-158b-4421-a98c-02e35eafb06a"
      },
      "source": [
        "# 모델 구성하기\r\n",
        "model = Sequential()\r\n",
        "model.add(LSTM(128, batch_input_shape = (1, 4, 1), stateful=True))\r\n",
        "model.add(Dense(one_hot_vec_size, activation='softmax'))\r\n",
        "model.summary()"
      ],
      "execution_count": 13,
      "outputs": [
        {
          "output_type": "stream",
          "text": [
            "Model: \"sequential\"\n",
            "_________________________________________________________________\n",
            "Layer (type)                 Output Shape              Param #   \n",
            "=================================================================\n",
            "lstm (LSTM)                  (1, 128)                  66560     \n",
            "_________________________________________________________________\n",
            "dense (Dense)                (1, 12)                   1548      \n",
            "=================================================================\n",
            "Total params: 68,108\n",
            "Trainable params: 68,108\n",
            "Non-trainable params: 0\n",
            "_________________________________________________________________\n"
          ],
          "name": "stdout"
        }
      ]
    },
    {
      "cell_type": "code",
      "metadata": {
        "id": "1hPsvB7xwC7r"
      },
      "source": [
        "# 모델 학습과정 설정하기\r\n",
        "model.compile(loss='categorical_crossentropy', optimizer='adam', metrics=['accuracy'])"
      ],
      "execution_count": 14,
      "outputs": []
    },
    {
      "cell_type": "code",
      "metadata": {
        "colab": {
          "base_uri": "https://localhost:8080/"
        },
        "id": "_n5XwjGbwHBS",
        "outputId": "4362e5f5-073a-4bc4-e56c-263e1a3aee1f"
      },
      "source": [
        "# 모델 학습시키기\r\n",
        "num_epochs = 201\r\n",
        "history = LossHistory()\r\n",
        "history.init()\r\n",
        "\r\n",
        "for epoch_idx in range(num_epochs):\r\n",
        "    if epoch_idx % 50 == 0:\r\n",
        "        print(\"======================= \" + str(epoch_idx) + \" =======================\")\r\n",
        "    model.fit(X_train, Y_train, epochs=1, batch_size=1, verbose=2, shuffle=False,\r\n",
        "              callbacks=[history])      # 50 is X.shape[0]\r\n",
        "    model.reset_states()"
      ],
      "execution_count": 15,
      "outputs": [
        {
          "output_type": "stream",
          "text": [
            "======================= 0 =======================\n",
            "50/50 - 1s - loss: 2.3356 - accuracy: 0.3000\n",
            "50/50 - 0s - loss: 1.9998 - accuracy: 0.3400\n",
            "50/50 - 0s - loss: 1.9571 - accuracy: 0.3400\n",
            "50/50 - 0s - loss: 1.9417 - accuracy: 0.3400\n",
            "50/50 - 0s - loss: 1.9324 - accuracy: 0.3400\n",
            "50/50 - 0s - loss: 1.9256 - accuracy: 0.3400\n",
            "50/50 - 0s - loss: 1.9202 - accuracy: 0.3400\n",
            "50/50 - 0s - loss: 1.9157 - accuracy: 0.3400\n",
            "50/50 - 0s - loss: 1.9118 - accuracy: 0.3400\n",
            "50/50 - 0s - loss: 1.9081 - accuracy: 0.3400\n",
            "50/50 - 0s - loss: 1.9045 - accuracy: 0.3600\n",
            "50/50 - 0s - loss: 1.9008 - accuracy: 0.3600\n",
            "50/50 - 0s - loss: 1.8967 - accuracy: 0.3600\n",
            "50/50 - 0s - loss: 1.8924 - accuracy: 0.3600\n",
            "50/50 - 0s - loss: 1.8884 - accuracy: 0.3600\n",
            "50/50 - 0s - loss: 1.8776 - accuracy: 0.3800\n",
            "50/50 - 0s - loss: 2.0541 - accuracy: 0.3600\n",
            "50/50 - 0s - loss: 1.9016 - accuracy: 0.3600\n",
            "50/50 - 0s - loss: 1.8816 - accuracy: 0.3600\n",
            "50/50 - 0s - loss: 1.8632 - accuracy: 0.3600\n",
            "50/50 - 0s - loss: 1.8393 - accuracy: 0.3800\n",
            "50/50 - 0s - loss: 1.8214 - accuracy: 0.3800\n",
            "50/50 - 0s - loss: 1.8917 - accuracy: 0.3600\n",
            "50/50 - 0s - loss: 1.8497 - accuracy: 0.3400\n",
            "50/50 - 0s - loss: 1.8527 - accuracy: 0.3600\n",
            "50/50 - 0s - loss: 1.8246 - accuracy: 0.3800\n",
            "50/50 - 0s - loss: 1.7958 - accuracy: 0.3600\n",
            "50/50 - 0s - loss: 1.7608 - accuracy: 0.4000\n",
            "50/50 - 0s - loss: 1.9316 - accuracy: 0.3400\n",
            "50/50 - 0s - loss: 1.8093 - accuracy: 0.3600\n",
            "50/50 - 0s - loss: 1.8456 - accuracy: 0.3000\n",
            "50/50 - 0s - loss: 1.7909 - accuracy: 0.3600\n",
            "50/50 - 0s - loss: 1.7946 - accuracy: 0.4000\n",
            "50/50 - 0s - loss: 1.7446 - accuracy: 0.4000\n",
            "50/50 - 0s - loss: 1.7079 - accuracy: 0.3400\n",
            "50/50 - 0s - loss: 1.8186 - accuracy: 0.3800\n",
            "50/50 - 0s - loss: 1.7505 - accuracy: 0.4000\n",
            "50/50 - 0s - loss: 1.7703 - accuracy: 0.4000\n",
            "50/50 - 0s - loss: 1.7972 - accuracy: 0.3600\n",
            "50/50 - 0s - loss: 1.8089 - accuracy: 0.3400\n",
            "50/50 - 0s - loss: 1.7321 - accuracy: 0.4000\n",
            "50/50 - 0s - loss: 1.7091 - accuracy: 0.4200\n",
            "50/50 - 0s - loss: 1.6807 - accuracy: 0.4000\n",
            "50/50 - 0s - loss: 1.6684 - accuracy: 0.4200\n",
            "50/50 - 0s - loss: 1.6679 - accuracy: 0.4000\n",
            "50/50 - 0s - loss: 1.6993 - accuracy: 0.4000\n",
            "50/50 - 0s - loss: 1.7187 - accuracy: 0.3600\n",
            "50/50 - 0s - loss: 1.8230 - accuracy: 0.3400\n",
            "50/50 - 0s - loss: 1.6623 - accuracy: 0.4000\n",
            "50/50 - 0s - loss: 1.6861 - accuracy: 0.4600\n",
            "======================= 50 =======================\n",
            "50/50 - 0s - loss: 1.6323 - accuracy: 0.4400\n",
            "50/50 - 0s - loss: 1.5895 - accuracy: 0.4200\n",
            "50/50 - 0s - loss: 1.5594 - accuracy: 0.4000\n",
            "50/50 - 0s - loss: 1.5039 - accuracy: 0.4600\n",
            "50/50 - 0s - loss: 1.4574 - accuracy: 0.5000\n",
            "50/50 - 0s - loss: 1.4915 - accuracy: 0.4400\n",
            "50/50 - 0s - loss: 1.4869 - accuracy: 0.4400\n",
            "50/50 - 0s - loss: 1.4193 - accuracy: 0.5000\n",
            "50/50 - 0s - loss: 1.4021 - accuracy: 0.4600\n",
            "50/50 - 0s - loss: 1.3370 - accuracy: 0.5200\n",
            "50/50 - 0s - loss: 1.4497 - accuracy: 0.4400\n",
            "50/50 - 0s - loss: 1.3531 - accuracy: 0.5000\n",
            "50/50 - 0s - loss: 1.3750 - accuracy: 0.4600\n",
            "50/50 - 0s - loss: 1.2837 - accuracy: 0.5200\n",
            "50/50 - 0s - loss: 1.2764 - accuracy: 0.5000\n",
            "50/50 - 0s - loss: 1.4008 - accuracy: 0.4400\n",
            "50/50 - 0s - loss: 1.4398 - accuracy: 0.4200\n",
            "50/50 - 0s - loss: 1.3554 - accuracy: 0.5200\n",
            "50/50 - 0s - loss: 1.3011 - accuracy: 0.5200\n",
            "50/50 - 0s - loss: 1.2621 - accuracy: 0.5000\n",
            "50/50 - 0s - loss: 1.2082 - accuracy: 0.5000\n",
            "50/50 - 0s - loss: 1.1127 - accuracy: 0.5400\n",
            "50/50 - 0s - loss: 1.1669 - accuracy: 0.5000\n",
            "50/50 - 0s - loss: 1.4426 - accuracy: 0.4200\n",
            "50/50 - 0s - loss: 1.1306 - accuracy: 0.5000\n",
            "50/50 - 0s - loss: 1.1740 - accuracy: 0.5400\n",
            "50/50 - 0s - loss: 1.1017 - accuracy: 0.5600\n",
            "50/50 - 0s - loss: 0.9637 - accuracy: 0.5800\n",
            "50/50 - 0s - loss: 1.2306 - accuracy: 0.5600\n",
            "50/50 - 0s - loss: 1.2580 - accuracy: 0.5800\n",
            "50/50 - 0s - loss: 1.0303 - accuracy: 0.5600\n",
            "50/50 - 0s - loss: 1.3044 - accuracy: 0.5200\n",
            "50/50 - 0s - loss: 1.3402 - accuracy: 0.5000\n",
            "50/50 - 0s - loss: 1.1954 - accuracy: 0.5200\n",
            "50/50 - 0s - loss: 1.0858 - accuracy: 0.4800\n",
            "50/50 - 0s - loss: 0.9006 - accuracy: 0.6600\n",
            "50/50 - 0s - loss: 0.7915 - accuracy: 0.7600\n",
            "50/50 - 0s - loss: 0.8125 - accuracy: 0.6800\n",
            "50/50 - 0s - loss: 0.8717 - accuracy: 0.6600\n",
            "50/50 - 0s - loss: 1.3658 - accuracy: 0.4800\n",
            "50/50 - 0s - loss: 1.3137 - accuracy: 0.5000\n",
            "50/50 - 0s - loss: 1.5300 - accuracy: 0.4600\n",
            "50/50 - 0s - loss: 1.2398 - accuracy: 0.5200\n",
            "50/50 - 0s - loss: 1.1663 - accuracy: 0.5200\n",
            "50/50 - 0s - loss: 1.3399 - accuracy: 0.4400\n",
            "50/50 - 0s - loss: 1.0200 - accuracy: 0.6200\n",
            "50/50 - 0s - loss: 1.0107 - accuracy: 0.6400\n",
            "50/50 - 0s - loss: 0.8567 - accuracy: 0.6200\n",
            "50/50 - 0s - loss: 0.8360 - accuracy: 0.7200\n",
            "50/50 - 0s - loss: 0.7834 - accuracy: 0.6800\n",
            "======================= 100 =======================\n",
            "50/50 - 0s - loss: 0.9640 - accuracy: 0.7200\n",
            "50/50 - 0s - loss: 1.6141 - accuracy: 0.4200\n",
            "50/50 - 0s - loss: 1.2774 - accuracy: 0.5200\n",
            "50/50 - 0s - loss: 1.0451 - accuracy: 0.5000\n",
            "50/50 - 0s - loss: 0.9608 - accuracy: 0.5600\n",
            "50/50 - 0s - loss: 0.9571 - accuracy: 0.6000\n",
            "50/50 - 0s - loss: 0.7390 - accuracy: 0.8000\n",
            "50/50 - 0s - loss: 0.8458 - accuracy: 0.6600\n",
            "50/50 - 0s - loss: 0.6698 - accuracy: 0.8200\n",
            "50/50 - 0s - loss: 1.2079 - accuracy: 0.5000\n",
            "50/50 - 0s - loss: 1.2716 - accuracy: 0.4400\n",
            "50/50 - 0s - loss: 1.4231 - accuracy: 0.4600\n",
            "50/50 - 0s - loss: 1.5483 - accuracy: 0.4600\n",
            "50/50 - 0s - loss: 1.3938 - accuracy: 0.5000\n",
            "50/50 - 0s - loss: 1.0722 - accuracy: 0.6200\n",
            "50/50 - 0s - loss: 0.8666 - accuracy: 0.7400\n",
            "50/50 - 0s - loss: 0.7429 - accuracy: 0.7600\n",
            "50/50 - 0s - loss: 0.7645 - accuracy: 0.7400\n",
            "50/50 - 0s - loss: 1.5877 - accuracy: 0.5600\n",
            "50/50 - 0s - loss: 1.0798 - accuracy: 0.5600\n",
            "50/50 - 0s - loss: 0.8845 - accuracy: 0.6400\n",
            "50/50 - 0s - loss: 0.7025 - accuracy: 0.7200\n",
            "50/50 - 0s - loss: 0.7483 - accuracy: 0.6400\n",
            "50/50 - 0s - loss: 0.6757 - accuracy: 0.7400\n",
            "50/50 - 0s - loss: 0.8111 - accuracy: 0.6200\n",
            "50/50 - 0s - loss: 0.8547 - accuracy: 0.6800\n",
            "50/50 - 0s - loss: 0.9557 - accuracy: 0.5600\n",
            "50/50 - 0s - loss: 0.9202 - accuracy: 0.6400\n",
            "50/50 - 0s - loss: 0.7398 - accuracy: 0.7000\n",
            "50/50 - 0s - loss: 0.8230 - accuracy: 0.7600\n",
            "50/50 - 0s - loss: 0.5731 - accuracy: 0.8200\n",
            "50/50 - 0s - loss: 0.5200 - accuracy: 0.8000\n",
            "50/50 - 0s - loss: 0.6631 - accuracy: 0.7400\n",
            "50/50 - 0s - loss: 0.6571 - accuracy: 0.7400\n",
            "50/50 - 0s - loss: 1.1421 - accuracy: 0.5800\n",
            "50/50 - 0s - loss: 0.8535 - accuracy: 0.6200\n",
            "50/50 - 0s - loss: 0.6277 - accuracy: 0.7600\n",
            "50/50 - 0s - loss: 0.7270 - accuracy: 0.6800\n",
            "50/50 - 0s - loss: 0.6384 - accuracy: 0.8000\n",
            "50/50 - 0s - loss: 0.6106 - accuracy: 0.8200\n",
            "50/50 - 0s - loss: 0.7548 - accuracy: 0.7200\n",
            "50/50 - 0s - loss: 0.5545 - accuracy: 0.7800\n",
            "50/50 - 0s - loss: 0.5168 - accuracy: 0.7800\n",
            "50/50 - 0s - loss: 0.9290 - accuracy: 0.7200\n",
            "50/50 - 0s - loss: 1.3377 - accuracy: 0.5800\n",
            "50/50 - 0s - loss: 0.9447 - accuracy: 0.6200\n",
            "50/50 - 0s - loss: 0.9284 - accuracy: 0.6000\n",
            "50/50 - 0s - loss: 0.7396 - accuracy: 0.6800\n",
            "50/50 - 0s - loss: 0.5540 - accuracy: 0.7600\n",
            "50/50 - 0s - loss: 0.4385 - accuracy: 0.9200\n",
            "======================= 150 =======================\n",
            "50/50 - 0s - loss: 0.3897 - accuracy: 0.8800\n",
            "50/50 - 0s - loss: 0.4468 - accuracy: 0.9000\n",
            "50/50 - 0s - loss: 0.3476 - accuracy: 0.8600\n",
            "50/50 - 0s - loss: 0.5219 - accuracy: 0.8200\n",
            "50/50 - 0s - loss: 0.3736 - accuracy: 0.9000\n",
            "50/50 - 0s - loss: 0.5875 - accuracy: 0.8600\n",
            "50/50 - 0s - loss: 0.6525 - accuracy: 0.7800\n",
            "50/50 - 0s - loss: 0.2759 - accuracy: 0.9400\n",
            "50/50 - 0s - loss: 0.1691 - accuracy: 1.0000\n",
            "50/50 - 0s - loss: 0.1960 - accuracy: 0.9400\n",
            "50/50 - 0s - loss: 0.3200 - accuracy: 0.9000\n",
            "50/50 - 0s - loss: 0.4828 - accuracy: 0.8600\n",
            "50/50 - 0s - loss: 0.2409 - accuracy: 0.9400\n",
            "50/50 - 0s - loss: 1.2399 - accuracy: 0.5800\n",
            "50/50 - 0s - loss: 1.2750 - accuracy: 0.6000\n",
            "50/50 - 0s - loss: 1.1018 - accuracy: 0.6400\n",
            "50/50 - 0s - loss: 1.0735 - accuracy: 0.6000\n",
            "50/50 - 0s - loss: 0.7872 - accuracy: 0.6200\n",
            "50/50 - 0s - loss: 0.6758 - accuracy: 0.7200\n",
            "50/50 - 0s - loss: 0.5950 - accuracy: 0.7600\n",
            "50/50 - 0s - loss: 0.5423 - accuracy: 0.7400\n",
            "50/50 - 0s - loss: 0.4641 - accuracy: 0.8400\n",
            "50/50 - 0s - loss: 0.4228 - accuracy: 0.8400\n",
            "50/50 - 0s - loss: 0.4904 - accuracy: 0.7800\n",
            "50/50 - 0s - loss: 0.4075 - accuracy: 0.9000\n",
            "50/50 - 0s - loss: 0.8502 - accuracy: 0.6800\n",
            "50/50 - 0s - loss: 1.1431 - accuracy: 0.6000\n",
            "50/50 - 0s - loss: 0.7157 - accuracy: 0.7000\n",
            "50/50 - 0s - loss: 0.7637 - accuracy: 0.6400\n",
            "50/50 - 0s - loss: 0.5891 - accuracy: 0.7400\n",
            "50/50 - 0s - loss: 0.5788 - accuracy: 0.7400\n",
            "50/50 - 0s - loss: 0.5401 - accuracy: 0.7800\n",
            "50/50 - 0s - loss: 0.7249 - accuracy: 0.7800\n",
            "50/50 - 0s - loss: 0.6306 - accuracy: 0.7000\n",
            "50/50 - 0s - loss: 0.8999 - accuracy: 0.6000\n",
            "50/50 - 0s - loss: 0.7333 - accuracy: 0.7200\n",
            "50/50 - 0s - loss: 0.6297 - accuracy: 0.7000\n",
            "50/50 - 0s - loss: 0.3877 - accuracy: 0.8000\n",
            "50/50 - 0s - loss: 0.3270 - accuracy: 0.8400\n",
            "50/50 - 0s - loss: 0.3037 - accuracy: 0.8600\n",
            "50/50 - 0s - loss: 0.2768 - accuracy: 0.8800\n",
            "50/50 - 0s - loss: 0.1973 - accuracy: 0.9400\n",
            "50/50 - 0s - loss: 0.1938 - accuracy: 0.9400\n",
            "50/50 - 0s - loss: 0.3105 - accuracy: 0.8800\n",
            "50/50 - 0s - loss: 0.7576 - accuracy: 0.6200\n",
            "50/50 - 0s - loss: 1.2256 - accuracy: 0.5600\n",
            "50/50 - 0s - loss: 1.2366 - accuracy: 0.5200\n",
            "50/50 - 0s - loss: 0.7401 - accuracy: 0.7200\n",
            "50/50 - 0s - loss: 0.9447 - accuracy: 0.6600\n",
            "50/50 - 0s - loss: 0.4747 - accuracy: 0.8200\n",
            "======================= 200 =======================\n",
            "50/50 - 0s - loss: 0.4047 - accuracy: 0.8600\n"
          ],
          "name": "stdout"
        }
      ]
    },
    {
      "cell_type": "code",
      "metadata": {
        "colab": {
          "base_uri": "https://localhost:8080/",
          "height": 279
        },
        "id": "9cQZDI4PwNGb",
        "outputId": "75fd70e5-196e-47c9-a581-ffd0d5640422"
      },
      "source": [
        "# 학습과정 살펴보기\r\n",
        "import matplotlib.pyplot as plt\r\n",
        "%matplotlib inline\r\n",
        "\r\n",
        "plt.plot(history.losses)\r\n",
        "plt.ylabel('loss')\r\n",
        "plt.xlabel('epoch')\r\n",
        "plt.legend(['train'], loc='upper right')\r\n",
        "plt.show()"
      ],
      "execution_count": 16,
      "outputs": [
        {
          "output_type": "display_data",
          "data": {
            "image/png": "[encoded data removed]",
            "text/plain": [
              "<Figure size 432x288 with 1 Axes>"
            ]
          },
          "metadata": {
            "tags": [],
            "needs_background": "light"
          }
        }
      ]
    },
    {
      "cell_type": "code",
      "metadata": {
        "colab": {
          "base_uri": "https://localhost:8080/"
        },
        "id": "GVQqB6lZwiKY",
        "outputId": "431c4139-b8ed-4d5f-844a-937e99138aaf"
      },
      "source": [
        "# 모델 평가하기\r\n",
        "scores = model.evaluate(X_train, Y_train, batch_size=1)\r\n",
        "print(\"%s: %.2f%%\" %(model.metrics_names[1], scores[1]*100))\r\n",
        "model.reset_states()"
      ],
      "execution_count": 17,
      "outputs": [
        {
          "output_type": "stream",
          "text": [
            "50/50 [==============================] - 1s 1ms/step - loss: 0.2762 - accuracy: 0.9200\n",
            "accuracy: 92.00%\n"
          ],
          "name": "stdout"
        }
      ]
    },
    {
      "cell_type": "code",
      "metadata": {
        "colab": {
          "base_uri": "https://localhost:8080/"
        },
        "id": "YRKq09I6wiGc",
        "outputId": "b8d7d7c9-fc14-487a-b117-fa9c46a204aa"
      },
      "source": [
        "# 모델 사용하기\r\n",
        "pred_count = 50   # 최대 예측 개수 정의\r\n",
        "\r\n",
        "# 한 스텝 예측\r\n",
        "seq_out = ['g8', 'e8', 'e4', 'f8']\r\n",
        "pred_out = model.predict(X_train, batch_size=1)\r\n",
        "\r\n",
        "for i in range(pred_count):\r\n",
        "    idx = np.argmax(pred_out[i]) # one-hot 인코딩을 인덱스 값으로 변환\r\n",
        "    seq_out.append(idx2code[idx]) # seq_out는 최종 악보이므로 인덱스 값을 코드로 변환하여 저장\r\n",
        "    \r\n",
        "print(\"one step prediction : \", seq_out)"
      ],
      "execution_count": 18,
      "outputs": [
        {
          "output_type": "stream",
          "text": [
            "one step prediction :  ['g8', 'e8', 'e4', 'f8', 'd8', 'd4', 'c8', 'd8', 'e8', 'f8', 'g8', 'g8', 'g4', 'g8', 'e8', 'e8', 'e8', 'f8', 'd8', 'd4', 'c8', 'e8', 'g8', 'g8', 'e8', 'e8', 'e4', 'd8', 'e8', 'd8', 'd8', 'e8', 'e8', 'f4', 'e8', 'e8', 'e4', 'e8', 'f8', 'f8', 'g4', 'g8', 'e8', 'e4', 'f8', 'd8', 'd4', 'c8', 'e8', 'g8', 'g8', 'e8', 'e8', 'e4']\n"
          ],
          "name": "stdout"
        }
      ]
    },
    {
      "cell_type": "markdown",
      "metadata": {
        "id": "02UkCd8SFRwg"
      },
      "source": [
        "#### [노래듣기](https://tykimos.github.io/warehouse/2017-4-9-Stateful_LSTM_f1_one_step_prediction.mp3)"
      ]
    },
    {
      "cell_type": "code",
      "metadata": {
        "colab": {
          "base_uri": "https://localhost:8080/"
        },
        "id": "l3Ifr773wiEK",
        "outputId": "4b4d3eae-3a6f-4dbe-f77f-73a908faf34b"
      },
      "source": [
        "# 곡 전체 예측\r\n",
        "seq_in = ['g8', 'e8', 'e4', 'f8']\r\n",
        "seq_out = seq_in\r\n",
        "seq_in = [code2idx[it] / float(MAX_IDX_VALUE) for it in seq_in] # 코드를 인덱스값으로 변환\r\n",
        "\r\n",
        "for i in range(pred_count):\r\n",
        "    sample_in = np.array(seq_in)\r\n",
        "    sample_in = np.reshape(sample_in, (1, 4, 1)) # 샘플 수, 타입스텝 수, 속성 수\r\n",
        "    pred_out = model.predict(sample_in)\r\n",
        "    idx = np.argmax(pred_out)\r\n",
        "    seq_out.append(idx2code[idx])\r\n",
        "    seq_in.append(idx / float(MAX_IDX_VALUE))\r\n",
        "    seq_in.pop(0)\r\n",
        "\r\n",
        "print(\"full song prediction : \", seq_out)"
      ],
      "execution_count": 19,
      "outputs": [
        {
          "output_type": "stream",
          "text": [
            "full song prediction :  ['g8', 'e8', 'e4', 'f8', 'd8', 'e4', 'f8', 'd8', 'd4', 'c8', 'e8', 'g8', 'g8', 'e8', 'e8', 'e4', 'd8', 'd8', 'd8', 'd8', 'd8', 'e8', 'f4', 'e8', 'e8', 'e4', 'f8', 'd8', 'd4', 'c8', 'e8', 'g8', 'g8', 'e8', 'e8', 'e4', 'd8', 'd8', 'd8', 'd8', 'd8', 'e8', 'f4', 'e8', 'e8', 'e4', 'f8', 'd8', 'd4', 'c8', 'e8', 'g8', 'g8', 'e8']\n"
          ],
          "name": "stdout"
        }
      ]
    },
    {
      "cell_type": "markdown",
      "metadata": {
        "id": "Qz_TAimMFaPr"
      },
      "source": [
        "#### [노래듣기](https://tykimos.github.io/warehouse/2017-4-9-Stateful_LSTM_f1_full_song_prediction.mp3)"
      ]
    },
    {
      "cell_type": "code",
      "metadata": {
        "id": "_-kg-FPux9ia"
      },
      "source": [
        ""
      ],
      "execution_count": null,
      "outputs": []
    }
  ]
}