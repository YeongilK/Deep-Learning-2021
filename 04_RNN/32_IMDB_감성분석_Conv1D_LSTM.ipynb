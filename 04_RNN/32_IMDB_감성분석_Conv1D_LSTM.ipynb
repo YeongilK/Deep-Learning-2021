{
  "nbformat": 4,
  "nbformat_minor": 0,
  "metadata": {
    "colab": {
      "name": "32_IMDB_감성분석-Conv1D-LSTM.ipynb",
      "provenance": [],
      "collapsed_sections": []
    },
    "kernelspec": {
      "name": "python3",
      "display_name": "Python 3"
    },
    "accelerator": "GPU"
  },
  "cells": [
    {
      "cell_type": "markdown",
      "metadata": {
        "id": "ssq9mWf4o0tM"
      },
      "source": [
        "# Conv1D와 LSTM을 이용한 IMDB 분류\r\n",
        "- 모든 단어가 아닌 빈도수 5000 까지\r\n",
        "- 모든 문장이 아니라 500 단어까지"
      ]
    },
    {
      "cell_type": "code",
      "metadata": {
        "id": "fy6Bbx9pojzD"
      },
      "source": [
        "import numpy as np\r\n",
        "import tensorflow as tf\r\n",
        "from tensorflow.keras.preprocessing.sequence import pad_sequences\r\n",
        "from tensorflow.keras.models import Sequential, load_model\r\n",
        "from tensorflow.keras.layers import Dense, LSTM, Embedding\r\n",
        "from tensorflow.keras.layers import Dropout, Conv1D, MaxPooling1D\r\n",
        "from keras.callbacks import ModelCheckpoint, EarlyStopping"
      ],
      "execution_count": 1,
      "outputs": []
    },
    {
      "cell_type": "code",
      "metadata": {
        "id": "n_S-Q0rjpahS"
      },
      "source": [
        "import matplotlib.pyplot as plt\r\n",
        "%matplotlib inline"
      ],
      "execution_count": 2,
      "outputs": []
    },
    {
      "cell_type": "code",
      "metadata": {
        "id": "0Li4Qycxo3Iu"
      },
      "source": [
        "seed = 2021\r\n",
        "np.random.seed(seed)\r\n",
        "tf.random.set_seed(seed)"
      ],
      "execution_count": 3,
      "outputs": []
    },
    {
      "cell_type": "code",
      "metadata": {
        "colab": {
          "base_uri": "https://localhost:8080/"
        },
        "id": "iCgGU_8epkOT",
        "outputId": "9f42ebe2-e62e-4d2d-f51b-163fadc74027"
      },
      "source": [
        "from tensorflow.keras.datasets import imdb\r\n",
        "(X_train, y_train), (X_test, y_test) = imdb.load_data(num_words=5000)"
      ],
      "execution_count": 4,
      "outputs": [
        {
          "output_type": "stream",
          "text": [
            "<string>:6: VisibleDeprecationWarning: Creating an ndarray from ragged nested sequences (which is a list-or-tuple of lists-or-tuples-or ndarrays with different lengths or shapes) is deprecated. If you meant to do this, you must specify 'dtype=object' when creating the ndarray\n",
            "/usr/local/lib/python3.6/dist-packages/tensorflow/python/keras/datasets/imdb.py:159: VisibleDeprecationWarning: Creating an ndarray from ragged nested sequences (which is a list-or-tuple of lists-or-tuples-or ndarrays with different lengths or shapes) is deprecated. If you meant to do this, you must specify 'dtype=object' when creating the ndarray\n",
            "  x_train, y_train = np.array(xs[:idx]), np.array(labels[:idx])\n",
            "/usr/local/lib/python3.6/dist-packages/tensorflow/python/keras/datasets/imdb.py:160: VisibleDeprecationWarning: Creating an ndarray from ragged nested sequences (which is a list-or-tuple of lists-or-tuples-or ndarrays with different lengths or shapes) is deprecated. If you meant to do this, you must specify 'dtype=object' when creating the ndarray\n",
            "  x_test, y_test = np.array(xs[idx:]), np.array(labels[idx:])\n"
          ],
          "name": "stderr"
        }
      ]
    },
    {
      "cell_type": "code",
      "metadata": {
        "id": "SiSeNPVku5yP"
      },
      "source": [
        "# 모델의 입력으로 사용하는 모든 리뷰의 길이를 동일하게 500으로 맞춤\r\n",
        "max_len = 500\r\n",
        "X_train = pad_sequences(X_train, maxlen=max_len)\r\n",
        "X_test = pad_sequences(X_test, maxlen=max_len)"
      ],
      "execution_count": 5,
      "outputs": []
    },
    {
      "cell_type": "markdown",
      "metadata": {
        "id": "Z00Bz-L6wEpw"
      },
      "source": [
        "- 테스트 데이터 25,000개 중 10,000개는 검증셋, 15,000개는 실제 테스트셋으로 사용"
      ]
    },
    {
      "cell_type": "code",
      "metadata": {
        "id": "gMKgUqbUq8oF"
      },
      "source": [
        "from sklearn.model_selection import train_test_split\r\n",
        "X_val, X_test, y_val, y_test = train_test_split(\r\n",
        "    X_test, y_test, stratify=y_test, test_size=0.6, random_state=seed\r\n",
        ")"
      ],
      "execution_count": 6,
      "outputs": []
    },
    {
      "cell_type": "code",
      "metadata": {
        "colab": {
          "base_uri": "https://localhost:8080/"
        },
        "id": "0gnDPIqUuUqm",
        "outputId": "f894908e-669a-493b-94fd-b85af05a756e"
      },
      "source": [
        "X_val.shape, X_test.shape"
      ],
      "execution_count": 7,
      "outputs": [
        {
          "output_type": "execute_result",
          "data": {
            "text/plain": [
              "((10000, 500), (15000, 500))"
            ]
          },
          "metadata": {
            "tags": []
          },
          "execution_count": 7
        }
      ]
    },
    {
      "cell_type": "markdown",
      "metadata": {
        "id": "xMWdzX6hzJz6"
      },
      "source": [
        "### 모델 정의/설정/학습/평가"
      ]
    },
    {
      "cell_type": "code",
      "metadata": {
        "colab": {
          "base_uri": "https://localhost:8080/"
        },
        "id": "ksCyB-_SuUmm",
        "outputId": "09a38ece-1f26-427a-ec68-bd1e182bd231"
      },
      "source": [
        "# LSTM 모델\r\n",
        "model = Sequential()\r\n",
        "model.add(Embedding(5000, 120))\r\n",
        "model.add(Dropout(0.5))\r\n",
        "model.add(Conv1D(64, 5, padding='valid', activation='relu'))\r\n",
        "model.add(MaxPooling1D(pool_size=4))\r\n",
        "model.add(LSTM(60))\r\n",
        "model.add(Dense(1, activation='sigmoid'))\r\n",
        "model.summary()"
      ],
      "execution_count": 8,
      "outputs": [
        {
          "output_type": "stream",
          "text": [
            "Model: \"sequential\"\n",
            "_________________________________________________________________\n",
            "Layer (type)                 Output Shape              Param #   \n",
            "=================================================================\n",
            "embedding (Embedding)        (None, None, 120)         600000    \n",
            "_________________________________________________________________\n",
            "dropout (Dropout)            (None, None, 120)         0         \n",
            "_________________________________________________________________\n",
            "conv1d (Conv1D)              (None, None, 64)          38464     \n",
            "_________________________________________________________________\n",
            "max_pooling1d (MaxPooling1D) (None, None, 64)          0         \n",
            "_________________________________________________________________\n",
            "lstm (LSTM)                  (None, 60)                30000     \n",
            "_________________________________________________________________\n",
            "dense (Dense)                (None, 1)                 61        \n",
            "=================================================================\n",
            "Total params: 668,525\n",
            "Trainable params: 668,525\n",
            "Non-trainable params: 0\n",
            "_________________________________________________________________\n"
          ],
          "name": "stdout"
        }
      ]
    },
    {
      "cell_type": "code",
      "metadata": {
        "id": "8UrzSomMuUkm"
      },
      "source": [
        "model.compile(loss='binary_crossentropy',\r\n",
        "              optimizer='adam', metrics=['accuracy'])"
      ],
      "execution_count": 9,
      "outputs": []
    },
    {
      "cell_type": "code",
      "metadata": {
        "id": "5wPdspksuUiX"
      },
      "source": [
        "# Callback 함수 정의 - Best model, Early stopping\r\n",
        "es = EarlyStopping(monitor='val_loss', mode='min', verbose=1, patience=10)\r\n",
        "mc = ModelCheckpoint('model/imdb_conv1d_lstm_best_model.h5', monitor='val_loss', \r\n",
        "                     mode='max', verbose=1, save_best_only=True)"
      ],
      "execution_count": 10,
      "outputs": []
    },
    {
      "cell_type": "code",
      "metadata": {
        "colab": {
          "base_uri": "https://localhost:8080/"
        },
        "id": "Feo9kEaZuUef",
        "outputId": "673cfd1d-d4db-4182-9eee-3a8d0638f97e"
      },
      "source": [
        "# 모델의 실행\r\n",
        "history = model.fit(X_train, y_train, batch_size=100, epochs=50, \r\n",
        "                    validation_data=(X_val, y_val), verbose=2, \r\n",
        "                    callbacks=[mc, es])"
      ],
      "execution_count": 11,
      "outputs": [
        {
          "output_type": "stream",
          "text": [
            "Epoch 1/50\n",
            "250/250 - 11s - loss: 0.4009 - accuracy: 0.8015 - val_loss: 0.2999 - val_accuracy: 0.8743\n",
            "\n",
            "Epoch 00001: val_loss improved from -inf to 0.29988, saving model to model/imdb_conv1d_lstm_best_model.h5\n",
            "Epoch 2/50\n",
            "250/250 - 8s - loss: 0.2308 - accuracy: 0.9091 - val_loss: 0.2653 - val_accuracy: 0.8927\n",
            "\n",
            "Epoch 00002: val_loss did not improve from 0.29988\n",
            "Epoch 3/50\n",
            "250/250 - 8s - loss: 0.1900 - accuracy: 0.9276 - val_loss: 0.2812 - val_accuracy: 0.8882\n",
            "\n",
            "Epoch 00003: val_loss did not improve from 0.29988\n",
            "Epoch 4/50\n",
            "250/250 - 8s - loss: 0.1590 - accuracy: 0.9421 - val_loss: 0.3084 - val_accuracy: 0.8810\n",
            "\n",
            "Epoch 00004: val_loss improved from 0.29988 to 0.30844, saving model to model/imdb_conv1d_lstm_best_model.h5\n",
            "Epoch 5/50\n",
            "250/250 - 8s - loss: 0.1293 - accuracy: 0.9538 - val_loss: 0.3100 - val_accuracy: 0.8766\n",
            "\n",
            "Epoch 00005: val_loss improved from 0.30844 to 0.31000, saving model to model/imdb_conv1d_lstm_best_model.h5\n",
            "Epoch 6/50\n",
            "250/250 - 8s - loss: 0.1155 - accuracy: 0.9596 - val_loss: 0.3082 - val_accuracy: 0.8872\n",
            "\n",
            "Epoch 00006: val_loss did not improve from 0.31000\n",
            "Epoch 7/50\n",
            "250/250 - 8s - loss: 0.0929 - accuracy: 0.9698 - val_loss: 0.3226 - val_accuracy: 0.8808\n",
            "\n",
            "Epoch 00007: val_loss improved from 0.31000 to 0.32263, saving model to model/imdb_conv1d_lstm_best_model.h5\n",
            "Epoch 8/50\n",
            "250/250 - 8s - loss: 0.0776 - accuracy: 0.9749 - val_loss: 0.3516 - val_accuracy: 0.8821\n",
            "\n",
            "Epoch 00008: val_loss improved from 0.32263 to 0.35156, saving model to model/imdb_conv1d_lstm_best_model.h5\n",
            "Epoch 9/50\n",
            "250/250 - 8s - loss: 0.0658 - accuracy: 0.9784 - val_loss: 0.3779 - val_accuracy: 0.8802\n",
            "\n",
            "Epoch 00009: val_loss improved from 0.35156 to 0.37786, saving model to model/imdb_conv1d_lstm_best_model.h5\n",
            "Epoch 10/50\n",
            "250/250 - 8s - loss: 0.0580 - accuracy: 0.9803 - val_loss: 0.4672 - val_accuracy: 0.8689\n",
            "\n",
            "Epoch 00010: val_loss improved from 0.37786 to 0.46721, saving model to model/imdb_conv1d_lstm_best_model.h5\n",
            "Epoch 11/50\n",
            "250/250 - 8s - loss: 0.0488 - accuracy: 0.9851 - val_loss: 0.4406 - val_accuracy: 0.8797\n",
            "\n",
            "Epoch 00011: val_loss did not improve from 0.46721\n",
            "Epoch 12/50\n",
            "250/250 - 8s - loss: 0.0434 - accuracy: 0.9862 - val_loss: 0.4258 - val_accuracy: 0.8784\n",
            "\n",
            "Epoch 00012: val_loss did not improve from 0.46721\n",
            "Epoch 00012: early stopping\n"
          ],
          "name": "stdout"
        }
      ]
    },
    {
      "cell_type": "code",
      "metadata": {
        "id": "LVSPEqlQuUcX"
      },
      "source": [
        "# Best Model 선택\r\n",
        "best_model = load_model('model/imdb_conv1d_lstm_best_model.h5')"
      ],
      "execution_count": 12,
      "outputs": []
    },
    {
      "cell_type": "code",
      "metadata": {
        "colab": {
          "base_uri": "https://localhost:8080/"
        },
        "id": "JqisjvLPzwUa",
        "outputId": "7b781899-501e-45fc-bdf3-2c5d6c54cf64"
      },
      "source": [
        "acc = model.evaluate(X_test, y_test, verbose=2)[1]\r\n",
        "print(f'\\n테스트 정확도: {acc:.4f}')"
      ],
      "execution_count": 13,
      "outputs": [
        {
          "output_type": "stream",
          "text": [
            "469/469 - 3s - loss: 0.4348 - accuracy: 0.8742\n",
            "\n",
            "테스트 정확도: 0.8742\n"
          ],
          "name": "stdout"
        }
      ]
    },
    {
      "cell_type": "code",
      "metadata": {
        "id": "7cdfNwyczwSK"
      },
      "source": [
        "# 테스트셋\r\n",
        "y_vloss = history.history['val_loss']\r\n",
        "y_vacc = history.history['val_accuracy']\r\n",
        "# 학습셋\r\n",
        "y_loss = history.history['loss']\r\n",
        "y_acc = history.history['accuracy']"
      ],
      "execution_count": 14,
      "outputs": []
    },
    {
      "cell_type": "code",
      "metadata": {
        "colab": {
          "base_uri": "https://localhost:8080/",
          "height": 497
        },
        "id": "lbvsQWqlzwOb",
        "outputId": "d968be5a-670a-4f1d-b63a-2eca1333b4f3"
      },
      "source": [
        "x_len = np.arange(1, len(y_loss)+1)\r\n",
        "fig, ax0 = plt.subplots(figsize=(10,8))\r\n",
        "ax1 = ax0.twinx()\r\n",
        "ax0.plot(x_len, y_loss, c=\"blue\", label='train set loss')\r\n",
        "ax0.plot(x_len, y_vloss, c=\"red\", label='val set loss')\r\n",
        "ax0.set_ylabel('loss')\r\n",
        "ax1.plot(x_len, y_acc, c=\"darkgreen\", label='train set acc')\r\n",
        "ax1.plot(x_len, y_vacc, c=\"magenta\", label='val set acc')\r\n",
        "ax1.set_ylabel('accuracy')\r\n",
        "ax0.set_xlabel('epoch')\r\n",
        "ax0.legend(loc='lower center')\r\n",
        "ax1.legend(loc='upper center')\r\n",
        "plt.grid()\r\n",
        "plt.show()"
      ],
      "execution_count": 15,
      "outputs": [
        {
          "output_type": "display_data",
          "data": {
            "image/png": "[encoded data removed]",
            "text/plain": [
              "<Figure size 720x576 with 2 Axes>"
            ]
          },
          "metadata": {
            "tags": [],
            "needs_background": "light"
          }
        }
      ]
    }
  ]
}