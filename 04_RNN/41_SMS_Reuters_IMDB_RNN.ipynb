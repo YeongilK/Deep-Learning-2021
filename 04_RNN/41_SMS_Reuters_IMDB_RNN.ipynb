{
  "nbformat": 4,
  "nbformat_minor": 0,
  "metadata": {
    "colab": {
      "name": "41_SMS_Reuters_IMDB-RNN.ipynb",
      "provenance": [],
      "collapsed_sections": [],
      "toc_visible": true
    },
    "kernelspec": {
      "name": "python3",
      "display_name": "Python 3"
    },
    "accelerator": "GPU"
  },
  "cells": [
    {
      "cell_type": "markdown",
      "metadata": {
        "id": "4ERaGj4u5Yuf"
      },
      "source": [
        "# RNN을 이용한 분류\r\n",
        "- SMS Spam: ham/spam 분류\r\n",
        "- Reuter News: 카테고리 분류\r\n",
        "- IMDB Review: 감성분석 (긍정: 0/부정: 1)"
      ]
    },
    {
      "cell_type": "code",
      "metadata": {
        "id": "wttc8co34r97"
      },
      "source": [
        "import numpy as np\r\n",
        "import pandas as pd\r\n",
        "import tensorflow as tf\r\n",
        "from tensorflow.keras.preprocessing.text import Tokenizer\r\n",
        "from tensorflow.keras.preprocessing.sequence import pad_sequences\r\n",
        "from tensorflow.keras.models import Sequential, load_model\r\n",
        "from tensorflow.keras.layers import SimpleRNN, GRU, LSTM\r\n",
        "from tensorflow.keras.layers import Dense, Embedding\r\n",
        "from tensorflow.keras.layers import Dropout, Conv1D, MaxPooling1D\r\n",
        "from keras.callbacks import ModelCheckpoint, EarlyStopping"
      ],
      "execution_count": 1,
      "outputs": []
    },
    {
      "cell_type": "code",
      "metadata": {
        "id": "VqpJgmDI5wy1"
      },
      "source": [
        "import matplotlib.pyplot as plt\r\n",
        "%matplotlib inline\r\n",
        "import warnings\r\n",
        "warnings.filterwarnings(\"ignore\", category=np.VisibleDeprecationWarning)"
      ],
      "execution_count": 2,
      "outputs": []
    },
    {
      "cell_type": "code",
      "metadata": {
        "id": "-VSY-dso7H53"
      },
      "source": [
        "seed = 2021\r\n",
        "np.random.seed(seed)\r\n",
        "tf.random.set_seed(seed)"
      ],
      "execution_count": 3,
      "outputs": []
    },
    {
      "cell_type": "markdown",
      "metadata": {
        "id": "YKrrtu_o6vOu"
      },
      "source": [
        "## 1. SMS Spam\r\n",
        "- 사용 데이터셋 : [SMS Spam](https://www.kaggle.com/uciml/sms-spam-collection-dataset) (kaggle 제공)"
      ]
    },
    {
      "cell_type": "markdown",
      "metadata": {
        "id": "xidFCep97TfV"
      },
      "source": [
        "### 파일 업로드"
      ]
    },
    {
      "cell_type": "code",
      "metadata": {
        "colab": {
          "resources": {
            "http://localhost:8080/nbextensions/google.colab/files.js": {
              "data": "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",
              "ok": true,
              "headers": [
                [
                  "content-type",
                  "application/javascript"
                ]
              ],
              "status": 200,
              "status_text": ""
            }
          },
          "base_uri": "https://localhost:8080/",
          "height": 76
        },
        "id": "UUUsunE-6udm",
        "outputId": "69385b88-0188-4bf5-8677-5c175e135fea"
      },
      "source": [
        "from google.colab import files\r\n",
        "uploaded = files.upload()\r\n",
        "filename = list(uploaded.keys())[0]"
      ],
      "execution_count": 4,
      "outputs": [
        {
          "output_type": "display_data",
          "data": {
            "text/html": [
              "\n",
              "     <input type=\"file\" id=\"files-80dad2a1-2dbe-4e48-ae2d-99d6a5a42452\" name=\"files[]\" multiple disabled\n",
              "        style=\"border:none\" />\n",
              "     <output id=\"result-80dad2a1-2dbe-4e48-ae2d-99d6a5a42452\">\n",
              "      Upload widget is only available when the cell has been executed in the\n",
              "      current browser session. Please rerun this cell to enable.\n",
              "      </output>\n",
              "      <script src=\"/nbextensions/google.colab/files.js\"></script> "
            ],
            "text/plain": [
              "<IPython.core.display.HTML object>"
            ]
          },
          "metadata": {
            "tags": []
          }
        },
        {
          "output_type": "stream",
          "text": [
            "Saving spam.csv to spam.csv\n"
          ],
          "name": "stdout"
        }
      ]
    },
    {
      "cell_type": "markdown",
      "metadata": {
        "id": "uJ71kVjS7kmG"
      },
      "source": [
        "### 데이터 전처리"
      ]
    },
    {
      "cell_type": "code",
      "metadata": {
        "colab": {
          "base_uri": "https://localhost:8080/",
          "height": 142
        },
        "id": "xDB9aYsQ7e49",
        "outputId": "48d5f568-e5b8-494b-aff9-e5346aee73c5"
      },
      "source": [
        "df = pd.read_csv(filename, encoding='latin1')\r\n",
        "df.head(3)"
      ],
      "execution_count": 5,
      "outputs": [
        {
          "output_type": "execute_result",
          "data": {
            "text/html": [
              "<div>\n",
              "<style scoped>\n",
              "    .dataframe tbody tr th:only-of-type {\n",
              "        vertical-align: middle;\n",
              "    }\n",
              "\n",
              "    .dataframe tbody tr th {\n",
              "        vertical-align: top;\n",
              "    }\n",
              "\n",
              "    .dataframe thead th {\n",
              "        text-align: right;\n",
              "    }\n",
              "</style>\n",
              "<table border=\"1\" class=\"dataframe\">\n",
              "  <thead>\n",
              "    <tr style=\"text-align: right;\">\n",
              "      <th></th>\n",
              "      <th>v1</th>\n",
              "      <th>v2</th>\n",
              "      <th>Unnamed: 2</th>\n",
              "      <th>Unnamed: 3</th>\n",
              "      <th>Unnamed: 4</th>\n",
              "    </tr>\n",
              "  </thead>\n",
              "  <tbody>\n",
              "    <tr>\n",
              "      <th>0</th>\n",
              "      <td>ham</td>\n",
              "      <td>Go until jurong point, crazy.. Available only ...</td>\n",
              "      <td>NaN</td>\n",
              "      <td>NaN</td>\n",
              "      <td>NaN</td>\n",
              "    </tr>\n",
              "    <tr>\n",
              "      <th>1</th>\n",
              "      <td>ham</td>\n",
              "      <td>Ok lar... Joking wif u oni...</td>\n",
              "      <td>NaN</td>\n",
              "      <td>NaN</td>\n",
              "      <td>NaN</td>\n",
              "    </tr>\n",
              "    <tr>\n",
              "      <th>2</th>\n",
              "      <td>spam</td>\n",
              "      <td>Free entry in 2 a wkly comp to win FA Cup fina...</td>\n",
              "      <td>NaN</td>\n",
              "      <td>NaN</td>\n",
              "      <td>NaN</td>\n",
              "    </tr>\n",
              "  </tbody>\n",
              "</table>\n",
              "</div>"
            ],
            "text/plain": [
              "     v1  ... Unnamed: 4\n",
              "0   ham  ...        NaN\n",
              "1   ham  ...        NaN\n",
              "2  spam  ...        NaN\n",
              "\n",
              "[3 rows x 5 columns]"
            ]
          },
          "metadata": {
            "tags": []
          },
          "execution_count": 5
        }
      ]
    },
    {
      "cell_type": "code",
      "metadata": {
        "colab": {
          "base_uri": "https://localhost:8080/",
          "height": 142
        },
        "id": "RkDWUFqj7rqn",
        "outputId": "9e2946cf-0ab6-4e7e-db16-69b86bce0dd3"
      },
      "source": [
        "del df['Unnamed: 2']\r\n",
        "del df['Unnamed: 3']\r\n",
        "del df['Unnamed: 4']\r\n",
        "# ham: 0, spam: 1로 대체, LabelEncoding으로도 가능\r\n",
        "df['v1'] = df['v1'].replace(['ham', 'spam'], [0, 1])    \r\n",
        "df.head(3)"
      ],
      "execution_count": 6,
      "outputs": [
        {
          "output_type": "execute_result",
          "data": {
            "text/html": [
              "<div>\n",
              "<style scoped>\n",
              "    .dataframe tbody tr th:only-of-type {\n",
              "        vertical-align: middle;\n",
              "    }\n",
              "\n",
              "    .dataframe tbody tr th {\n",
              "        vertical-align: top;\n",
              "    }\n",
              "\n",
              "    .dataframe thead th {\n",
              "        text-align: right;\n",
              "    }\n",
              "</style>\n",
              "<table border=\"1\" class=\"dataframe\">\n",
              "  <thead>\n",
              "    <tr style=\"text-align: right;\">\n",
              "      <th></th>\n",
              "      <th>v1</th>\n",
              "      <th>v2</th>\n",
              "    </tr>\n",
              "  </thead>\n",
              "  <tbody>\n",
              "    <tr>\n",
              "      <th>0</th>\n",
              "      <td>0</td>\n",
              "      <td>Go until jurong point, crazy.. Available only ...</td>\n",
              "    </tr>\n",
              "    <tr>\n",
              "      <th>1</th>\n",
              "      <td>0</td>\n",
              "      <td>Ok lar... Joking wif u oni...</td>\n",
              "    </tr>\n",
              "    <tr>\n",
              "      <th>2</th>\n",
              "      <td>1</td>\n",
              "      <td>Free entry in 2 a wkly comp to win FA Cup fina...</td>\n",
              "    </tr>\n",
              "  </tbody>\n",
              "</table>\n",
              "</div>"
            ],
            "text/plain": [
              "   v1                                                 v2\n",
              "0   0  Go until jurong point, crazy.. Available only ...\n",
              "1   0                      Ok lar... Joking wif u oni...\n",
              "2   1  Free entry in 2 a wkly comp to win FA Cup fina..."
            ]
          },
          "metadata": {
            "tags": []
          },
          "execution_count": 6
        }
      ]
    },
    {
      "cell_type": "code",
      "metadata": {
        "colab": {
          "base_uri": "https://localhost:8080/"
        },
        "id": "tEccAp_38Cyf",
        "outputId": "8cce6fb5-f3c0-43f4-82c5-512e5ad0fde4"
      },
      "source": [
        "df.info()"
      ],
      "execution_count": 7,
      "outputs": [
        {
          "output_type": "stream",
          "text": [
            "<class 'pandas.core.frame.DataFrame'>\n",
            "RangeIndex: 5572 entries, 0 to 5571\n",
            "Data columns (total 2 columns):\n",
            " #   Column  Non-Null Count  Dtype \n",
            "---  ------  --------------  ----- \n",
            " 0   v1      5572 non-null   int64 \n",
            " 1   v2      5572 non-null   object\n",
            "dtypes: int64(1), object(1)\n",
            "memory usage: 87.2+ KB\n"
          ],
          "name": "stdout"
        }
      ]
    },
    {
      "cell_type": "code",
      "metadata": {
        "colab": {
          "base_uri": "https://localhost:8080/"
        },
        "id": "bmh_pzDX78qX",
        "outputId": "9db353c6-37c7-4b79-fa85-50c82726d948"
      },
      "source": [
        "# Null 값이 있는지 확인\r\n",
        "df.isnull().sum()"
      ],
      "execution_count": 8,
      "outputs": [
        {
          "output_type": "execute_result",
          "data": {
            "text/plain": [
              "v1    0\n",
              "v2    0\n",
              "dtype: int64"
            ]
          },
          "metadata": {
            "tags": []
          },
          "execution_count": 8
        }
      ]
    },
    {
      "cell_type": "code",
      "metadata": {
        "colab": {
          "base_uri": "https://localhost:8080/"
        },
        "id": "5smxBLgr8AQX",
        "outputId": "9386756f-bc5e-4543-b8d6-8e53834b1766"
      },
      "source": [
        "# 데이터 중복이 있는지 확인\r\n",
        "df['v2'].nunique()"
      ],
      "execution_count": 9,
      "outputs": [
        {
          "output_type": "execute_result",
          "data": {
            "text/plain": [
              "5169"
            ]
          },
          "metadata": {
            "tags": []
          },
          "execution_count": 9
        }
      ]
    },
    {
      "cell_type": "markdown",
      "metadata": {
        "id": "hlWyjScx8GZH"
      },
      "source": [
        "- 데이터의 중복이 존재함을 볼 수 있다."
      ]
    },
    {
      "cell_type": "code",
      "metadata": {
        "id": "jxra-4Tm8BjH"
      },
      "source": [
        "# 데이터 중복 제거\r\n",
        "df = df.drop_duplicates('v2', keep='first')"
      ],
      "execution_count": 10,
      "outputs": []
    },
    {
      "cell_type": "code",
      "metadata": {
        "colab": {
          "base_uri": "https://localhost:8080/",
          "height": 262
        },
        "id": "IqZXxlwZ8UVn",
        "outputId": "a4154972-c520-480d-94d8-9a9ef6f3eabc"
      },
      "source": [
        "df['v1'].value_counts().plot(kind='bar');"
      ],
      "execution_count": 11,
      "outputs": [
        {
          "output_type": "display_data",
          "data": {
            "image/png": "[encoded data removed]",
            "text/plain": [
              "<Figure size 432x288 with 1 Axes>"
            ]
          },
          "metadata": {
            "tags": [],
            "needs_background": "light"
          }
        }
      ]
    },
    {
      "cell_type": "code",
      "metadata": {
        "colab": {
          "base_uri": "https://localhost:8080/"
        },
        "id": "ZWo9nwR98WWH",
        "outputId": "3bb34d75-863b-4db8-c191-d2b7bc7365a8"
      },
      "source": [
        "df['v1'].value_counts()"
      ],
      "execution_count": 12,
      "outputs": [
        {
          "output_type": "execute_result",
          "data": {
            "text/plain": [
              "0    4516\n",
              "1     653\n",
              "Name: v1, dtype: int64"
            ]
          },
          "metadata": {
            "tags": []
          },
          "execution_count": 12
        }
      ]
    },
    {
      "cell_type": "code",
      "metadata": {
        "colab": {
          "base_uri": "https://localhost:8080/"
        },
        "id": "Fkod-8-48Xf3",
        "outputId": "f7404306-905a-46e1-c7e6-ad324b917010"
      },
      "source": [
        "X_data = df['v2'].values\r\n",
        "y_data = df['v1'].values\r\n",
        "print(f'메일 본문의 개수: {len(X_data)}')\r\n",
        "print(f'레이블의 개수: {len(y_data)}')"
      ],
      "execution_count": 13,
      "outputs": [
        {
          "output_type": "stream",
          "text": [
            "메일 본문의 개수: 5169\n",
            "레이블의 개수: 5169\n"
          ],
          "name": "stdout"
        }
      ]
    },
    {
      "cell_type": "code",
      "metadata": {
        "colab": {
          "base_uri": "https://localhost:8080/"
        },
        "id": "VmHdLGsa8ZX_",
        "outputId": "b27936df-1ee9-48a1-c4db-c88bcf5a2b5e"
      },
      "source": [
        "t = Tokenizer()\r\n",
        "t.fit_on_texts(X_data)\r\n",
        "sequences = t.texts_to_sequences(X_data)\r\n",
        "vocab_size = len(t.word_index) + 1\r\n",
        "print('단어 집합의 크기: %d' % vocab_size)"
      ],
      "execution_count": 14,
      "outputs": [
        {
          "output_type": "stream",
          "text": [
            "단어 집합의 크기: 8921\n"
          ],
          "name": "stdout"
        }
      ]
    },
    {
      "cell_type": "code",
      "metadata": {
        "id": "Y71uP2p78bnn"
      },
      "source": [
        "X_data = sequences"
      ],
      "execution_count": 15,
      "outputs": []
    },
    {
      "cell_type": "code",
      "metadata": {
        "colab": {
          "base_uri": "https://localhost:8080/",
          "height": 331
        },
        "id": "wlI-gIAn8c83",
        "outputId": "a36f816f-94c7-47e8-c0eb-0f3395f63587"
      },
      "source": [
        "max_len = max(len(l) for l in X_data)\r\n",
        "print('SMS의 최대 길이: %d' % max_len)\r\n",
        "print('SMS의 평균 길이: %f' % (sum(map(len, X_data))/len(X_data)))\r\n",
        "\r\n",
        "plt.hist([len(s) for s in X_data], bins=50)\r\n",
        "plt.xlabel('length of Data')\r\n",
        "plt.ylabel('number of Data')\r\n",
        "plt.title('SMS Distribution')\r\n",
        "plt.show()"
      ],
      "execution_count": 16,
      "outputs": [
        {
          "output_type": "stream",
          "text": [
            "SMS의 최대 길이: 189\n",
            "SMS의 평균 길이: 15.610370\n"
          ],
          "name": "stdout"
        },
        {
          "output_type": "display_data",
          "data": {
            "image/png": "[encoded data removed]",
            "text/plain": [
              "<Figure size 432x288 with 1 Axes>"
            ]
          },
          "metadata": {
            "tags": [],
            "needs_background": "light"
          }
        }
      ]
    },
    {
      "cell_type": "code",
      "metadata": {
        "colab": {
          "base_uri": "https://localhost:8080/"
        },
        "id": "taN4oYTr9OHS",
        "outputId": "66999954-1c51-46a0-faee-5af85f951430"
      },
      "source": [
        "# 전체 데이터셋의 길이를 max_len(=189)에 맞춤\r\n",
        "data = pad_sequences(X_data, maxlen=max_len)\r\n",
        "data.shape"
      ],
      "execution_count": 17,
      "outputs": [
        {
          "output_type": "execute_result",
          "data": {
            "text/plain": [
              "(5169, 189)"
            ]
          },
          "metadata": {
            "tags": []
          },
          "execution_count": 17
        }
      ]
    },
    {
      "cell_type": "code",
      "metadata": {
        "id": "vZ86ak4G9XA3"
      },
      "source": [
        "from sklearn.model_selection import train_test_split\r\n",
        "\r\n",
        "X_train, X_test, y_train, y_test = train_test_split(\r\n",
        "    data, y_data, stratify=y_data, test_size=0.2, random_state=seed\r\n",
        ")"
      ],
      "execution_count": 18,
      "outputs": []
    },
    {
      "cell_type": "code",
      "metadata": {
        "colab": {
          "base_uri": "https://localhost:8080/"
        },
        "id": "GrZ0o2mF9aco",
        "outputId": "eaf4efe8-45b9-4ccf-8447-d9125019e173"
      },
      "source": [
        "X_train.shape, X_test.shape"
      ],
      "execution_count": 19,
      "outputs": [
        {
          "output_type": "execute_result",
          "data": {
            "text/plain": [
              "((4135, 189), (1034, 189))"
            ]
          },
          "metadata": {
            "tags": []
          },
          "execution_count": 19
        }
      ]
    },
    {
      "cell_type": "markdown",
      "metadata": {
        "id": "x_6aEQbc9d_g"
      },
      "source": [
        "### 모델 정의/설정/학습/평가"
      ]
    },
    {
      "cell_type": "markdown",
      "metadata": {
        "id": "0jVKlqKTDtJ7"
      },
      "source": [
        "- SimpleRNN"
      ]
    },
    {
      "cell_type": "code",
      "metadata": {
        "colab": {
          "base_uri": "https://localhost:8080/"
        },
        "id": "wbS46WMoCLFK",
        "outputId": "a30d5402-501d-4910-e730-53cf7b51ad89"
      },
      "source": [
        "model = Sequential()\r\n",
        "model.add(Embedding(vocab_size, 32))\r\n",
        "model.add(SimpleRNN(32))\r\n",
        "model.add(Dense(1, activation='sigmoid'))\r\n",
        "model.summary()"
      ],
      "execution_count": 20,
      "outputs": [
        {
          "output_type": "stream",
          "text": [
            "Model: \"sequential\"\n",
            "_________________________________________________________________\n",
            "Layer (type)                 Output Shape              Param #   \n",
            "=================================================================\n",
            "embedding (Embedding)        (None, None, 32)          285472    \n",
            "_________________________________________________________________\n",
            "simple_rnn (SimpleRNN)       (None, 32)                2080      \n",
            "_________________________________________________________________\n",
            "dense (Dense)                (None, 1)                 33        \n",
            "=================================================================\n",
            "Total params: 287,585\n",
            "Trainable params: 287,585\n",
            "Non-trainable params: 0\n",
            "_________________________________________________________________\n"
          ],
          "name": "stdout"
        }
      ]
    },
    {
      "cell_type": "code",
      "metadata": {
        "id": "pk8qPck9-ir7"
      },
      "source": [
        "model.compile(loss='binary_crossentropy',\r\n",
        "              optimizer='rmsprop', metrics=['accuracy'])"
      ],
      "execution_count": 21,
      "outputs": []
    },
    {
      "cell_type": "code",
      "metadata": {
        "colab": {
          "base_uri": "https://localhost:8080/"
        },
        "id": "__kOwsHx-ip-",
        "outputId": "cd0a8f24-bed7-42bf-d814-93e33a0fa33e"
      },
      "source": [
        "model.fit(X_train, y_train, epochs=10, \r\n",
        "                    batch_size=60, validation_split=0.2)"
      ],
      "execution_count": 22,
      "outputs": [
        {
          "output_type": "stream",
          "text": [
            "Epoch 1/10\n",
            "56/56 [==============================] - 10s 132ms/step - loss: 0.4026 - accuracy: 0.8539 - val_loss: 0.1451 - val_accuracy: 0.9565\n",
            "Epoch 2/10\n",
            "56/56 [==============================] - 7s 125ms/step - loss: 0.1132 - accuracy: 0.9700 - val_loss: 0.0675 - val_accuracy: 0.9819\n",
            "Epoch 3/10\n",
            "56/56 [==============================] - 7s 128ms/step - loss: 0.0593 - accuracy: 0.9858 - val_loss: 0.0510 - val_accuracy: 0.9891\n",
            "Epoch 4/10\n",
            "56/56 [==============================] - 7s 127ms/step - loss: 0.0340 - accuracy: 0.9915 - val_loss: 0.0560 - val_accuracy: 0.9819\n",
            "Epoch 5/10\n",
            "56/56 [==============================] - 7s 124ms/step - loss: 0.0194 - accuracy: 0.9962 - val_loss: 0.0653 - val_accuracy: 0.9794\n",
            "Epoch 6/10\n",
            "56/56 [==============================] - 7s 125ms/step - loss: 0.0115 - accuracy: 0.9975 - val_loss: 0.0723 - val_accuracy: 0.9794\n",
            "Epoch 7/10\n",
            "56/56 [==============================] - 7s 126ms/step - loss: 0.0116 - accuracy: 0.9966 - val_loss: 0.0865 - val_accuracy: 0.9782\n",
            "Epoch 8/10\n",
            "56/56 [==============================] - 7s 127ms/step - loss: 0.0088 - accuracy: 0.9980 - val_loss: 0.0877 - val_accuracy: 0.9807\n",
            "Epoch 9/10\n",
            "56/56 [==============================] - 7s 124ms/step - loss: 0.0030 - accuracy: 0.9994 - val_loss: 0.0981 - val_accuracy: 0.9807\n",
            "Epoch 10/10\n",
            "56/56 [==============================] - 7s 125ms/step - loss: 0.0038 - accuracy: 0.9993 - val_loss: 0.0923 - val_accuracy: 0.9819\n"
          ],
          "name": "stdout"
        },
        {
          "output_type": "execute_result",
          "data": {
            "text/plain": [
              "<tensorflow.python.keras.callbacks.History at 0x7faf800ac6d8>"
            ]
          },
          "metadata": {
            "tags": []
          },
          "execution_count": 22
        }
      ]
    },
    {
      "cell_type": "code",
      "metadata": {
        "colab": {
          "base_uri": "https://localhost:8080/"
        },
        "id": "lCB2OsEL-ioB",
        "outputId": "b07f7313-b460-4129-d2b1-11d88e0967ff"
      },
      "source": [
        "acc_spam_srnn = model.evaluate(X_test, y_test, verbose=2)[1]\r\n",
        "print(f'\\nSimpleRNN 테스트 정확도: {acc_spam_srnn:.4f}')"
      ],
      "execution_count": 23,
      "outputs": [
        {
          "output_type": "stream",
          "text": [
            "33/33 - 0s - loss: 0.0597 - accuracy: 0.9836\n",
            "\n",
            "SimpleRNN 테스트 정확도: 0.9836\n"
          ],
          "name": "stdout"
        }
      ]
    },
    {
      "cell_type": "code",
      "metadata": {
        "id": "RTAgQk4pFifz"
      },
      "source": [
        "del model"
      ],
      "execution_count": 24,
      "outputs": []
    },
    {
      "cell_type": "markdown",
      "metadata": {
        "id": "hX_1WggJFdrs"
      },
      "source": [
        "- GRU"
      ]
    },
    {
      "cell_type": "code",
      "metadata": {
        "colab": {
          "base_uri": "https://localhost:8080/"
        },
        "id": "oYbPfThWAlIR",
        "outputId": "5afaa1eb-4263-469d-9f03-5d242460c1dd"
      },
      "source": [
        "model = Sequential()\r\n",
        "model.add(Embedding(vocab_size, 32))\r\n",
        "model.add(GRU(32))\r\n",
        "model.add(Dense(1, activation='sigmoid'))\r\n",
        "model.summary()"
      ],
      "execution_count": 25,
      "outputs": [
        {
          "output_type": "stream",
          "text": [
            "Model: \"sequential_1\"\n",
            "_________________________________________________________________\n",
            "Layer (type)                 Output Shape              Param #   \n",
            "=================================================================\n",
            "embedding_1 (Embedding)      (None, None, 32)          285472    \n",
            "_________________________________________________________________\n",
            "gru (GRU)                    (None, 32)                6336      \n",
            "_________________________________________________________________\n",
            "dense_1 (Dense)              (None, 1)                 33        \n",
            "=================================================================\n",
            "Total params: 291,841\n",
            "Trainable params: 291,841\n",
            "Non-trainable params: 0\n",
            "_________________________________________________________________\n"
          ],
          "name": "stdout"
        }
      ]
    },
    {
      "cell_type": "code",
      "metadata": {
        "id": "VxAwfFt9F0pT"
      },
      "source": [
        "model.compile(loss='binary_crossentropy',\r\n",
        "              optimizer='rmsprop', metrics=['accuracy'])"
      ],
      "execution_count": 26,
      "outputs": []
    },
    {
      "cell_type": "code",
      "metadata": {
        "colab": {
          "base_uri": "https://localhost:8080/"
        },
        "id": "cBQL_n3PF-yV",
        "outputId": "b6c5a7c3-573f-44d8-d7a8-17c04bca7451"
      },
      "source": [
        "model.fit(X_train, y_train, epochs=10, \r\n",
        "                    batch_size=60, validation_split=0.2)"
      ],
      "execution_count": 27,
      "outputs": [
        {
          "output_type": "stream",
          "text": [
            "Epoch 1/10\n",
            "56/56 [==============================] - 7s 19ms/step - loss: 0.4987 - accuracy: 0.8292 - val_loss: 0.1643 - val_accuracy: 0.9480\n",
            "Epoch 2/10\n",
            "56/56 [==============================] - 1s 11ms/step - loss: 0.1140 - accuracy: 0.9660 - val_loss: 0.0605 - val_accuracy: 0.9819\n",
            "Epoch 3/10\n",
            "56/56 [==============================] - 1s 11ms/step - loss: 0.0454 - accuracy: 0.9883 - val_loss: 0.0506 - val_accuracy: 0.9867\n",
            "Epoch 4/10\n",
            "56/56 [==============================] - 1s 11ms/step - loss: 0.0227 - accuracy: 0.9943 - val_loss: 0.0424 - val_accuracy: 0.9855\n",
            "Epoch 5/10\n",
            "56/56 [==============================] - 1s 11ms/step - loss: 0.0125 - accuracy: 0.9980 - val_loss: 0.0461 - val_accuracy: 0.9867\n",
            "Epoch 6/10\n",
            "56/56 [==============================] - 1s 11ms/step - loss: 0.0086 - accuracy: 0.9988 - val_loss: 0.0480 - val_accuracy: 0.9855\n",
            "Epoch 7/10\n",
            "56/56 [==============================] - 1s 11ms/step - loss: 0.0090 - accuracy: 0.9977 - val_loss: 0.0579 - val_accuracy: 0.9879\n",
            "Epoch 8/10\n",
            "56/56 [==============================] - 1s 11ms/step - loss: 0.0089 - accuracy: 0.9974 - val_loss: 0.0641 - val_accuracy: 0.9867\n",
            "Epoch 9/10\n",
            "56/56 [==============================] - 1s 11ms/step - loss: 0.0032 - accuracy: 0.9983 - val_loss: 0.0650 - val_accuracy: 0.9867\n",
            "Epoch 10/10\n",
            "56/56 [==============================] - 1s 11ms/step - loss: 0.0017 - accuracy: 0.9994 - val_loss: 0.0640 - val_accuracy: 0.9855\n"
          ],
          "name": "stdout"
        },
        {
          "output_type": "execute_result",
          "data": {
            "text/plain": [
              "<tensorflow.python.keras.callbacks.History at 0x7faf9f3bc2b0>"
            ]
          },
          "metadata": {
            "tags": []
          },
          "execution_count": 27
        }
      ]
    },
    {
      "cell_type": "code",
      "metadata": {
        "colab": {
          "base_uri": "https://localhost:8080/"
        },
        "id": "nL5iOFQyF4d9",
        "outputId": "aa54705e-448d-4b91-dcb6-de5dc8365397"
      },
      "source": [
        "acc_spam_gru = model.evaluate(X_test, y_test, verbose=2)[1]\r\n",
        "print(f'\\nGRU 테스트 정확도: {acc_spam_gru:.4f}')"
      ],
      "execution_count": 28,
      "outputs": [
        {
          "output_type": "stream",
          "text": [
            "33/33 - 0s - loss: 0.0516 - accuracy: 0.9836\n",
            "\n",
            "GRU 테스트 정확도: 0.9836\n"
          ],
          "name": "stdout"
        }
      ]
    },
    {
      "cell_type": "code",
      "metadata": {
        "id": "hO2z71gOGPwU"
      },
      "source": [
        "del model"
      ],
      "execution_count": 29,
      "outputs": []
    },
    {
      "cell_type": "markdown",
      "metadata": {
        "id": "jzCg5HNwGLTN"
      },
      "source": [
        "- LSTM"
      ]
    },
    {
      "cell_type": "code",
      "metadata": {
        "colab": {
          "base_uri": "https://localhost:8080/"
        },
        "id": "coh5vD7RF8FE",
        "outputId": "08af3a55-6e17-4859-a3c5-c33a67f342cf"
      },
      "source": [
        "model = Sequential()\r\n",
        "model.add(Embedding(vocab_size, 32))\r\n",
        "model.add(LSTM(32))\r\n",
        "model.add(Dense(1, activation='sigmoid'))\r\n",
        "model.summary()"
      ],
      "execution_count": 30,
      "outputs": [
        {
          "output_type": "stream",
          "text": [
            "Model: \"sequential_2\"\n",
            "_________________________________________________________________\n",
            "Layer (type)                 Output Shape              Param #   \n",
            "=================================================================\n",
            "embedding_2 (Embedding)      (None, None, 32)          285472    \n",
            "_________________________________________________________________\n",
            "lstm (LSTM)                  (None, 32)                8320      \n",
            "_________________________________________________________________\n",
            "dense_2 (Dense)              (None, 1)                 33        \n",
            "=================================================================\n",
            "Total params: 293,825\n",
            "Trainable params: 293,825\n",
            "Non-trainable params: 0\n",
            "_________________________________________________________________\n"
          ],
          "name": "stdout"
        }
      ]
    },
    {
      "cell_type": "code",
      "metadata": {
        "id": "qquyNfKeGSYM"
      },
      "source": [
        "model.compile(loss='binary_crossentropy',\r\n",
        "              optimizer='rmsprop', metrics=['accuracy'])"
      ],
      "execution_count": 31,
      "outputs": []
    },
    {
      "cell_type": "code",
      "metadata": {
        "colab": {
          "base_uri": "https://localhost:8080/"
        },
        "id": "6Ek00nw0GUBS",
        "outputId": "9f52bd0d-462e-47c5-f23d-50b112f148b4"
      },
      "source": [
        "model.fit(X_train, y_train, epochs=10, \r\n",
        "                    batch_size=60, validation_split=0.2)"
      ],
      "execution_count": 32,
      "outputs": [
        {
          "output_type": "stream",
          "text": [
            "Epoch 1/10\n",
            "56/56 [==============================] - 3s 19ms/step - loss: 0.4429 - accuracy: 0.8384 - val_loss: 0.1650 - val_accuracy: 0.9722\n",
            "Epoch 2/10\n",
            "56/56 [==============================] - 1s 11ms/step - loss: 0.1345 - accuracy: 0.9692 - val_loss: 0.0800 - val_accuracy: 0.9819\n",
            "Epoch 3/10\n",
            "56/56 [==============================] - 1s 11ms/step - loss: 0.0678 - accuracy: 0.9851 - val_loss: 0.0547 - val_accuracy: 0.9879\n",
            "Epoch 4/10\n",
            "56/56 [==============================] - 1s 11ms/step - loss: 0.0320 - accuracy: 0.9928 - val_loss: 0.0496 - val_accuracy: 0.9879\n",
            "Epoch 5/10\n",
            "56/56 [==============================] - 1s 12ms/step - loss: 0.0181 - accuracy: 0.9968 - val_loss: 0.0664 - val_accuracy: 0.9794\n",
            "Epoch 6/10\n",
            "56/56 [==============================] - 1s 12ms/step - loss: 0.0158 - accuracy: 0.9976 - val_loss: 0.0466 - val_accuracy: 0.9843\n",
            "Epoch 7/10\n",
            "56/56 [==============================] - 1s 11ms/step - loss: 0.0086 - accuracy: 0.9981 - val_loss: 0.0485 - val_accuracy: 0.9867\n",
            "Epoch 8/10\n",
            "56/56 [==============================] - 1s 11ms/step - loss: 0.0084 - accuracy: 0.9987 - val_loss: 0.0553 - val_accuracy: 0.9879\n",
            "Epoch 9/10\n",
            "56/56 [==============================] - 1s 11ms/step - loss: 0.0033 - accuracy: 0.9997 - val_loss: 0.0610 - val_accuracy: 0.9855\n",
            "Epoch 10/10\n",
            "56/56 [==============================] - 1s 11ms/step - loss: 0.0037 - accuracy: 0.9990 - val_loss: 0.0621 - val_accuracy: 0.9819\n"
          ],
          "name": "stdout"
        },
        {
          "output_type": "execute_result",
          "data": {
            "text/plain": [
              "<tensorflow.python.keras.callbacks.History at 0x7faf36e53518>"
            ]
          },
          "metadata": {
            "tags": []
          },
          "execution_count": 32
        }
      ]
    },
    {
      "cell_type": "code",
      "metadata": {
        "colab": {
          "base_uri": "https://localhost:8080/"
        },
        "id": "dr1E_1FHGcD8",
        "outputId": "868afdc2-35e5-4144-c8a0-de46b56e9482"
      },
      "source": [
        "acc_spam_lstm = model.evaluate(X_test, y_test, verbose=2)[1]\r\n",
        "print(f'\\nLSTM 테스트 정확도: {acc_spam_lstm:.4f}')"
      ],
      "execution_count": 33,
      "outputs": [
        {
          "output_type": "stream",
          "text": [
            "33/33 - 0s - loss: 0.0560 - accuracy: 0.9865\n",
            "\n",
            "LSTM 테스트 정확도: 0.9865\n"
          ],
          "name": "stdout"
        }
      ]
    },
    {
      "cell_type": "code",
      "metadata": {
        "id": "itiq-zTGGemf"
      },
      "source": [
        "del model"
      ],
      "execution_count": 34,
      "outputs": []
    },
    {
      "cell_type": "code",
      "metadata": {
        "colab": {
          "base_uri": "https://localhost:8080/"
        },
        "id": "LfhRJChZHgf-",
        "outputId": "02355b61-976c-4730-d186-416b00293f4f"
      },
      "source": [
        "SMS_acc_list = [acc_spam_srnn, acc_spam_gru, acc_spam_lstm]\r\n",
        "SMS_acc_list = np.round(SMS_acc_list, 4)\r\n",
        "SMS_acc_list"
      ],
      "execution_count": 35,
      "outputs": [
        {
          "output_type": "execute_result",
          "data": {
            "text/plain": [
              "array([0.9836, 0.9836, 0.9865])"
            ]
          },
          "metadata": {
            "tags": []
          },
          "execution_count": 35
        }
      ]
    },
    {
      "cell_type": "markdown",
      "metadata": {
        "id": "th0Q58wmIZtp"
      },
      "source": [
        "## 2. Reuter News"
      ]
    },
    {
      "cell_type": "code",
      "metadata": {
        "colab": {
          "base_uri": "https://localhost:8080/"
        },
        "id": "S-1uNoY_HyZV",
        "outputId": "5e148212-5d68-4574-acf3-e4a74879eee6"
      },
      "source": [
        "from tensorflow.keras.datasets import reuters\r\n",
        "(X_train, y_train), (X_test, y_test) = reuters.load_data(\r\n",
        "    num_words=None, test_split=0.2\r\n",
        ")"
      ],
      "execution_count": 36,
      "outputs": [
        {
          "output_type": "stream",
          "text": [
            "Downloading data from https://storage.googleapis.com/tensorflow/tf-keras-datasets/reuters.npz\n",
            "2113536/2110848 [==============================] - 0s 0us/step\n"
          ],
          "name": "stdout"
        }
      ]
    },
    {
      "cell_type": "code",
      "metadata": {
        "colab": {
          "base_uri": "https://localhost:8080/"
        },
        "id": "0hCeCYAHIzCO",
        "outputId": "11fc51e0-a17e-430c-cb89-3c4d869628af"
      },
      "source": [
        "# 데이터 확인하기\r\n",
        "category = np.max(y_train) + 1\r\n",
        "print('카테고리:', category)\r\n",
        "print('학습용 뉴스 기사:', len(X_train))\r\n",
        "print('테스트용 뉴스 기사:', len(X_test))"
      ],
      "execution_count": 37,
      "outputs": [
        {
          "output_type": "stream",
          "text": [
            "카테고리: 46\n",
            "학습용 뉴스 기사: 8982\n",
            "테스트용 뉴스 기사: 2246\n"
          ],
          "name": "stdout"
        }
      ]
    },
    {
      "cell_type": "code",
      "metadata": {
        "colab": {
          "base_uri": "https://localhost:8080/"
        },
        "id": "qQhbk7GWJAue",
        "outputId": "92d6839e-2b97-421b-d33d-82eee704aaa0"
      },
      "source": [
        "index_dict = {}\r\n",
        "for key, value in reuters.get_word_index().items():\r\n",
        "    index_dict[value] = key\r\n",
        "len(index_dict)"
      ],
      "execution_count": 38,
      "outputs": [
        {
          "output_type": "stream",
          "text": [
            "Downloading data from https://storage.googleapis.com/tensorflow/tf-keras-datasets/reuters_word_index.json\n",
            "557056/550378 [==============================] - 0s 0us/step\n"
          ],
          "name": "stdout"
        },
        {
          "output_type": "execute_result",
          "data": {
            "text/plain": [
              "30979"
            ]
          },
          "metadata": {
            "tags": []
          },
          "execution_count": 38
        }
      ]
    },
    {
      "cell_type": "code",
      "metadata": {
        "colab": {
          "base_uri": "https://localhost:8080/"
        },
        "id": "2vFHxGlaJQrn",
        "outputId": "fd2e78d6-f1c6-4487-c709-e27f2b82035a"
      },
      "source": [
        "# 뉴스 기사의 길이\r\n",
        "print('뉴스 기사의 최대 길이 :', max(len(l) for l in X_train))\r\n",
        "print('뉴스 기사의 평균 길이 :', sum(map(len, X_train))/len(X_train))"
      ],
      "execution_count": 39,
      "outputs": [
        {
          "output_type": "stream",
          "text": [
            "뉴스 기사의 최대 길이 : 2376\n",
            "뉴스 기사의 평균 길이 : 145.5398574927633\n"
          ],
          "name": "stdout"
        }
      ]
    },
    {
      "cell_type": "markdown",
      "metadata": {
        "id": "Aq2aFJxIJmdg"
      },
      "source": [
        "### 모델 생성/설정/학습/평가\r\n",
        "- 모든 단어가 아닌 빈도수 1000 -> 5000까지 (총 단어수: 30,979)\r\n",
        "- 모든 문장이 아니라 100 -> 500 단어까지 (최대 2,376 단어)"
      ]
    },
    {
      "cell_type": "code",
      "metadata": {
        "id": "LILLAc8IJVEf"
      },
      "source": [
        "from tensorflow.keras.utils import to_categorical"
      ],
      "execution_count": 40,
      "outputs": []
    },
    {
      "cell_type": "markdown",
      "metadata": {
        "id": "YazKMD0sQJnE"
      },
      "source": [
        "#### 빈도수 1,000, 단어수 100 제한"
      ]
    },
    {
      "cell_type": "code",
      "metadata": {
        "id": "YDmQL4ucJ7-l"
      },
      "source": [
        "(X_train, y_train), (X_test, y_test) = reuters.load_data(\r\n",
        "    num_words=1000, test_split=0.2\r\n",
        ")"
      ],
      "execution_count": 41,
      "outputs": []
    },
    {
      "cell_type": "code",
      "metadata": {
        "id": "w3DJzdMgKi25"
      },
      "source": [
        "# 모델의 입력으로 사용하는 모든 뉴스 기사의 길이를 동일하게 100으로 맞춤\r\n",
        "max_len = 100\r\n",
        "X_train = pad_sequences(X_train, maxlen=max_len)\r\n",
        "X_test = pad_sequences(X_test, maxlen=max_len)"
      ],
      "execution_count": 42,
      "outputs": []
    },
    {
      "cell_type": "code",
      "metadata": {
        "id": "KVJjNyS0KoUn"
      },
      "source": [
        "# 뉴스 기사 레이블의 One-hot encoding\r\n",
        "Y_train = to_categorical(y_train)\r\n",
        "Y_test = to_categorical(y_test)"
      ],
      "execution_count": 43,
      "outputs": []
    },
    {
      "cell_type": "markdown",
      "metadata": {
        "id": "3801CwIfKxPT"
      },
      "source": [
        "- SimpleRNN"
      ]
    },
    {
      "cell_type": "code",
      "metadata": {
        "colab": {
          "base_uri": "https://localhost:8080/"
        },
        "id": "_oGAn-yJKqG_",
        "outputId": "1dfc8724-5079-42f5-8cbe-3c6f4c85999d"
      },
      "source": [
        "model = Sequential()\r\n",
        "model.add(Embedding(1000, 120))\r\n",
        "model.add(SimpleRNN(120))\r\n",
        "model.add(Dense(46, activation='softmax'))\r\n",
        "model.summary()"
      ],
      "execution_count": 44,
      "outputs": [
        {
          "output_type": "stream",
          "text": [
            "Model: \"sequential_3\"\n",
            "_________________________________________________________________\n",
            "Layer (type)                 Output Shape              Param #   \n",
            "=================================================================\n",
            "embedding_3 (Embedding)      (None, None, 120)         120000    \n",
            "_________________________________________________________________\n",
            "simple_rnn_1 (SimpleRNN)     (None, 120)               28920     \n",
            "_________________________________________________________________\n",
            "dense_3 (Dense)              (None, 46)                5566      \n",
            "=================================================================\n",
            "Total params: 154,486\n",
            "Trainable params: 154,486\n",
            "Non-trainable params: 0\n",
            "_________________________________________________________________\n"
          ],
          "name": "stdout"
        }
      ]
    },
    {
      "cell_type": "code",
      "metadata": {
        "id": "5YUC2hs3LLgg"
      },
      "source": [
        "model.compile(loss='categorical_crossentropy',\r\n",
        "              optimizer='adam', metrics=['accuracy'])"
      ],
      "execution_count": 45,
      "outputs": []
    },
    {
      "cell_type": "code",
      "metadata": {
        "id": "Zfcr-srzLjoI"
      },
      "source": [
        "# Callback 함수 정의 - Best model, Early stopping\r\n",
        "es = EarlyStopping(monitor='val_loss', mode='min', verbose=1, patience=10)\r\n",
        "mc = ModelCheckpoint('model/reuter_srnn_100_best_model.h5', monitor='val_loss', \r\n",
        "                     mode='max', verbose=1, save_best_only=True)"
      ],
      "execution_count": 46,
      "outputs": []
    },
    {
      "cell_type": "code",
      "metadata": {
        "colab": {
          "base_uri": "https://localhost:8080/"
        },
        "id": "fgv14CF9L7VY",
        "outputId": "bac59a4b-c8bd-4980-a0ac-c35de5f36556"
      },
      "source": [
        "model.fit(X_train, Y_train, batch_size=100, epochs=50, \r\n",
        "                    validation_split=0.2, verbose=2, callbacks=[mc, es])"
      ],
      "execution_count": 47,
      "outputs": [
        {
          "output_type": "stream",
          "text": [
            "Epoch 1/50\n",
            "72/72 - 5s - loss: 2.5674 - accuracy: 0.3253 - val_loss: 2.3625 - val_accuracy: 0.3450\n",
            "\n",
            "Epoch 00001: val_loss improved from -inf to 2.36254, saving model to model/reuter_srnn_100_best_model.h5\n",
            "Epoch 2/50\n",
            "72/72 - 5s - loss: 2.2245 - accuracy: 0.4117 - val_loss: 2.1780 - val_accuracy: 0.4140\n",
            "\n",
            "Epoch 00002: val_loss did not improve from 2.36254\n",
            "Epoch 3/50\n",
            "72/72 - 5s - loss: 1.9956 - accuracy: 0.4906 - val_loss: 2.2192 - val_accuracy: 0.4619\n",
            "\n",
            "Epoch 00003: val_loss did not improve from 2.36254\n",
            "Epoch 4/50\n",
            "72/72 - 5s - loss: 1.8364 - accuracy: 0.5312 - val_loss: 2.1738 - val_accuracy: 0.4196\n",
            "\n",
            "Epoch 00004: val_loss did not improve from 2.36254\n",
            "Epoch 5/50\n",
            "72/72 - 5s - loss: 1.6006 - accuracy: 0.6000 - val_loss: 2.0753 - val_accuracy: 0.5036\n",
            "\n",
            "Epoch 00005: val_loss did not improve from 2.36254\n",
            "Epoch 6/50\n",
            "72/72 - 5s - loss: 1.3930 - accuracy: 0.6554 - val_loss: 1.9216 - val_accuracy: 0.5053\n",
            "\n",
            "Epoch 00006: val_loss did not improve from 2.36254\n",
            "Epoch 7/50\n",
            "72/72 - 5s - loss: 1.1976 - accuracy: 0.7068 - val_loss: 1.9168 - val_accuracy: 0.5337\n",
            "\n",
            "Epoch 00007: val_loss did not improve from 2.36254\n",
            "Epoch 8/50\n",
            "72/72 - 5s - loss: 1.0522 - accuracy: 0.7389 - val_loss: 1.9626 - val_accuracy: 0.5242\n",
            "\n",
            "Epoch 00008: val_loss did not improve from 2.36254\n",
            "Epoch 9/50\n",
            "72/72 - 5s - loss: 0.9047 - accuracy: 0.7733 - val_loss: 1.9948 - val_accuracy: 0.5331\n",
            "\n",
            "Epoch 00009: val_loss did not improve from 2.36254\n",
            "Epoch 10/50\n",
            "72/72 - 5s - loss: 0.7921 - accuracy: 0.8042 - val_loss: 2.0336 - val_accuracy: 0.5320\n",
            "\n",
            "Epoch 00010: val_loss did not improve from 2.36254\n",
            "Epoch 11/50\n",
            "72/72 - 5s - loss: 0.6883 - accuracy: 0.8248 - val_loss: 2.1701 - val_accuracy: 0.5064\n",
            "\n",
            "Epoch 00011: val_loss did not improve from 2.36254\n",
            "Epoch 12/50\n",
            "72/72 - 5s - loss: 0.5878 - accuracy: 0.8580 - val_loss: 2.1911 - val_accuracy: 0.5192\n",
            "\n",
            "Epoch 00012: val_loss did not improve from 2.36254\n",
            "Epoch 13/50\n",
            "72/72 - 5s - loss: 0.5101 - accuracy: 0.8775 - val_loss: 2.2710 - val_accuracy: 0.5203\n",
            "\n",
            "Epoch 00013: val_loss did not improve from 2.36254\n",
            "Epoch 14/50\n",
            "72/72 - 5s - loss: 0.4455 - accuracy: 0.8923 - val_loss: 2.3801 - val_accuracy: 0.5109\n",
            "\n",
            "Epoch 00014: val_loss improved from 2.36254 to 2.38011, saving model to model/reuter_srnn_100_best_model.h5\n",
            "Epoch 15/50\n",
            "72/72 - 5s - loss: 0.3982 - accuracy: 0.9041 - val_loss: 2.4040 - val_accuracy: 0.5225\n",
            "\n",
            "Epoch 00015: val_loss improved from 2.38011 to 2.40396, saving model to model/reuter_srnn_100_best_model.h5\n",
            "Epoch 16/50\n",
            "72/72 - 5s - loss: 0.3616 - accuracy: 0.9136 - val_loss: 2.5848 - val_accuracy: 0.4891\n",
            "\n",
            "Epoch 00016: val_loss improved from 2.40396 to 2.58484, saving model to model/reuter_srnn_100_best_model.h5\n",
            "Epoch 17/50\n",
            "72/72 - 5s - loss: 0.3228 - accuracy: 0.9260 - val_loss: 2.5737 - val_accuracy: 0.5103\n",
            "\n",
            "Epoch 00017: val_loss did not improve from 2.58484\n",
            "Epoch 00017: early stopping\n"
          ],
          "name": "stdout"
        },
        {
          "output_type": "execute_result",
          "data": {
            "text/plain": [
              "<tensorflow.python.keras.callbacks.History at 0x7faf36e46cf8>"
            ]
          },
          "metadata": {
            "tags": []
          },
          "execution_count": 47
        }
      ]
    },
    {
      "cell_type": "code",
      "metadata": {
        "colab": {
          "base_uri": "https://localhost:8080/"
        },
        "id": "Y1LGfDfkNgwH",
        "outputId": "a6eaba9c-3b42-49fd-f58a-b5fc69d8cf3e"
      },
      "source": [
        "acc_reuter_srnn_100 = model.evaluate(X_test, Y_test, verbose=2)[1]\r\n",
        "print(f'\\nSimpleRNN 테스트 정확도: {acc_reuter_srnn_100:.4f}')"
      ],
      "execution_count": 48,
      "outputs": [
        {
          "output_type": "stream",
          "text": [
            "71/71 - 0s - loss: 2.5896 - accuracy: 0.4973\n",
            "\n",
            "SimpleRNN 테스트 정확도: 0.4973\n"
          ],
          "name": "stdout"
        }
      ]
    },
    {
      "cell_type": "code",
      "metadata": {
        "id": "S6a3udrJNgt-"
      },
      "source": [
        "del model"
      ],
      "execution_count": 49,
      "outputs": []
    },
    {
      "cell_type": "markdown",
      "metadata": {
        "id": "pL4JwqFdOCEp"
      },
      "source": [
        "- GRU"
      ]
    },
    {
      "cell_type": "code",
      "metadata": {
        "colab": {
          "base_uri": "https://localhost:8080/"
        },
        "id": "ZK9_FZGXNgqT",
        "outputId": "cf4bfffe-e6ac-4b6d-a0c6-87a7565cdc5e"
      },
      "source": [
        "model = Sequential()\r\n",
        "model.add(Embedding(1000, 120))\r\n",
        "model.add(GRU(120))\r\n",
        "model.add(Dense(46, activation='softmax'))\r\n",
        "model.summary()"
      ],
      "execution_count": 50,
      "outputs": [
        {
          "output_type": "stream",
          "text": [
            "Model: \"sequential_4\"\n",
            "_________________________________________________________________\n",
            "Layer (type)                 Output Shape              Param #   \n",
            "=================================================================\n",
            "embedding_4 (Embedding)      (None, None, 120)         120000    \n",
            "_________________________________________________________________\n",
            "gru_1 (GRU)                  (None, 120)               87120     \n",
            "_________________________________________________________________\n",
            "dense_4 (Dense)              (None, 46)                5566      \n",
            "=================================================================\n",
            "Total params: 212,686\n",
            "Trainable params: 212,686\n",
            "Non-trainable params: 0\n",
            "_________________________________________________________________\n"
          ],
          "name": "stdout"
        }
      ]
    },
    {
      "cell_type": "code",
      "metadata": {
        "id": "O4n5APe2NgoJ"
      },
      "source": [
        "model.compile(loss='categorical_crossentropy',\r\n",
        "              optimizer='adam', metrics=['accuracy'])"
      ],
      "execution_count": 51,
      "outputs": []
    },
    {
      "cell_type": "code",
      "metadata": {
        "id": "BPND04u_Nglh"
      },
      "source": [
        "es = EarlyStopping(monitor='val_loss', mode='min', verbose=1, patience=10)\r\n",
        "mc = ModelCheckpoint('model/reuter_gru_100_best_model.h5', monitor='val_loss', \r\n",
        "                     mode='max', verbose=1, save_best_only=True)"
      ],
      "execution_count": 52,
      "outputs": []
    },
    {
      "cell_type": "code",
      "metadata": {
        "colab": {
          "base_uri": "https://localhost:8080/"
        },
        "id": "2byIdLUHOPG5",
        "outputId": "e915cb99-6818-4df0-86a9-8054e03053ea"
      },
      "source": [
        "model.fit(X_train, Y_train, batch_size=100, epochs=50, \r\n",
        "                    validation_split=0.2, verbose=2, callbacks=[mc, es])"
      ],
      "execution_count": 53,
      "outputs": [
        {
          "output_type": "stream",
          "text": [
            "Epoch 1/50\n",
            "72/72 - 2s - loss: 2.5508 - accuracy: 0.3567 - val_loss: 2.0155 - val_accuracy: 0.3895\n",
            "\n",
            "Epoch 00001: val_loss improved from -inf to 2.01545, saving model to model/reuter_gru_100_best_model.h5\n",
            "Epoch 2/50\n",
            "72/72 - 1s - loss: 1.9184 - accuracy: 0.4582 - val_loss: 1.8186 - val_accuracy: 0.5025\n",
            "\n",
            "Epoch 00002: val_loss did not improve from 2.01545\n",
            "Epoch 3/50\n",
            "72/72 - 1s - loss: 1.7499 - accuracy: 0.5421 - val_loss: 1.7528 - val_accuracy: 0.5492\n",
            "\n",
            "Epoch 00003: val_loss did not improve from 2.01545\n",
            "Epoch 4/50\n",
            "72/72 - 1s - loss: 1.6792 - accuracy: 0.5719 - val_loss: 1.6838 - val_accuracy: 0.5710\n",
            "\n",
            "Epoch 00004: val_loss did not improve from 2.01545\n",
            "Epoch 5/50\n",
            "72/72 - 1s - loss: 1.5982 - accuracy: 0.5939 - val_loss: 1.6408 - val_accuracy: 0.5932\n",
            "\n",
            "Epoch 00005: val_loss did not improve from 2.01545\n",
            "Epoch 6/50\n",
            "72/72 - 1s - loss: 1.5309 - accuracy: 0.6127 - val_loss: 1.5692 - val_accuracy: 0.6110\n",
            "\n",
            "Epoch 00006: val_loss did not improve from 2.01545\n",
            "Epoch 7/50\n",
            "72/72 - 1s - loss: 1.4691 - accuracy: 0.6320 - val_loss: 1.5238 - val_accuracy: 0.6255\n",
            "\n",
            "Epoch 00007: val_loss did not improve from 2.01545\n",
            "Epoch 8/50\n",
            "72/72 - 1s - loss: 1.4124 - accuracy: 0.6489 - val_loss: 1.4821 - val_accuracy: 0.6305\n",
            "\n",
            "Epoch 00008: val_loss did not improve from 2.01545\n",
            "Epoch 9/50\n",
            "72/72 - 1s - loss: 1.3140 - accuracy: 0.6681 - val_loss: 1.4185 - val_accuracy: 0.6444\n",
            "\n",
            "Epoch 00009: val_loss did not improve from 2.01545\n",
            "Epoch 10/50\n",
            "72/72 - 1s - loss: 1.2473 - accuracy: 0.6813 - val_loss: 1.4108 - val_accuracy: 0.6433\n",
            "\n",
            "Epoch 00010: val_loss did not improve from 2.01545\n",
            "Epoch 11/50\n",
            "72/72 - 1s - loss: 1.1904 - accuracy: 0.6898 - val_loss: 1.3927 - val_accuracy: 0.6572\n",
            "\n",
            "Epoch 00011: val_loss did not improve from 2.01545\n",
            "Epoch 12/50\n",
            "72/72 - 1s - loss: 1.1642 - accuracy: 0.6941 - val_loss: 1.4183 - val_accuracy: 0.6533\n",
            "\n",
            "Epoch 00012: val_loss did not improve from 2.01545\n",
            "Epoch 13/50\n",
            "72/72 - 1s - loss: 1.1212 - accuracy: 0.7030 - val_loss: 1.3873 - val_accuracy: 0.6477\n",
            "\n",
            "Epoch 00013: val_loss did not improve from 2.01545\n",
            "Epoch 14/50\n",
            "72/72 - 1s - loss: 1.0858 - accuracy: 0.7100 - val_loss: 1.3863 - val_accuracy: 0.6555\n",
            "\n",
            "Epoch 00014: val_loss did not improve from 2.01545\n",
            "Epoch 15/50\n",
            "72/72 - 1s - loss: 1.0410 - accuracy: 0.7312 - val_loss: 1.3646 - val_accuracy: 0.6667\n",
            "\n",
            "Epoch 00015: val_loss did not improve from 2.01545\n",
            "Epoch 16/50\n",
            "72/72 - 1s - loss: 0.9963 - accuracy: 0.7449 - val_loss: 1.3858 - val_accuracy: 0.6511\n",
            "\n",
            "Epoch 00016: val_loss did not improve from 2.01545\n",
            "Epoch 17/50\n",
            "72/72 - 1s - loss: 0.9539 - accuracy: 0.7537 - val_loss: 1.3571 - val_accuracy: 0.6839\n",
            "\n",
            "Epoch 00017: val_loss did not improve from 2.01545\n",
            "Epoch 18/50\n",
            "72/72 - 1s - loss: 0.9159 - accuracy: 0.7621 - val_loss: 1.3564 - val_accuracy: 0.6811\n",
            "\n",
            "Epoch 00018: val_loss did not improve from 2.01545\n",
            "Epoch 19/50\n",
            "72/72 - 1s - loss: 0.8864 - accuracy: 0.7772 - val_loss: 1.3601 - val_accuracy: 0.6784\n",
            "\n",
            "Epoch 00019: val_loss did not improve from 2.01545\n",
            "Epoch 20/50\n",
            "72/72 - 1s - loss: 0.8607 - accuracy: 0.7808 - val_loss: 1.3335 - val_accuracy: 0.6906\n",
            "\n",
            "Epoch 00020: val_loss did not improve from 2.01545\n",
            "Epoch 21/50\n",
            "72/72 - 1s - loss: 0.8205 - accuracy: 0.7914 - val_loss: 1.3456 - val_accuracy: 0.6800\n",
            "\n",
            "Epoch 00021: val_loss did not improve from 2.01545\n",
            "Epoch 22/50\n",
            "72/72 - 1s - loss: 0.7784 - accuracy: 0.8000 - val_loss: 1.3340 - val_accuracy: 0.6923\n",
            "\n",
            "Epoch 00022: val_loss did not improve from 2.01545\n",
            "Epoch 23/50\n",
            "72/72 - 1s - loss: 0.7445 - accuracy: 0.8116 - val_loss: 1.3785 - val_accuracy: 0.6989\n",
            "\n",
            "Epoch 00023: val_loss did not improve from 2.01545\n",
            "Epoch 24/50\n",
            "72/72 - 1s - loss: 0.7165 - accuracy: 0.8188 - val_loss: 1.3849 - val_accuracy: 0.6967\n",
            "\n",
            "Epoch 00024: val_loss did not improve from 2.01545\n",
            "Epoch 25/50\n",
            "72/72 - 1s - loss: 0.6840 - accuracy: 0.8262 - val_loss: 1.4078 - val_accuracy: 0.6850\n",
            "\n",
            "Epoch 00025: val_loss did not improve from 2.01545\n",
            "Epoch 26/50\n",
            "72/72 - 1s - loss: 0.6672 - accuracy: 0.8285 - val_loss: 1.4188 - val_accuracy: 0.6939\n",
            "\n",
            "Epoch 00026: val_loss did not improve from 2.01545\n",
            "Epoch 27/50\n",
            "72/72 - 1s - loss: 0.6312 - accuracy: 0.8401 - val_loss: 1.4288 - val_accuracy: 0.6900\n",
            "\n",
            "Epoch 00027: val_loss did not improve from 2.01545\n",
            "Epoch 28/50\n",
            "72/72 - 1s - loss: 0.6159 - accuracy: 0.8459 - val_loss: 1.4396 - val_accuracy: 0.6945\n",
            "\n",
            "Epoch 00028: val_loss did not improve from 2.01545\n",
            "Epoch 29/50\n",
            "72/72 - 1s - loss: 0.5884 - accuracy: 0.8509 - val_loss: 1.4476 - val_accuracy: 0.6934\n",
            "\n",
            "Epoch 00029: val_loss did not improve from 2.01545\n",
            "Epoch 30/50\n",
            "72/72 - 1s - loss: 0.5878 - accuracy: 0.8501 - val_loss: 1.4664 - val_accuracy: 0.6895\n",
            "\n",
            "Epoch 00030: val_loss did not improve from 2.01545\n",
            "Epoch 00030: early stopping\n"
          ],
          "name": "stdout"
        },
        {
          "output_type": "execute_result",
          "data": {
            "text/plain": [
              "<tensorflow.python.keras.callbacks.History at 0x7faf0a55c2b0>"
            ]
          },
          "metadata": {
            "tags": []
          },
          "execution_count": 53
        }
      ]
    },
    {
      "cell_type": "code",
      "metadata": {
        "colab": {
          "base_uri": "https://localhost:8080/"
        },
        "id": "5JDe022iOUfi",
        "outputId": "b5ea43d8-2c17-403a-e411-a3cab144a9d5"
      },
      "source": [
        "acc_reuter_gru_100 = model.evaluate(X_test, Y_test, verbose=2)[1]\r\n",
        "print(f'\\nGRU 테스트 정확도: {acc_reuter_gru_100:.4f}')"
      ],
      "execution_count": 54,
      "outputs": [
        {
          "output_type": "stream",
          "text": [
            "71/71 - 0s - loss: 1.4631 - accuracy: 0.6830\n",
            "\n",
            "GRU 테스트 정확도: 0.6830\n"
          ],
          "name": "stdout"
        }
      ]
    },
    {
      "cell_type": "code",
      "metadata": {
        "id": "rHcrEUu5OZiE"
      },
      "source": [
        "del model"
      ],
      "execution_count": 55,
      "outputs": []
    },
    {
      "cell_type": "markdown",
      "metadata": {
        "id": "X4FFy6bqPHrf"
      },
      "source": [
        "LSTM"
      ]
    },
    {
      "cell_type": "code",
      "metadata": {
        "colab": {
          "base_uri": "https://localhost:8080/"
        },
        "id": "kWS2jdGZOZfR",
        "outputId": "8d287424-da1c-435d-ad26-d64d22dafab2"
      },
      "source": [
        "model = Sequential()\r\n",
        "model.add(Embedding(1000, 120))\r\n",
        "model.add(LSTM(120))\r\n",
        "model.add(Dense(46, activation='softmax'))\r\n",
        "model.summary()"
      ],
      "execution_count": 56,
      "outputs": [
        {
          "output_type": "stream",
          "text": [
            "Model: \"sequential_5\"\n",
            "_________________________________________________________________\n",
            "Layer (type)                 Output Shape              Param #   \n",
            "=================================================================\n",
            "embedding_5 (Embedding)      (None, None, 120)         120000    \n",
            "_________________________________________________________________\n",
            "lstm_1 (LSTM)                (None, 120)               115680    \n",
            "_________________________________________________________________\n",
            "dense_5 (Dense)              (None, 46)                5566      \n",
            "=================================================================\n",
            "Total params: 241,246\n",
            "Trainable params: 241,246\n",
            "Non-trainable params: 0\n",
            "_________________________________________________________________\n"
          ],
          "name": "stdout"
        }
      ]
    },
    {
      "cell_type": "code",
      "metadata": {
        "id": "rPzglU3HOZdF"
      },
      "source": [
        "model.compile(loss='categorical_crossentropy',\r\n",
        "              optimizer='adam', metrics=['accuracy'])"
      ],
      "execution_count": 57,
      "outputs": []
    },
    {
      "cell_type": "code",
      "metadata": {
        "id": "yCOyACnXOZbM"
      },
      "source": [
        "es = EarlyStopping(monitor='val_loss', mode='min', verbose=1, patience=10)\r\n",
        "mc = ModelCheckpoint('model/reuter_lstm_100_best_model.h5', monitor='val_loss', \r\n",
        "                     mode='max', verbose=1, save_best_only=True)"
      ],
      "execution_count": 58,
      "outputs": []
    },
    {
      "cell_type": "code",
      "metadata": {
        "colab": {
          "base_uri": "https://localhost:8080/"
        },
        "id": "svJURBSHPcOj",
        "outputId": "715ea430-efce-4e59-edc8-344e31bd7ce9"
      },
      "source": [
        "model.fit(X_train, Y_train, batch_size=100, epochs=50, \r\n",
        "                    validation_split=0.2, verbose=2, callbacks=[mc, es])"
      ],
      "execution_count": 59,
      "outputs": [
        {
          "output_type": "stream",
          "text": [
            "Epoch 1/50\n",
            "72/72 - 3s - loss: 2.6304 - accuracy: 0.3354 - val_loss: 2.3678 - val_accuracy: 0.3450\n",
            "\n",
            "Epoch 00001: val_loss improved from -inf to 2.36778, saving model to model/reuter_lstm_100_best_model.h5\n",
            "Epoch 2/50\n",
            "72/72 - 1s - loss: 2.0737 - accuracy: 0.4621 - val_loss: 1.9117 - val_accuracy: 0.4975\n",
            "\n",
            "Epoch 00002: val_loss did not improve from 2.36778\n",
            "Epoch 3/50\n",
            "72/72 - 1s - loss: 1.8264 - accuracy: 0.5189 - val_loss: 1.7499 - val_accuracy: 0.5437\n",
            "\n",
            "Epoch 00003: val_loss did not improve from 2.36778\n",
            "Epoch 4/50\n",
            "72/72 - 1s - loss: 1.6974 - accuracy: 0.5605 - val_loss: 1.6864 - val_accuracy: 0.5743\n",
            "\n",
            "Epoch 00004: val_loss did not improve from 2.36778\n",
            "Epoch 5/50\n",
            "72/72 - 1s - loss: 1.6513 - accuracy: 0.5795 - val_loss: 1.6601 - val_accuracy: 0.5965\n",
            "\n",
            "Epoch 00005: val_loss did not improve from 2.36778\n",
            "Epoch 6/50\n",
            "72/72 - 1s - loss: 1.5478 - accuracy: 0.6113 - val_loss: 1.5345 - val_accuracy: 0.6171\n",
            "\n",
            "Epoch 00006: val_loss did not improve from 2.36778\n",
            "Epoch 7/50\n",
            "72/72 - 1s - loss: 1.4466 - accuracy: 0.6367 - val_loss: 1.5240 - val_accuracy: 0.6255\n",
            "\n",
            "Epoch 00007: val_loss did not improve from 2.36778\n",
            "Epoch 8/50\n",
            "72/72 - 1s - loss: 1.3721 - accuracy: 0.6477 - val_loss: 1.4275 - val_accuracy: 0.6450\n",
            "\n",
            "Epoch 00008: val_loss did not improve from 2.36778\n",
            "Epoch 9/50\n",
            "72/72 - 1s - loss: 1.2642 - accuracy: 0.6770 - val_loss: 1.3549 - val_accuracy: 0.6611\n",
            "\n",
            "Epoch 00009: val_loss did not improve from 2.36778\n",
            "Epoch 10/50\n",
            "72/72 - 1s - loss: 1.1964 - accuracy: 0.6967 - val_loss: 1.3135 - val_accuracy: 0.6789\n",
            "\n",
            "Epoch 00010: val_loss did not improve from 2.36778\n",
            "Epoch 11/50\n",
            "72/72 - 1s - loss: 1.1047 - accuracy: 0.7177 - val_loss: 1.3404 - val_accuracy: 0.6678\n",
            "\n",
            "Epoch 00011: val_loss did not improve from 2.36778\n",
            "Epoch 12/50\n",
            "72/72 - 1s - loss: 1.0362 - accuracy: 0.7300 - val_loss: 1.2857 - val_accuracy: 0.6817\n",
            "\n",
            "Epoch 00012: val_loss did not improve from 2.36778\n",
            "Epoch 13/50\n",
            "72/72 - 1s - loss: 1.0023 - accuracy: 0.7378 - val_loss: 1.2669 - val_accuracy: 0.6884\n",
            "\n",
            "Epoch 00013: val_loss did not improve from 2.36778\n",
            "Epoch 14/50\n",
            "72/72 - 1s - loss: 0.9507 - accuracy: 0.7532 - val_loss: 1.2585 - val_accuracy: 0.6906\n",
            "\n",
            "Epoch 00014: val_loss did not improve from 2.36778\n",
            "Epoch 15/50\n",
            "72/72 - 1s - loss: 0.8965 - accuracy: 0.7665 - val_loss: 1.2383 - val_accuracy: 0.6928\n",
            "\n",
            "Epoch 00015: val_loss did not improve from 2.36778\n",
            "Epoch 16/50\n",
            "72/72 - 1s - loss: 0.8590 - accuracy: 0.7765 - val_loss: 1.2447 - val_accuracy: 0.7051\n",
            "\n",
            "Epoch 00016: val_loss did not improve from 2.36778\n",
            "Epoch 17/50\n",
            "72/72 - 1s - loss: 0.8047 - accuracy: 0.7944 - val_loss: 1.2529 - val_accuracy: 0.7001\n",
            "\n",
            "Epoch 00017: val_loss did not improve from 2.36778\n",
            "Epoch 18/50\n",
            "72/72 - 1s - loss: 0.7751 - accuracy: 0.8000 - val_loss: 1.2522 - val_accuracy: 0.7190\n",
            "\n",
            "Epoch 00018: val_loss did not improve from 2.36778\n",
            "Epoch 19/50\n",
            "72/72 - 1s - loss: 0.7471 - accuracy: 0.8082 - val_loss: 1.2792 - val_accuracy: 0.7067\n",
            "\n",
            "Epoch 00019: val_loss did not improve from 2.36778\n",
            "Epoch 20/50\n",
            "72/72 - 1s - loss: 0.7035 - accuracy: 0.8209 - val_loss: 1.2604 - val_accuracy: 0.7168\n",
            "\n",
            "Epoch 00020: val_loss did not improve from 2.36778\n",
            "Epoch 21/50\n",
            "72/72 - 1s - loss: 0.6868 - accuracy: 0.8245 - val_loss: 1.2700 - val_accuracy: 0.7106\n",
            "\n",
            "Epoch 00021: val_loss did not improve from 2.36778\n",
            "Epoch 22/50\n",
            "72/72 - 1s - loss: 0.6476 - accuracy: 0.8349 - val_loss: 1.3223 - val_accuracy: 0.7056\n",
            "\n",
            "Epoch 00022: val_loss did not improve from 2.36778\n",
            "Epoch 23/50\n",
            "72/72 - 1s - loss: 0.6109 - accuracy: 0.8440 - val_loss: 1.2988 - val_accuracy: 0.7156\n",
            "\n",
            "Epoch 00023: val_loss did not improve from 2.36778\n",
            "Epoch 24/50\n",
            "72/72 - 1s - loss: 0.5753 - accuracy: 0.8530 - val_loss: 1.3777 - val_accuracy: 0.7001\n",
            "\n",
            "Epoch 00024: val_loss did not improve from 2.36778\n",
            "Epoch 25/50\n",
            "72/72 - 1s - loss: 0.5680 - accuracy: 0.8544 - val_loss: 1.3582 - val_accuracy: 0.7117\n",
            "\n",
            "Epoch 00025: val_loss did not improve from 2.36778\n",
            "Epoch 00025: early stopping\n"
          ],
          "name": "stdout"
        },
        {
          "output_type": "execute_result",
          "data": {
            "text/plain": [
              "<tensorflow.python.keras.callbacks.History at 0x7faf0a23a6a0>"
            ]
          },
          "metadata": {
            "tags": []
          },
          "execution_count": 59
        }
      ]
    },
    {
      "cell_type": "code",
      "metadata": {
        "colab": {
          "base_uri": "https://localhost:8080/"
        },
        "id": "nqtyHDsFPdi0",
        "outputId": "6756a443-bb74-4750-eb4e-61f1d3bbaf46"
      },
      "source": [
        "acc_reuter_lstm_100 = model.evaluate(X_test, Y_test, verbose=2)[1]\r\n",
        "print(f'\\nLSTM 테스트 정확도: {acc_reuter_lstm_100:.4f}')"
      ],
      "execution_count": 60,
      "outputs": [
        {
          "output_type": "stream",
          "text": [
            "71/71 - 0s - loss: 1.4075 - accuracy: 0.7012\n",
            "\n",
            "LSTM 테스트 정확도: 0.7012\n"
          ],
          "name": "stdout"
        }
      ]
    },
    {
      "cell_type": "code",
      "metadata": {
        "id": "Yys0vVEWPilq"
      },
      "source": [
        "del model"
      ],
      "execution_count": 61,
      "outputs": []
    },
    {
      "cell_type": "code",
      "metadata": {
        "colab": {
          "base_uri": "https://localhost:8080/"
        },
        "id": "Su74JK8PPkQT",
        "outputId": "91a0085b-9bda-4d72-d934-62bac7e62256"
      },
      "source": [
        "Reuter100_acc_list = [acc_reuter_srnn_100, acc_reuter_gru_100, acc_reuter_lstm_100]\r\n",
        "Reuter100_acc_list = np.round(Reuter100_acc_list, 4)\r\n",
        "Reuter100_acc_list"
      ],
      "execution_count": 62,
      "outputs": [
        {
          "output_type": "execute_result",
          "data": {
            "text/plain": [
              "array([0.4973, 0.683 , 0.7012])"
            ]
          },
          "metadata": {
            "tags": []
          },
          "execution_count": 62
        }
      ]
    },
    {
      "cell_type": "markdown",
      "metadata": {
        "id": "X4uzexgcQT-V"
      },
      "source": [
        "#### 빈도수 5,000, 단어수 500 제한"
      ]
    },
    {
      "cell_type": "code",
      "metadata": {
        "id": "4nDZLddhV3BI"
      },
      "source": [
        "(X_train, y_train), (X_test, y_test) = reuters.load_data(\r\n",
        "    num_words=5000, test_split=0.2\r\n",
        ")"
      ],
      "execution_count": 63,
      "outputs": []
    },
    {
      "cell_type": "code",
      "metadata": {
        "id": "2BNOdUuVV28G"
      },
      "source": [
        "# 모델의 입력으로 사용하는 모든 뉴스 기사의 길이를 동일하게 500으로 맞춤\r\n",
        "max_len = 500\r\n",
        "X_train = pad_sequences(X_train, maxlen=max_len)\r\n",
        "X_test = pad_sequences(X_test, maxlen=max_len)"
      ],
      "execution_count": 64,
      "outputs": []
    },
    {
      "cell_type": "code",
      "metadata": {
        "id": "rFh3nOHaV23T"
      },
      "source": [
        "# 뉴스 기사 레이블의 One-hot encoding\r\n",
        "Y_train = to_categorical(y_train)\r\n",
        "Y_test = to_categorical(y_test)"
      ],
      "execution_count": 65,
      "outputs": []
    },
    {
      "cell_type": "markdown",
      "metadata": {
        "id": "EsHu749zRrrV"
      },
      "source": [
        "- SimpleRNN"
      ]
    },
    {
      "cell_type": "code",
      "metadata": {
        "colab": {
          "base_uri": "https://localhost:8080/"
        },
        "id": "QIiOgPtIQVWF",
        "outputId": "4dd06fde-24fa-4a4e-cc82-5f6b17a4ee8f"
      },
      "source": [
        "model = Sequential()\r\n",
        "model.add(Embedding(5000, 250))\r\n",
        "model.add(LSTM(250))\r\n",
        "model.add(Dense(46, activation='softmax'))\r\n",
        "model.summary()"
      ],
      "execution_count": 66,
      "outputs": [
        {
          "output_type": "stream",
          "text": [
            "Model: \"sequential_6\"\n",
            "_________________________________________________________________\n",
            "Layer (type)                 Output Shape              Param #   \n",
            "=================================================================\n",
            "embedding_6 (Embedding)      (None, None, 250)         1250000   \n",
            "_________________________________________________________________\n",
            "lstm_2 (LSTM)                (None, 250)               501000    \n",
            "_________________________________________________________________\n",
            "dense_6 (Dense)              (None, 46)                11546     \n",
            "=================================================================\n",
            "Total params: 1,762,546\n",
            "Trainable params: 1,762,546\n",
            "Non-trainable params: 0\n",
            "_________________________________________________________________\n"
          ],
          "name": "stdout"
        }
      ]
    },
    {
      "cell_type": "code",
      "metadata": {
        "id": "JxxfsLoNRzPD"
      },
      "source": [
        "model.compile(loss='categorical_crossentropy',\r\n",
        "              optimizer='adam', metrics=['accuracy'])"
      ],
      "execution_count": 67,
      "outputs": []
    },
    {
      "cell_type": "code",
      "metadata": {
        "id": "2Ngy73IuR2Do"
      },
      "source": [
        "es = EarlyStopping(monitor='val_loss', mode='min', verbose=1, patience=10)\r\n",
        "mc = ModelCheckpoint('model/reuter_srnn_500_best_model.h5', monitor='val_loss', \r\n",
        "                     mode='max', verbose=1, save_best_only=True)"
      ],
      "execution_count": 68,
      "outputs": []
    },
    {
      "cell_type": "code",
      "metadata": {
        "colab": {
          "base_uri": "https://localhost:8080/"
        },
        "id": "frZ6-kV2R6k_",
        "outputId": "16d90eda-d780-440e-8bf6-79b1a0a410a4"
      },
      "source": [
        "model.fit(X_train, Y_train, batch_size=100, epochs=50, \r\n",
        "                    validation_split=0.2, verbose=2, callbacks=[mc, es])"
      ],
      "execution_count": 69,
      "outputs": [
        {
          "output_type": "stream",
          "text": [
            "Epoch 1/50\n",
            "72/72 - 10s - loss: 2.5253 - accuracy: 0.3486 - val_loss: 2.2070 - val_accuracy: 0.3784\n",
            "\n",
            "Epoch 00001: val_loss improved from -inf to 2.20697, saving model to model/reuter_srnn_500_best_model.h5\n",
            "Epoch 2/50\n",
            "72/72 - 8s - loss: 1.9219 - accuracy: 0.5045 - val_loss: 1.6984 - val_accuracy: 0.5543\n",
            "\n",
            "Epoch 00002: val_loss did not improve from 2.20697\n",
            "Epoch 3/50\n",
            "72/72 - 8s - loss: 1.6604 - accuracy: 0.5733 - val_loss: 1.6038 - val_accuracy: 0.5971\n",
            "\n",
            "Epoch 00003: val_loss did not improve from 2.20697\n",
            "Epoch 4/50\n",
            "72/72 - 8s - loss: 1.4387 - accuracy: 0.6355 - val_loss: 1.5515 - val_accuracy: 0.6327\n",
            "\n",
            "Epoch 00004: val_loss did not improve from 2.20697\n",
            "Epoch 5/50\n",
            "72/72 - 8s - loss: 1.2760 - accuracy: 0.6791 - val_loss: 1.3538 - val_accuracy: 0.6583\n",
            "\n",
            "Epoch 00005: val_loss did not improve from 2.20697\n",
            "Epoch 6/50\n",
            "72/72 - 8s - loss: 1.0759 - accuracy: 0.7260 - val_loss: 1.4847 - val_accuracy: 0.6477\n",
            "\n",
            "Epoch 00006: val_loss did not improve from 2.20697\n",
            "Epoch 7/50\n",
            "72/72 - 8s - loss: 1.0139 - accuracy: 0.7332 - val_loss: 1.3749 - val_accuracy: 0.6678\n",
            "\n",
            "Epoch 00007: val_loss did not improve from 2.20697\n",
            "Epoch 8/50\n",
            "72/72 - 8s - loss: 0.8213 - accuracy: 0.7837 - val_loss: 1.3803 - val_accuracy: 0.6667\n",
            "\n",
            "Epoch 00008: val_loss did not improve from 2.20697\n",
            "Epoch 9/50\n",
            "72/72 - 8s - loss: 0.7089 - accuracy: 0.8142 - val_loss: 1.4282 - val_accuracy: 0.6722\n",
            "\n",
            "Epoch 00009: val_loss did not improve from 2.20697\n",
            "Epoch 10/50\n",
            "72/72 - 8s - loss: 0.5879 - accuracy: 0.8477 - val_loss: 1.4121 - val_accuracy: 0.6828\n",
            "\n",
            "Epoch 00010: val_loss did not improve from 2.20697\n",
            "Epoch 11/50\n",
            "72/72 - 8s - loss: 0.4973 - accuracy: 0.8725 - val_loss: 1.5435 - val_accuracy: 0.6750\n",
            "\n",
            "Epoch 00011: val_loss did not improve from 2.20697\n",
            "Epoch 12/50\n",
            "72/72 - 8s - loss: 0.4297 - accuracy: 0.8880 - val_loss: 1.5912 - val_accuracy: 0.6828\n",
            "\n",
            "Epoch 00012: val_loss did not improve from 2.20697\n",
            "Epoch 13/50\n",
            "72/72 - 8s - loss: 0.3971 - accuracy: 0.9008 - val_loss: 1.6377 - val_accuracy: 0.6884\n",
            "\n",
            "Epoch 00013: val_loss did not improve from 2.20697\n",
            "Epoch 14/50\n",
            "72/72 - 8s - loss: 0.3212 - accuracy: 0.9214 - val_loss: 1.6955 - val_accuracy: 0.6889\n",
            "\n",
            "Epoch 00014: val_loss did not improve from 2.20697\n",
            "Epoch 15/50\n",
            "72/72 - 8s - loss: 0.2816 - accuracy: 0.9264 - val_loss: 1.7005 - val_accuracy: 0.6711\n",
            "\n",
            "Epoch 00015: val_loss did not improve from 2.20697\n",
            "Epoch 00015: early stopping\n"
          ],
          "name": "stdout"
        },
        {
          "output_type": "execute_result",
          "data": {
            "text/plain": [
              "<tensorflow.python.keras.callbacks.History at 0x7faf0aecd710>"
            ]
          },
          "metadata": {
            "tags": []
          },
          "execution_count": 69
        }
      ]
    },
    {
      "cell_type": "code",
      "metadata": {
        "colab": {
          "base_uri": "https://localhost:8080/"
        },
        "id": "GlZCAFnKR72O",
        "outputId": "081fb666-65cb-4cba-ea89-0aca4fcbd22d"
      },
      "source": [
        "acc_reuter_srnn_500 = model.evaluate(X_test, Y_test, verbose=2)[1]\r\n",
        "print(f'\\nSimpleRNN 테스트 정확도: {acc_reuter_srnn_500:.4f}')"
      ],
      "execution_count": 70,
      "outputs": [
        {
          "output_type": "stream",
          "text": [
            "71/71 - 1s - loss: 1.8463 - accuracy: 0.6701\n",
            "\n",
            "SimpleRNN 테스트 정확도: 0.6701\n"
          ],
          "name": "stdout"
        }
      ]
    },
    {
      "cell_type": "code",
      "metadata": {
        "id": "Rpl0gsefSBlM"
      },
      "source": [
        "del model"
      ],
      "execution_count": 71,
      "outputs": []
    },
    {
      "cell_type": "markdown",
      "metadata": {
        "id": "MqtGR02YSJ3z"
      },
      "source": [
        "- GRU"
      ]
    },
    {
      "cell_type": "code",
      "metadata": {
        "colab": {
          "base_uri": "https://localhost:8080/"
        },
        "id": "9ZBIbfMASL31",
        "outputId": "40a20be5-29c7-46f2-846c-63c9539f337a"
      },
      "source": [
        "model = Sequential()\r\n",
        "model.add(Embedding(5000, 250))\r\n",
        "model.add(GRU(250))\r\n",
        "model.add(Dense(46, activation='softmax'))\r\n",
        "model.summary()"
      ],
      "execution_count": 72,
      "outputs": [
        {
          "output_type": "stream",
          "text": [
            "Model: \"sequential_7\"\n",
            "_________________________________________________________________\n",
            "Layer (type)                 Output Shape              Param #   \n",
            "=================================================================\n",
            "embedding_7 (Embedding)      (None, None, 250)         1250000   \n",
            "_________________________________________________________________\n",
            "gru_2 (GRU)                  (None, 250)               376500    \n",
            "_________________________________________________________________\n",
            "dense_7 (Dense)              (None, 46)                11546     \n",
            "=================================================================\n",
            "Total params: 1,638,046\n",
            "Trainable params: 1,638,046\n",
            "Non-trainable params: 0\n",
            "_________________________________________________________________\n"
          ],
          "name": "stdout"
        }
      ]
    },
    {
      "cell_type": "code",
      "metadata": {
        "id": "lYADWT2BSNCS"
      },
      "source": [
        "model.compile(loss='categorical_crossentropy',\r\n",
        "              optimizer='adam', metrics=['accuracy'])"
      ],
      "execution_count": 73,
      "outputs": []
    },
    {
      "cell_type": "code",
      "metadata": {
        "id": "14zB5WoPSNAL"
      },
      "source": [
        "es = EarlyStopping(monitor='val_loss', mode='min', verbose=1, patience=10)\r\n",
        "mc = ModelCheckpoint('model/reuter_gru_500_best_model.h5', monitor='val_loss', \r\n",
        "                     mode='max', verbose=1, save_best_only=True)"
      ],
      "execution_count": 74,
      "outputs": []
    },
    {
      "cell_type": "code",
      "metadata": {
        "colab": {
          "base_uri": "https://localhost:8080/"
        },
        "id": "tRl8qNBmSM-K",
        "outputId": "cc878e0a-c15c-4b5d-d54e-fcbc24807d43"
      },
      "source": [
        "model.fit(X_train, Y_train, batch_size=100, epochs=50, \r\n",
        "                    validation_split=0.2, verbose=2, callbacks=[mc, es])"
      ],
      "execution_count": 75,
      "outputs": [
        {
          "output_type": "stream",
          "text": [
            "Epoch 1/50\n",
            "72/72 - 9s - loss: 2.3665 - accuracy: 0.3738 - val_loss: 1.9157 - val_accuracy: 0.4663\n",
            "\n",
            "Epoch 00001: val_loss improved from -inf to 1.91573, saving model to model/reuter_gru_500_best_model.h5\n",
            "Epoch 2/50\n",
            "72/72 - 7s - loss: 1.7662 - accuracy: 0.5282 - val_loss: 1.7234 - val_accuracy: 0.5353\n",
            "\n",
            "Epoch 00002: val_loss did not improve from 1.91573\n",
            "Epoch 3/50\n",
            "72/72 - 7s - loss: 1.5538 - accuracy: 0.5974 - val_loss: 1.5773 - val_accuracy: 0.5988\n",
            "\n",
            "Epoch 00003: val_loss did not improve from 1.91573\n",
            "Epoch 4/50\n",
            "72/72 - 7s - loss: 1.4093 - accuracy: 0.6431 - val_loss: 1.5081 - val_accuracy: 0.6177\n",
            "\n",
            "Epoch 00004: val_loss did not improve from 1.91573\n",
            "Epoch 5/50\n",
            "72/72 - 7s - loss: 1.2783 - accuracy: 0.6774 - val_loss: 1.4849 - val_accuracy: 0.6283\n",
            "\n",
            "Epoch 00005: val_loss did not improve from 1.91573\n",
            "Epoch 6/50\n",
            "72/72 - 7s - loss: 1.1521 - accuracy: 0.7038 - val_loss: 1.4216 - val_accuracy: 0.6566\n",
            "\n",
            "Epoch 00006: val_loss did not improve from 1.91573\n",
            "Epoch 7/50\n",
            "72/72 - 7s - loss: 1.0117 - accuracy: 0.7403 - val_loss: 1.3946 - val_accuracy: 0.6656\n",
            "\n",
            "Epoch 00007: val_loss did not improve from 1.91573\n",
            "Epoch 8/50\n",
            "72/72 - 7s - loss: 0.9125 - accuracy: 0.7683 - val_loss: 1.4270 - val_accuracy: 0.6672\n",
            "\n",
            "Epoch 00008: val_loss did not improve from 1.91573\n",
            "Epoch 9/50\n",
            "72/72 - 7s - loss: 0.7966 - accuracy: 0.7971 - val_loss: 1.4177 - val_accuracy: 0.6806\n",
            "\n",
            "Epoch 00009: val_loss did not improve from 1.91573\n",
            "Epoch 10/50\n",
            "72/72 - 7s - loss: 0.6749 - accuracy: 0.8249 - val_loss: 1.4494 - val_accuracy: 0.6817\n",
            "\n",
            "Epoch 00010: val_loss did not improve from 1.91573\n",
            "Epoch 11/50\n",
            "72/72 - 7s - loss: 0.5939 - accuracy: 0.8502 - val_loss: 1.5074 - val_accuracy: 0.6756\n",
            "\n",
            "Epoch 00011: val_loss did not improve from 1.91573\n",
            "Epoch 12/50\n",
            "72/72 - 7s - loss: 0.5265 - accuracy: 0.8653 - val_loss: 1.5174 - val_accuracy: 0.6900\n",
            "\n",
            "Epoch 00012: val_loss did not improve from 1.91573\n",
            "Epoch 13/50\n",
            "72/72 - 7s - loss: 0.4633 - accuracy: 0.8830 - val_loss: 1.4853 - val_accuracy: 0.6956\n",
            "\n",
            "Epoch 00013: val_loss did not improve from 1.91573\n",
            "Epoch 14/50\n",
            "72/72 - 7s - loss: 0.4337 - accuracy: 0.8882 - val_loss: 1.5740 - val_accuracy: 0.6967\n",
            "\n",
            "Epoch 00014: val_loss did not improve from 1.91573\n",
            "Epoch 15/50\n",
            "72/72 - 7s - loss: 0.3818 - accuracy: 0.9023 - val_loss: 1.5306 - val_accuracy: 0.7067\n",
            "\n",
            "Epoch 00015: val_loss did not improve from 1.91573\n",
            "Epoch 16/50\n",
            "72/72 - 7s - loss: 0.4143 - accuracy: 0.8946 - val_loss: 1.5024 - val_accuracy: 0.7051\n",
            "\n",
            "Epoch 00016: val_loss did not improve from 1.91573\n",
            "Epoch 17/50\n",
            "72/72 - 7s - loss: 0.2990 - accuracy: 0.9247 - val_loss: 1.5087 - val_accuracy: 0.7156\n",
            "\n",
            "Epoch 00017: val_loss did not improve from 1.91573\n",
            "Epoch 00017: early stopping\n"
          ],
          "name": "stdout"
        },
        {
          "output_type": "execute_result",
          "data": {
            "text/plain": [
              "<tensorflow.python.keras.callbacks.History at 0x7faf0aff8668>"
            ]
          },
          "metadata": {
            "tags": []
          },
          "execution_count": 75
        }
      ]
    },
    {
      "cell_type": "code",
      "metadata": {
        "colab": {
          "base_uri": "https://localhost:8080/"
        },
        "id": "UyKtdmgrSM8Z",
        "outputId": "f3ac80f2-dede-4b2b-947f-bce313f6115f"
      },
      "source": [
        "acc_reuter_gru_500 = model.evaluate(X_test, Y_test, verbose=2)[1]\r\n",
        "print(f'\\nGRU 테스트 정확도: {acc_reuter_gru_500:.4f}')"
      ],
      "execution_count": 76,
      "outputs": [
        {
          "output_type": "stream",
          "text": [
            "71/71 - 1s - loss: 1.6994 - accuracy: 0.6941\n",
            "\n",
            "GRU 테스트 정확도: 0.6941\n"
          ],
          "name": "stdout"
        }
      ]
    },
    {
      "cell_type": "code",
      "metadata": {
        "id": "oVw1mNdlSM6X"
      },
      "source": [
        "del model"
      ],
      "execution_count": 77,
      "outputs": []
    },
    {
      "cell_type": "markdown",
      "metadata": {
        "id": "dyYSg4kwSX_p"
      },
      "source": [
        "- LSTM"
      ]
    },
    {
      "cell_type": "code",
      "metadata": {
        "colab": {
          "base_uri": "https://localhost:8080/"
        },
        "id": "KsV48tSBSM4F",
        "outputId": "8535c165-cfb9-4d9e-e4fe-32c72442718e"
      },
      "source": [
        "model = Sequential()\r\n",
        "model.add(Embedding(5000, 250))\r\n",
        "model.add(LSTM(250))\r\n",
        "model.add(Dense(46, activation='softmax'))\r\n",
        "model.summary()"
      ],
      "execution_count": 78,
      "outputs": [
        {
          "output_type": "stream",
          "text": [
            "Model: \"sequential_8\"\n",
            "_________________________________________________________________\n",
            "Layer (type)                 Output Shape              Param #   \n",
            "=================================================================\n",
            "embedding_8 (Embedding)      (None, None, 250)         1250000   \n",
            "_________________________________________________________________\n",
            "lstm_3 (LSTM)                (None, 250)               501000    \n",
            "_________________________________________________________________\n",
            "dense_8 (Dense)              (None, 46)                11546     \n",
            "=================================================================\n",
            "Total params: 1,762,546\n",
            "Trainable params: 1,762,546\n",
            "Non-trainable params: 0\n",
            "_________________________________________________________________\n"
          ],
          "name": "stdout"
        }
      ]
    },
    {
      "cell_type": "code",
      "metadata": {
        "id": "Ldho8K4VSM12"
      },
      "source": [
        "model.compile(loss='categorical_crossentropy',\r\n",
        "              optimizer='adam', metrics=['accuracy'])"
      ],
      "execution_count": 79,
      "outputs": []
    },
    {
      "cell_type": "code",
      "metadata": {
        "id": "QGs-OZ-tSaH-"
      },
      "source": [
        "es = EarlyStopping(monitor='val_loss', mode='min', verbose=1, patience=10)\r\n",
        "mc = ModelCheckpoint('model/reuter_lstm_500_best_model.h5', monitor='val_loss', \r\n",
        "                     mode='max', verbose=1, save_best_only=True)"
      ],
      "execution_count": 80,
      "outputs": []
    },
    {
      "cell_type": "code",
      "metadata": {
        "colab": {
          "base_uri": "https://localhost:8080/"
        },
        "id": "tufWtew-SaF_",
        "outputId": "753f0dfe-a41f-4cb8-d761-0555454f1dd6"
      },
      "source": [
        "model.fit(X_train, Y_train, batch_size=100, epochs=50, \r\n",
        "                    validation_split=0.2, verbose=2, callbacks=[mc, es])"
      ],
      "execution_count": 81,
      "outputs": [
        {
          "output_type": "stream",
          "text": [
            "Epoch 1/50\n",
            "72/72 - 10s - loss: 2.5147 - accuracy: 0.3555 - val_loss: 2.2446 - val_accuracy: 0.4636\n",
            "\n",
            "Epoch 00001: val_loss improved from -inf to 2.24460, saving model to model/reuter_lstm_500_best_model.h5\n",
            "Epoch 2/50\n",
            "72/72 - 8s - loss: 2.0111 - accuracy: 0.4939 - val_loss: 1.8436 - val_accuracy: 0.5314\n",
            "\n",
            "Epoch 00002: val_loss did not improve from 2.24460\n",
            "Epoch 3/50\n",
            "72/72 - 8s - loss: 1.7099 - accuracy: 0.5645 - val_loss: 1.7236 - val_accuracy: 0.5548\n",
            "\n",
            "Epoch 00003: val_loss did not improve from 2.24460\n",
            "Epoch 4/50\n",
            "72/72 - 8s - loss: 1.9162 - accuracy: 0.4976 - val_loss: 1.6230 - val_accuracy: 0.5876\n",
            "\n",
            "Epoch 00004: val_loss did not improve from 2.24460\n",
            "Epoch 5/50\n",
            "72/72 - 8s - loss: 1.6692 - accuracy: 0.5869 - val_loss: 1.5871 - val_accuracy: 0.5954\n",
            "\n",
            "Epoch 00005: val_loss did not improve from 2.24460\n",
            "Epoch 6/50\n",
            "72/72 - 8s - loss: 1.3737 - accuracy: 0.6448 - val_loss: 1.5229 - val_accuracy: 0.6183\n",
            "\n",
            "Epoch 00006: val_loss did not improve from 2.24460\n",
            "Epoch 7/50\n",
            "72/72 - 8s - loss: 1.2294 - accuracy: 0.6825 - val_loss: 1.4236 - val_accuracy: 0.6439\n",
            "\n",
            "Epoch 00007: val_loss did not improve from 2.24460\n",
            "Epoch 8/50\n",
            "72/72 - 8s - loss: 1.0623 - accuracy: 0.7264 - val_loss: 1.3752 - val_accuracy: 0.6667\n",
            "\n",
            "Epoch 00008: val_loss did not improve from 2.24460\n",
            "Epoch 9/50\n",
            "72/72 - 8s - loss: 0.9201 - accuracy: 0.7634 - val_loss: 1.3650 - val_accuracy: 0.6795\n",
            "\n",
            "Epoch 00009: val_loss did not improve from 2.24460\n",
            "Epoch 10/50\n",
            "72/72 - 8s - loss: 0.8431 - accuracy: 0.7823 - val_loss: 1.3967 - val_accuracy: 0.6806\n",
            "\n",
            "Epoch 00010: val_loss did not improve from 2.24460\n",
            "Epoch 11/50\n",
            "72/72 - 8s - loss: 0.7043 - accuracy: 0.8182 - val_loss: 1.3397 - val_accuracy: 0.6978\n",
            "\n",
            "Epoch 00011: val_loss did not improve from 2.24460\n",
            "Epoch 12/50\n",
            "72/72 - 8s - loss: 0.6141 - accuracy: 0.8448 - val_loss: 1.4132 - val_accuracy: 0.6912\n",
            "\n",
            "Epoch 00012: val_loss did not improve from 2.24460\n",
            "Epoch 13/50\n",
            "72/72 - 8s - loss: 0.5753 - accuracy: 0.8544 - val_loss: 1.4353 - val_accuracy: 0.6923\n",
            "\n",
            "Epoch 00013: val_loss did not improve from 2.24460\n",
            "Epoch 14/50\n",
            "72/72 - 8s - loss: 0.4609 - accuracy: 0.8852 - val_loss: 1.4649 - val_accuracy: 0.7001\n",
            "\n",
            "Epoch 00014: val_loss did not improve from 2.24460\n",
            "Epoch 15/50\n",
            "72/72 - 8s - loss: 0.3831 - accuracy: 0.9051 - val_loss: 1.5117 - val_accuracy: 0.7012\n",
            "\n",
            "Epoch 00015: val_loss did not improve from 2.24460\n",
            "Epoch 16/50\n",
            "72/72 - 8s - loss: 0.3234 - accuracy: 0.9222 - val_loss: 1.5872 - val_accuracy: 0.6906\n",
            "\n",
            "Epoch 00016: val_loss did not improve from 2.24460\n",
            "Epoch 17/50\n",
            "72/72 - 8s - loss: 0.2797 - accuracy: 0.9326 - val_loss: 1.6639 - val_accuracy: 0.6878\n",
            "\n",
            "Epoch 00017: val_loss did not improve from 2.24460\n",
            "Epoch 18/50\n",
            "72/72 - 8s - loss: 0.2439 - accuracy: 0.9427 - val_loss: 1.7197 - val_accuracy: 0.6895\n",
            "\n",
            "Epoch 00018: val_loss did not improve from 2.24460\n",
            "Epoch 19/50\n",
            "72/72 - 8s - loss: 0.2155 - accuracy: 0.9460 - val_loss: 1.7443 - val_accuracy: 0.6878\n",
            "\n",
            "Epoch 00019: val_loss did not improve from 2.24460\n",
            "Epoch 20/50\n",
            "72/72 - 8s - loss: 0.1922 - accuracy: 0.9506 - val_loss: 1.8071 - val_accuracy: 0.6873\n",
            "\n",
            "Epoch 00020: val_loss did not improve from 2.24460\n",
            "Epoch 21/50\n",
            "72/72 - 8s - loss: 0.2014 - accuracy: 0.9482 - val_loss: 1.8080 - val_accuracy: 0.6817\n",
            "\n",
            "Epoch 00021: val_loss did not improve from 2.24460\n",
            "Epoch 00021: early stopping\n"
          ],
          "name": "stdout"
        },
        {
          "output_type": "execute_result",
          "data": {
            "text/plain": [
              "<tensorflow.python.keras.callbacks.History at 0x7faf0865d390>"
            ]
          },
          "metadata": {
            "tags": []
          },
          "execution_count": 81
        }
      ]
    },
    {
      "cell_type": "code",
      "metadata": {
        "colab": {
          "base_uri": "https://localhost:8080/"
        },
        "id": "KC-dFhCESaD_",
        "outputId": "b2846add-2133-4595-c148-158db9d1f055"
      },
      "source": [
        "acc_reuter_lstm_500 = model.evaluate(X_test, Y_test, verbose=2)[1]\r\n",
        "print(f'\\nLSTM 테스트 정확도: {acc_reuter_lstm_500:.4f}')"
      ],
      "execution_count": 82,
      "outputs": [
        {
          "output_type": "stream",
          "text": [
            "71/71 - 1s - loss: 1.9741 - accuracy: 0.6732\n",
            "\n",
            "LSTM 테스트 정확도: 0.6732\n"
          ],
          "name": "stdout"
        }
      ]
    },
    {
      "cell_type": "code",
      "metadata": {
        "id": "mnYKv4p_SaCB"
      },
      "source": [
        "del model"
      ],
      "execution_count": 83,
      "outputs": []
    },
    {
      "cell_type": "code",
      "metadata": {
        "colab": {
          "base_uri": "https://localhost:8080/"
        },
        "id": "baH5-SQISZ_t",
        "outputId": "4af419fe-392f-45e4-9993-7dc2ff27feb2"
      },
      "source": [
        "Reuter500_acc_list = [acc_reuter_srnn_500, acc_reuter_gru_500, acc_reuter_lstm_500]\r\n",
        "Reuter500_acc_list = np.round(Reuter500_acc_list, 4)\r\n",
        "Reuter500_acc_list"
      ],
      "execution_count": 84,
      "outputs": [
        {
          "output_type": "execute_result",
          "data": {
            "text/plain": [
              "array([0.6701, 0.6941, 0.6732])"
            ]
          },
          "metadata": {
            "tags": []
          },
          "execution_count": 84
        }
      ]
    },
    {
      "cell_type": "markdown",
      "metadata": {
        "id": "AEeRKpfRUVFv"
      },
      "source": [
        "## 3. IMDB Review"
      ]
    },
    {
      "cell_type": "code",
      "metadata": {
        "colab": {
          "base_uri": "https://localhost:8080/"
        },
        "id": "-feIew0xT88O",
        "outputId": "af4f8299-ac4a-4516-bf94-195cc1f5d49a"
      },
      "source": [
        "from tensorflow.keras.datasets import imdb\r\n",
        "(X_train, y_train), (X_test, y_test) = imdb.load_data(num_words=None)"
      ],
      "execution_count": 85,
      "outputs": [
        {
          "output_type": "stream",
          "text": [
            "Downloading data from https://storage.googleapis.com/tensorflow/tf-keras-datasets/imdb.npz\n",
            "17465344/17464789 [==============================] - 0s 0us/step\n"
          ],
          "name": "stdout"
        }
      ]
    },
    {
      "cell_type": "code",
      "metadata": {
        "colab": {
          "base_uri": "https://localhost:8080/"
        },
        "id": "ol0KGMgwUvjF",
        "outputId": "62eb984d-b835-4326-8e12-0c5b57324737"
      },
      "source": [
        "index_dict = {}\r\n",
        "for key, value in imdb.get_word_index().items():\r\n",
        "    index_dict[value] = key\r\n",
        "len(index_dict)"
      ],
      "execution_count": 86,
      "outputs": [
        {
          "output_type": "stream",
          "text": [
            "Downloading data from https://storage.googleapis.com/tensorflow/tf-keras-datasets/imdb_word_index.json\n",
            "1646592/1641221 [==============================] - 0s 0us/step\n"
          ],
          "name": "stdout"
        },
        {
          "output_type": "execute_result",
          "data": {
            "text/plain": [
              "88584"
            ]
          },
          "metadata": {
            "tags": []
          },
          "execution_count": 86
        }
      ]
    },
    {
      "cell_type": "code",
      "metadata": {
        "colab": {
          "base_uri": "https://localhost:8080/"
        },
        "id": "bxST16ubUxXl",
        "outputId": "c26655df-7833-45ed-aa52-37193ed06a53"
      },
      "source": [
        "X_train.shape, X_test.shape"
      ],
      "execution_count": 87,
      "outputs": [
        {
          "output_type": "execute_result",
          "data": {
            "text/plain": [
              "((25000,), (25000,))"
            ]
          },
          "metadata": {
            "tags": []
          },
          "execution_count": 87
        }
      ]
    },
    {
      "cell_type": "code",
      "metadata": {
        "colab": {
          "base_uri": "https://localhost:8080/"
        },
        "id": "MUxK0HRNUyot",
        "outputId": "0ce7d7ec-4f48-4e98-d81b-41257835606e"
      },
      "source": [
        "# 리뷰의 길이\r\n",
        "print('리뷰의 최대 길이 :', max(len(l) for l in X_train))\r\n",
        "print('리뷰의 평균 길이 :', sum(map(len, X_train))/len(X_train))"
      ],
      "execution_count": 88,
      "outputs": [
        {
          "output_type": "stream",
          "text": [
            "리뷰의 최대 길이 : 2494\n",
            "리뷰의 평균 길이 : 238.71364\n"
          ],
          "name": "stdout"
        }
      ]
    },
    {
      "cell_type": "code",
      "metadata": {
        "colab": {
          "base_uri": "https://localhost:8080/"
        },
        "id": "WHT3shzSU0Hl",
        "outputId": "f0726c77-921e-40e4-f50b-16df35d3b797"
      },
      "source": [
        "# 레이블의 분포 (긍정: 0 / 부정: 1)\r\n",
        "unique_elements, counts_elements = np.unique(y_train, return_counts=True)\r\n",
        "print(\"각 레이블에 대한 빈도수:\")\r\n",
        "print(np.asarray((unique_elements, counts_elements)))"
      ],
      "execution_count": 89,
      "outputs": [
        {
          "output_type": "stream",
          "text": [
            "각 레이블에 대한 빈도수:\n",
            "[[    0     1]\n",
            " [12500 12500]]\n"
          ],
          "name": "stdout"
        }
      ]
    },
    {
      "cell_type": "markdown",
      "metadata": {
        "id": "zMar2wqIVJOW"
      },
      "source": [
        "### 모델 생성/설정/학습/평가\r\n",
        "- 모든 단어가 아닌 빈도수 5000 -> 10000까지 (총 단어수: 88,584)\r\n",
        "- 모든 문장이 아니라 500 -> 1000 단어까지 (최대 2,494 단어)"
      ]
    },
    {
      "cell_type": "markdown",
      "metadata": {
        "id": "qDbpk5tJWT3X"
      },
      "source": [
        "#### 빈도수 5,000, 단어수 500 제한"
      ]
    },
    {
      "cell_type": "code",
      "metadata": {
        "id": "ovKQWk0oU_NF"
      },
      "source": [
        "# 등장 빈도가 5,000번째까지의 단어들만 사용\r\n",
        "(X_train, y_train), (X_test, y_test) = imdb.load_data(num_words=5000)"
      ],
      "execution_count": 90,
      "outputs": []
    },
    {
      "cell_type": "code",
      "metadata": {
        "id": "jm-x6zhdVkby"
      },
      "source": [
        "# 모델의 입력으로 사용하는 모든 리뷰의 길이를 동일하게 500으로 맞춤\r\n",
        "max_len = 500\r\n",
        "X_train = pad_sequences(X_train, maxlen=max_len)\r\n",
        "X_test = pad_sequences(X_test, maxlen=max_len)"
      ],
      "execution_count": 91,
      "outputs": []
    },
    {
      "cell_type": "markdown",
      "metadata": {
        "id": "j2j-I5hCWJSl"
      },
      "source": [
        "- Test data set을 검증셋과 테스트셋으로 분리\r\n",
        "    - Test set: 25,000 (검증셋: 10,000, 테스트셋: 15,000)"
      ]
    },
    {
      "cell_type": "code",
      "metadata": {
        "id": "ztJ6New1VkZn"
      },
      "source": [
        "from sklearn.model_selection import train_test_split\r\n",
        "X_val, X_test, y_val, y_test = train_test_split(\r\n",
        "    X_test, y_test, stratify=y_test, test_size=.6, random_state=seed\r\n",
        ")"
      ],
      "execution_count": 92,
      "outputs": []
    },
    {
      "cell_type": "markdown",
      "metadata": {
        "id": "DQZDZozeaawq"
      },
      "source": [
        "- SimpleRNN"
      ]
    },
    {
      "cell_type": "code",
      "metadata": {
        "colab": {
          "base_uri": "https://localhost:8080/"
        },
        "id": "SRX3WBKmVkXu",
        "outputId": "8e542122-96e1-4ba4-faa8-e901a4225abb"
      },
      "source": [
        "model = Sequential()\r\n",
        "model.add(Embedding(5000, 120))\r\n",
        "model.add(SimpleRNN(120))\r\n",
        "model.add(Dense(1, activation='sigmoid'))\r\n",
        "model.summary()"
      ],
      "execution_count": 93,
      "outputs": [
        {
          "output_type": "stream",
          "text": [
            "Model: \"sequential_9\"\n",
            "_________________________________________________________________\n",
            "Layer (type)                 Output Shape              Param #   \n",
            "=================================================================\n",
            "embedding_9 (Embedding)      (None, None, 120)         600000    \n",
            "_________________________________________________________________\n",
            "simple_rnn_2 (SimpleRNN)     (None, 120)               28920     \n",
            "_________________________________________________________________\n",
            "dense_9 (Dense)              (None, 1)                 121       \n",
            "=================================================================\n",
            "Total params: 629,041\n",
            "Trainable params: 629,041\n",
            "Non-trainable params: 0\n",
            "_________________________________________________________________\n"
          ],
          "name": "stdout"
        }
      ]
    },
    {
      "cell_type": "code",
      "metadata": {
        "id": "aayr7SETVkVW"
      },
      "source": [
        "model.compile(loss='binary_crossentropy',\r\n",
        "              optimizer='adam', metrics=['accuracy'])"
      ],
      "execution_count": 94,
      "outputs": []
    },
    {
      "cell_type": "code",
      "metadata": {
        "id": "nk5HwiuvZtjp"
      },
      "source": [
        "es = EarlyStopping(monitor='val_loss', verbose=1, patience=10)\r\n",
        "mc = ModelCheckpoint('model/imdb_srnn_500_best_model.h5', monitor='val_loss', \r\n",
        "                     verbose=1, save_best_only=True)"
      ],
      "execution_count": 95,
      "outputs": []
    },
    {
      "cell_type": "code",
      "metadata": {
        "colab": {
          "base_uri": "https://localhost:8080/"
        },
        "id": "b7XLG9mUZtho",
        "outputId": "a8429ad5-01e6-41a6-c9c6-823320612555"
      },
      "source": [
        "model.fit(X_train, y_train, batch_size=100, epochs=50, \r\n",
        "                    validation_data=(X_val, y_val), verbose=2,\r\n",
        "                    callbacks=[mc, es])"
      ],
      "execution_count": 96,
      "outputs": [
        {
          "output_type": "stream",
          "text": [
            "Epoch 1/50\n",
            "250/250 - 61s - loss: 0.6345 - accuracy: 0.6134 - val_loss: 0.6370 - val_accuracy: 0.6098\n",
            "\n",
            "Epoch 00001: val_loss improved from inf to 0.63697, saving model to model/imdb_srnn_500_best_model.h5\n",
            "Epoch 2/50\n",
            "250/250 - 60s - loss: 0.4807 - accuracy: 0.7681 - val_loss: 0.4182 - val_accuracy: 0.8220\n",
            "\n",
            "Epoch 00002: val_loss improved from 0.63697 to 0.41816, saving model to model/imdb_srnn_500_best_model.h5\n",
            "Epoch 3/50\n",
            "250/250 - 61s - loss: 0.5096 - accuracy: 0.7415 - val_loss: 0.6188 - val_accuracy: 0.6385\n",
            "\n",
            "Epoch 00003: val_loss did not improve from 0.41816\n",
            "Epoch 4/50\n",
            "250/250 - 60s - loss: 0.5826 - accuracy: 0.6814 - val_loss: 0.6103 - val_accuracy: 0.6449\n",
            "\n",
            "Epoch 00004: val_loss did not improve from 0.41816\n",
            "Epoch 5/50\n",
            "250/250 - 61s - loss: 0.5585 - accuracy: 0.7065 - val_loss: 0.6064 - val_accuracy: 0.6573\n",
            "\n",
            "Epoch 00005: val_loss did not improve from 0.41816\n",
            "Epoch 6/50\n",
            "250/250 - 61s - loss: 0.5353 - accuracy: 0.7218 - val_loss: 0.6107 - val_accuracy: 0.6675\n",
            "\n",
            "Epoch 00006: val_loss did not improve from 0.41816\n",
            "Epoch 7/50\n",
            "250/250 - 62s - loss: 0.5141 - accuracy: 0.7382 - val_loss: 0.6019 - val_accuracy: 0.6738\n",
            "\n",
            "Epoch 00007: val_loss did not improve from 0.41816\n",
            "Epoch 8/50\n",
            "250/250 - 62s - loss: 0.4923 - accuracy: 0.7502 - val_loss: 0.6148 - val_accuracy: 0.6789\n",
            "\n",
            "Epoch 00008: val_loss did not improve from 0.41816\n",
            "Epoch 9/50\n",
            "250/250 - 61s - loss: 0.4687 - accuracy: 0.7681 - val_loss: 0.6059 - val_accuracy: 0.6892\n",
            "\n",
            "Epoch 00009: val_loss did not improve from 0.41816\n",
            "Epoch 10/50\n",
            "250/250 - 61s - loss: 0.4335 - accuracy: 0.7942 - val_loss: 0.5976 - val_accuracy: 0.7104\n",
            "\n",
            "Epoch 00010: val_loss did not improve from 0.41816\n",
            "Epoch 11/50\n",
            "250/250 - 61s - loss: 0.3951 - accuracy: 0.8216 - val_loss: 0.5798 - val_accuracy: 0.7325\n",
            "\n",
            "Epoch 00011: val_loss did not improve from 0.41816\n",
            "Epoch 12/50\n",
            "250/250 - 61s - loss: 0.3544 - accuracy: 0.8462 - val_loss: 0.5662 - val_accuracy: 0.7489\n",
            "\n",
            "Epoch 00012: val_loss did not improve from 0.41816\n",
            "Epoch 00012: early stopping\n"
          ],
          "name": "stdout"
        },
        {
          "output_type": "execute_result",
          "data": {
            "text/plain": [
              "<tensorflow.python.keras.callbacks.History at 0x7faf086277b8>"
            ]
          },
          "metadata": {
            "tags": []
          },
          "execution_count": 96
        }
      ]
    },
    {
      "cell_type": "code",
      "metadata": {
        "colab": {
          "base_uri": "https://localhost:8080/"
        },
        "id": "n1nw8szgZtdo",
        "outputId": "9a3b7198-0aed-41ad-c136-0ed66e743f85"
      },
      "source": [
        "acc_imdb_srnn_500 = model.evaluate(X_test, y_test, verbose=2)[1]\r\n",
        "print(f'\\nSimpleRNN 테스트 정확도: {acc_imdb_srnn_500:.4f}')"
      ],
      "execution_count": 97,
      "outputs": [
        {
          "output_type": "stream",
          "text": [
            "469/469 - 13s - loss: 0.5841 - accuracy: 0.7417\n",
            "\n",
            "SimpleRNN 테스트 정확도: 0.7417\n"
          ],
          "name": "stdout"
        }
      ]
    },
    {
      "cell_type": "code",
      "metadata": {
        "id": "ym8piq0tZtb8"
      },
      "source": [
        "del model"
      ],
      "execution_count": 98,
      "outputs": []
    },
    {
      "cell_type": "markdown",
      "metadata": {
        "id": "w_XdgwOjboa4"
      },
      "source": [
        "- GRU"
      ]
    },
    {
      "cell_type": "code",
      "metadata": {
        "colab": {
          "base_uri": "https://localhost:8080/"
        },
        "id": "aDUB1nA1ZtaI",
        "outputId": "1b47c2bb-2c9b-4b0d-9f75-9308970b0612"
      },
      "source": [
        "model = Sequential()\r\n",
        "model.add(Embedding(5000, 120))\r\n",
        "model.add(GRU(120))\r\n",
        "model.add(Dense(1, activation='sigmoid'))\r\n",
        "model.summary()"
      ],
      "execution_count": 99,
      "outputs": [
        {
          "output_type": "stream",
          "text": [
            "Model: \"sequential_10\"\n",
            "_________________________________________________________________\n",
            "Layer (type)                 Output Shape              Param #   \n",
            "=================================================================\n",
            "embedding_10 (Embedding)     (None, None, 120)         600000    \n",
            "_________________________________________________________________\n",
            "gru_3 (GRU)                  (None, 120)               87120     \n",
            "_________________________________________________________________\n",
            "dense_10 (Dense)             (None, 1)                 121       \n",
            "=================================================================\n",
            "Total params: 687,241\n",
            "Trainable params: 687,241\n",
            "Non-trainable params: 0\n",
            "_________________________________________________________________\n"
          ],
          "name": "stdout"
        }
      ]
    },
    {
      "cell_type": "code",
      "metadata": {
        "id": "Dni9Iz1TZtXl"
      },
      "source": [
        "model.compile(loss='binary_crossentropy',\r\n",
        "              optimizer='adam', metrics=['accuracy'])"
      ],
      "execution_count": 100,
      "outputs": []
    },
    {
      "cell_type": "code",
      "metadata": {
        "id": "jowX-eINbm7f"
      },
      "source": [
        "es = EarlyStopping(monitor='val_loss', verbose=1, patience=10)\r\n",
        "mc = ModelCheckpoint('model/imdb_gru_500_best_model.h5', monitor='val_loss', \r\n",
        "                     verbose=1, save_best_only=True)"
      ],
      "execution_count": 101,
      "outputs": []
    },
    {
      "cell_type": "code",
      "metadata": {
        "colab": {
          "base_uri": "https://localhost:8080/"
        },
        "id": "CexFfjQQbm5o",
        "outputId": "dc7e59cc-442b-461a-976f-fd1e7dc37ee7"
      },
      "source": [
        "model.fit(X_train, y_train, batch_size=100, epochs=50, \r\n",
        "                    validation_data=(X_val, y_val), verbose=2,\r\n",
        "                    callbacks=[mc, es])"
      ],
      "execution_count": 102,
      "outputs": [
        {
          "output_type": "stream",
          "text": [
            "Epoch 1/50\n",
            "250/250 - 14s - loss: 0.4378 - accuracy: 0.7853 - val_loss: 0.3461 - val_accuracy: 0.8542\n",
            "\n",
            "Epoch 00001: val_loss improved from inf to 0.34612, saving model to model/imdb_gru_500_best_model.h5\n",
            "Epoch 2/50\n",
            "250/250 - 13s - loss: 0.2780 - accuracy: 0.8885 - val_loss: 0.2971 - val_accuracy: 0.8786\n",
            "\n",
            "Epoch 00002: val_loss improved from 0.34612 to 0.29713, saving model to model/imdb_gru_500_best_model.h5\n",
            "Epoch 3/50\n",
            "250/250 - 13s - loss: 0.2248 - accuracy: 0.9133 - val_loss: 0.2934 - val_accuracy: 0.8847\n",
            "\n",
            "Epoch 00003: val_loss improved from 0.29713 to 0.29343, saving model to model/imdb_gru_500_best_model.h5\n",
            "Epoch 4/50\n",
            "250/250 - 13s - loss: 0.1693 - accuracy: 0.9366 - val_loss: 0.3104 - val_accuracy: 0.8899\n",
            "\n",
            "Epoch 00004: val_loss did not improve from 0.29343\n",
            "Epoch 5/50\n",
            "250/250 - 13s - loss: 0.1297 - accuracy: 0.9544 - val_loss: 0.3198 - val_accuracy: 0.8841\n",
            "\n",
            "Epoch 00005: val_loss did not improve from 0.29343\n",
            "Epoch 6/50\n",
            "250/250 - 13s - loss: 0.1003 - accuracy: 0.9646 - val_loss: 0.3524 - val_accuracy: 0.8777\n",
            "\n",
            "Epoch 00006: val_loss did not improve from 0.29343\n",
            "Epoch 7/50\n",
            "250/250 - 13s - loss: 0.0796 - accuracy: 0.9724 - val_loss: 0.3852 - val_accuracy: 0.8741\n",
            "\n",
            "Epoch 00007: val_loss did not improve from 0.29343\n",
            "Epoch 8/50\n",
            "250/250 - 13s - loss: 0.0580 - accuracy: 0.9806 - val_loss: 0.4460 - val_accuracy: 0.8751\n",
            "\n",
            "Epoch 00008: val_loss did not improve from 0.29343\n",
            "Epoch 9/50\n",
            "250/250 - 13s - loss: 0.0437 - accuracy: 0.9856 - val_loss: 0.4801 - val_accuracy: 0.8737\n",
            "\n",
            "Epoch 00009: val_loss did not improve from 0.29343\n",
            "Epoch 10/50\n",
            "250/250 - 13s - loss: 0.0338 - accuracy: 0.9893 - val_loss: 0.6028 - val_accuracy: 0.8763\n",
            "\n",
            "Epoch 00010: val_loss did not improve from 0.29343\n",
            "Epoch 11/50\n",
            "250/250 - 13s - loss: 0.0353 - accuracy: 0.9879 - val_loss: 0.5827 - val_accuracy: 0.8723\n",
            "\n",
            "Epoch 00011: val_loss did not improve from 0.29343\n",
            "Epoch 12/50\n",
            "250/250 - 13s - loss: 0.0223 - accuracy: 0.9934 - val_loss: 0.7106 - val_accuracy: 0.8707\n",
            "\n",
            "Epoch 00012: val_loss did not improve from 0.29343\n",
            "Epoch 13/50\n",
            "250/250 - 13s - loss: 0.0296 - accuracy: 0.9897 - val_loss: 0.6085 - val_accuracy: 0.8691\n",
            "\n",
            "Epoch 00013: val_loss did not improve from 0.29343\n",
            "Epoch 00013: early stopping\n"
          ],
          "name": "stdout"
        },
        {
          "output_type": "execute_result",
          "data": {
            "text/plain": [
              "<tensorflow.python.keras.callbacks.History at 0x7faeb15d7978>"
            ]
          },
          "metadata": {
            "tags": []
          },
          "execution_count": 102
        }
      ]
    },
    {
      "cell_type": "code",
      "metadata": {
        "colab": {
          "base_uri": "https://localhost:8080/"
        },
        "id": "DQarHXhebm3V",
        "outputId": "aa08d80f-0596-438f-b489-2e67d47fd177"
      },
      "source": [
        "acc_imdb_gru_500 = model.evaluate(X_test, y_test, verbose=2)[1]\r\n",
        "print(f'\\nGRU 테스트 정확도: {acc_imdb_gru_500:.4f}')"
      ],
      "execution_count": 103,
      "outputs": [
        {
          "output_type": "stream",
          "text": [
            "469/469 - 5s - loss: 0.6483 - accuracy: 0.8605\n",
            "\n",
            "GRU 테스트 정확도: 0.8605\n"
          ],
          "name": "stdout"
        }
      ]
    },
    {
      "cell_type": "code",
      "metadata": {
        "id": "vSfJnuRgbm1F"
      },
      "source": [
        "del model"
      ],
      "execution_count": 104,
      "outputs": []
    },
    {
      "cell_type": "markdown",
      "metadata": {
        "id": "-frSfvZIb2-a"
      },
      "source": [
        "- LSTM"
      ]
    },
    {
      "cell_type": "code",
      "metadata": {
        "colab": {
          "base_uri": "https://localhost:8080/"
        },
        "id": "VLC-ccbsbmxf",
        "outputId": "9f9f0aff-d6e1-4116-a4fc-c2ba3363a2cc"
      },
      "source": [
        "model = Sequential()\r\n",
        "model.add(Embedding(5000, 120))\r\n",
        "model.add(LSTM(120))\r\n",
        "model.add(Dense(1, activation='sigmoid'))\r\n",
        "model.summary()"
      ],
      "execution_count": 105,
      "outputs": [
        {
          "output_type": "stream",
          "text": [
            "Model: \"sequential_11\"\n",
            "_________________________________________________________________\n",
            "Layer (type)                 Output Shape              Param #   \n",
            "=================================================================\n",
            "embedding_11 (Embedding)     (None, None, 120)         600000    \n",
            "_________________________________________________________________\n",
            "lstm_4 (LSTM)                (None, 120)               115680    \n",
            "_________________________________________________________________\n",
            "dense_11 (Dense)             (None, 1)                 121       \n",
            "=================================================================\n",
            "Total params: 715,801\n",
            "Trainable params: 715,801\n",
            "Non-trainable params: 0\n",
            "_________________________________________________________________\n"
          ],
          "name": "stdout"
        }
      ]
    },
    {
      "cell_type": "code",
      "metadata": {
        "id": "Sfu_Ap0Vbmu_"
      },
      "source": [
        "model.compile(loss='binary_crossentropy',\r\n",
        "              optimizer='adam', metrics=['accuracy'])"
      ],
      "execution_count": 106,
      "outputs": []
    },
    {
      "cell_type": "code",
      "metadata": {
        "id": "Zh3m2z-Dbmsr"
      },
      "source": [
        "es = EarlyStopping(monitor='val_loss', verbose=1, patience=10)\r\n",
        "mc = ModelCheckpoint('model/imdb_lstm_500_best_model.h5', monitor='val_loss', \r\n",
        "                     verbose=1, save_best_only=True)"
      ],
      "execution_count": 107,
      "outputs": []
    },
    {
      "cell_type": "code",
      "metadata": {
        "colab": {
          "base_uri": "https://localhost:8080/"
        },
        "id": "JZ3Iszevd0Vc",
        "outputId": "49afcd1a-4f95-4ba8-e893-a1c4fc5b52a6"
      },
      "source": [
        "model.fit(X_train, y_train, batch_size=100, epochs=50, \r\n",
        "                    validation_data=(X_val, y_val), verbose=2,\r\n",
        "                    callbacks=[mc, es])"
      ],
      "execution_count": 108,
      "outputs": [
        {
          "output_type": "stream",
          "text": [
            "Epoch 1/50\n",
            "250/250 - 15s - loss: 0.4505 - accuracy: 0.7795 - val_loss: 0.3289 - val_accuracy: 0.8662\n",
            "\n",
            "Epoch 00001: val_loss improved from inf to 0.32890, saving model to model/imdb_lstm_500_best_model.h5\n",
            "Epoch 2/50\n",
            "250/250 - 13s - loss: 0.2883 - accuracy: 0.8854 - val_loss: 0.3502 - val_accuracy: 0.8594\n",
            "\n",
            "Epoch 00002: val_loss did not improve from 0.32890\n",
            "Epoch 3/50\n",
            "250/250 - 13s - loss: 0.2309 - accuracy: 0.9097 - val_loss: 0.3231 - val_accuracy: 0.8694\n",
            "\n",
            "Epoch 00003: val_loss improved from 0.32890 to 0.32307, saving model to model/imdb_lstm_500_best_model.h5\n",
            "Epoch 4/50\n",
            "250/250 - 13s - loss: 0.1918 - accuracy: 0.9273 - val_loss: 0.3385 - val_accuracy: 0.8673\n",
            "\n",
            "Epoch 00004: val_loss did not improve from 0.32307\n",
            "Epoch 5/50\n",
            "250/250 - 13s - loss: 0.1548 - accuracy: 0.9422 - val_loss: 0.3679 - val_accuracy: 0.8703\n",
            "\n",
            "Epoch 00005: val_loss did not improve from 0.32307\n",
            "Epoch 6/50\n",
            "250/250 - 14s - loss: 0.1348 - accuracy: 0.9500 - val_loss: 0.3875 - val_accuracy: 0.8685\n",
            "\n",
            "Epoch 00006: val_loss did not improve from 0.32307\n",
            "Epoch 7/50\n",
            "250/250 - 13s - loss: 0.1887 - accuracy: 0.9209 - val_loss: 0.4664 - val_accuracy: 0.7873\n",
            "\n",
            "Epoch 00007: val_loss did not improve from 0.32307\n",
            "Epoch 8/50\n",
            "250/250 - 13s - loss: 0.1683 - accuracy: 0.9368 - val_loss: 0.3995 - val_accuracy: 0.8552\n",
            "\n",
            "Epoch 00008: val_loss did not improve from 0.32307\n",
            "Epoch 9/50\n",
            "250/250 - 13s - loss: 0.1133 - accuracy: 0.9602 - val_loss: 0.4433 - val_accuracy: 0.8486\n",
            "\n",
            "Epoch 00009: val_loss did not improve from 0.32307\n",
            "Epoch 10/50\n",
            "250/250 - 13s - loss: 0.1054 - accuracy: 0.9622 - val_loss: 0.4897 - val_accuracy: 0.8682\n",
            "\n",
            "Epoch 00010: val_loss did not improve from 0.32307\n",
            "Epoch 11/50\n",
            "250/250 - 13s - loss: 0.0792 - accuracy: 0.9733 - val_loss: 0.5348 - val_accuracy: 0.8503\n",
            "\n",
            "Epoch 00011: val_loss did not improve from 0.32307\n",
            "Epoch 12/50\n",
            "250/250 - 13s - loss: 0.0504 - accuracy: 0.9839 - val_loss: 0.6277 - val_accuracy: 0.8598\n",
            "\n",
            "Epoch 00012: val_loss did not improve from 0.32307\n",
            "Epoch 13/50\n",
            "250/250 - 13s - loss: 0.0595 - accuracy: 0.9800 - val_loss: 0.6031 - val_accuracy: 0.8494\n",
            "\n",
            "Epoch 00013: val_loss did not improve from 0.32307\n",
            "Epoch 00013: early stopping\n"
          ],
          "name": "stdout"
        },
        {
          "output_type": "execute_result",
          "data": {
            "text/plain": [
              "<tensorflow.python.keras.callbacks.History at 0x7faf08b53e48>"
            ]
          },
          "metadata": {
            "tags": []
          },
          "execution_count": 108
        }
      ]
    },
    {
      "cell_type": "code",
      "metadata": {
        "colab": {
          "base_uri": "https://localhost:8080/"
        },
        "id": "wmAcmunob6e1",
        "outputId": "a69423ac-b9d8-478c-f163-2ca169a2f293"
      },
      "source": [
        "acc_imdb_lstm_500 = model.evaluate(X_test, y_test, verbose=2)[1]\r\n",
        "print(f'\\nLSTM 테스트 정확도: {acc_imdb_lstm_500:.4f}')"
      ],
      "execution_count": 109,
      "outputs": [
        {
          "output_type": "stream",
          "text": [
            "469/469 - 5s - loss: 0.6192 - accuracy: 0.8447\n",
            "\n",
            "LSTM 테스트 정확도: 0.8447\n"
          ],
          "name": "stdout"
        }
      ]
    },
    {
      "cell_type": "code",
      "metadata": {
        "id": "CUIqzdEob7zA"
      },
      "source": [
        "del model"
      ],
      "execution_count": 110,
      "outputs": []
    },
    {
      "cell_type": "code",
      "metadata": {
        "colab": {
          "base_uri": "https://localhost:8080/"
        },
        "id": "X5swlmnKcEle",
        "outputId": "ad66610b-3593-48e2-fe60-95b618701ff6"
      },
      "source": [
        "IMDB500_acc_list = [acc_imdb_srnn_500, acc_imdb_gru_500, acc_imdb_lstm_500]\r\n",
        "IMDB500_acc_list = np.round(IMDB500_acc_list, 4)\r\n",
        "IMDB500_acc_list"
      ],
      "execution_count": 111,
      "outputs": [
        {
          "output_type": "execute_result",
          "data": {
            "text/plain": [
              "array([0.7417, 0.8605, 0.8447])"
            ]
          },
          "metadata": {
            "tags": []
          },
          "execution_count": 111
        }
      ]
    },
    {
      "cell_type": "markdown",
      "metadata": {
        "id": "kB6XcFvIZuRi"
      },
      "source": [
        "#### 빈도수 10,000, 단어수 1,000 제한"
      ]
    },
    {
      "cell_type": "code",
      "metadata": {
        "id": "nIzGo-P5ZzaQ"
      },
      "source": [
        "# 등장 빈도가 5,000번째까지의 단어들만 사용\r\n",
        "(X_train, y_train), (X_test, y_test) = imdb.load_data(num_words=10000)"
      ],
      "execution_count": 112,
      "outputs": []
    },
    {
      "cell_type": "code",
      "metadata": {
        "id": "PPwQYUVuZ2or"
      },
      "source": [
        "# 모델의 입력으로 사용하는 모든 리뷰의 길이를 동일하게 1000으로 맞춤\r\n",
        "max_len = 1000\r\n",
        "X_train = pad_sequences(X_train, maxlen=max_len)\r\n",
        "X_test = pad_sequences(X_test, maxlen=max_len)"
      ],
      "execution_count": 113,
      "outputs": []
    },
    {
      "cell_type": "markdown",
      "metadata": {
        "id": "T8PrKzAsZ7MO"
      },
      "source": [
        "- Test data set을 검증셋과 테스트셋으로 분리"
      ]
    },
    {
      "cell_type": "code",
      "metadata": {
        "id": "wSIsNGisZ2m1"
      },
      "source": [
        "from sklearn.model_selection import train_test_split\r\n",
        "X_val, X_test, y_val, y_test = train_test_split(\r\n",
        "    X_test, y_test, stratify=y_test, test_size=.6, random_state=seed\r\n",
        ")"
      ],
      "execution_count": 114,
      "outputs": []
    },
    {
      "cell_type": "markdown",
      "metadata": {
        "id": "yyROQzZNcaZO"
      },
      "source": [
        "- SimpleRNN"
      ]
    },
    {
      "cell_type": "code",
      "metadata": {
        "id": "PlIIsJf9cfUr",
        "colab": {
          "base_uri": "https://localhost:8080/"
        },
        "outputId": "8fe3f7e3-c203-4bf5-f5d9-bcf4c15815a7"
      },
      "source": [
        "model = Sequential()\r\n",
        "model.add(Embedding(10000, 120))\r\n",
        "model.add(SimpleRNN(120))\r\n",
        "model.add(Dense(1, activation='sigmoid'))\r\n",
        "model.summary()"
      ],
      "execution_count": 115,
      "outputs": [
        {
          "output_type": "stream",
          "text": [
            "Model: \"sequential_12\"\n",
            "_________________________________________________________________\n",
            "Layer (type)                 Output Shape              Param #   \n",
            "=================================================================\n",
            "embedding_12 (Embedding)     (None, None, 120)         1200000   \n",
            "_________________________________________________________________\n",
            "simple_rnn_3 (SimpleRNN)     (None, 120)               28920     \n",
            "_________________________________________________________________\n",
            "dense_12 (Dense)             (None, 1)                 121       \n",
            "=================================================================\n",
            "Total params: 1,229,041\n",
            "Trainable params: 1,229,041\n",
            "Non-trainable params: 0\n",
            "_________________________________________________________________\n"
          ],
          "name": "stdout"
        }
      ]
    },
    {
      "cell_type": "code",
      "metadata": {
        "id": "NaMgt-Aa29ki"
      },
      "source": [
        "model.compile(loss='binary_crossentropy',\r\n",
        "              optimizer='adam', metrics=['accuracy'])"
      ],
      "execution_count": 118,
      "outputs": []
    },
    {
      "cell_type": "code",
      "metadata": {
        "id": "_lWVtOfCcfSy"
      },
      "source": [
        "es = EarlyStopping(monitor='val_loss', verbose=1, patience=10)\r\n",
        "mc = ModelCheckpoint('model/imdb_srnn_1000_best_model.h5', monitor='val_loss', \r\n",
        "                     verbose=1, save_best_only=True)"
      ],
      "execution_count": 119,
      "outputs": []
    },
    {
      "cell_type": "code",
      "metadata": {
        "id": "g7TlM6k8cfQk",
        "colab": {
          "base_uri": "https://localhost:8080/"
        },
        "outputId": "0c8ccc8d-9d83-43dc-d8d3-06b891d7ee78"
      },
      "source": [
        "model.fit(X_train, y_train, batch_size=100, epochs=50, \r\n",
        "                    validation_data=(X_val, y_val), verbose=2,\r\n",
        "                    callbacks=[mc, es])"
      ],
      "execution_count": 120,
      "outputs": [
        {
          "output_type": "stream",
          "text": [
            "Epoch 1/50\n",
            "250/250 - 133s - loss: 0.6561 - accuracy: 0.5921 - val_loss: 0.5521 - val_accuracy: 0.7113\n",
            "\n",
            "Epoch 00001: val_loss improved from inf to 0.55215, saving model to model/imdb_srnn_1000_best_model.h5\n",
            "Epoch 2/50\n",
            "250/250 - 131s - loss: 0.5125 - accuracy: 0.7513 - val_loss: 0.5282 - val_accuracy: 0.7402\n",
            "\n",
            "Epoch 00002: val_loss improved from 0.55215 to 0.52820, saving model to model/imdb_srnn_1000_best_model.h5\n",
            "Epoch 3/50\n",
            "250/250 - 132s - loss: 0.5143 - accuracy: 0.7445 - val_loss: 0.5908 - val_accuracy: 0.6768\n",
            "\n",
            "Epoch 00003: val_loss did not improve from 0.52820\n",
            "Epoch 4/50\n",
            "250/250 - 132s - loss: 0.4278 - accuracy: 0.8069 - val_loss: 0.5729 - val_accuracy: 0.7303\n",
            "\n",
            "Epoch 00004: val_loss did not improve from 0.52820\n",
            "Epoch 5/50\n",
            "250/250 - 131s - loss: 0.3565 - accuracy: 0.8508 - val_loss: 0.5703 - val_accuracy: 0.7421\n",
            "\n",
            "Epoch 00005: val_loss did not improve from 0.52820\n",
            "Epoch 6/50\n",
            "250/250 - 132s - loss: 0.2975 - accuracy: 0.8781 - val_loss: 0.5173 - val_accuracy: 0.7793\n",
            "\n",
            "Epoch 00006: val_loss improved from 0.52820 to 0.51734, saving model to model/imdb_srnn_1000_best_model.h5\n",
            "Epoch 7/50\n",
            "250/250 - 132s - loss: 0.3306 - accuracy: 0.8617 - val_loss: 0.5713 - val_accuracy: 0.7562\n",
            "\n",
            "Epoch 00007: val_loss did not improve from 0.51734\n",
            "Epoch 8/50\n",
            "250/250 - 131s - loss: 0.2804 - accuracy: 0.8867 - val_loss: 0.5666 - val_accuracy: 0.7820\n",
            "\n",
            "Epoch 00008: val_loss did not improve from 0.51734\n",
            "Epoch 9/50\n",
            "250/250 - 130s - loss: 0.2336 - accuracy: 0.9082 - val_loss: 1.0609 - val_accuracy: 0.5503\n",
            "\n",
            "Epoch 00009: val_loss did not improve from 0.51734\n",
            "Epoch 10/50\n",
            "250/250 - 131s - loss: 0.2527 - accuracy: 0.8991 - val_loss: 0.5988 - val_accuracy: 0.7804\n",
            "\n",
            "Epoch 00010: val_loss did not improve from 0.51734\n",
            "Epoch 11/50\n",
            "250/250 - 131s - loss: 0.3005 - accuracy: 0.8688 - val_loss: 0.7498 - val_accuracy: 0.6239\n",
            "\n",
            "Epoch 00011: val_loss did not improve from 0.51734\n",
            "Epoch 12/50\n",
            "250/250 - 131s - loss: 0.2874 - accuracy: 0.8769 - val_loss: 0.7314 - val_accuracy: 0.7449\n",
            "\n",
            "Epoch 00012: val_loss did not improve from 0.51734\n",
            "Epoch 13/50\n",
            "250/250 - 133s - loss: 0.2880 - accuracy: 0.8780 - val_loss: 0.6928 - val_accuracy: 0.7072\n",
            "\n",
            "Epoch 00013: val_loss did not improve from 0.51734\n",
            "Epoch 14/50\n",
            "250/250 - 131s - loss: 0.2966 - accuracy: 0.8712 - val_loss: 0.6274 - val_accuracy: 0.7321\n",
            "\n",
            "Epoch 00014: val_loss did not improve from 0.51734\n",
            "Epoch 15/50\n",
            "250/250 - 131s - loss: 0.2386 - accuracy: 0.9051 - val_loss: 0.7007 - val_accuracy: 0.7617\n",
            "\n",
            "Epoch 00015: val_loss did not improve from 0.51734\n",
            "Epoch 16/50\n",
            "250/250 - 130s - loss: 0.3506 - accuracy: 0.8449 - val_loss: 0.7747 - val_accuracy: 0.6091\n",
            "\n",
            "Epoch 00016: val_loss did not improve from 0.51734\n",
            "Epoch 00016: early stopping\n"
          ],
          "name": "stdout"
        },
        {
          "output_type": "execute_result",
          "data": {
            "text/plain": [
              "<tensorflow.python.keras.callbacks.History at 0x7faf08b53828>"
            ]
          },
          "metadata": {
            "tags": []
          },
          "execution_count": 120
        }
      ]
    },
    {
      "cell_type": "code",
      "metadata": {
        "id": "_eZW_n2jcfOq",
        "colab": {
          "base_uri": "https://localhost:8080/"
        },
        "outputId": "7a5de37d-63f7-4f27-ce41-d532f876a75d"
      },
      "source": [
        "acc_imdb_srnn_1000 = model.evaluate(X_test, y_test, verbose=2)[1]\r\n",
        "print(f'\\nSimpleRNN 테스트 정확도: {acc_imdb_srnn_1000:.4f}')"
      ],
      "execution_count": 122,
      "outputs": [
        {
          "output_type": "stream",
          "text": [
            "469/469 - 25s - loss: 0.7800 - accuracy: 0.6089\n",
            "\n",
            "SimpleRNN 테스트 정확도: 0.6089\n"
          ],
          "name": "stdout"
        }
      ]
    },
    {
      "cell_type": "code",
      "metadata": {
        "id": "tDWCoRiMcfMk"
      },
      "source": [
        "del model"
      ],
      "execution_count": 123,
      "outputs": []
    },
    {
      "cell_type": "markdown",
      "metadata": {
        "id": "Nl4n-roscaUK"
      },
      "source": [
        "- GRU"
      ]
    },
    {
      "cell_type": "code",
      "metadata": {
        "id": "nhs7qYEYcgJl",
        "colab": {
          "base_uri": "https://localhost:8080/"
        },
        "outputId": "46f53a84-529c-428c-f5b2-1ba042d4a8aa"
      },
      "source": [
        "model = Sequential()\r\n",
        "model.add(Embedding(10000, 120))\r\n",
        "model.add(GRU(120))\r\n",
        "model.add(Dense(1, activation='sigmoid'))\r\n",
        "model.summary()"
      ],
      "execution_count": 124,
      "outputs": [
        {
          "output_type": "stream",
          "text": [
            "Model: \"sequential_13\"\n",
            "_________________________________________________________________\n",
            "Layer (type)                 Output Shape              Param #   \n",
            "=================================================================\n",
            "embedding_13 (Embedding)     (None, None, 120)         1200000   \n",
            "_________________________________________________________________\n",
            "gru_4 (GRU)                  (None, 120)               87120     \n",
            "_________________________________________________________________\n",
            "dense_13 (Dense)             (None, 1)                 121       \n",
            "=================================================================\n",
            "Total params: 1,287,241\n",
            "Trainable params: 1,287,241\n",
            "Non-trainable params: 0\n",
            "_________________________________________________________________\n"
          ],
          "name": "stdout"
        }
      ]
    },
    {
      "cell_type": "code",
      "metadata": {
        "id": "Ul0UVanicgHv"
      },
      "source": [
        "model.compile(loss='binary_crossentropy',\r\n",
        "              optimizer='adam', metrics=['accuracy'])"
      ],
      "execution_count": 125,
      "outputs": []
    },
    {
      "cell_type": "code",
      "metadata": {
        "id": "uOB2BevZcgF5"
      },
      "source": [
        "es = EarlyStopping(monitor='val_loss', verbose=1, patience=10)\r\n",
        "mc = ModelCheckpoint('model/imdb_gru_1000_best_model.h5', monitor='val_loss', \r\n",
        "                     verbose=1, save_best_only=True)"
      ],
      "execution_count": 126,
      "outputs": []
    },
    {
      "cell_type": "code",
      "metadata": {
        "id": "ISRX8NY2cgDl",
        "colab": {
          "base_uri": "https://localhost:8080/"
        },
        "outputId": "95abc0c6-5279-477b-81fc-f18155fe99bd"
      },
      "source": [
        "model.fit(X_train, y_train, batch_size=100, epochs=50, \r\n",
        "                    validation_data=(X_val, y_val), verbose=2,\r\n",
        "                    callbacks=[mc, es])"
      ],
      "execution_count": 127,
      "outputs": [
        {
          "output_type": "stream",
          "text": [
            "Epoch 1/50\n",
            "250/250 - 26s - loss: 0.4559 - accuracy: 0.7673 - val_loss: 0.3153 - val_accuracy: 0.8700\n",
            "\n",
            "Epoch 00001: val_loss improved from inf to 0.31530, saving model to model/imdb_gru_1000_best_model.h5\n",
            "Epoch 2/50\n",
            "250/250 - 25s - loss: 0.2523 - accuracy: 0.9006 - val_loss: 0.3166 - val_accuracy: 0.8655\n",
            "\n",
            "Epoch 00002: val_loss did not improve from 0.31530\n",
            "Epoch 3/50\n",
            "250/250 - 25s - loss: 0.1915 - accuracy: 0.9269 - val_loss: 0.3283 - val_accuracy: 0.8668\n",
            "\n",
            "Epoch 00003: val_loss did not improve from 0.31530\n",
            "Epoch 4/50\n",
            "250/250 - 25s - loss: 0.1264 - accuracy: 0.9539 - val_loss: 0.3490 - val_accuracy: 0.8673\n",
            "\n",
            "Epoch 00004: val_loss did not improve from 0.31530\n",
            "Epoch 5/50\n",
            "250/250 - 25s - loss: 0.0841 - accuracy: 0.9718 - val_loss: 0.4005 - val_accuracy: 0.8649\n",
            "\n",
            "Epoch 00005: val_loss did not improve from 0.31530\n",
            "Epoch 6/50\n",
            "250/250 - 25s - loss: 0.0593 - accuracy: 0.9806 - val_loss: 0.4524 - val_accuracy: 0.8523\n",
            "\n",
            "Epoch 00006: val_loss did not improve from 0.31530\n",
            "Epoch 7/50\n",
            "250/250 - 25s - loss: 0.0430 - accuracy: 0.9860 - val_loss: 0.4834 - val_accuracy: 0.8741\n",
            "\n",
            "Epoch 00007: val_loss did not improve from 0.31530\n",
            "Epoch 8/50\n",
            "250/250 - 25s - loss: 0.0293 - accuracy: 0.9912 - val_loss: 0.5230 - val_accuracy: 0.8635\n",
            "\n",
            "Epoch 00008: val_loss did not improve from 0.31530\n",
            "Epoch 9/50\n",
            "250/250 - 25s - loss: 0.0225 - accuracy: 0.9936 - val_loss: 0.6242 - val_accuracy: 0.8716\n",
            "\n",
            "Epoch 00009: val_loss did not improve from 0.31530\n",
            "Epoch 10/50\n",
            "250/250 - 25s - loss: 0.0151 - accuracy: 0.9958 - val_loss: 0.6448 - val_accuracy: 0.8697\n",
            "\n",
            "Epoch 00010: val_loss did not improve from 0.31530\n",
            "Epoch 11/50\n",
            "250/250 - 25s - loss: 0.0160 - accuracy: 0.9950 - val_loss: 0.7128 - val_accuracy: 0.8696\n",
            "\n",
            "Epoch 00011: val_loss did not improve from 0.31530\n",
            "Epoch 00011: early stopping\n"
          ],
          "name": "stdout"
        },
        {
          "output_type": "execute_result",
          "data": {
            "text/plain": [
              "<tensorflow.python.keras.callbacks.History at 0x7faeb0d588d0>"
            ]
          },
          "metadata": {
            "tags": []
          },
          "execution_count": 127
        }
      ]
    },
    {
      "cell_type": "code",
      "metadata": {
        "id": "Iaz_dpIdcgBt",
        "colab": {
          "base_uri": "https://localhost:8080/"
        },
        "outputId": "3ee6080f-db98-40e5-e134-56592cf3449f"
      },
      "source": [
        "acc_imdb_gru_1000 = model.evaluate(X_test, y_test, verbose=2)[1]\r\n",
        "print(f'\\nGRU 테스트 정확도: {acc_imdb_gru_1000:.4f}')"
      ],
      "execution_count": 129,
      "outputs": [
        {
          "output_type": "stream",
          "text": [
            "469/469 - 9s - loss: 0.7521 - accuracy: 0.8626\n",
            "\n",
            "GRU 테스트 정확도: 0.8626\n"
          ],
          "name": "stdout"
        }
      ]
    },
    {
      "cell_type": "code",
      "metadata": {
        "id": "5DDnlKLNcf_P"
      },
      "source": [
        "del model"
      ],
      "execution_count": 130,
      "outputs": []
    },
    {
      "cell_type": "markdown",
      "metadata": {
        "id": "go7gqZv1caPh"
      },
      "source": [
        "- LSTM"
      ]
    },
    {
      "cell_type": "code",
      "metadata": {
        "id": "4r9BdvQ8Z2k7",
        "colab": {
          "base_uri": "https://localhost:8080/"
        },
        "outputId": "bfab47ee-7ca7-48c3-fbfc-042f5b58f45b"
      },
      "source": [
        "model = Sequential()\r\n",
        "model.add(Embedding(10000, 120))\r\n",
        "model.add(LSTM(120))\r\n",
        "model.add(Dense(1, activation='sigmoid'))\r\n",
        "model.summary()"
      ],
      "execution_count": 131,
      "outputs": [
        {
          "output_type": "stream",
          "text": [
            "Model: \"sequential_14\"\n",
            "_________________________________________________________________\n",
            "Layer (type)                 Output Shape              Param #   \n",
            "=================================================================\n",
            "embedding_14 (Embedding)     (None, None, 120)         1200000   \n",
            "_________________________________________________________________\n",
            "lstm_5 (LSTM)                (None, 120)               115680    \n",
            "_________________________________________________________________\n",
            "dense_14 (Dense)             (None, 1)                 121       \n",
            "=================================================================\n",
            "Total params: 1,315,801\n",
            "Trainable params: 1,315,801\n",
            "Non-trainable params: 0\n",
            "_________________________________________________________________\n"
          ],
          "name": "stdout"
        }
      ]
    },
    {
      "cell_type": "code",
      "metadata": {
        "id": "ZB4QN0B5Z2i-"
      },
      "source": [
        "model.compile(loss='binary_crossentropy',\r\n",
        "              optimizer='adam', metrics=['accuracy'])"
      ],
      "execution_count": 132,
      "outputs": []
    },
    {
      "cell_type": "code",
      "metadata": {
        "id": "BbKvvlRRZ2g7"
      },
      "source": [
        "es = EarlyStopping(monitor='val_loss', verbose=1, patience=10)\r\n",
        "mc = ModelCheckpoint('model/imdb_lstm_1000_best_model.h5', monitor='val_loss', \r\n",
        "                     verbose=1, save_best_only=True)"
      ],
      "execution_count": 133,
      "outputs": []
    },
    {
      "cell_type": "code",
      "metadata": {
        "id": "gIJRxQamZ2ep",
        "colab": {
          "base_uri": "https://localhost:8080/"
        },
        "outputId": "57edc140-376c-400d-f9a1-20abebbc0c2e"
      },
      "source": [
        "model.fit(X_train, y_train, batch_size=100, epochs=50, \r\n",
        "                    validation_data=(X_val, y_val), verbose=2,\r\n",
        "                    callbacks=[mc, es])"
      ],
      "execution_count": 134,
      "outputs": [
        {
          "output_type": "stream",
          "text": [
            "Epoch 1/50\n",
            "250/250 - 28s - loss: 0.4901 - accuracy: 0.7580 - val_loss: 0.3520 - val_accuracy: 0.8561\n",
            "\n",
            "Epoch 00001: val_loss improved from inf to 0.35200, saving model to model/imdb_lstm_1000_best_model.h5\n",
            "Epoch 2/50\n",
            "250/250 - 27s - loss: 0.2711 - accuracy: 0.8936 - val_loss: 0.3407 - val_accuracy: 0.8585\n",
            "\n",
            "Epoch 00002: val_loss improved from 0.35200 to 0.34071, saving model to model/imdb_lstm_1000_best_model.h5\n",
            "Epoch 3/50\n",
            "250/250 - 27s - loss: 0.2043 - accuracy: 0.9232 - val_loss: 0.3158 - val_accuracy: 0.8732\n",
            "\n",
            "Epoch 00003: val_loss improved from 0.34071 to 0.31579, saving model to model/imdb_lstm_1000_best_model.h5\n",
            "Epoch 4/50\n",
            "250/250 - 27s - loss: 0.1523 - accuracy: 0.9438 - val_loss: 0.3803 - val_accuracy: 0.8720\n",
            "\n",
            "Epoch 00004: val_loss did not improve from 0.31579\n",
            "Epoch 5/50\n",
            "250/250 - 27s - loss: 0.1108 - accuracy: 0.9630 - val_loss: 0.3781 - val_accuracy: 0.8616\n",
            "\n",
            "Epoch 00005: val_loss did not improve from 0.31579\n",
            "Epoch 6/50\n",
            "250/250 - 27s - loss: 0.0847 - accuracy: 0.9719 - val_loss: 0.4285 - val_accuracy: 0.8599\n",
            "\n",
            "Epoch 00006: val_loss did not improve from 0.31579\n",
            "Epoch 7/50\n",
            "250/250 - 27s - loss: 0.0835 - accuracy: 0.9717 - val_loss: 0.5073 - val_accuracy: 0.8617\n",
            "\n",
            "Epoch 00007: val_loss did not improve from 0.31579\n",
            "Epoch 8/50\n",
            "250/250 - 27s - loss: 0.0632 - accuracy: 0.9794 - val_loss: 0.5394 - val_accuracy: 0.8357\n",
            "\n",
            "Epoch 00008: val_loss did not improve from 0.31579\n",
            "Epoch 9/50\n",
            "250/250 - 27s - loss: 0.0541 - accuracy: 0.9819 - val_loss: 0.5023 - val_accuracy: 0.8586\n",
            "\n",
            "Epoch 00009: val_loss did not improve from 0.31579\n",
            "Epoch 10/50\n",
            "250/250 - 27s - loss: 0.0381 - accuracy: 0.9882 - val_loss: 0.6543 - val_accuracy: 0.8497\n",
            "\n",
            "Epoch 00010: val_loss did not improve from 0.31579\n",
            "Epoch 11/50\n",
            "250/250 - 27s - loss: 0.0379 - accuracy: 0.9886 - val_loss: 0.6915 - val_accuracy: 0.8530\n",
            "\n",
            "Epoch 00011: val_loss did not improve from 0.31579\n",
            "Epoch 12/50\n",
            "250/250 - 27s - loss: 0.0324 - accuracy: 0.9898 - val_loss: 0.7088 - val_accuracy: 0.8490\n",
            "\n",
            "Epoch 00012: val_loss did not improve from 0.31579\n",
            "Epoch 13/50\n",
            "250/250 - 27s - loss: 0.0406 - accuracy: 0.9880 - val_loss: 0.5549 - val_accuracy: 0.8490\n",
            "\n",
            "Epoch 00013: val_loss did not improve from 0.31579\n",
            "Epoch 00013: early stopping\n"
          ],
          "name": "stdout"
        },
        {
          "output_type": "execute_result",
          "data": {
            "text/plain": [
              "<tensorflow.python.keras.callbacks.History at 0x7faeb00a85f8>"
            ]
          },
          "metadata": {
            "tags": []
          },
          "execution_count": 134
        }
      ]
    },
    {
      "cell_type": "code",
      "metadata": {
        "id": "R7HNvsGndHwc",
        "colab": {
          "base_uri": "https://localhost:8080/"
        },
        "outputId": "e8c7a921-3d6c-48b7-b37a-5a5c37da2fdc"
      },
      "source": [
        "acc_imdb_lstm_1000 = model.evaluate(X_test, y_test, verbose=2)[1]\r\n",
        "print(f'\\nLSTM 테스트 정확도: {acc_imdb_lstm_1000:.4f}')"
      ],
      "execution_count": 135,
      "outputs": [
        {
          "output_type": "stream",
          "text": [
            "469/469 - 10s - loss: 0.6055 - accuracy: 0.8404\n",
            "\n",
            "LSTM 테스트 정확도: 0.8404\n"
          ],
          "name": "stdout"
        }
      ]
    },
    {
      "cell_type": "code",
      "metadata": {
        "id": "M3WIAPyjdHuC"
      },
      "source": [
        "del model"
      ],
      "execution_count": 136,
      "outputs": []
    },
    {
      "cell_type": "code",
      "metadata": {
        "id": "1hHtEciydHqk",
        "colab": {
          "base_uri": "https://localhost:8080/"
        },
        "outputId": "5e4f605c-6d33-4c99-a294-64a59826c405"
      },
      "source": [
        "IMDB1000_acc_list = [acc_imdb_srnn_1000, acc_imdb_gru_1000, acc_imdb_lstm_1000]\r\n",
        "IMDB1000_acc_list = np.round(IMDB1000_acc_list, 4)\r\n",
        "IMDB1000_acc_list"
      ],
      "execution_count": 137,
      "outputs": [
        {
          "output_type": "execute_result",
          "data": {
            "text/plain": [
              "array([0.6089, 0.8626, 0.8404])"
            ]
          },
          "metadata": {
            "tags": []
          },
          "execution_count": 137
        }
      ]
    },
    {
      "cell_type": "markdown",
      "metadata": {
        "id": "kiaM9UmUeFBb"
      },
      "source": [
        "## 데이터프레임으로 종합하기"
      ]
    },
    {
      "cell_type": "code",
      "metadata": {
        "colab": {
          "base_uri": "https://localhost:8080/"
        },
        "id": "cZ7f6qJtF7AS",
        "outputId": "43e4c97b-510d-4055-9f13-c870db057f4d"
      },
      "source": [
        "print(f'''SMS Spam Acc: {SMS_acc_list}\r\n",
        "Reuter News 100 Acc: {Reuter100_acc_list}\r\n",
        "Reuter News 500 Acc: {Reuter500_acc_list}\r\n",
        "IMDB Review 500 Acc: {IMDB500_acc_list}\r\n",
        "IMDB Review 1000 Acc: {IMDB1000_acc_list}''')"
      ],
      "execution_count": 140,
      "outputs": [
        {
          "output_type": "stream",
          "text": [
            "SMS Spam Acc: [0.9836 0.9836 0.9865]\n",
            "Reuter News 100 Acc: [0.4973 0.683  0.7012]\n",
            "Reuter News 500 Acc: [0.6701 0.6941 0.6732]\n",
            "IMDB Review 500 Acc: [0.7417 0.8605 0.8447]\n",
            "IMDB Review 1000 Acc: [0.6089 0.8626 0.8404]\n"
          ],
          "name": "stdout"
        }
      ]
    },
    {
      "cell_type": "code",
      "metadata": {
        "colab": {
          "base_uri": "https://localhost:8080/",
          "height": 204
        },
        "id": "jhEZsT2meN9D",
        "outputId": "f6e360bf-ddff-4097-e810-59d2d9a639f3"
      },
      "source": [
        "col = ['SimpleRNN', 'GRU', 'LSTM']\r\n",
        "index_zipped = [('SMS Spam', 'Default'),\r\n",
        "                ('Reuter News', '단어수 100 제한'), ('Reuter News', '단어수 500 제한'), \r\n",
        "                ('IMDB Review', '단어수 500 제한'), ('IMDB Review', '단어수 1000 제한')]\r\n",
        "\r\n",
        "index = pd.MultiIndex.from_tuples(index_zipped)\r\n",
        "df = pd.DataFrame(data = np.random.randn(5,3), index = index, columns = col)\r\n",
        "df"
      ],
      "execution_count": 148,
      "outputs": [
        {
          "output_type": "execute_result",
          "data": {
            "text/html": [
              "<div>\n",
              "<style scoped>\n",
              "    .dataframe tbody tr th:only-of-type {\n",
              "        vertical-align: middle;\n",
              "    }\n",
              "\n",
              "    .dataframe tbody tr th {\n",
              "        vertical-align: top;\n",
              "    }\n",
              "\n",
              "    .dataframe thead th {\n",
              "        text-align: right;\n",
              "    }\n",
              "</style>\n",
              "<table border=\"1\" class=\"dataframe\">\n",
              "  <thead>\n",
              "    <tr style=\"text-align: right;\">\n",
              "      <th></th>\n",
              "      <th></th>\n",
              "      <th>SimpleRNN</th>\n",
              "      <th>GRU</th>\n",
              "      <th>LSTM</th>\n",
              "    </tr>\n",
              "  </thead>\n",
              "  <tbody>\n",
              "    <tr>\n",
              "      <th>SMS Spam</th>\n",
              "      <th>Default</th>\n",
              "      <td>-1.284497</td>\n",
              "      <td>-0.347309</td>\n",
              "      <td>-1.077761</td>\n",
              "    </tr>\n",
              "    <tr>\n",
              "      <th rowspan=\"2\" valign=\"top\">Reuter News</th>\n",
              "      <th>단어수 100 제한</th>\n",
              "      <td>0.972575</td>\n",
              "      <td>0.412191</td>\n",
              "      <td>-0.132086</td>\n",
              "    </tr>\n",
              "    <tr>\n",
              "      <th>단어수 500 제한</th>\n",
              "      <td>-0.673351</td>\n",
              "      <td>1.222222</td>\n",
              "      <td>-0.926413</td>\n",
              "    </tr>\n",
              "    <tr>\n",
              "      <th rowspan=\"2\" valign=\"top\">IMDB Review</th>\n",
              "      <th>단어수 500 제한</th>\n",
              "      <td>1.424994</td>\n",
              "      <td>-0.124790</td>\n",
              "      <td>0.705492</td>\n",
              "    </tr>\n",
              "    <tr>\n",
              "      <th>단어수 1000 제한</th>\n",
              "      <td>0.719548</td>\n",
              "      <td>0.141464</td>\n",
              "      <td>-0.654448</td>\n",
              "    </tr>\n",
              "  </tbody>\n",
              "</table>\n",
              "</div>"
            ],
            "text/plain": [
              "                         SimpleRNN       GRU      LSTM\n",
              "SMS Spam    Default      -1.284497 -0.347309 -1.077761\n",
              "Reuter News 단어수 100 제한    0.972575  0.412191 -0.132086\n",
              "            단어수 500 제한   -0.673351  1.222222 -0.926413\n",
              "IMDB Review 단어수 500 제한    1.424994 -0.124790  0.705492\n",
              "            단어수 1000 제한   0.719548  0.141464 -0.654448"
            ]
          },
          "metadata": {
            "tags": []
          },
          "execution_count": 148
        }
      ]
    },
    {
      "cell_type": "code",
      "metadata": {
        "id": "loJ3GNuOlOq5",
        "colab": {
          "base_uri": "https://localhost:8080/",
          "height": 204
        },
        "outputId": "4ba7f40b-6e95-4b85-bf49-31432214d5fd"
      },
      "source": [
        "result_list = [\r\n",
        "    SMS_acc_list, \r\n",
        "    Reuter100_acc_list, Reuter500_acc_list,\r\n",
        "    IMDB500_acc_list, IMDB1000_acc_list\r\n",
        "]\r\n",
        "\r\n",
        "for i in range(len(df.index)):\r\n",
        "    df.iloc[i, :] = result_list[i]\r\n",
        "\r\n",
        "df"
      ],
      "execution_count": 149,
      "outputs": [
        {
          "output_type": "execute_result",
          "data": {
            "text/html": [
              "<div>\n",
              "<style scoped>\n",
              "    .dataframe tbody tr th:only-of-type {\n",
              "        vertical-align: middle;\n",
              "    }\n",
              "\n",
              "    .dataframe tbody tr th {\n",
              "        vertical-align: top;\n",
              "    }\n",
              "\n",
              "    .dataframe thead th {\n",
              "        text-align: right;\n",
              "    }\n",
              "</style>\n",
              "<table border=\"1\" class=\"dataframe\">\n",
              "  <thead>\n",
              "    <tr style=\"text-align: right;\">\n",
              "      <th></th>\n",
              "      <th></th>\n",
              "      <th>SimpleRNN</th>\n",
              "      <th>GRU</th>\n",
              "      <th>LSTM</th>\n",
              "    </tr>\n",
              "  </thead>\n",
              "  <tbody>\n",
              "    <tr>\n",
              "      <th>SMS Spam</th>\n",
              "      <th>Default</th>\n",
              "      <td>0.9836</td>\n",
              "      <td>0.9836</td>\n",
              "      <td>0.9865</td>\n",
              "    </tr>\n",
              "    <tr>\n",
              "      <th rowspan=\"2\" valign=\"top\">Reuter News</th>\n",
              "      <th>단어수 100 제한</th>\n",
              "      <td>0.4973</td>\n",
              "      <td>0.6830</td>\n",
              "      <td>0.7012</td>\n",
              "    </tr>\n",
              "    <tr>\n",
              "      <th>단어수 500 제한</th>\n",
              "      <td>0.6701</td>\n",
              "      <td>0.6941</td>\n",
              "      <td>0.6732</td>\n",
              "    </tr>\n",
              "    <tr>\n",
              "      <th rowspan=\"2\" valign=\"top\">IMDB Review</th>\n",
              "      <th>단어수 500 제한</th>\n",
              "      <td>0.7417</td>\n",
              "      <td>0.8605</td>\n",
              "      <td>0.8447</td>\n",
              "    </tr>\n",
              "    <tr>\n",
              "      <th>단어수 1000 제한</th>\n",
              "      <td>0.6089</td>\n",
              "      <td>0.8626</td>\n",
              "      <td>0.8404</td>\n",
              "    </tr>\n",
              "  </tbody>\n",
              "</table>\n",
              "</div>"
            ],
            "text/plain": [
              "                         SimpleRNN     GRU    LSTM\n",
              "SMS Spam    Default         0.9836  0.9836  0.9865\n",
              "Reuter News 단어수 100 제한      0.4973  0.6830  0.7012\n",
              "            단어수 500 제한      0.6701  0.6941  0.6732\n",
              "IMDB Review 단어수 500 제한      0.7417  0.8605  0.8447\n",
              "            단어수 1000 제한     0.6089  0.8626  0.8404"
            ]
          },
          "metadata": {
            "tags": []
          },
          "execution_count": 149
        }
      ]
    },
    {
      "cell_type": "code",
      "metadata": {
        "id": "o-An3cZnM6sB"
      },
      "source": [
        ""
      ],
      "execution_count": null,
      "outputs": []
    }
  ]
}