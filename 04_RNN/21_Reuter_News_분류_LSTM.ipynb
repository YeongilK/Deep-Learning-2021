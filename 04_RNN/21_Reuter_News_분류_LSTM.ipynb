{
  "nbformat": 4,
  "nbformat_minor": 0,
  "metadata": {
    "colab": {
      "name": "21_Reuter_News_분류-LSTM.ipynb",
      "provenance": [],
      "collapsed_sections": []
    },
    "kernelspec": {
      "name": "python3",
      "display_name": "Python 3"
    },
    "accelerator": "GPU"
  },
  "cells": [
    {
      "cell_type": "markdown",
      "metadata": {
        "id": "2jOo5s66JmUp"
      },
      "source": [
        "# LSTM을 이용한 로이터 뉴스 카테고리 분류"
      ]
    },
    {
      "cell_type": "code",
      "metadata": {
        "id": "Th2hlzJdJa0e"
      },
      "source": [
        "import numpy as np\r\n",
        "import tensorflow as tf\r\n",
        "from tensorflow.keras.preprocessing.text import Tokenizer\r\n",
        "from tensorflow.keras.preprocessing.sequence import pad_sequences"
      ],
      "execution_count": 1,
      "outputs": []
    },
    {
      "cell_type": "code",
      "metadata": {
        "id": "xhOLsp7NJpHa"
      },
      "source": [
        "seed = 2021\r\n",
        "np.random.seed(seed)\r\n",
        "tf.random.set_seed(seed)"
      ],
      "execution_count": 2,
      "outputs": []
    },
    {
      "cell_type": "code",
      "metadata": {
        "id": "oxp3g0T7KFqQ"
      },
      "source": [
        "import matplotlib.pyplot as plt\r\n",
        "%matplotlib inline\r\n",
        "import seaborn as sns"
      ],
      "execution_count": 3,
      "outputs": []
    },
    {
      "cell_type": "code",
      "metadata": {
        "colab": {
          "base_uri": "https://localhost:8080/"
        },
        "id": "aNqzM18eKHoQ",
        "outputId": "c0e0e4a3-8b74-4cec-b304-f8a14a746cb5"
      },
      "source": [
        "from tensorflow.keras.datasets import reuters\r\n",
        "(X_train, y_train), (X_test, y_test) = reuters.load_data(\r\n",
        "    num_words=None, test_split=0.2\r\n",
        ")"
      ],
      "execution_count": 4,
      "outputs": [
        {
          "output_type": "stream",
          "text": [
            "Downloading data from https://storage.googleapis.com/tensorflow/tf-keras-datasets/reuters.npz\n",
            "2113536/2110848 [==============================] - 0s 0us/step\n"
          ],
          "name": "stdout"
        },
        {
          "output_type": "stream",
          "text": [
            "/usr/local/lib/python3.6/dist-packages/tensorflow/python/keras/datasets/reuters.py:148: VisibleDeprecationWarning: Creating an ndarray from ragged nested sequences (which is a list-or-tuple of lists-or-tuples-or ndarrays with different lengths or shapes) is deprecated. If you meant to do this, you must specify 'dtype=object' when creating the ndarray\n",
            "  x_train, y_train = np.array(xs[:idx]), np.array(labels[:idx])\n",
            "/usr/local/lib/python3.6/dist-packages/tensorflow/python/keras/datasets/reuters.py:149: VisibleDeprecationWarning: Creating an ndarray from ragged nested sequences (which is a list-or-tuple of lists-or-tuples-or ndarrays with different lengths or shapes) is deprecated. If you meant to do this, you must specify 'dtype=object' when creating the ndarray\n",
            "  x_test, y_test = np.array(xs[idx:]), np.array(labels[idx:])\n"
          ],
          "name": "stderr"
        }
      ]
    },
    {
      "cell_type": "code",
      "metadata": {
        "colab": {
          "base_uri": "https://localhost:8080/"
        },
        "id": "SCDCKbY_KbFp",
        "outputId": "3493d1ec-2979-40ea-d356-e52b8fdde357"
      },
      "source": [
        "# 데이터 확인하기\r\n",
        "category = np.max(y_train) + 1\r\n",
        "print(category, '카테고리')\r\n",
        "print(len(X_train), '학습용 뉴스 기사')\r\n",
        "print(len(X_test), '테스트용 뉴스 기사')"
      ],
      "execution_count": 5,
      "outputs": [
        {
          "output_type": "stream",
          "text": [
            "46 카테고리\n",
            "8982 학습용 뉴스 기사\n",
            "2246 테스트용 뉴스 기사\n"
          ],
          "name": "stdout"
        }
      ]
    },
    {
      "cell_type": "code",
      "metadata": {
        "colab": {
          "base_uri": "https://localhost:8080/"
        },
        "id": "vsGPX54cK5yZ",
        "outputId": "d8f82f34-134e-4d3a-d248-bb3131c0a0ce"
      },
      "source": [
        "# 첫번쨰 뉴스 기사 확인\r\n",
        "print(X_train[0])\r\n",
        "print(y_train[0])"
      ],
      "execution_count": 6,
      "outputs": [
        {
          "output_type": "stream",
          "text": [
            "[1, 27595, 28842, 8, 43, 10, 447, 5, 25, 207, 270, 5, 3095, 111, 16, 369, 186, 90, 67, 7, 89, 5, 19, 102, 6, 19, 124, 15, 90, 67, 84, 22, 482, 26, 7, 48, 4, 49, 8, 864, 39, 209, 154, 6, 151, 6, 83, 11, 15, 22, 155, 11, 15, 7, 48, 9, 4579, 1005, 504, 6, 258, 6, 272, 11, 15, 22, 134, 44, 11, 15, 16, 8, 197, 1245, 90, 67, 52, 29, 209, 30, 32, 132, 6, 109, 15, 17, 12]\n",
            "3\n"
          ],
          "name": "stdout"
        }
      ]
    },
    {
      "cell_type": "code",
      "metadata": {
        "colab": {
          "base_uri": "https://localhost:8080/"
        },
        "id": "cYCal8o_LZmp",
        "outputId": "9e10ae49-48a7-4f28-beba-3f6ba0c9e00f"
      },
      "source": [
        "index_dict = {}\r\n",
        "for key, value in reuters.get_word_index().items():\r\n",
        "    index_dict[value] = key\r\n",
        "len(index_dict)"
      ],
      "execution_count": 7,
      "outputs": [
        {
          "output_type": "stream",
          "text": [
            "Downloading data from https://storage.googleapis.com/tensorflow/tf-keras-datasets/reuters_word_index.json\n",
            "557056/550378 [==============================] - 0s 0us/step\n"
          ],
          "name": "stdout"
        },
        {
          "output_type": "execute_result",
          "data": {
            "text/plain": [
              "30979"
            ]
          },
          "metadata": {
            "tags": []
          },
          "execution_count": 7
        }
      ]
    },
    {
      "cell_type": "code",
      "metadata": {
        "colab": {
          "base_uri": "https://localhost:8080/",
          "height": 89
        },
        "id": "uTk4ml1lMdS7",
        "outputId": "16fa14f9-e36b-4718-a0f0-03411d27035b"
      },
      "source": [
        "' '.join(index_dict[s] for s in X_train[0])"
      ],
      "execution_count": 8,
      "outputs": [
        {
          "output_type": "execute_result",
          "data": {
            "application/vnd.google.colaboratory.intrinsic+json": {
              "type": "string"
            },
            "text/plain": [
              "'the wattie nondiscriminatory mln loss for plc said at only ended said commonwealth could 1 traders now april 0 a after said from 1985 and from foreign 000 april 0 prices its account year a but in this mln home an states earlier and rise and revs vs 000 its 16 vs 000 a but 3 psbr oils several and shareholders and dividend vs 000 its all 4 vs 000 1 mln agreed largely april 0 are 2 states will billion total and against 000 pct dlrs'"
            ]
          },
          "metadata": {
            "tags": []
          },
          "execution_count": 8
        }
      ]
    },
    {
      "cell_type": "code",
      "metadata": {
        "colab": {
          "base_uri": "https://localhost:8080/"
        },
        "id": "y-JQm_noMdQ7",
        "outputId": "67b5c37f-e519-43d6-c876-535a03dde88e"
      },
      "source": [
        "# 뉴스 기사의 길이\r\n",
        "print('뉴스 기사의 최대 길이 :', max(len(l) for l in X_train))\r\n",
        "print('뉴스 기사의 평균 길이 :', sum(map(len, X_train))/len(X_train))"
      ],
      "execution_count": 9,
      "outputs": [
        {
          "output_type": "stream",
          "text": [
            "뉴스 기사의 최대 길이 : 2376\n",
            "뉴스 기사의 평균 길이 : 145.5398574927633\n"
          ],
          "name": "stdout"
        }
      ]
    },
    {
      "cell_type": "code",
      "metadata": {
        "colab": {
          "base_uri": "https://localhost:8080/",
          "height": 279
        },
        "id": "hOh5YSZrMdPC",
        "outputId": "578a487f-4a87-4b81-d9ae-7594256b09e8"
      },
      "source": [
        "plt.hist([len(s) for s in X_train], bins=50)\r\n",
        "plt.xlabel('length of samples')\r\n",
        "plt.ylabel('number of samples')\r\n",
        "plt.show()"
      ],
      "execution_count": 10,
      "outputs": [
        {
          "output_type": "display_data",
          "data": {
            "image/png": "[encoded data removed]",
            "text/plain": [
              "<Figure size 432x288 with 1 Axes>"
            ]
          },
          "metadata": {
            "tags": [],
            "needs_background": "light"
          }
        }
      ]
    },
    {
      "cell_type": "code",
      "metadata": {
        "colab": {
          "base_uri": "https://localhost:8080/",
          "height": 394
        },
        "id": "ccV9U2q8MdNK",
        "outputId": "04a57335-f723-47b3-8e3f-c663e33fb6cc"
      },
      "source": [
        "# 뉴스 분포\r\n",
        "fig, axe = plt.subplots(ncols=1)\r\n",
        "fig.set_size_inches(12,5)\r\n",
        "sns.countplot(y_train)"
      ],
      "execution_count": 11,
      "outputs": [
        {
          "output_type": "stream",
          "text": [
            "/usr/local/lib/python3.6/dist-packages/seaborn/_decorators.py:43: FutureWarning: Pass the following variable as a keyword arg: x. From version 0.12, the only valid positional argument will be `data`, and passing other arguments without an explicit keyword will result in an error or misinterpretation.\n",
            "  FutureWarning\n"
          ],
          "name": "stderr"
        },
        {
          "output_type": "execute_result",
          "data": {
            "text/plain": [
              "<matplotlib.axes._subplots.AxesSubplot at 0x7ff46dbdf5c0>"
            ]
          },
          "metadata": {
            "tags": []
          },
          "execution_count": 11
        },
        {
          "output_type": "display_data",
          "data": {
            "image/png": "[encoded data removed]",
            "text/plain": [
              "<Figure size 864x360 with 1 Axes>"
            ]
          },
          "metadata": {
            "tags": [],
            "needs_background": "light"
          }
        }
      ]
    },
    {
      "cell_type": "code",
      "metadata": {
        "colab": {
          "base_uri": "https://localhost:8080/"
        },
        "id": "vlscgoryMdLL",
        "outputId": "ced1a60d-371d-4f70-b255-88d7ed7b6800"
      },
      "source": [
        "unique_elements, counts_elements = \\\r\n",
        "    np.unique(y_train, return_counts=True)\r\n",
        "print(\"각 레이블에 대한 빈도수:\")\r\n",
        "label_cnt=dict(zip(unique_elements, counts_elements))\r\n",
        "print(label_cnt)"
      ],
      "execution_count": 12,
      "outputs": [
        {
          "output_type": "stream",
          "text": [
            "각 레이블에 대한 빈도수:\n",
            "{0: 55, 1: 432, 2: 74, 3: 3159, 4: 1949, 5: 17, 6: 48, 7: 16, 8: 139, 9: 101, 10: 124, 11: 390, 12: 49, 13: 172, 14: 26, 15: 20, 16: 444, 17: 39, 18: 66, 19: 549, 20: 269, 21: 100, 22: 15, 23: 41, 24: 62, 25: 92, 26: 24, 27: 15, 28: 48, 29: 19, 30: 45, 31: 39, 32: 32, 33: 11, 34: 50, 35: 10, 36: 49, 37: 19, 38: 19, 39: 24, 40: 36, 41: 30, 42: 13, 43: 21, 44: 12, 45: 18}\n"
          ],
          "name": "stdout"
        }
      ]
    },
    {
      "cell_type": "markdown",
      "metadata": {
        "id": "YV7eqKGNO6CE"
      },
      "source": [
        "# LSTM으로 로이터 뉴스 분류\r\n",
        "- 모든 단어가 아닌 빈도수 1000 까지 (총 단어수: 30,979) \r\n",
        "- 모든 문장이 아니라 100 단어까지 (최대 2,376 단어)"
      ]
    },
    {
      "cell_type": "code",
      "metadata": {
        "id": "7grUiO2LMdEy"
      },
      "source": [
        "from keras.models import Sequential, load_model\r\n",
        "from keras.layers import Dense, LSTM, Embedding\r\n",
        "from keras.preprocessing.sequence import pad_sequences\r\n",
        "from keras.utils import to_categorical\r\n",
        "from keras.callbacks import ModelCheckpoint, EarlyStopping"
      ],
      "execution_count": 13,
      "outputs": []
    },
    {
      "cell_type": "code",
      "metadata": {
        "colab": {
          "base_uri": "https://localhost:8080/"
        },
        "id": "19xLma5sMdAy",
        "outputId": "093d1849-0671-4f7b-8f09-6c364a0b4f1d"
      },
      "source": [
        "# 등장 빈도가 1,000번째까지의 단어들만 사용\r\n",
        "(X_train, y_train), (X_test, y_test) = reuters.load_data(\r\n",
        "    num_words=1000, test_split=0.2\r\n",
        ")"
      ],
      "execution_count": 14,
      "outputs": [
        {
          "output_type": "stream",
          "text": [
            "/usr/local/lib/python3.6/dist-packages/tensorflow/python/keras/datasets/reuters.py:148: VisibleDeprecationWarning: Creating an ndarray from ragged nested sequences (which is a list-or-tuple of lists-or-tuples-or ndarrays with different lengths or shapes) is deprecated. If you meant to do this, you must specify 'dtype=object' when creating the ndarray\n",
            "  x_train, y_train = np.array(xs[:idx]), np.array(labels[:idx])\n",
            "/usr/local/lib/python3.6/dist-packages/tensorflow/python/keras/datasets/reuters.py:149: VisibleDeprecationWarning: Creating an ndarray from ragged nested sequences (which is a list-or-tuple of lists-or-tuples-or ndarrays with different lengths or shapes) is deprecated. If you meant to do this, you must specify 'dtype=object' when creating the ndarray\n",
            "  x_test, y_test = np.array(xs[idx:]), np.array(labels[idx:])\n"
          ],
          "name": "stderr"
        }
      ]
    },
    {
      "cell_type": "code",
      "metadata": {
        "id": "ys5n7PkHPkpc"
      },
      "source": [
        "# 모델의 입력으로 사용하는 모든 뉴스 기사의 길이를 동일하게 100으로 맞춤\r\n",
        "max_len = 100\r\n",
        "X_train = pad_sequences(X_train, maxlen=max_len)\r\n",
        "X_test = pad_sequences(X_test, maxlen=max_len)"
      ],
      "execution_count": 15,
      "outputs": []
    },
    {
      "cell_type": "code",
      "metadata": {
        "id": "O2SAL4OHP-t0"
      },
      "source": [
        "# 뉴스 기사 레이블의 One-hot encoding\r\n",
        "Y_train = to_categorical(y_train)\r\n",
        "Y_test = to_categorical(y_test)"
      ],
      "execution_count": 16,
      "outputs": []
    },
    {
      "cell_type": "code",
      "metadata": {
        "colab": {
          "base_uri": "https://localhost:8080/"
        },
        "id": "AMGOAy8JQSyc",
        "outputId": "59702c78-d5a4-45b9-81c8-2b402af1946f"
      },
      "source": [
        "# LSTM 모델\r\n",
        "model = Sequential()\r\n",
        "model.add(Embedding(1000, 120))\r\n",
        "model.add(LSTM(120))\r\n",
        "model.add(Dense(46, activation='softmax'))\r\n",
        "model.summary()"
      ],
      "execution_count": 37,
      "outputs": [
        {
          "output_type": "stream",
          "text": [
            "Model: \"sequential_3\"\n",
            "_________________________________________________________________\n",
            "Layer (type)                 Output Shape              Param #   \n",
            "=================================================================\n",
            "embedding_3 (Embedding)      (None, None, 120)         120000    \n",
            "_________________________________________________________________\n",
            "lstm_3 (LSTM)                (None, 120)               115680    \n",
            "_________________________________________________________________\n",
            "dense_3 (Dense)              (None, 46)                5566      \n",
            "=================================================================\n",
            "Total params: 241,246\n",
            "Trainable params: 241,246\n",
            "Non-trainable params: 0\n",
            "_________________________________________________________________\n"
          ],
          "name": "stdout"
        }
      ]
    },
    {
      "cell_type": "code",
      "metadata": {
        "id": "Go6NnMHAQfm8"
      },
      "source": [
        "# 모델의 컴파일\r\n",
        "model.compile(loss='categorical_crossentropy',\r\n",
        "              optimizer='adam', metrics=['accuracy'])"
      ],
      "execution_count": 38,
      "outputs": []
    },
    {
      "cell_type": "code",
      "metadata": {
        "id": "9uDYI2h7QsBV"
      },
      "source": [
        "# Callback 함수 정의 - Best model, Early stopping\r\n",
        "es = EarlyStopping(monitor='val_loss', mode='min', verbose=1, patience=10)\r\n",
        "mc = ModelCheckpoint('model/reuter_best_model.h5', monitor='val_loss', \r\n",
        "                     mode='max', verbose=1, save_best_only=True)"
      ],
      "execution_count": 39,
      "outputs": []
    },
    {
      "cell_type": "code",
      "metadata": {
        "colab": {
          "base_uri": "https://localhost:8080/"
        },
        "id": "2_SrvdP8Q7fc",
        "outputId": "5bc245d2-1eed-443c-fa06-943f569feb18"
      },
      "source": [
        "# 모델의 실행\r\n",
        "history = model.fit(X_train, Y_train, batch_size=100, epochs=50, \r\n",
        "                    validation_split=0.2, verbose=2,\r\n",
        "                    callbacks=[mc, es])"
      ],
      "execution_count": 40,
      "outputs": [
        {
          "output_type": "stream",
          "text": [
            "Epoch 1/50\n",
            "72/72 - 3s - loss: 2.6277 - accuracy: 0.3417 - val_loss: 2.4051 - val_accuracy: 0.3450\n",
            "\n",
            "Epoch 00001: val_loss improved from -inf to 2.40508, saving model to model/reuter_best_model.h5\n",
            "Epoch 2/50\n",
            "72/72 - 1s - loss: 2.1727 - accuracy: 0.4445 - val_loss: 2.0406 - val_accuracy: 0.4903\n",
            "\n",
            "Epoch 00002: val_loss did not improve from 2.40508\n",
            "Epoch 3/50\n",
            "72/72 - 1s - loss: 1.9537 - accuracy: 0.5047 - val_loss: 1.8720 - val_accuracy: 0.5042\n",
            "\n",
            "Epoch 00003: val_loss did not improve from 2.40508\n",
            "Epoch 4/50\n",
            "72/72 - 1s - loss: 1.7637 - accuracy: 0.5453 - val_loss: 1.7622 - val_accuracy: 0.5281\n",
            "\n",
            "Epoch 00004: val_loss did not improve from 2.40508\n",
            "Epoch 5/50\n",
            "72/72 - 1s - loss: 1.6904 - accuracy: 0.5631 - val_loss: 1.7440 - val_accuracy: 0.5526\n",
            "\n",
            "Epoch 00005: val_loss did not improve from 2.40508\n",
            "Epoch 6/50\n",
            "72/72 - 1s - loss: 1.6371 - accuracy: 0.5802 - val_loss: 1.6656 - val_accuracy: 0.5737\n",
            "\n",
            "Epoch 00006: val_loss did not improve from 2.40508\n",
            "Epoch 7/50\n",
            "72/72 - 1s - loss: 1.5658 - accuracy: 0.5993 - val_loss: 1.6055 - val_accuracy: 0.6021\n",
            "\n",
            "Epoch 00007: val_loss did not improve from 2.40508\n",
            "Epoch 8/50\n",
            "72/72 - 1s - loss: 1.4756 - accuracy: 0.6235 - val_loss: 1.5091 - val_accuracy: 0.6338\n",
            "\n",
            "Epoch 00008: val_loss did not improve from 2.40508\n",
            "Epoch 9/50\n",
            "72/72 - 1s - loss: 1.3442 - accuracy: 0.6564 - val_loss: 1.4369 - val_accuracy: 0.6405\n",
            "\n",
            "Epoch 00009: val_loss did not improve from 2.40508\n",
            "Epoch 10/50\n",
            "72/72 - 1s - loss: 1.2377 - accuracy: 0.6831 - val_loss: 1.3873 - val_accuracy: 0.6633\n",
            "\n",
            "Epoch 00010: val_loss did not improve from 2.40508\n",
            "Epoch 11/50\n",
            "72/72 - 1s - loss: 1.1626 - accuracy: 0.7045 - val_loss: 1.3148 - val_accuracy: 0.6656\n",
            "\n",
            "Epoch 00011: val_loss did not improve from 2.40508\n",
            "Epoch 12/50\n",
            "72/72 - 1s - loss: 1.1222 - accuracy: 0.7127 - val_loss: 1.3503 - val_accuracy: 0.6733\n",
            "\n",
            "Epoch 00012: val_loss did not improve from 2.40508\n",
            "Epoch 13/50\n",
            "72/72 - 1s - loss: 1.0532 - accuracy: 0.7317 - val_loss: 1.2627 - val_accuracy: 0.6917\n",
            "\n",
            "Epoch 00013: val_loss did not improve from 2.40508\n",
            "Epoch 14/50\n",
            "72/72 - 1s - loss: 0.9908 - accuracy: 0.7463 - val_loss: 1.2506 - val_accuracy: 0.6973\n",
            "\n",
            "Epoch 00014: val_loss did not improve from 2.40508\n",
            "Epoch 15/50\n",
            "72/72 - 1s - loss: 0.9335 - accuracy: 0.7631 - val_loss: 1.2499 - val_accuracy: 0.7017\n",
            "\n",
            "Epoch 00015: val_loss did not improve from 2.40508\n",
            "Epoch 16/50\n",
            "72/72 - 1s - loss: 0.8825 - accuracy: 0.7769 - val_loss: 1.2522 - val_accuracy: 0.7051\n",
            "\n",
            "Epoch 00016: val_loss did not improve from 2.40508\n",
            "Epoch 17/50\n",
            "72/72 - 1s - loss: 0.8502 - accuracy: 0.7844 - val_loss: 1.2460 - val_accuracy: 0.7078\n",
            "\n",
            "Epoch 00017: val_loss did not improve from 2.40508\n",
            "Epoch 18/50\n",
            "72/72 - 1s - loss: 0.8084 - accuracy: 0.7964 - val_loss: 1.2485 - val_accuracy: 0.7095\n",
            "\n",
            "Epoch 00018: val_loss did not improve from 2.40508\n",
            "Epoch 19/50\n",
            "72/72 - 1s - loss: 0.7732 - accuracy: 0.8036 - val_loss: 1.2563 - val_accuracy: 0.7123\n",
            "\n",
            "Epoch 00019: val_loss did not improve from 2.40508\n",
            "Epoch 20/50\n",
            "72/72 - 1s - loss: 0.7555 - accuracy: 0.8077 - val_loss: 1.2864 - val_accuracy: 0.7073\n",
            "\n",
            "Epoch 00020: val_loss did not improve from 2.40508\n",
            "Epoch 21/50\n",
            "72/72 - 1s - loss: 0.7158 - accuracy: 0.8191 - val_loss: 1.2686 - val_accuracy: 0.7084\n",
            "\n",
            "Epoch 00021: val_loss did not improve from 2.40508\n",
            "Epoch 22/50\n",
            "72/72 - 1s - loss: 0.6720 - accuracy: 0.8299 - val_loss: 1.3212 - val_accuracy: 0.7106\n",
            "\n",
            "Epoch 00022: val_loss did not improve from 2.40508\n",
            "Epoch 23/50\n",
            "72/72 - 1s - loss: 0.6611 - accuracy: 0.8298 - val_loss: 1.3014 - val_accuracy: 0.7184\n",
            "\n",
            "Epoch 00023: val_loss did not improve from 2.40508\n",
            "Epoch 24/50\n",
            "72/72 - 1s - loss: 0.6180 - accuracy: 0.8486 - val_loss: 1.3131 - val_accuracy: 0.7134\n",
            "\n",
            "Epoch 00024: val_loss did not improve from 2.40508\n",
            "Epoch 25/50\n",
            "72/72 - 1s - loss: 0.5821 - accuracy: 0.8522 - val_loss: 1.3325 - val_accuracy: 0.7090\n",
            "\n",
            "Epoch 00025: val_loss did not improve from 2.40508\n",
            "Epoch 26/50\n",
            "72/72 - 1s - loss: 0.5461 - accuracy: 0.8646 - val_loss: 1.3681 - val_accuracy: 0.7117\n",
            "\n",
            "Epoch 00026: val_loss did not improve from 2.40508\n",
            "Epoch 27/50\n",
            "72/72 - 1s - loss: 0.5331 - accuracy: 0.8646 - val_loss: 1.3532 - val_accuracy: 0.7123\n",
            "\n",
            "Epoch 00027: val_loss did not improve from 2.40508\n",
            "Epoch 00027: early stopping\n"
          ],
          "name": "stdout"
        }
      ]
    },
    {
      "cell_type": "code",
      "metadata": {
        "id": "VEvILuYyR6Am"
      },
      "source": [
        "# Best Model 선택\r\n",
        "best_model = load_model('model/reuter_best_model.h5')"
      ],
      "execution_count": 41,
      "outputs": []
    },
    {
      "cell_type": "code",
      "metadata": {
        "colab": {
          "base_uri": "https://localhost:8080/"
        },
        "id": "GPEwCiyQSaxu",
        "outputId": "32228734-a5e4-4b26-b005-28fa474d3945"
      },
      "source": [
        "acc = model.evaluate(X_test, Y_test, verbose=2)[1]\r\n",
        "print(f'\\n테스트 정확도: {acc:.4f}')"
      ],
      "execution_count": 42,
      "outputs": [
        {
          "output_type": "stream",
          "text": [
            "71/71 - 0s - loss: 1.3615 - accuracy: 0.6963\n",
            "\n",
            "테스트 정확도: 0.6963\n"
          ],
          "name": "stdout"
        }
      ]
    },
    {
      "cell_type": "code",
      "metadata": {
        "id": "ZD0zbD43SmPu"
      },
      "source": [
        "# 테스트셋\r\n",
        "y_vloss = history.history['val_loss']\r\n",
        "y_vacc = history.history['val_accuracy']\r\n",
        "# 학습셋\r\n",
        "y_loss = history.history['loss']\r\n",
        "y_acc = history.history['accuracy']"
      ],
      "execution_count": 43,
      "outputs": []
    },
    {
      "cell_type": "code",
      "metadata": {
        "colab": {
          "base_uri": "https://localhost:8080/",
          "height": 497
        },
        "id": "f-zlqJ1wSrKm",
        "outputId": "62526295-7932-47a0-ddad-784579446134"
      },
      "source": [
        "x_len = np.arange(1, len(y_loss)+1)\r\n",
        "fig, ax0 = plt.subplots(figsize=(10,8))\r\n",
        "ax1 = ax0.twinx()\r\n",
        "ax0.plot(x_len, y_loss, c=\"blue\", label='train set loss')\r\n",
        "ax0.plot(x_len, y_vloss, c=\"red\", label='val set loss')\r\n",
        "ax0.set_ylabel('loss')\r\n",
        "ax1.plot(x_len, y_acc, c=\"darkgreen\", label='train set acc')\r\n",
        "ax1.plot(x_len, y_vacc, c=\"magenta\", label='val set acc')\r\n",
        "ax1.set_ylabel('accuracy')\r\n",
        "ax0.set_xlabel('epoch')\r\n",
        "ax0.legend(loc='lower center')\r\n",
        "ax1.legend(loc='upper center')\r\n",
        "plt.grid()\r\n",
        "plt.show()"
      ],
      "execution_count": 45,
      "outputs": [
        {
          "output_type": "display_data",
          "data": {
            "image/png": "[encoded data removed]",
            "text/plain": [
              "<Figure size 720x576 with 2 Axes>"
            ]
          },
          "metadata": {
            "tags": [],
            "needs_background": "light"
          }
        }
      ]
    },
    {
      "cell_type": "code",
      "metadata": {
        "id": "chHBff6dS1fm"
      },
      "source": [
        ""
      ],
      "execution_count": null,
      "outputs": []
    }
  ]
}