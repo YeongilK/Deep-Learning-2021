{
  "nbformat": 4,
  "nbformat_minor": 0,
  "metadata": {
    "colab": {
      "name": "02_텍스트 생성-RNN.ipynb",
      "provenance": [],
      "collapsed_sections": []
    },
    "kernelspec": {
      "name": "python3",
      "display_name": "Python 3"
    }
  },
  "cells": [
    {
      "cell_type": "markdown",
      "metadata": {
        "id": "8h8AR009sDPR"
      },
      "source": [
        "# RNN을 이용한 텍스트 생성\r\n",
        "- '경마장에 있는 말이 뛰고 있다'\r\n",
        "- '그의 말이 법이다'\r\n",
        "- '가는 말이 고와야 오는 말이 곱다'"
      ]
    },
    {
      "cell_type": "code",
      "metadata": {
        "id": "ZL-0JAF3sC12"
      },
      "source": [
        "import numpy as np\r\n",
        "import tensorflow as tf\r\n",
        "from tensorflow.keras.preprocessing.text import Tokenizer\r\n",
        "from tensorflow.keras.preprocessing.sequence import pad_sequences\r\n",
        "from tensorflow.keras.utils import to_categorical"
      ],
      "execution_count": 1,
      "outputs": []
    },
    {
      "cell_type": "code",
      "metadata": {
        "id": "b6VrJc4j6PdA"
      },
      "source": [
        "seed = 2021\r\n",
        "np.random.seed(seed)\r\n",
        "tf.random.set_seed(seed)"
      ],
      "execution_count": 2,
      "outputs": []
    },
    {
      "cell_type": "code",
      "metadata": {
        "id": "SnPxez2fsL1O"
      },
      "source": [
        "# 3개의 문장을 변수에 저장\r\n",
        "text=\"\"\"경마장에 있는 말이 뛰고 있다\\n\r\n",
        "그의 말이 법이다\\n\r\n",
        "가는 말이 고와야 오는 말이 곱다\\n\"\"\""
      ],
      "execution_count": 3,
      "outputs": []
    },
    {
      "cell_type": "code",
      "metadata": {
        "id": "sgHmj2vr6gSJ"
      },
      "source": [
        "# 단어 집합 생성\r\n",
        "t = Tokenizer()\r\n",
        "t.fit_on_texts([text])"
      ],
      "execution_count": 4,
      "outputs": []
    },
    {
      "cell_type": "code",
      "metadata": {
        "colab": {
          "base_uri": "https://localhost:8080/"
        },
        "id": "cTCWKXMd7fK7",
        "outputId": "0115be25-968f-49f4-a528-e6b88432893a"
      },
      "source": [
        "t.word_index"
      ],
      "execution_count": 5,
      "outputs": [
        {
          "output_type": "execute_result",
          "data": {
            "text/plain": [
              "{'가는': 8,\n",
              " '경마장에': 2,\n",
              " '고와야': 9,\n",
              " '곱다': 11,\n",
              " '그의': 6,\n",
              " '뛰고': 4,\n",
              " '말이': 1,\n",
              " '법이다': 7,\n",
              " '오는': 10,\n",
              " '있는': 3,\n",
              " '있다': 5}"
            ]
          },
          "metadata": {
            "tags": []
          },
          "execution_count": 5
        }
      ]
    },
    {
      "cell_type": "code",
      "metadata": {
        "colab": {
          "base_uri": "https://localhost:8080/"
        },
        "id": "Ipt20oPI7hyi",
        "outputId": "078cbe30-32b9-432f-ed6a-3a2fa06ff8a6"
      },
      "source": [
        "# 단어 집합 크기 설정\r\n",
        "vocab_size = len(t.word_index) + 1\r\n",
        "# 케라스 토크나이저의 정수 인코딩은 인덱스가 1부터 시작하지만,\r\n",
        "# 케라스 원-핫 인코딩에서 배열의 인덱스가 0부터 시작하기 때문에\r\n",
        "# 배열의 크기를 실제 단어 집합의 크기보다 +1로 생성해야함 \r\n",
        "print('단어 집합의 크기 : %d' % vocab_size)"
      ],
      "execution_count": 6,
      "outputs": [
        {
          "output_type": "stream",
          "text": [
            "단어 집합의 크기 : 12\n"
          ],
          "name": "stdout"
        }
      ]
    },
    {
      "cell_type": "code",
      "metadata": {
        "colab": {
          "base_uri": "https://localhost:8080/"
        },
        "id": "34M85DH470sa",
        "outputId": "68a6274d-246b-4380-f1f2-c884a9453b20"
      },
      "source": [
        "t.texts_to_sequences(['그의 말이 법이다'])"
      ],
      "execution_count": 7,
      "outputs": [
        {
          "output_type": "execute_result",
          "data": {
            "text/plain": [
              "[[6, 1, 7]]"
            ]
          },
          "metadata": {
            "tags": []
          },
          "execution_count": 7
        }
      ]
    },
    {
      "cell_type": "code",
      "metadata": {
        "colab": {
          "base_uri": "https://localhost:8080/"
        },
        "id": "MvejL9-e8BHC",
        "outputId": "a1d33d85-3d2d-4c73-b3f5-3e37d90a1420"
      },
      "source": [
        "sequences = []\r\n",
        "for line in text.split('\\n'):   # \\n을 기준으로 문장 토큰화\r\n",
        "    encoded = t.texts_to_sequences([line])[0]\r\n",
        "    for i in range(1, len(encoded)):\r\n",
        "        sequence = encoded[:i+1]\r\n",
        "        sequences.append(sequence)\r\n",
        "\r\n",
        "print(f'학습에 사용할 샘플의 개수: {len(sequences)}')"
      ],
      "execution_count": 8,
      "outputs": [
        {
          "output_type": "stream",
          "text": [
            "학습에 사용할 샘플의 개수: 11\n"
          ],
          "name": "stdout"
        }
      ]
    },
    {
      "cell_type": "code",
      "metadata": {
        "colab": {
          "base_uri": "https://localhost:8080/"
        },
        "id": "pwU-jVgF8pn7",
        "outputId": "f6b18626-fa21-4a96-e807-ca2bc4d3a964"
      },
      "source": [
        "sequences"
      ],
      "execution_count": 9,
      "outputs": [
        {
          "output_type": "execute_result",
          "data": {
            "text/plain": [
              "[[2, 3],\n",
              " [2, 3, 1],\n",
              " [2, 3, 1, 4],\n",
              " [2, 3, 1, 4, 5],\n",
              " [6, 1],\n",
              " [6, 1, 7],\n",
              " [8, 1],\n",
              " [8, 1, 9],\n",
              " [8, 1, 9, 10],\n",
              " [8, 1, 9, 10, 1],\n",
              " [8, 1, 9, 10, 1, 11]]"
            ]
          },
          "metadata": {
            "tags": []
          },
          "execution_count": 9
        }
      ]
    },
    {
      "cell_type": "code",
      "metadata": {
        "colab": {
          "base_uri": "https://localhost:8080/"
        },
        "id": "fjeGAT7F_yj_",
        "outputId": "38f66ecc-1189-4c60-e5ee-2132335c085c"
      },
      "source": [
        "# 모든 샘플에서 길이가 가장 긴 샘플의 길이 출력\r\n",
        "max_len = max(len(s) for s in sequences) \r\n",
        "print('샘플의 최대 길이 :', max_len)"
      ],
      "execution_count": 10,
      "outputs": [
        {
          "output_type": "stream",
          "text": [
            "샘플의 최대 길이 : 6\n"
          ],
          "name": "stdout"
        }
      ]
    },
    {
      "cell_type": "code",
      "metadata": {
        "id": "9aTBAbRC_0W9"
      },
      "source": [
        "# 전체 샘플의 길이를 6(가장 긴 샘플의 길이)으로 패딩\r\n",
        "# 'pre' 옵션을 주면 앞으로 0으로 패딩\r\n",
        "sequences = pad_sequences(sequences, maxlen=max_len, padding='pre')"
      ],
      "execution_count": 11,
      "outputs": []
    },
    {
      "cell_type": "code",
      "metadata": {
        "colab": {
          "base_uri": "https://localhost:8080/"
        },
        "id": "_QpVNUuLAbzd",
        "outputId": "621a2a89-d71a-46c8-cd4d-86844594e999"
      },
      "source": [
        "sequences[:5]"
      ],
      "execution_count": 12,
      "outputs": [
        {
          "output_type": "execute_result",
          "data": {
            "text/plain": [
              "array([[0, 0, 0, 0, 2, 3],\n",
              "       [0, 0, 0, 2, 3, 1],\n",
              "       [0, 0, 2, 3, 1, 4],\n",
              "       [0, 2, 3, 1, 4, 5],\n",
              "       [0, 0, 0, 0, 6, 1]], dtype=int32)"
            ]
          },
          "metadata": {
            "tags": []
          },
          "execution_count": 12
        }
      ]
    },
    {
      "cell_type": "code",
      "metadata": {
        "id": "Nk-BZ7MYAhmV"
      },
      "source": [
        "# 각 샘플의 마지막 단어를 레이블로 분리\r\n",
        "X = sequences[:,:-1]\r\n",
        "y = sequences[:,-1]\r\n",
        "# 리스트의 마지막 값을 제외하고 저장한 것은 X\r\n",
        "# 리스트의 마지막 값만 저장한 것은 y. 이는 레이블에 해당됨."
      ],
      "execution_count": 13,
      "outputs": []
    },
    {
      "cell_type": "code",
      "metadata": {
        "colab": {
          "base_uri": "https://localhost:8080/"
        },
        "id": "9n9PkeSWA8MO",
        "outputId": "1af52c36-3b5c-4c97-f1cb-3cf5c97a7520"
      },
      "source": [
        "X[:3]"
      ],
      "execution_count": 14,
      "outputs": [
        {
          "output_type": "execute_result",
          "data": {
            "text/plain": [
              "array([[0, 0, 0, 0, 2],\n",
              "       [0, 0, 0, 2, 3],\n",
              "       [0, 0, 2, 3, 1]], dtype=int32)"
            ]
          },
          "metadata": {
            "tags": []
          },
          "execution_count": 14
        }
      ]
    },
    {
      "cell_type": "code",
      "metadata": {
        "id": "wQV8Nl4dA-QO"
      },
      "source": [
        "# 레이블 데이터 y에 대해서 원-핫 인코딩을 수행\r\n",
        "Y = to_categorical(y, num_classes=vocab_size)"
      ],
      "execution_count": 15,
      "outputs": []
    },
    {
      "cell_type": "code",
      "metadata": {
        "colab": {
          "base_uri": "https://localhost:8080/"
        },
        "id": "SAhL0NY1BP5m",
        "outputId": "3ca7d785-b5f6-400b-ef5e-d401b7e22591"
      },
      "source": [
        "Y"
      ],
      "execution_count": 16,
      "outputs": [
        {
          "output_type": "execute_result",
          "data": {
            "text/plain": [
              "array([[0., 0., 0., 1., 0., 0., 0., 0., 0., 0., 0., 0.],\n",
              "       [0., 1., 0., 0., 0., 0., 0., 0., 0., 0., 0., 0.],\n",
              "       [0., 0., 0., 0., 1., 0., 0., 0., 0., 0., 0., 0.],\n",
              "       [0., 0., 0., 0., 0., 1., 0., 0., 0., 0., 0., 0.],\n",
              "       [0., 1., 0., 0., 0., 0., 0., 0., 0., 0., 0., 0.],\n",
              "       [0., 0., 0., 0., 0., 0., 0., 1., 0., 0., 0., 0.],\n",
              "       [0., 1., 0., 0., 0., 0., 0., 0., 0., 0., 0., 0.],\n",
              "       [0., 0., 0., 0., 0., 0., 0., 0., 0., 1., 0., 0.],\n",
              "       [0., 0., 0., 0., 0., 0., 0., 0., 0., 0., 1., 0.],\n",
              "       [0., 1., 0., 0., 0., 0., 0., 0., 0., 0., 0., 0.],\n",
              "       [0., 0., 0., 0., 0., 0., 0., 0., 0., 0., 0., 1.]], dtype=float32)"
            ]
          },
          "metadata": {
            "tags": []
          },
          "execution_count": 16
        }
      ]
    },
    {
      "cell_type": "markdown",
      "metadata": {
        "id": "TjDQwp_9BlGe"
      },
      "source": [
        "### 모델 정의\r\n",
        "- Embedding\r\n",
        "- SimpleRNN"
      ]
    },
    {
      "cell_type": "code",
      "metadata": {
        "id": "FILgkcdRBk5A"
      },
      "source": [
        "from keras.models import Sequential\r\n",
        "from keras.layers import Embedding, Dense, SimpleRNN"
      ],
      "execution_count": 17,
      "outputs": []
    },
    {
      "cell_type": "code",
      "metadata": {
        "colab": {
          "base_uri": "https://localhost:8080/"
        },
        "id": "tbEb-rrVEGLO",
        "outputId": "0220341a-4529-47e3-fca5-df78a7143657"
      },
      "source": [
        "model = Sequential()\r\n",
        "model.add(Embedding(vocab_size, 5, input_length=max_len-1))\r\n",
        "model.add(SimpleRNN(32))\r\n",
        "model.add(Dense(vocab_size, activation='softmax'))\r\n",
        "model.summary()"
      ],
      "execution_count": 18,
      "outputs": [
        {
          "output_type": "stream",
          "text": [
            "Model: \"sequential\"\n",
            "_________________________________________________________________\n",
            "Layer (type)                 Output Shape              Param #   \n",
            "=================================================================\n",
            "embedding (Embedding)        (None, 5, 5)              60        \n",
            "_________________________________________________________________\n",
            "simple_rnn (SimpleRNN)       (None, 32)                1216      \n",
            "_________________________________________________________________\n",
            "dense (Dense)                (None, 12)                396       \n",
            "=================================================================\n",
            "Total params: 1,672\n",
            "Trainable params: 1,672\n",
            "Non-trainable params: 0\n",
            "_________________________________________________________________\n"
          ],
          "name": "stdout"
        }
      ]
    },
    {
      "cell_type": "code",
      "metadata": {
        "id": "vhtsb-KcFQiX"
      },
      "source": [
        "model.compile(loss='categorical_crossentropy',\r\n",
        "              optimizer='adam', metrics=['accuracy'])"
      ],
      "execution_count": 19,
      "outputs": []
    },
    {
      "cell_type": "code",
      "metadata": {
        "id": "JaUA0ksvFnA3"
      },
      "source": [
        "history = model.fit(X, Y, epochs=200, verbose=0)"
      ],
      "execution_count": 20,
      "outputs": []
    },
    {
      "cell_type": "code",
      "metadata": {
        "colab": {
          "base_uri": "https://localhost:8080/"
        },
        "id": "R-GSwnKNGJO-",
        "outputId": "1f500df0-a4cf-4a13-e016-db36a1dbf860"
      },
      "source": [
        "history.history['accuracy'][-1]"
      ],
      "execution_count": 21,
      "outputs": [
        {
          "output_type": "execute_result",
          "data": {
            "text/plain": [
              "0.9090909361839294"
            ]
          },
          "metadata": {
            "tags": []
          },
          "execution_count": 21
        }
      ]
    },
    {
      "cell_type": "markdown",
      "metadata": {
        "id": "a37fXC1bGGTo"
      },
      "source": [
        "### 모델 검증"
      ]
    },
    {
      "cell_type": "code",
      "metadata": {
        "id": "V9TLRYHVF_Po"
      },
      "source": [
        "def sentence_generation(model, t, current_word, n):\r\n",
        "    init_word = current_word\r\n",
        "    sentence = ''\r\n",
        "    for _ in range(n):\r\n",
        "        encoded = t.texts_to_sequences([current_word])[0]\r\n",
        "        encoded = pad_sequences([encoded], maxlen=5, padding='pre')\r\n",
        "        #result = model.predict_classes(encoded, verbose=0)\r\n",
        "        result = np.argmax(model.predict(encoded), axis=-1)\r\n",
        "        for word, index in t.word_index.items():\r\n",
        "            if index == result:\r\n",
        "                break\r\n",
        "        current_word = current_word + ' ' + word\r\n",
        "        sentence = sentence + ' ' + word\r\n",
        "    \r\n",
        "    sentence = init_word + sentence\r\n",
        "    return sentence"
      ],
      "execution_count": 22,
      "outputs": []
    },
    {
      "cell_type": "code",
      "metadata": {
        "colab": {
          "base_uri": "https://localhost:8080/",
          "height": 35
        },
        "id": "d-6THoGXHlEJ",
        "outputId": "1e2a0b90-c027-4223-9737-118cf4b2813e"
      },
      "source": [
        "sentence_generation(model, t, '경마장에', 3)"
      ],
      "execution_count": 23,
      "outputs": [
        {
          "output_type": "execute_result",
          "data": {
            "application/vnd.google.colaboratory.intrinsic+json": {
              "type": "string"
            },
            "text/plain": [
              "'경마장에 말이 말이 뛰고'"
            ]
          },
          "metadata": {
            "tags": []
          },
          "execution_count": 23
        }
      ]
    },
    {
      "cell_type": "code",
      "metadata": {
        "colab": {
          "base_uri": "https://localhost:8080/",
          "height": 35
        },
        "id": "kKHIIQnYHv5A",
        "outputId": "64a6ceb4-0633-46e4-f3bc-a35d292e9cd0"
      },
      "source": [
        "sentence_generation(model, t, '그의', 2)"
      ],
      "execution_count": 24,
      "outputs": [
        {
          "output_type": "execute_result",
          "data": {
            "application/vnd.google.colaboratory.intrinsic+json": {
              "type": "string"
            },
            "text/plain": [
              "'그의 말이 법이다'"
            ]
          },
          "metadata": {
            "tags": []
          },
          "execution_count": 24
        }
      ]
    },
    {
      "cell_type": "code",
      "metadata": {
        "colab": {
          "base_uri": "https://localhost:8080/",
          "height": 35
        },
        "id": "9ObfsFpbH2XY",
        "outputId": "03b51e12-1ba5-47d6-ae8c-4d881db4f413"
      },
      "source": [
        "sentence_generation(model, t, '가는', 5)"
      ],
      "execution_count": 25,
      "outputs": [
        {
          "output_type": "execute_result",
          "data": {
            "application/vnd.google.colaboratory.intrinsic+json": {
              "type": "string"
            },
            "text/plain": [
              "'가는 말이 고와야 오는 말이 곱다'"
            ]
          },
          "metadata": {
            "tags": []
          },
          "execution_count": 25
        }
      ]
    },
    {
      "cell_type": "code",
      "metadata": {
        "colab": {
          "base_uri": "https://localhost:8080/"
        },
        "id": "3hTZQ7bYIyPX",
        "outputId": "e76b3de1-7ca0-471a-b914-8f474081227a"
      },
      "source": [
        "enc = t.texts_to_sequences(['경마장에 말이 말이'])[0]\r\n",
        "enc = pad_sequences([enc], maxlen=5, padding='pre')\r\n",
        "enc"
      ],
      "execution_count": 26,
      "outputs": [
        {
          "output_type": "execute_result",
          "data": {
            "text/plain": [
              "array([[0, 0, 2, 1, 1]], dtype=int32)"
            ]
          },
          "metadata": {
            "tags": []
          },
          "execution_count": 26
        }
      ]
    },
    {
      "cell_type": "code",
      "metadata": {
        "colab": {
          "base_uri": "https://localhost:8080/"
        },
        "id": "oAOJ3G0yJN54",
        "outputId": "d7be4eed-90f0-47b6-bfe8-d26bf15ec408"
      },
      "source": [
        "result = np.argmax(model.predict(enc), axis=-1)\r\n",
        "result"
      ],
      "execution_count": 27,
      "outputs": [
        {
          "output_type": "execute_result",
          "data": {
            "text/plain": [
              "array([4])"
            ]
          },
          "metadata": {
            "tags": []
          },
          "execution_count": 27
        }
      ]
    },
    {
      "cell_type": "code",
      "metadata": {
        "colab": {
          "base_uri": "https://localhost:8080/"
        },
        "id": "nYoadN99JcZQ",
        "outputId": "ba2e5eac-b3a5-442a-8a23-1bf9c7402d1e"
      },
      "source": [
        "for word, index in t.word_index.items():\r\n",
        "    if index == result:\r\n",
        "        break\r\n",
        "print(word)"
      ],
      "execution_count": 28,
      "outputs": [
        {
          "output_type": "stream",
          "text": [
            "뛰고\n"
          ],
          "name": "stdout"
        }
      ]
    },
    {
      "cell_type": "markdown",
      "metadata": {
        "id": "YpTYA1osaUhC"
      },
      "source": [
        "### 모델 변화\r\n",
        "- Embedding Vector 개수: [2, 4, 6, 8]\r\n",
        "- RNN 노드 수: [24, 32]"
      ]
    },
    {
      "cell_type": "code",
      "metadata": {
        "id": "YM8aO2eWa5Rj"
      },
      "source": [
        "def excute_model(n_embed, n_rnn):\r\n",
        "    model = Sequential()\r\n",
        "    model.add(Embedding(vocab_size, n_embed, input_length=max_len-1))\r\n",
        "    model.add(SimpleRNN(n_rnn))\r\n",
        "    model.add(Dense(vocab_size, activation='softmax'))\r\n",
        "\r\n",
        "    model.compile(loss='categorical_crossentropy',\r\n",
        "              optimizer='adam', metrics=['accuracy'])\r\n",
        "    history = model.fit(X, Y, epochs=200, verbose=0)\r\n",
        "    print(f\"Accuracy: {history.history['accuracy'][-1]:.4f}\")\r\n",
        "\r\n",
        "    print(sentence_generation(model, t, '경마장에', 3))\r\n",
        "    print(sentence_generation(model, t, '그의', 2))\r\n",
        "    print(sentence_generation(model, t, '가는', 5))"
      ],
      "execution_count": 32,
      "outputs": []
    },
    {
      "cell_type": "code",
      "metadata": {
        "colab": {
          "base_uri": "https://localhost:8080/"
        },
        "id": "6iWdKiowJmMY",
        "outputId": "25e152ec-dd4b-4f6b-85f1-3199a601ded5"
      },
      "source": [
        "for n_embed in [2, 4, 6, 8]:\r\n",
        "    for n_rnn in [24, 32]:\r\n",
        "        print('========================================')\r\n",
        "        print(f'n_embed={n_embed}, n_rnn={n_rnn}')\r\n",
        "        excute_model(n_embed, n_rnn)\r\n",
        "        print()"
      ],
      "execution_count": 33,
      "outputs": [
        {
          "output_type": "stream",
          "text": [
            "========================================\n",
            "n_embed=2, n_rnn=24\n",
            "Accuracy: 0.8182\n",
            "경마장에 말이 말이 말이\n",
            "그의 말이 말이\n",
            "가는 말이 고와야 오는 말이 곱다\n",
            "\n",
            "========================================\n",
            "n_embed=2, n_rnn=32\n",
            "Accuracy: 0.7273\n",
            "경마장에 말이 말이 오는\n",
            "그의 말이 말이\n",
            "가는 말이 말이 오는 말이 곱다\n",
            "\n",
            "========================================\n",
            "n_embed=4, n_rnn=24\n",
            "Accuracy: 0.9091\n",
            "경마장에 말이 말이 뛰고\n",
            "그의 말이 법이다\n",
            "가는 말이 고와야 오는 말이 곱다\n",
            "\n",
            "========================================\n",
            "n_embed=4, n_rnn=32\n",
            "Accuracy: 1.0000\n",
            "경마장에 있는 말이 뛰고\n",
            "그의 말이 법이다\n",
            "가는 말이 고와야 오는 말이 곱다\n",
            "\n",
            "========================================\n",
            "n_embed=6, n_rnn=24\n",
            "Accuracy: 0.9091\n",
            "경마장에 말이 말이 뛰고\n",
            "그의 말이 법이다\n",
            "가는 말이 고와야 오는 말이 곱다\n",
            "\n",
            "========================================\n",
            "n_embed=6, n_rnn=32\n",
            "Accuracy: 1.0000\n",
            "경마장에 있는 말이 뛰고\n",
            "그의 말이 법이다\n",
            "가는 말이 고와야 오는 말이 곱다\n",
            "\n",
            "========================================\n",
            "n_embed=8, n_rnn=24\n",
            "Accuracy: 1.0000\n",
            "경마장에 있는 말이 뛰고\n",
            "그의 말이 법이다\n",
            "가는 말이 고와야 오는 말이 곱다\n",
            "\n",
            "========================================\n",
            "n_embed=8, n_rnn=32\n",
            "Accuracy: 1.0000\n",
            "경마장에 있는 말이 뛰고\n",
            "그의 말이 법이다\n",
            "가는 말이 고와야 오는 말이 곱다\n",
            "\n"
          ],
          "name": "stdout"
        }
      ]
    },
    {
      "cell_type": "code",
      "metadata": {
        "id": "0hDRIyUVcXii"
      },
      "source": [
        ""
      ],
      "execution_count": null,
      "outputs": []
    }
  ]
}