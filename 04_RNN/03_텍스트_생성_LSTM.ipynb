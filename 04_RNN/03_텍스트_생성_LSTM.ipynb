{
  "nbformat": 4,
  "nbformat_minor": 0,
  "metadata": {
    "colab": {
      "name": "03_텍스트 생성-LSTM.ipynb",
      "provenance": [],
      "collapsed_sections": []
    },
    "kernelspec": {
      "name": "python3",
      "display_name": "Python 3"
    }
  },
  "cells": [
    {
      "cell_type": "markdown",
      "metadata": {
        "id": "8h8AR009sDPR"
      },
      "source": [
        "# LSTM을 이용한 텍스트 생성\r\n",
        "- '경마장에 있는 말이 뛰고 있다'\r\n",
        "- '그의 말이 법이다'\r\n",
        "- '가는 말이 고와야 오는 말이 곱다'"
      ]
    },
    {
      "cell_type": "code",
      "metadata": {
        "id": "ZL-0JAF3sC12"
      },
      "source": [
        "import numpy as np\r\n",
        "import pandas as pd \r\n",
        "import tensorflow as tf\r\n",
        "from string import punctuation\r\n",
        "from tensorflow.keras.preprocessing.text import Tokenizer\r\n",
        "from tensorflow.keras.preprocessing.sequence import pad_sequences\r\n",
        "from tensorflow.keras.utils import to_categorical"
      ],
      "execution_count": 1,
      "outputs": []
    },
    {
      "cell_type": "code",
      "metadata": {
        "id": "b6VrJc4j6PdA"
      },
      "source": [
        "seed = 2021\r\n",
        "np.random.seed(seed)\r\n",
        "tf.random.set_seed(seed)"
      ],
      "execution_count": 2,
      "outputs": []
    },
    {
      "cell_type": "code",
      "metadata": {
        "id": "SnPxez2fsL1O"
      },
      "source": [
        "# 3개의 문장을 변수에 저장\r\n",
        "text=\"\"\"경마장에 있는 말이 뛰고 있다\\n\r\n",
        "그의 말이 법이다\\n\r\n",
        "가는 말이 고와야 오는 말이 곱다\\n\"\"\""
      ],
      "execution_count": 3,
      "outputs": []
    },
    {
      "cell_type": "code",
      "metadata": {
        "id": "sgHmj2vr6gSJ"
      },
      "source": [
        "# 단어 집합 생성\r\n",
        "t = Tokenizer()\r\n",
        "t.fit_on_texts([text])"
      ],
      "execution_count": 4,
      "outputs": []
    },
    {
      "cell_type": "code",
      "metadata": {
        "colab": {
          "base_uri": "https://localhost:8080/"
        },
        "id": "cTCWKXMd7fK7",
        "outputId": "e01c65ff-96f7-44be-abdb-1f32f45d51a9"
      },
      "source": [
        "t.word_index"
      ],
      "execution_count": 5,
      "outputs": [
        {
          "output_type": "execute_result",
          "data": {
            "text/plain": [
              "{'가는': 8,\n",
              " '경마장에': 2,\n",
              " '고와야': 9,\n",
              " '곱다': 11,\n",
              " '그의': 6,\n",
              " '뛰고': 4,\n",
              " '말이': 1,\n",
              " '법이다': 7,\n",
              " '오는': 10,\n",
              " '있는': 3,\n",
              " '있다': 5}"
            ]
          },
          "metadata": {
            "tags": []
          },
          "execution_count": 5
        }
      ]
    },
    {
      "cell_type": "code",
      "metadata": {
        "colab": {
          "base_uri": "https://localhost:8080/"
        },
        "id": "Ipt20oPI7hyi",
        "outputId": "8784826d-51d5-4b0a-e92e-c5c5cc629609"
      },
      "source": [
        "# 단어 집합 크기 설정\r\n",
        "vocab_size = len(t.word_index) + 1\r\n",
        "# 케라스 토크나이저의 정수 인코딩은 인덱스가 1부터 시작하지만,\r\n",
        "# 케라스 원-핫 인코딩에서 배열의 인덱스가 0부터 시작하기 때문에\r\n",
        "# 배열의 크기를 실제 단어 집합의 크기보다 +1로 생성해야함 \r\n",
        "print('단어 집합의 크기 : %d' % vocab_size)"
      ],
      "execution_count": 6,
      "outputs": [
        {
          "output_type": "stream",
          "text": [
            "단어 집합의 크기 : 12\n"
          ],
          "name": "stdout"
        }
      ]
    },
    {
      "cell_type": "code",
      "metadata": {
        "colab": {
          "base_uri": "https://localhost:8080/"
        },
        "id": "MvejL9-e8BHC",
        "outputId": "41dc2750-473b-4837-8cdb-b3312c02a25a"
      },
      "source": [
        "sequences = []\r\n",
        "for line in text.split('\\n'):   # \\n을 기준으로 문장 토큰화\r\n",
        "    encoded = t.texts_to_sequences([line])[0]\r\n",
        "    for i in range(1, len(encoded)):\r\n",
        "        sequence = encoded[:i+1]\r\n",
        "        sequences.append(sequence)\r\n",
        "\r\n",
        "print(f'학습에 사용할 샘플의 개수: {len(sequences)}')"
      ],
      "execution_count": 7,
      "outputs": [
        {
          "output_type": "stream",
          "text": [
            "학습에 사용할 샘플의 개수: 11\n"
          ],
          "name": "stdout"
        }
      ]
    },
    {
      "cell_type": "code",
      "metadata": {
        "colab": {
          "base_uri": "https://localhost:8080/"
        },
        "id": "VS1VzurYgklq",
        "outputId": "fd189712-c272-4339-de78-53780dbba4b2"
      },
      "source": [
        "# 모든 샘플에서 길이가 가장 긴 샘플의 길이 출력\r\n",
        "max_len = max(len(s) for s in sequences) \r\n",
        "print('샘플의 최대 길이 :', max_len)"
      ],
      "execution_count": 8,
      "outputs": [
        {
          "output_type": "stream",
          "text": [
            "샘플의 최대 길이 : 6\n"
          ],
          "name": "stdout"
        }
      ]
    },
    {
      "cell_type": "code",
      "metadata": {
        "id": "9aTBAbRC_0W9"
      },
      "source": [
        "# 전체 샘플의 길이를 6(가장 긴 샘플의 길이)으로 패딩\r\n",
        "# 'pre' 옵션을 주면 앞으로 0으로 패딩\r\n",
        "sequences = pad_sequences(sequences, maxlen=max_len, padding='pre')"
      ],
      "execution_count": 9,
      "outputs": []
    },
    {
      "cell_type": "code",
      "metadata": {
        "id": "Nk-BZ7MYAhmV"
      },
      "source": [
        "# 각 샘플의 마지막 단어를 레이블로 분리\r\n",
        "X = sequences[:,:-1]\r\n",
        "y = sequences[:,-1]\r\n",
        "# 리스트의 마지막 값을 제외하고 저장한 것은 X\r\n",
        "# 리스트의 마지막 값만 저장한 것은 y. 이는 레이블에 해당됨."
      ],
      "execution_count": 10,
      "outputs": []
    },
    {
      "cell_type": "code",
      "metadata": {
        "id": "wQV8Nl4dA-QO"
      },
      "source": [
        "# 레이블 데이터 y에 대해서 원-핫 인코딩을 수행\r\n",
        "Y = to_categorical(y, num_classes=vocab_size)"
      ],
      "execution_count": 11,
      "outputs": []
    },
    {
      "cell_type": "code",
      "metadata": {
        "colab": {
          "base_uri": "https://localhost:8080/"
        },
        "id": "SAhL0NY1BP5m",
        "outputId": "ed43b76e-6ca0-4fcd-efb7-6f3bcc82c274"
      },
      "source": [
        "Y"
      ],
      "execution_count": 12,
      "outputs": [
        {
          "output_type": "execute_result",
          "data": {
            "text/plain": [
              "array([[0., 0., 0., 1., 0., 0., 0., 0., 0., 0., 0., 0.],\n",
              "       [0., 1., 0., 0., 0., 0., 0., 0., 0., 0., 0., 0.],\n",
              "       [0., 0., 0., 0., 1., 0., 0., 0., 0., 0., 0., 0.],\n",
              "       [0., 0., 0., 0., 0., 1., 0., 0., 0., 0., 0., 0.],\n",
              "       [0., 1., 0., 0., 0., 0., 0., 0., 0., 0., 0., 0.],\n",
              "       [0., 0., 0., 0., 0., 0., 0., 1., 0., 0., 0., 0.],\n",
              "       [0., 1., 0., 0., 0., 0., 0., 0., 0., 0., 0., 0.],\n",
              "       [0., 0., 0., 0., 0., 0., 0., 0., 0., 1., 0., 0.],\n",
              "       [0., 0., 0., 0., 0., 0., 0., 0., 0., 0., 1., 0.],\n",
              "       [0., 1., 0., 0., 0., 0., 0., 0., 0., 0., 0., 0.],\n",
              "       [0., 0., 0., 0., 0., 0., 0., 0., 0., 0., 0., 1.]], dtype=float32)"
            ]
          },
          "metadata": {
            "tags": []
          },
          "execution_count": 12
        }
      ]
    },
    {
      "cell_type": "markdown",
      "metadata": {
        "id": "TjDQwp_9BlGe"
      },
      "source": [
        "### 모델 정의\r\n",
        "- Embedding\r\n",
        "- LSTM"
      ]
    },
    {
      "cell_type": "code",
      "metadata": {
        "id": "FILgkcdRBk5A"
      },
      "source": [
        "from keras.models import Sequential\r\n",
        "from keras.layers import Embedding, Dense, LSTM"
      ],
      "execution_count": 13,
      "outputs": []
    },
    {
      "cell_type": "code",
      "metadata": {
        "colab": {
          "base_uri": "https://localhost:8080/"
        },
        "id": "tbEb-rrVEGLO",
        "outputId": "c59013f9-1b10-4c09-c999-39231fae2074"
      },
      "source": [
        "model = Sequential()\r\n",
        "model.add(Embedding(vocab_size, 5, input_length=max_len-1))\r\n",
        "model.add(LSTM(32))\r\n",
        "model.add(Dense(vocab_size, activation='softmax'))\r\n",
        "model.summary()"
      ],
      "execution_count": 14,
      "outputs": [
        {
          "output_type": "stream",
          "text": [
            "Model: \"sequential\"\n",
            "_________________________________________________________________\n",
            "Layer (type)                 Output Shape              Param #   \n",
            "=================================================================\n",
            "embedding (Embedding)        (None, 5, 5)              60        \n",
            "_________________________________________________________________\n",
            "lstm (LSTM)                  (None, 32)                4864      \n",
            "_________________________________________________________________\n",
            "dense (Dense)                (None, 12)                396       \n",
            "=================================================================\n",
            "Total params: 5,320\n",
            "Trainable params: 5,320\n",
            "Non-trainable params: 0\n",
            "_________________________________________________________________\n"
          ],
          "name": "stdout"
        }
      ]
    },
    {
      "cell_type": "code",
      "metadata": {
        "id": "vhtsb-KcFQiX"
      },
      "source": [
        "model.compile(loss='categorical_crossentropy',\r\n",
        "              optimizer='adam', metrics=['accuracy'])"
      ],
      "execution_count": 15,
      "outputs": []
    },
    {
      "cell_type": "code",
      "metadata": {
        "id": "JaUA0ksvFnA3"
      },
      "source": [
        "history = model.fit(X, Y, epochs=200, verbose=0)"
      ],
      "execution_count": 16,
      "outputs": []
    },
    {
      "cell_type": "code",
      "metadata": {
        "colab": {
          "base_uri": "https://localhost:8080/"
        },
        "id": "R-GSwnKNGJO-",
        "outputId": "091461ac-0e18-4692-ddbd-cd379b260fc3"
      },
      "source": [
        "history.history['accuracy'][-1]"
      ],
      "execution_count": 17,
      "outputs": [
        {
          "output_type": "execute_result",
          "data": {
            "text/plain": [
              "0.7272727489471436"
            ]
          },
          "metadata": {
            "tags": []
          },
          "execution_count": 17
        }
      ]
    },
    {
      "cell_type": "markdown",
      "metadata": {
        "id": "a37fXC1bGGTo"
      },
      "source": [
        "### 모델 검증"
      ]
    },
    {
      "cell_type": "code",
      "metadata": {
        "id": "V9TLRYHVF_Po"
      },
      "source": [
        "def sentence_generation(model, t, current_word, n):\r\n",
        "    init_word = current_word\r\n",
        "    sentence = ''\r\n",
        "    for _ in range(n):\r\n",
        "        encoded = t.texts_to_sequences([current_word])[0]\r\n",
        "        encoded = pad_sequences([encoded], maxlen=5, padding='pre')\r\n",
        "        #result = model.predict_classes(encoded, verbose=0)\r\n",
        "        result = np.argmax(model.predict(encoded), axis=-1)\r\n",
        "        for word, index in t.word_index.items():\r\n",
        "            if index == result:\r\n",
        "                break\r\n",
        "        current_word = current_word + ' ' + word\r\n",
        "        sentence = sentence + ' ' + word\r\n",
        "    \r\n",
        "    sentence = init_word + sentence\r\n",
        "    return sentence"
      ],
      "execution_count": 18,
      "outputs": []
    },
    {
      "cell_type": "code",
      "metadata": {
        "colab": {
          "base_uri": "https://localhost:8080/",
          "height": 35
        },
        "id": "d-6THoGXHlEJ",
        "outputId": "2a87e8e3-cfe6-4c5b-ebe5-4611d41676a0"
      },
      "source": [
        "sentence_generation(model, t, '경마장에', 3)"
      ],
      "execution_count": 19,
      "outputs": [
        {
          "output_type": "execute_result",
          "data": {
            "application/vnd.google.colaboratory.intrinsic+json": {
              "type": "string"
            },
            "text/plain": [
              "'경마장에 말이 고와야 말이'"
            ]
          },
          "metadata": {
            "tags": []
          },
          "execution_count": 19
        }
      ]
    },
    {
      "cell_type": "code",
      "metadata": {
        "colab": {
          "base_uri": "https://localhost:8080/",
          "height": 35
        },
        "id": "kKHIIQnYHv5A",
        "outputId": "22d5bed1-22be-40a4-dfa9-db7c1055c19c"
      },
      "source": [
        "sentence_generation(model, t, '그의', 2)"
      ],
      "execution_count": 20,
      "outputs": [
        {
          "output_type": "execute_result",
          "data": {
            "application/vnd.google.colaboratory.intrinsic+json": {
              "type": "string"
            },
            "text/plain": [
              "'그의 말이 법이다'"
            ]
          },
          "metadata": {
            "tags": []
          },
          "execution_count": 20
        }
      ]
    },
    {
      "cell_type": "code",
      "metadata": {
        "colab": {
          "base_uri": "https://localhost:8080/",
          "height": 35
        },
        "id": "9ObfsFpbH2XY",
        "outputId": "3568069b-427a-4314-8cd9-cf28bfc103ae"
      },
      "source": [
        "sentence_generation(model, t, '가는', 5)"
      ],
      "execution_count": 21,
      "outputs": [
        {
          "output_type": "execute_result",
          "data": {
            "application/vnd.google.colaboratory.intrinsic+json": {
              "type": "string"
            },
            "text/plain": [
              "'가는 말이 법이다 오는 말이 곱다'"
            ]
          },
          "metadata": {
            "tags": []
          },
          "execution_count": 21
        }
      ]
    },
    {
      "cell_type": "code",
      "metadata": {
        "colab": {
          "base_uri": "https://localhost:8080/"
        },
        "id": "3hTZQ7bYIyPX",
        "outputId": "725aecaf-8de6-4486-db94-5695e2bbf915"
      },
      "source": [
        "enc = t.texts_to_sequences(['경마장에 말이 말이'])[0]\r\n",
        "enc = pad_sequences([enc], maxlen=5, padding='pre')\r\n",
        "enc"
      ],
      "execution_count": 22,
      "outputs": [
        {
          "output_type": "execute_result",
          "data": {
            "text/plain": [
              "array([[0, 0, 2, 1, 1]], dtype=int32)"
            ]
          },
          "metadata": {
            "tags": []
          },
          "execution_count": 22
        }
      ]
    },
    {
      "cell_type": "code",
      "metadata": {
        "colab": {
          "base_uri": "https://localhost:8080/"
        },
        "id": "oAOJ3G0yJN54",
        "outputId": "189c8a06-7035-4f3d-92c9-c2dd1d412339"
      },
      "source": [
        "result = np.argmax(model.predict(enc), axis=-1)\r\n",
        "result"
      ],
      "execution_count": 23,
      "outputs": [
        {
          "output_type": "execute_result",
          "data": {
            "text/plain": [
              "array([4])"
            ]
          },
          "metadata": {
            "tags": []
          },
          "execution_count": 23
        }
      ]
    },
    {
      "cell_type": "code",
      "metadata": {
        "colab": {
          "base_uri": "https://localhost:8080/"
        },
        "id": "nYoadN99JcZQ",
        "outputId": "7260364a-e16f-4f29-9bae-bd8e6837ab4a"
      },
      "source": [
        "for word, index in t.word_index.items():\r\n",
        "    if index == result:\r\n",
        "        break\r\n",
        "print(word)"
      ],
      "execution_count": 24,
      "outputs": [
        {
          "output_type": "stream",
          "text": [
            "뛰고\n"
          ],
          "name": "stdout"
        }
      ]
    },
    {
      "cell_type": "markdown",
      "metadata": {
        "id": "YpTYA1osaUhC"
      },
      "source": [
        "### 모델 변화\r\n",
        "- Embedding Vector 개수: [2, 4, 6, 8]\r\n",
        "- RNN 노드 수: [24, 32]"
      ]
    },
    {
      "cell_type": "code",
      "metadata": {
        "id": "YM8aO2eWa5Rj"
      },
      "source": [
        "def excute_model(n_embed, n_lstm):\r\n",
        "    model = Sequential()\r\n",
        "    model.add(Embedding(vocab_size, n_embed, input_length=max_len-1))\r\n",
        "    model.add(LSTM(n_rnn))\r\n",
        "    model.add(Dense(vocab_size, activation='softmax'))\r\n",
        "\r\n",
        "    model.compile(loss='categorical_crossentropy',\r\n",
        "              optimizer='adam', metrics=['accuracy'])\r\n",
        "    history = model.fit(X, Y, epochs=200, verbose=0)\r\n",
        "    print(f\"Accuracy: {history.history['accuracy'][-1]:.4f}\")\r\n",
        "\r\n",
        "    print(sentence_generation(model, t, '경마장에', 3))\r\n",
        "    print(sentence_generation(model, t, '그의', 2))\r\n",
        "    print(sentence_generation(model, t, '가는', 5))"
      ],
      "execution_count": 25,
      "outputs": []
    },
    {
      "cell_type": "code",
      "metadata": {
        "colab": {
          "base_uri": "https://localhost:8080/"
        },
        "id": "6iWdKiowJmMY",
        "outputId": "b6035e71-c3e9-4958-b3ac-8df03204f6ba"
      },
      "source": [
        "for n_embed in [2, 4, 6, 8]:\r\n",
        "    for n_lstm in [24, 32]:\r\n",
        "        print('========================================')\r\n",
        "        print(f'n_embed={n_embed}, n_lstm={n_lstm}')\r\n",
        "        excute_model(n_embed, n_lstm)\r\n",
        "        print()"
      ],
      "execution_count": 28,
      "outputs": [
        {
          "output_type": "stream",
          "text": [
            "========================================\n",
            "n_embed=2, n_lstm=24\n",
            "Accuracy: 0.4545\n",
            "경마장에 말이 말이 말이\n",
            "그의 말이 말이\n",
            "가는 말이 말이 말이 있다 있다\n",
            "\n",
            "========================================\n",
            "n_embed=2, n_lstm=32\n",
            "Accuracy: 0.5455\n",
            "경마장에 말이 말이 뛰고\n",
            "그의 말이 말이\n",
            "가는 말이 말이 말이 말이 뛰고\n",
            "\n",
            "========================================\n",
            "n_embed=4, n_lstm=24\n",
            "Accuracy: 0.4545\n",
            "경마장에 말이 말이 말이\n",
            "그의 말이 말이\n",
            "가는 말이 말이 말이 곱다 곱다\n",
            "\n",
            "========================================\n",
            "n_embed=4, n_lstm=32\n",
            "Accuracy: 0.6364\n",
            "경마장에 말이 말이 뛰고\n",
            "그의 말이 말이\n",
            "가는 말이 말이 말이 오는 곱다\n",
            "\n",
            "========================================\n",
            "n_embed=6, n_lstm=24\n",
            "Accuracy: 0.7273\n",
            "경마장에 말이 말이 뛰고\n",
            "그의 말이 말이\n",
            "가는 말이 말이 오는 말이 곱다\n",
            "\n",
            "========================================\n",
            "n_embed=6, n_lstm=32\n",
            "Accuracy: 0.7273\n",
            "경마장에 말이 말이 뛰고\n",
            "그의 말이 말이\n",
            "가는 말이 고와야 말이 곱다 곱다\n",
            "\n",
            "========================================\n",
            "n_embed=8, n_lstm=24\n",
            "Accuracy: 0.7273\n",
            "경마장에 말이 말이 뛰고\n",
            "그의 말이 말이\n",
            "가는 말이 말이 오는 오는 곱다\n",
            "\n",
            "========================================\n",
            "n_embed=8, n_lstm=32\n",
            "Accuracy: 0.6364\n",
            "경마장에 말이 말이 뛰고\n",
            "그의 말이 말이\n",
            "가는 말이 말이 말이 있다 있다\n",
            "\n"
          ],
          "name": "stdout"
        }
      ]
    },
    {
      "cell_type": "code",
      "metadata": {
        "id": "0hDRIyUVcXii"
      },
      "source": [
        ""
      ],
      "execution_count": null,
      "outputs": []
    }
  ]
}