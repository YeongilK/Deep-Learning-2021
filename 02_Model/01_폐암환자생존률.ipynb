{
  "nbformat": 4,
  "nbformat_minor": 0,
  "metadata": {
    "colab": {
      "name": "01_폐암환자생존률.ipynb",
      "provenance": [],
      "collapsed_sections": []
    },
    "kernelspec": {
      "name": "python3",
      "display_name": "Python 3"
    }
  },
  "cells": [
    {
      "cell_type": "markdown",
      "metadata": {
        "id": "TFujdN8jNgY2"
      },
      "source": [
        "# 폐암환자 생존률 예측"
      ]
    },
    {
      "cell_type": "code",
      "metadata": {
        "colab": {
          "base_uri": "https://localhost:8080/"
        },
        "id": "HKcSGGAoNQ7T",
        "outputId": "3acdd851-f6ff-4983-de52-5a227d9966ae"
      },
      "source": [
        "!unzip dataset.zip -d dataset"
      ],
      "execution_count": 4,
      "outputs": [
        {
          "output_type": "stream",
          "text": [
            "Archive:  dataset.zip\n",
            "  inflating: dataset/housing.csv     \n",
            "  inflating: dataset/iris.csv        \n",
            "  inflating: dataset/pima-indians-diabetes.csv  \n",
            "  inflating: dataset/sonar.csv       \n",
            "  inflating: dataset/ThoraricSurgery.csv  \n",
            "  inflating: dataset/wine.csv        \n"
          ],
          "name": "stdout"
        }
      ]
    },
    {
      "cell_type": "code",
      "metadata": {
        "colab": {
          "base_uri": "https://localhost:8080/"
        },
        "id": "2oA-EeYMOQla",
        "outputId": "834d4272-7ef7-46e0-a716-e07098837ca4"
      },
      "source": [
        "!ls"
      ],
      "execution_count": 5,
      "outputs": [
        {
          "output_type": "stream",
          "text": [
            "dataset  dataset.zip  sample_data\n"
          ],
          "name": "stdout"
        }
      ]
    },
    {
      "cell_type": "code",
      "metadata": {
        "colab": {
          "base_uri": "https://localhost:8080/"
        },
        "id": "1Kv8AzSVOT6w",
        "outputId": "ba4d3ed7-5e32-43e4-be5e-13115af68c59"
      },
      "source": [
        "!ls -l dataset"
      ],
      "execution_count": 6,
      "outputs": [
        {
          "output_type": "stream",
          "text": [
            "total 548\n",
            "-rw-r--r-- 1 root root  49082 Jun 30  2020 housing.csv\n",
            "-rw-r--r-- 1 root root   4551 Jun 30  2020 iris.csv\n",
            "-rw-r--r-- 1 root root  23279 Jun 30  2020 pima-indians-diabetes.csv\n",
            "-rw-r--r-- 1 root root  87776 Jun 30  2020 sonar.csv\n",
            "-rw-r--r-- 1 root root  21257 Jun 30  2020 ThoraricSurgery.csv\n",
            "-rw-r--r-- 1 root root 361279 Jun 30  2020 wine.csv\n"
          ],
          "name": "stdout"
        }
      ]
    },
    {
      "cell_type": "markdown",
      "metadata": {
        "id": "JtIIpQjfU-Q_"
      },
      "source": [
        "### 데이터 탐색"
      ]
    },
    {
      "cell_type": "code",
      "metadata": {
        "id": "9g2CXrmlOgqU"
      },
      "source": [
        "import numpy as np\r\n",
        "import pandas as pd"
      ],
      "execution_count": 7,
      "outputs": []
    },
    {
      "cell_type": "code",
      "metadata": {
        "colab": {
          "base_uri": "https://localhost:8080/",
          "height": 142
        },
        "id": "QNUjwAItVVal",
        "outputId": "93a800f7-cce3-4dbd-8bb1-d91ffcf40b7e"
      },
      "source": [
        "df = pd.read_csv('dataset/ThoraricSurgery.csv')\r\n",
        "df.head(3)"
      ],
      "execution_count": 19,
      "outputs": [
        {
          "output_type": "execute_result",
          "data": {
            "text/html": [
              "<div>\n",
              "<style scoped>\n",
              "    .dataframe tbody tr th:only-of-type {\n",
              "        vertical-align: middle;\n",
              "    }\n",
              "\n",
              "    .dataframe tbody tr th {\n",
              "        vertical-align: top;\n",
              "    }\n",
              "\n",
              "    .dataframe thead th {\n",
              "        text-align: right;\n",
              "    }\n",
              "</style>\n",
              "<table border=\"1\" class=\"dataframe\">\n",
              "  <thead>\n",
              "    <tr style=\"text-align: right;\">\n",
              "      <th></th>\n",
              "      <th>293</th>\n",
              "      <th>1</th>\n",
              "      <th>3.8</th>\n",
              "      <th>2.8</th>\n",
              "      <th>0</th>\n",
              "      <th>0.1</th>\n",
              "      <th>0.2</th>\n",
              "      <th>0.3</th>\n",
              "      <th>0.4</th>\n",
              "      <th>0.5</th>\n",
              "      <th>12</th>\n",
              "      <th>0.6</th>\n",
              "      <th>0.7</th>\n",
              "      <th>0.8</th>\n",
              "      <th>1.1</th>\n",
              "      <th>0.9</th>\n",
              "      <th>62</th>\n",
              "      <th>0.10</th>\n",
              "    </tr>\n",
              "  </thead>\n",
              "  <tbody>\n",
              "    <tr>\n",
              "      <th>0</th>\n",
              "      <td>1</td>\n",
              "      <td>2</td>\n",
              "      <td>2.88</td>\n",
              "      <td>2.16</td>\n",
              "      <td>1</td>\n",
              "      <td>0</td>\n",
              "      <td>0</td>\n",
              "      <td>0</td>\n",
              "      <td>1</td>\n",
              "      <td>1</td>\n",
              "      <td>14</td>\n",
              "      <td>0</td>\n",
              "      <td>0</td>\n",
              "      <td>0</td>\n",
              "      <td>1</td>\n",
              "      <td>0</td>\n",
              "      <td>60</td>\n",
              "      <td>0</td>\n",
              "    </tr>\n",
              "    <tr>\n",
              "      <th>1</th>\n",
              "      <td>8</td>\n",
              "      <td>2</td>\n",
              "      <td>3.19</td>\n",
              "      <td>2.50</td>\n",
              "      <td>1</td>\n",
              "      <td>0</td>\n",
              "      <td>0</td>\n",
              "      <td>0</td>\n",
              "      <td>1</td>\n",
              "      <td>0</td>\n",
              "      <td>11</td>\n",
              "      <td>0</td>\n",
              "      <td>0</td>\n",
              "      <td>1</td>\n",
              "      <td>1</td>\n",
              "      <td>0</td>\n",
              "      <td>66</td>\n",
              "      <td>1</td>\n",
              "    </tr>\n",
              "    <tr>\n",
              "      <th>2</th>\n",
              "      <td>14</td>\n",
              "      <td>2</td>\n",
              "      <td>3.98</td>\n",
              "      <td>3.06</td>\n",
              "      <td>2</td>\n",
              "      <td>0</td>\n",
              "      <td>0</td>\n",
              "      <td>0</td>\n",
              "      <td>1</td>\n",
              "      <td>1</td>\n",
              "      <td>14</td>\n",
              "      <td>0</td>\n",
              "      <td>0</td>\n",
              "      <td>0</td>\n",
              "      <td>1</td>\n",
              "      <td>0</td>\n",
              "      <td>80</td>\n",
              "      <td>1</td>\n",
              "    </tr>\n",
              "  </tbody>\n",
              "</table>\n",
              "</div>"
            ],
            "text/plain": [
              "   293  1   3.8   2.8  0  0.1  0.2  0.3  ...  12  0.6  0.7  0.8  1.1  0.9  62  0.10\n",
              "0    1  2  2.88  2.16  1    0    0    0  ...  14    0    0    0    1    0  60     0\n",
              "1    8  2  3.19  2.50  1    0    0    0  ...  11    0    0    1    1    0  66     1\n",
              "2   14  2  3.98  3.06  2    0    0    0  ...  14    0    0    0    1    0  80     1\n",
              "\n",
              "[3 rows x 18 columns]"
            ]
          },
          "metadata": {
            "tags": []
          },
          "execution_count": 19
        }
      ]
    },
    {
      "cell_type": "code",
      "metadata": {
        "colab": {
          "base_uri": "https://localhost:8080/",
          "height": 317
        },
        "id": "LjtSk4KtViB0",
        "outputId": "80ccdaaf-e93c-4416-a9de-b14c6e9fdba7"
      },
      "source": [
        "df.describe()"
      ],
      "execution_count": 20,
      "outputs": [
        {
          "output_type": "execute_result",
          "data": {
            "text/html": [
              "<div>\n",
              "<style scoped>\n",
              "    .dataframe tbody tr th:only-of-type {\n",
              "        vertical-align: middle;\n",
              "    }\n",
              "\n",
              "    .dataframe tbody tr th {\n",
              "        vertical-align: top;\n",
              "    }\n",
              "\n",
              "    .dataframe thead th {\n",
              "        text-align: right;\n",
              "    }\n",
              "</style>\n",
              "<table border=\"1\" class=\"dataframe\">\n",
              "  <thead>\n",
              "    <tr style=\"text-align: right;\">\n",
              "      <th></th>\n",
              "      <th>293</th>\n",
              "      <th>1</th>\n",
              "      <th>3.8</th>\n",
              "      <th>2.8</th>\n",
              "      <th>0</th>\n",
              "      <th>0.1</th>\n",
              "      <th>0.2</th>\n",
              "      <th>0.3</th>\n",
              "      <th>0.4</th>\n",
              "      <th>0.5</th>\n",
              "      <th>12</th>\n",
              "      <th>0.6</th>\n",
              "      <th>0.7</th>\n",
              "      <th>0.8</th>\n",
              "      <th>1.1</th>\n",
              "      <th>0.9</th>\n",
              "      <th>62</th>\n",
              "      <th>0.10</th>\n",
              "    </tr>\n",
              "  </thead>\n",
              "  <tbody>\n",
              "    <tr>\n",
              "      <th>count</th>\n",
              "      <td>469.000000</td>\n",
              "      <td>469.000000</td>\n",
              "      <td>469.000000</td>\n",
              "      <td>469.000000</td>\n",
              "      <td>469.000000</td>\n",
              "      <td>469.000000</td>\n",
              "      <td>469.000000</td>\n",
              "      <td>469.000000</td>\n",
              "      <td>469.000000</td>\n",
              "      <td>469.000000</td>\n",
              "      <td>469.000000</td>\n",
              "      <td>469.000000</td>\n",
              "      <td>469.000000</td>\n",
              "      <td>469.000000</td>\n",
              "      <td>469.000000</td>\n",
              "      <td>469.000000</td>\n",
              "      <td>469.000000</td>\n",
              "      <td>469.000000</td>\n",
              "    </tr>\n",
              "    <tr>\n",
              "      <th>mean</th>\n",
              "      <td>235.377399</td>\n",
              "      <td>3.100213</td>\n",
              "      <td>3.280533</td>\n",
              "      <td>4.572473</td>\n",
              "      <td>0.782516</td>\n",
              "      <td>0.066098</td>\n",
              "      <td>0.144989</td>\n",
              "      <td>0.066098</td>\n",
              "      <td>0.688699</td>\n",
              "      <td>0.166311</td>\n",
              "      <td>11.735608</td>\n",
              "      <td>0.074627</td>\n",
              "      <td>0.004264</td>\n",
              "      <td>0.017058</td>\n",
              "      <td>0.820896</td>\n",
              "      <td>0.004264</td>\n",
              "      <td>62.535181</td>\n",
              "      <td>0.149254</td>\n",
              "    </tr>\n",
              "    <tr>\n",
              "      <th>std</th>\n",
              "      <td>135.940568</td>\n",
              "      <td>0.716547</td>\n",
              "      <td>0.871996</td>\n",
              "      <td>11.780139</td>\n",
              "      <td>0.534727</td>\n",
              "      <td>0.248719</td>\n",
              "      <td>0.352466</td>\n",
              "      <td>0.248719</td>\n",
              "      <td>0.463520</td>\n",
              "      <td>0.372757</td>\n",
              "      <td>0.702887</td>\n",
              "      <td>0.263069</td>\n",
              "      <td>0.065233</td>\n",
              "      <td>0.129624</td>\n",
              "      <td>0.383849</td>\n",
              "      <td>0.065233</td>\n",
              "      <td>8.716164</td>\n",
              "      <td>0.356719</td>\n",
              "    </tr>\n",
              "    <tr>\n",
              "      <th>min</th>\n",
              "      <td>1.000000</td>\n",
              "      <td>2.000000</td>\n",
              "      <td>1.440000</td>\n",
              "      <td>0.960000</td>\n",
              "      <td>0.000000</td>\n",
              "      <td>0.000000</td>\n",
              "      <td>0.000000</td>\n",
              "      <td>0.000000</td>\n",
              "      <td>0.000000</td>\n",
              "      <td>0.000000</td>\n",
              "      <td>11.000000</td>\n",
              "      <td>0.000000</td>\n",
              "      <td>0.000000</td>\n",
              "      <td>0.000000</td>\n",
              "      <td>0.000000</td>\n",
              "      <td>0.000000</td>\n",
              "      <td>21.000000</td>\n",
              "      <td>0.000000</td>\n",
              "    </tr>\n",
              "    <tr>\n",
              "      <th>25%</th>\n",
              "      <td>118.000000</td>\n",
              "      <td>3.000000</td>\n",
              "      <td>2.600000</td>\n",
              "      <td>1.960000</td>\n",
              "      <td>0.000000</td>\n",
              "      <td>0.000000</td>\n",
              "      <td>0.000000</td>\n",
              "      <td>0.000000</td>\n",
              "      <td>0.000000</td>\n",
              "      <td>0.000000</td>\n",
              "      <td>11.000000</td>\n",
              "      <td>0.000000</td>\n",
              "      <td>0.000000</td>\n",
              "      <td>0.000000</td>\n",
              "      <td>1.000000</td>\n",
              "      <td>0.000000</td>\n",
              "      <td>57.000000</td>\n",
              "      <td>0.000000</td>\n",
              "    </tr>\n",
              "    <tr>\n",
              "      <th>50%</th>\n",
              "      <td>235.000000</td>\n",
              "      <td>3.000000</td>\n",
              "      <td>3.160000</td>\n",
              "      <td>2.400000</td>\n",
              "      <td>1.000000</td>\n",
              "      <td>0.000000</td>\n",
              "      <td>0.000000</td>\n",
              "      <td>0.000000</td>\n",
              "      <td>1.000000</td>\n",
              "      <td>0.000000</td>\n",
              "      <td>12.000000</td>\n",
              "      <td>0.000000</td>\n",
              "      <td>0.000000</td>\n",
              "      <td>0.000000</td>\n",
              "      <td>1.000000</td>\n",
              "      <td>0.000000</td>\n",
              "      <td>62.000000</td>\n",
              "      <td>0.000000</td>\n",
              "    </tr>\n",
              "    <tr>\n",
              "      <th>75%</th>\n",
              "      <td>353.000000</td>\n",
              "      <td>3.000000</td>\n",
              "      <td>3.810000</td>\n",
              "      <td>3.080000</td>\n",
              "      <td>1.000000</td>\n",
              "      <td>0.000000</td>\n",
              "      <td>0.000000</td>\n",
              "      <td>0.000000</td>\n",
              "      <td>1.000000</td>\n",
              "      <td>0.000000</td>\n",
              "      <td>12.000000</td>\n",
              "      <td>0.000000</td>\n",
              "      <td>0.000000</td>\n",
              "      <td>0.000000</td>\n",
              "      <td>1.000000</td>\n",
              "      <td>0.000000</td>\n",
              "      <td>69.000000</td>\n",
              "      <td>0.000000</td>\n",
              "    </tr>\n",
              "    <tr>\n",
              "      <th>max</th>\n",
              "      <td>470.000000</td>\n",
              "      <td>8.000000</td>\n",
              "      <td>6.300000</td>\n",
              "      <td>86.300000</td>\n",
              "      <td>2.000000</td>\n",
              "      <td>1.000000</td>\n",
              "      <td>1.000000</td>\n",
              "      <td>1.000000</td>\n",
              "      <td>1.000000</td>\n",
              "      <td>1.000000</td>\n",
              "      <td>14.000000</td>\n",
              "      <td>1.000000</td>\n",
              "      <td>1.000000</td>\n",
              "      <td>1.000000</td>\n",
              "      <td>1.000000</td>\n",
              "      <td>1.000000</td>\n",
              "      <td>87.000000</td>\n",
              "      <td>1.000000</td>\n",
              "    </tr>\n",
              "  </tbody>\n",
              "</table>\n",
              "</div>"
            ],
            "text/plain": [
              "              293           1         3.8  ...         0.9          62        0.10\n",
              "count  469.000000  469.000000  469.000000  ...  469.000000  469.000000  469.000000\n",
              "mean   235.377399    3.100213    3.280533  ...    0.004264   62.535181    0.149254\n",
              "std    135.940568    0.716547    0.871996  ...    0.065233    8.716164    0.356719\n",
              "min      1.000000    2.000000    1.440000  ...    0.000000   21.000000    0.000000\n",
              "25%    118.000000    3.000000    2.600000  ...    0.000000   57.000000    0.000000\n",
              "50%    235.000000    3.000000    3.160000  ...    0.000000   62.000000    0.000000\n",
              "75%    353.000000    3.000000    3.810000  ...    0.000000   69.000000    0.000000\n",
              "max    470.000000    8.000000    6.300000  ...    1.000000   87.000000    1.000000\n",
              "\n",
              "[8 rows x 18 columns]"
            ]
          },
          "metadata": {
            "tags": []
          },
          "execution_count": 20
        }
      ]
    },
    {
      "cell_type": "markdown",
      "metadata": {
        "id": "VwP2xIKJWCHK"
      },
      "source": [
        "### 데이터셋 만들기"
      ]
    },
    {
      "cell_type": "code",
      "metadata": {
        "id": "JYm1Eg62V9uS"
      },
      "source": [
        "from sklearn.model_selection import train_test_split\r\n",
        "import tensorflow as tf"
      ],
      "execution_count": 21,
      "outputs": []
    },
    {
      "cell_type": "code",
      "metadata": {
        "id": "qL82maYrWr0P"
      },
      "source": [
        "# 실행할 떄마다 같은 결과를 출력하기 위한 seed 값 설정\r\n",
        "seed = 2021\r\n",
        "np.random.seed(seed)\r\n",
        "tf.random.set_seed(seed)"
      ],
      "execution_count": 22,
      "outputs": []
    },
    {
      "cell_type": "code",
      "metadata": {
        "colab": {
          "base_uri": "https://localhost:8080/"
        },
        "id": "EvnRsr7qW455",
        "outputId": "82262ca6-f354-4c47-902e-000d77efc63a"
      },
      "source": [
        "X_train, X_test, y_train, y_test = train_test_split(\r\n",
        "    df.iloc[:, :-1].values, df.iloc[:, -1].values, stratify=df.iloc[:, -1].values,\r\n",
        "    random_state=seed\r\n",
        ")\r\n",
        "X_train.shape, X_test.shape"
      ],
      "execution_count": 23,
      "outputs": [
        {
          "output_type": "execute_result",
          "data": {
            "text/plain": [
              "((351, 17), (118, 17))"
            ]
          },
          "metadata": {
            "tags": []
          },
          "execution_count": 23
        }
      ]
    },
    {
      "cell_type": "markdown",
      "metadata": {
        "id": "U5SVVD5hXqWM"
      },
      "source": [
        "### 모델 정의"
      ]
    },
    {
      "cell_type": "code",
      "metadata": {
        "id": "RPbiRK94XfJB"
      },
      "source": [
        "from tensorflow.keras.models import Sequential\r\n",
        "from tensorflow.keras.layers import Dense"
      ],
      "execution_count": 14,
      "outputs": []
    },
    {
      "cell_type": "code",
      "metadata": {
        "colab": {
          "base_uri": "https://localhost:8080/"
        },
        "id": "CAskfFHsX58S",
        "outputId": "aaa91421-0274-4a5a-9284-0ae0d0652668"
      },
      "source": [
        "model = Sequential()\r\n",
        "model.add(Dense(30, input_shape=(17,), activation='relu'))\r\n",
        "model.add(Dense(1, activation='sigmoid'))\r\n",
        "model.summary()"
      ],
      "execution_count": 24,
      "outputs": [
        {
          "output_type": "stream",
          "text": [
            "Model: \"sequential\"\n",
            "_________________________________________________________________\n",
            "Layer (type)                 Output Shape              Param #   \n",
            "=================================================================\n",
            "dense (Dense)                (None, 30)                540       \n",
            "_________________________________________________________________\n",
            "dense_1 (Dense)              (None, 1)                 31        \n",
            "=================================================================\n",
            "Total params: 571\n",
            "Trainable params: 571\n",
            "Non-trainable params: 0\n",
            "_________________________________________________________________\n"
          ],
          "name": "stdout"
        }
      ]
    },
    {
      "cell_type": "markdown",
      "metadata": {
        "id": "z7NJA7bxb4-v"
      },
      "source": [
        "### 모델 컴파일(실행환경 설정)"
      ]
    },
    {
      "cell_type": "code",
      "metadata": {
        "id": "NJReiWH3bv1s"
      },
      "source": [
        "model.compile(loss='binary_crossentropy',\r\n",
        "              optimizer='adam',\r\n",
        "              metrics=['accuracy'])"
      ],
      "execution_count": 25,
      "outputs": []
    },
    {
      "cell_type": "markdown",
      "metadata": {
        "id": "jiBM-qKRcX1c"
      },
      "source": [
        "### 모델 학습"
      ]
    },
    {
      "cell_type": "code",
      "metadata": {
        "colab": {
          "base_uri": "https://localhost:8080/"
        },
        "id": "jqMNScIJcZSz",
        "outputId": "3913f4ee-f42e-41b1-d5e7-4ff984b3f21e"
      },
      "source": [
        "model.fit(X_train, y_train, validation_split=0.2, epochs=30, batch_size=10)"
      ],
      "execution_count": 26,
      "outputs": [
        {
          "output_type": "stream",
          "text": [
            "Epoch 1/30\n",
            "28/28 [==============================] - 1s 9ms/step - loss: 6.3421 - accuracy: 0.3622 - val_loss: 2.3913 - val_accuracy: 0.6901\n",
            "Epoch 2/30\n",
            "28/28 [==============================] - 0s 3ms/step - loss: 1.1102 - accuracy: 0.8174 - val_loss: 0.8646 - val_accuracy: 0.6761\n",
            "Epoch 3/30\n",
            "28/28 [==============================] - 0s 3ms/step - loss: 0.5193 - accuracy: 0.8056 - val_loss: 0.7457 - val_accuracy: 0.7324\n",
            "Epoch 4/30\n",
            "28/28 [==============================] - 0s 3ms/step - loss: 0.3836 - accuracy: 0.8856 - val_loss: 0.6328 - val_accuracy: 0.7324\n",
            "Epoch 5/30\n",
            "28/28 [==============================] - 0s 3ms/step - loss: 0.4683 - accuracy: 0.8464 - val_loss: 0.6744 - val_accuracy: 0.7324\n",
            "Epoch 6/30\n",
            "28/28 [==============================] - 0s 2ms/step - loss: 0.4807 - accuracy: 0.8289 - val_loss: 0.6402 - val_accuracy: 0.7324\n",
            "Epoch 7/30\n",
            "28/28 [==============================] - 0s 3ms/step - loss: 0.4248 - accuracy: 0.8616 - val_loss: 0.6297 - val_accuracy: 0.7746\n",
            "Epoch 8/30\n",
            "28/28 [==============================] - 0s 3ms/step - loss: 0.4274 - accuracy: 0.8598 - val_loss: 0.6369 - val_accuracy: 0.7746\n",
            "Epoch 9/30\n",
            "28/28 [==============================] - 0s 3ms/step - loss: 0.3762 - accuracy: 0.8815 - val_loss: 0.5880 - val_accuracy: 0.7606\n",
            "Epoch 10/30\n",
            "28/28 [==============================] - 0s 3ms/step - loss: 0.4349 - accuracy: 0.8723 - val_loss: 0.6281 - val_accuracy: 0.7887\n",
            "Epoch 11/30\n",
            "28/28 [==============================] - 0s 3ms/step - loss: 0.4039 - accuracy: 0.8671 - val_loss: 0.6766 - val_accuracy: 0.7887\n",
            "Epoch 12/30\n",
            "28/28 [==============================] - 0s 3ms/step - loss: 0.4014 - accuracy: 0.8780 - val_loss: 0.6048 - val_accuracy: 0.7887\n",
            "Epoch 13/30\n",
            "28/28 [==============================] - 0s 3ms/step - loss: 0.3520 - accuracy: 0.8751 - val_loss: 0.5988 - val_accuracy: 0.7887\n",
            "Epoch 14/30\n",
            "28/28 [==============================] - 0s 3ms/step - loss: 0.3998 - accuracy: 0.8522 - val_loss: 0.5838 - val_accuracy: 0.7887\n",
            "Epoch 15/30\n",
            "28/28 [==============================] - 0s 3ms/step - loss: 0.3835 - accuracy: 0.8590 - val_loss: 0.5770 - val_accuracy: 0.7887\n",
            "Epoch 16/30\n",
            "28/28 [==============================] - 0s 3ms/step - loss: 0.3277 - accuracy: 0.9015 - val_loss: 0.7318 - val_accuracy: 0.7887\n",
            "Epoch 17/30\n",
            "28/28 [==============================] - 0s 3ms/step - loss: 0.3766 - accuracy: 0.8750 - val_loss: 0.6250 - val_accuracy: 0.7887\n",
            "Epoch 18/30\n",
            "28/28 [==============================] - 0s 3ms/step - loss: 0.3875 - accuracy: 0.8605 - val_loss: 0.5962 - val_accuracy: 0.7887\n",
            "Epoch 19/30\n",
            "28/28 [==============================] - 0s 3ms/step - loss: 0.4965 - accuracy: 0.8060 - val_loss: 0.6904 - val_accuracy: 0.7887\n",
            "Epoch 20/30\n",
            "28/28 [==============================] - 0s 3ms/step - loss: 0.3970 - accuracy: 0.8633 - val_loss: 0.7390 - val_accuracy: 0.7887\n",
            "Epoch 21/30\n",
            "28/28 [==============================] - 0s 3ms/step - loss: 0.4119 - accuracy: 0.8614 - val_loss: 0.5824 - val_accuracy: 0.7887\n",
            "Epoch 22/30\n",
            "28/28 [==============================] - 0s 3ms/step - loss: 0.3217 - accuracy: 0.9008 - val_loss: 0.8064 - val_accuracy: 0.7887\n",
            "Epoch 23/30\n",
            "28/28 [==============================] - 0s 3ms/step - loss: 0.5348 - accuracy: 0.8328 - val_loss: 0.5637 - val_accuracy: 0.7887\n",
            "Epoch 24/30\n",
            "28/28 [==============================] - 0s 3ms/step - loss: 0.4124 - accuracy: 0.8386 - val_loss: 0.6224 - val_accuracy: 0.7887\n",
            "Epoch 25/30\n",
            "28/28 [==============================] - 0s 3ms/step - loss: 0.4113 - accuracy: 0.8305 - val_loss: 0.6450 - val_accuracy: 0.7887\n",
            "Epoch 26/30\n",
            "28/28 [==============================] - 0s 8ms/step - loss: 0.3825 - accuracy: 0.8771 - val_loss: 0.5929 - val_accuracy: 0.7887\n",
            "Epoch 27/30\n",
            "28/28 [==============================] - 0s 3ms/step - loss: 0.3362 - accuracy: 0.8886 - val_loss: 0.5940 - val_accuracy: 0.7887\n",
            "Epoch 28/30\n",
            "28/28 [==============================] - 0s 3ms/step - loss: 0.3776 - accuracy: 0.8812 - val_loss: 0.9285 - val_accuracy: 0.7887\n",
            "Epoch 29/30\n",
            "28/28 [==============================] - 0s 3ms/step - loss: 0.5620 - accuracy: 0.8549 - val_loss: 0.6307 - val_accuracy: 0.7887\n",
            "Epoch 30/30\n",
            "28/28 [==============================] - 0s 3ms/step - loss: 0.3365 - accuracy: 0.8884 - val_loss: 0.5704 - val_accuracy: 0.7887\n"
          ],
          "name": "stdout"
        },
        {
          "output_type": "execute_result",
          "data": {
            "text/plain": [
              "<tensorflow.python.keras.callbacks.History at 0x7f5bf467e1d0>"
            ]
          },
          "metadata": {
            "tags": []
          },
          "execution_count": 26
        }
      ]
    },
    {
      "cell_type": "markdown",
      "metadata": {
        "id": "AoQ_dggVdOBA"
      },
      "source": [
        "### 정확도 평가"
      ]
    },
    {
      "cell_type": "code",
      "metadata": {
        "colab": {
          "base_uri": "https://localhost:8080/"
        },
        "id": "wyCWmTi4c_cZ",
        "outputId": "53c83bc6-0630-4a7a-f26c-354cfca8d322"
      },
      "source": [
        "acc = model.evaluate(X_test, y_test)\r\n",
        "acc"
      ],
      "execution_count": 27,
      "outputs": [
        {
          "output_type": "stream",
          "text": [
            "4/4 [==============================] - 0s 4ms/step - loss: 0.4668 - accuracy: 0.8305\n"
          ],
          "name": "stdout"
        },
        {
          "output_type": "execute_result",
          "data": {
            "text/plain": [
              "[0.46680256724357605, 0.8305084705352783]"
            ]
          },
          "metadata": {
            "tags": []
          },
          "execution_count": 27
        }
      ]
    },
    {
      "cell_type": "code",
      "metadata": {
        "colab": {
          "base_uri": "https://localhost:8080/"
        },
        "id": "DeByf5NodaLb",
        "outputId": "ab1ac68c-3e82-4df6-ef96-b65f421826dc"
      },
      "source": [
        "print(f'Accuracy: {acc[1]:.4f}')"
      ],
      "execution_count": 28,
      "outputs": [
        {
          "output_type": "stream",
          "text": [
            "Accuracy: 0.8305\n"
          ],
          "name": "stdout"
        }
      ]
    },
    {
      "cell_type": "code",
      "metadata": {
        "id": "1z8WoNgZdtKH"
      },
      "source": [
        ""
      ],
      "execution_count": null,
      "outputs": []
    }
  ]
}